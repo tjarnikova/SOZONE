{
 "cells": [
  {
   "cell_type": "markdown",
   "id": "7f769fd1-9d8f-4f6c-8580-ae0f3781cc9d",
   "metadata": {},
   "source": [
    "##### What observations are there? how are they distributed in space and time? (GLODAPv2.2021)\n",
    "\n",
    "extract only SO points with valid DIC and TA \n",
    "\n",
    "##### How does DIC, TA, T, S from T001, M001 runs compare?\n",
    "\n",
    "next steps - add model output to dataframes. calculate bias in DIC, TA, s, t, "
   ]
  },
  {
   "cell_type": "code",
   "execution_count": 222,
   "id": "6a1db718-d2d4-4502-bd75-882164119fd1",
   "metadata": {},
   "outputs": [
    {
     "name": "stdout",
     "output_type": "stream",
     "text": [
      "\u001b[H\u001b[2J"
     ]
    }
   ],
   "source": [
    "clear"
   ]
  },
  {
   "cell_type": "code",
   "execution_count": 223,
   "id": "121606d5-38da-4589-92e0-9cd8a5713d69",
   "metadata": {},
   "outputs": [
    {
     "data": {
      "text/html": [
       "<script>\n",
       "code_show=true; \n",
       "function code_toggle() {\n",
       " if (code_show){\n",
       " $('div.input').hide();\n",
       " } else {\n",
       " $('div.input').show();\n",
       " }\n",
       " code_show = !code_show\n",
       "} \n",
       "$( document ).ready(code_toggle);\n",
       "</script>\n",
       "<form action=\"javascript:code_toggle()\"><input type=\"submit\" value=\"Click here to toggle on/off the raw code.\"></form>"
      ],
      "text/plain": [
       "<IPython.core.display.HTML object>"
      ]
     },
     "execution_count": 223,
     "metadata": {},
     "output_type": "execute_result"
    }
   ],
   "source": [
    "from IPython.display import HTML\n",
    "\n",
    "HTML('''<script>\n",
    "code_show=true; \n",
    "function code_toggle() {\n",
    " if (code_show){\n",
    " $('div.input').hide();\n",
    " } else {\n",
    " $('div.input').show();\n",
    " }\n",
    " code_show = !code_show\n",
    "} \n",
    "$( document ).ready(code_toggle);\n",
    "</script>\n",
    "<form action=\"javascript:code_toggle()\"><input type=\"submit\" value=\"Click here to toggle on/off the raw code.\"></form>''')\n"
   ]
  },
  {
   "cell_type": "code",
   "execution_count": 224,
   "id": "6a6c5a5b-d2b9-47c8-ac4e-58c4d44fce56",
   "metadata": {},
   "outputs": [],
   "source": [
    "import numpy as np\n",
    "from cmocean import cm\n",
    "import cartopy as cp\n",
    "import cartopy.crs as ccrs\n",
    "import netCDF4 as nc\n",
    "import matplotlib.pyplot as plt\n",
    "import xarray as xr\n",
    "import sys\n",
    "sys.path.append('/gpfs/home/mep22dku/scratch/SOZONE')\n",
    "\n",
    "%matplotlib inline\n",
    "import warnings\n",
    "from datetime import datetime\n",
    "warnings.filterwarnings('ignore')\n",
    "import cartopy.feature as cfeature\n",
    "from importlib import reload\n",
    "import matplotlib.path as mpath\n",
    "import glob\n",
    "import pickle\n",
    "import pandas as pd\n",
    "import seawater\n",
    "\n",
    "#import mapfxn as mf\n",
    "#reload(mf)\n",
    "\n",
    "plt.rcParams.update({'font.size': 12})\n",
    "font = {'family' : 'normal',\n",
    "'weight' : 'normal',\n",
    "'size'   : 12}\n",
    "\n",
    "plt.rc('font', **font)"
   ]
  },
  {
   "cell_type": "code",
   "execution_count": 225,
   "id": "bd212a1a-0007-42e4-a31e-4a3b280500ab",
   "metadata": {},
   "outputs": [],
   "source": [
    "#load data, extract only the data you need\n",
    "runhorse = False\n",
    "if runhorse:\n",
    "\n",
    "    tdir = '/gpfs/home/mep22dku/scratch/'\n",
    "    glodap = pd.read_csv(f'{tdir}GLODAPv2.2021_Merged_Master_File.csv')\n",
    "    pd.set_option('display.max_columns', None)\n",
    "    pd.set_option('display.max_rows', None)\n",
    "    print(glodap.head())\n",
    "\n",
    "    tDIC = np.array(glodap['G2tco2'][:])\n",
    "    tco2f = np.array(glodap['G2tco2f'][:])\n",
    "    tco2qc = np.array(glodap['G2tco2qc'][:])\n",
    "\n",
    "    tALK = np.array(glodap['G2talk'][:])\n",
    "    talkf = np.array(glodap['G2talkf'][:])\n",
    "    tco2f = np.array(glodap['G2tco2f'][:])\n",
    "\n",
    "    tSAL = np.array(glodap['G2salinity'][:])\n",
    "    tTEMP = np.array(glodap['G2temperature'][:])\n",
    "    tPRES = np.array(glodap['G2pressure'][:])\n",
    "    tLAT = np.array(glodap['G2latitude'][:])\n",
    "    tLON = np.array(glodap['G2longitude'][:])\n",
    "    tYEAR = np.array(glodap['G2year'])\n",
    "    tMONTH = np.array(glodap['G2month'])\n",
    "    #tAOU = np.array(glodap['aou'][:])\n",
    "\n",
    "    dens = seawater.dens(tSAL,tTEMP,tPRES)\n",
    "    tDIC=tDIC*dens/1000\n",
    "    tALK=tALK*dens/1000\n",
    "\n",
    "    tALK_DIC = tALK-tDIC\n",
    "    tALK_DIC2 = tALK-(tDIC+50)\n",
    "\n",
    "    tfilt = (tLAT <= -50) & (tco2f < 9) & (talkf <9)\n",
    "    tDIC_SO = tDIC[tfilt]\n",
    "    tco2f_SO =  tco2f[tfilt]\n",
    "    tco2qc_SO = tco2qc[tfilt]\n",
    "    tALK_SO = tALK[tfilt]\n",
    "    talkf_SO = talkf[tfilt]\n",
    "    tco2f_SO = tco2f[tfilt]\n",
    "\n",
    "    tSAL_SO = tSAL[tfilt]\n",
    "    tTEMP_SO = tTEMP[tfilt]\n",
    "    tPRES_SO = tPRES[tfilt]\n",
    "    tLAT_SO = tLAT[tfilt]\n",
    "    tLON_SO = tLON[tfilt]\n",
    "    tYEAR_SO = tYEAR[tfilt]\n",
    "    tMONTH_SO = tMONTH[tfilt]\n",
    "    tSECT_SO = np.zeros_like(tLON_SO)\n",
    "    tSECT_SO[(tLON_SO <= -67) | (tLON_SO > 150)] = 4 #pacific\n",
    "    tSECT_SO[(tLON_SO <= 20) &(tLON_SO > -67)] = 2 #atl\n",
    "    tSECT_SO[(tLON_SO > 20) &(tLON_SO <= 150)] = 3 #indian\n",
    "\n",
    "    print(np.shape(tYEAR_SO))\n",
    "    df = pd.DataFrame([tYEAR_SO,tMONTH_SO,tDIC_SO,tALK_SO,tSAL_SO,tTEMP_SO,tPRES_SO,tLAT_SO,tLON_SO,tSECT_SO]).T\n",
    "    df.columns = ['YR', 'MONTH', 'DIC', 'ALK', 'SAL', 'TEMP', 'PRES', 'LAT', 'LON', 'SECT']\n",
    "    df.to_csv('./GLODAPv2.2021_SO_valid_DICTA_umolL.csv')\n"
   ]
  },
  {
   "cell_type": "code",
   "execution_count": 226,
   "id": "ec35b687-0727-4702-abf0-9dff59730b65",
   "metadata": {},
   "outputs": [
    {
     "data": {
      "text/plain": [
       "[<matplotlib.lines.Line2D at 0x2ba7e0a8ce50>]"
      ]
     },
     "execution_count": 226,
     "metadata": {},
     "output_type": "execute_result"
    },
    {
     "data": {
      "image/png": "[encoded data removed]",
      "text/plain": [
       "<Figure size 432x288 with 1 Axes>"
      ]
     },
     "metadata": {
      "needs_background": "light"
     },
     "output_type": "display_data"
    }
   ],
   "source": [
    "df = pd.read_csv('GLODAPv2.2021_SO_valid_DICTA_umolL.csv')\n",
    "df = df.sort_values(by = 'YR')\n",
    "\n",
    "tDIC_SO = np.array(df['DIC'][:])\n",
    "tALK_SO = np.array(df['ALK'][:])\n",
    "\n",
    "\n",
    "tSAL_SO = np.array(df['SAL'][:])\n",
    "tTEMP_SO = np.array(df['TEMP'][:])\n",
    "tPRES_SO = np.array(df['PRES'][:])\n",
    "tLAT_SO = np.array(df['LAT'][:])\n",
    "tLON_SO = np.array(df['LON'][:])\n",
    "tYEAR_SO = np.array(df['YR'])\n",
    "tMONTH_SO = np.array(df['MONTH'])\n",
    "tSECT_SO = np.array(df['SECT'])\n",
    "\n",
    "plt.plot(tYEAR_SO)"
   ]
  },
  {
   "cell_type": "code",
   "execution_count": 227,
   "id": "5e7bf401-4886-4b57-bb42-9d1f7f354870",
   "metadata": {},
   "outputs": [],
   "source": [
    "yrs = np.arange(1972,2021,1)\n",
    "OBS_depths = np.zeros([5,len(yrs)])\n",
    "OBS_seas = np.zeros([4,len(yrs)])\n",
    "OBS_lats = np.zeros([6,len(yrs)])\n",
    "OBS_sects = np.zeros([3,len(yrs)])\n",
    "\n",
    "for i in range(0,len(yrs)):\n",
    "    tyr = yrs[i]\n",
    "\n",
    "    \n",
    "    OBS_depths[0,i] = np.size(tDIC_SO[(tYEAR_SO == tyr) & (tPRES_SO<=200)])\n",
    "    OBS_depths[1,i] = np.size(tDIC_SO[(tYEAR_SO == tyr) & (tPRES_SO>200) & (tPRES_SO<=500)]) \n",
    "    OBS_depths[2,i] = np.size(tDIC_SO[(tYEAR_SO == tyr) & (tPRES_SO>500) & (tPRES_SO<=1000)]) \n",
    "    OBS_depths[3,i] = np.size(tDIC_SO[(tYEAR_SO == tyr) & (tPRES_SO>1000) & (tPRES_SO<=3000)]) \n",
    "    OBS_depths[4,i] = np.size(tDIC_SO[(tYEAR_SO == tyr) & (tPRES_SO>3000)]) \n",
    "    \n",
    "    #spring\n",
    "    OBS_seas[0,i] = np.size(tDIC_SO[(tYEAR_SO == tyr) & (tMONTH_SO<=11) & (tMONTH_SO>8)]) #spring\n",
    "    OBS_seas[1,i] = np.size(tDIC_SO[(tYEAR_SO == tyr) & ((tMONTH_SO==12) | (tMONTH_SO<=2))])  #sumer\n",
    "    OBS_seas[2,i] = np.size(tDIC_SO[(tYEAR_SO == tyr) & (tMONTH_SO>2) & (tMONTH_SO<=5)]) #autum\n",
    "    OBS_seas[3,i] = np.size(tDIC_SO[(tYEAR_SO == tyr) & (tMONTH_SO>5) & (tMONTH_SO<=8)]) #winter\n",
    "    \n",
    "    #sectors\n",
    "#spring\n",
    "    OBS_sects[0,i] = np.size(tDIC_SO[(tYEAR_SO == tyr) & (tSECT_SO == 2)]) #atl\n",
    "    OBS_sects[1,i] = np.size(tDIC_SO[(tYEAR_SO == tyr) & (tSECT_SO == 3)])  #ind\n",
    "    OBS_sects[2,i] = np.size(tDIC_SO[(tYEAR_SO == tyr) & ((tSECT_SO == 4))]) #pac  "
   ]
  },
  {
   "cell_type": "code",
   "execution_count": 228,
   "id": "d1be8f7c-16ea-410d-94cd-dd89f3b5e3f6",
   "metadata": {},
   "outputs": [
    {
     "data": {
      "image/png": "[encoded data removed]",
      "text/plain": [
       "<Figure size 792x712.8 with 3 Axes>"
      ]
     },
     "metadata": {},
     "output_type": "display_data"
    }
   ],
   "source": [
    "fact = 0.55\n",
    "fig, axs = plt.subplots(3,1, figsize=(20*fact, 18*fact), facecolor='w', edgecolor='k')\n",
    "axs = axs.ravel()\n",
    "fs = 11\n",
    "width = 0.9\n",
    "axs[0].bar(yrs,OBS_depths[4,:],width, color = 'midnightblue', label = 'depth > 3000m')\n",
    "axs[0].bar(yrs,OBS_depths[3,:],width, bottom = OBS_depths[4,:], color = 'b', label = '1000m < depth <= 3000m')\n",
    "axs[0].bar(yrs,OBS_depths[2,:],width, bottom = OBS_depths[4,:]+ OBS_depths[3,:], color = 'cornflowerblue', label = '500m < depth <= 1000m')\n",
    "axs[0].bar(yrs,OBS_depths[1,:],width, bottom = OBS_depths[4,:]+ OBS_depths[3,:]+OBS_depths[2,:], color = 'lightskyblue', label = '200m < depth <= 500m')\n",
    "axs[0].bar(yrs,OBS_depths[0,:],width, bottom = OBS_depths[4,:]+ OBS_depths[3,:]+OBS_depths[2,:]+OBS_depths[1,:], color = 'cyan', label = 'depth <= 200m')\n",
    "axs[0].legend(ncol = 2, loc = 'best', fontsize = fs)\n",
    "\n",
    "axs[1].bar(yrs,OBS_seas[3,:],width,  color = 'lightslategrey', label = 'winter')\n",
    "axs[1].bar(yrs,OBS_seas[2,:],width, bottom = OBS_seas[3,:], color = 'goldenrod', label = 'autumn')\n",
    "axs[1].bar(yrs,OBS_seas[1,:],width, bottom = OBS_seas[3,:]+OBS_seas[2,:], color = 'forestgreen', label = 'summer')\n",
    "axs[1].bar(yrs,OBS_seas[0,:],width, bottom = OBS_seas[3,:]+OBS_seas[2,:]+OBS_seas[1,:], color = 'springgreen', label = 'spring')\n",
    "axs[1].legend(ncol = 2, loc = 'best', fontsize = fs)\n",
    "\n",
    "axs[2].bar(yrs,OBS_sects[2,:],width,  color = 'b', label = 'pacific')\n",
    "axs[2].bar(yrs,OBS_sects[1,:],width, bottom = OBS_sects[2,:], color = 'gold', label = 'indian')\n",
    "axs[2].bar(yrs,OBS_sects[0,:],width, bottom = OBS_sects[2,:]+OBS_sects[1,:], color = 'r', label = 'atlantic')\n",
    "axs[2].legend(ncol = 1, loc = 'best', fontsize = fs)\n",
    "# ax.bar(x, diat_means, width, yerr=men_std, label='diat',color = 'r', alpha = 0.8)\n",
    "# ax.bar(x, flag_means, width, yerr=women_std, bottom=diat_means,\n",
    "#        label='flag', color = 'r', hatch='.', alpha = 0.6)\n",
    "\n",
    "for i in range(0,3):\n",
    "    axs[i].set_ylim([0,6100])\n",
    "    axs[i].grid()\n",
    "    axs[i].set_xlabel('years'); axs[i].set_ylabel('no. observations')\n",
    "\n",
    "plt.suptitle('Valid DIC and TA measurements in the Southern Ocean (latitude < -50deg.) \\n GLODAPv2.2021')\n",
    "plt.tight_layout()"
   ]
  },
  {
   "cell_type": "code",
   "execution_count": null,
   "id": "33104ef9-67a0-41db-9208-5f6baa209d4a",
   "metadata": {},
   "outputs": [],
   "source": []
  },
  {
   "cell_type": "code",
   "execution_count": null,
   "id": "d9a0fd2c-4b2c-405c-bdb8-86c17b9e9c4b",
   "metadata": {},
   "outputs": [],
   "source": []
  },
  {
   "cell_type": "code",
   "execution_count": 229,
   "id": "23d9d4df-8c86-4851-bbc1-85c25b70d20e",
   "metadata": {},
   "outputs": [
    {
     "name": "stdout",
     "output_type": "stream",
     "text": [
      "2022-04-04 14:19:43.815494\n",
      "0\n",
      "1972.0\n",
      "1973.0\n",
      "1974.0\n",
      "1978.0\n",
      "1984.0\n",
      "1985.0\n",
      "1986.0\n",
      "1987.0\n",
      "1989.0\n",
      "1990.0\n",
      "1992.0\n",
      "1993.0\n",
      "1994.0\n",
      "1995.0\n",
      "1996.0\n",
      "1997.0\n",
      "1998.0\n",
      "2000.0\n",
      "2001.0\n",
      "2002.0\n",
      "2004.0\n",
      "2005.0\n",
      "2006.0\n",
      "2007.0\n",
      "2008.0\n",
      "2009.0\n",
      "2010.0\n",
      "2011.0\n",
      "2012.0\n",
      "2013.0\n",
      "2014.0\n",
      "2015.0\n",
      "2016.0\n",
      "2017.0\n",
      "2018.0\n",
      "2019.0\n",
      "2020.0\n",
      "0\n",
      "1972.0\n",
      "1973.0\n",
      "1974.0\n",
      "1978.0\n",
      "1984.0\n",
      "1985.0\n",
      "1986.0\n",
      "1987.0\n",
      "1989.0\n",
      "1990.0\n",
      "1992.0\n",
      "1993.0\n",
      "1994.0\n",
      "1995.0\n",
      "1996.0\n",
      "1997.0\n",
      "1998.0\n",
      "2000.0\n",
      "2001.0\n",
      "2002.0\n",
      "2004.0\n",
      "2005.0\n",
      "2006.0\n",
      "2007.0\n",
      "2008.0\n",
      "2009.0\n",
      "2010.0\n",
      "2011.0\n",
      "2012.0\n",
      "2013.0\n",
      "2014.0\n",
      "2015.0\n",
      "2016.0\n",
      "2017.0\n",
      "2018.0\n",
      "2019.0\n",
      "2020.0\n",
      "0:02:01.841398\n"
     ]
    }
   ],
   "source": [
    "now = datetime.now()\n",
    "print(now)\n",
    "\n",
    "td = nc.Dataset('/gpfs/data/greenocean/software/runs/TOM12_TJ_M001/WOA_DIC_1990_all.nc')\n",
    "lons = (td['lon'][:]-180)\n",
    "lats = (td['lat'][:])\n",
    "depths = (td['deptht'][:])\n",
    "\n",
    "def find_nearest(array, value):\n",
    "    array = np.asarray(array)\n",
    "    idx = (np.abs(array - value)).argmin()\n",
    "    arval = array[idx]\n",
    "    return(idx, arval)\n",
    "\n",
    "tdir = '/gpfs/data/greenocean/software/runs/TOM12_TJ_M001/'\n",
    "mod_dics_M001 = np.zeros_like(tDIC_SO)\n",
    "for i in range(0,len(tYEAR_SO)):\n",
    "    tyr = tYEAR_SO[i]\n",
    "    tdic = tDIC_SO[i]\n",
    "    tdepth = tPRES_SO[i]\n",
    "    tlat = tLAT_SO[i]\n",
    "    tlon = tLON_SO[i]\n",
    "    tmonth = tMONTH_SO[i]\n",
    "\n",
    "    if i == 0:\n",
    "        print(i)\n",
    "        print(tyr)\n",
    "        tnc = nc.Dataset(f'{tdir}WOA_DIC_{int(tyr)}_all.nc')\n",
    "    elif (tyrold != tyr):\n",
    "        print(tyr)\n",
    "        tnc = nc.Dataset(f'{tdir}WOA_DIC_{int(tyr)}_all.nc')\n",
    "    \n",
    "    idx_d, arval = find_nearest(depths,tdepth)\n",
    "    idx_lat, arval = find_nearest(lats,tlat)\n",
    "    idx_lon, arval = find_nearest(lons,tlon)\n",
    "    \n",
    "    mod_dics_M001[i] = (tnc['DIC'][tmonth-1,idx_d,idx_lat,idx_lon])*1e6\n",
    "    tyrold = tyr\n",
    "\n",
    "tdir = '/gpfs/data/greenocean/software/runs/TOM12_TJ_T001/'\n",
    "mod_dics_T001 = np.zeros_like(tDIC_SO)\n",
    "for i in range(0,len(tYEAR_SO)):\n",
    "    tyr = tYEAR_SO[i]\n",
    "    tdic = tDIC_SO[i]\n",
    "    tdepth = tPRES_SO[i]\n",
    "    tlat = tLAT_SO[i]\n",
    "    tlon = tLON_SO[i]\n",
    "    tmonth = tMONTH_SO[i]\n",
    "\n",
    "    if i == 0:\n",
    "        print(i)\n",
    "        print(tyr)\n",
    "        tnc = nc.Dataset(f'{tdir}WOA_DIC_{int(tyr)}_all.nc')\n",
    "    elif (tyrold != tyr):\n",
    "        print(tyr)\n",
    "        tnc = nc.Dataset(f'{tdir}WOA_DIC_{int(tyr)}_all.nc')\n",
    "    \n",
    "    idx_d, arval = find_nearest(depths,tdepth)\n",
    "    idx_lat, arval = find_nearest(lats,tlat)\n",
    "    idx_lon, arval = find_nearest(lons,tlon)\n",
    "    \n",
    "    mod_dics_T001[i] = (tnc['DIC'][tmonth-1,idx_d,idx_lat,idx_lon])*1e6\n",
    "    tyrold = tyr\n",
    "    \n",
    "now2 = datetime.now()\n",
    "print(now2-now)\n"
   ]
  },
  {
   "cell_type": "code",
   "execution_count": 230,
   "id": "e795d240-e10b-4627-9812-117c48ffeb91",
   "metadata": {},
   "outputs": [
    {
     "name": "stdout",
     "output_type": "stream",
     "text": [
      "(54187,)\n"
     ]
    }
   ],
   "source": [
    "print(np.shape(mod_dics_T001))"
   ]
  },
  {
   "cell_type": "code",
   "execution_count": 231,
   "id": "c92135c1-767c-446c-9754-40f35a8bc397",
   "metadata": {},
   "outputs": [
    {
     "data": {
      "text/plain": [
       "(1500.0, 2600.0)"
      ]
     },
     "execution_count": 231,
     "metadata": {},
     "output_type": "execute_result"
    },
    {
     "data": {
      "image/png": "[encoded data removed]",
      "text/plain": [
       "<Figure size 432x288 with 1 Axes>"
      ]
     },
     "metadata": {
      "needs_background": "light"
     },
     "output_type": "display_data"
    }
   ],
   "source": [
    "plt.scatter(tDIC_SO,mod_dics_M001)\n",
    "plt.scatter(tDIC_SO,mod_dics_T001, alpha = 0.3)\n",
    "# plt.scatter(tDIC_SO,mod_dics_T001,'ko')\n",
    "plt.plot([2000,2400],[2000,2400],'r-')\n",
    "plt.xlim([1500,2600])\n",
    "plt.ylim([1500,2600])"
   ]
  },
  {
   "cell_type": "code",
   "execution_count": null,
   "id": "74812423-c4d7-4ea1-b75e-cfdb370e2550",
   "metadata": {},
   "outputs": [],
   "source": []
  },
  {
   "cell_type": "code",
   "execution_count": 232,
   "id": "cc8a8dc5-dccf-4f35-9097-3d12254e2e42",
   "metadata": {},
   "outputs": [],
   "source": [
    "# tDIC_SO = tDIC[tfilt]\n",
    "# tco2f_SO =  tco2f[tfilt]\n",
    "# tco2qc_SO = tco2qc[tfilt]\n",
    "# tALK_SO = tALK[tfilt]\n",
    "# talkf_SO = talkf[tfilt]\n",
    "# tco2f_SO = tco2f[tfilt]\n",
    "\n",
    "# tSAL_SO = tSAL[tfilt]\n",
    "# tTEMP_SO = tTEMP[tfilt]\n",
    "# tPRES_SO = tPRES[tfilt]\n",
    "# tLAT_SO = tLAT[tfilt]\n",
    "# tLON_SO = tLON[tfilt]\n",
    "# tYEAR_SO = tYEAR[tfilt]\n",
    "# tMONTH_SO = tMONTH[tfilt]\n",
    "# tSECT_SO\n",
    "# df = pd.DataFrame(np.hstack((arr1, arr2, arr3)), \n",
    "#                   columns=['arr{}'.format(i+1) for i in range(3)])\n",
    "\n",
    "\n",
    "# df = pd.DataFrame(np.hstack(tYEAR_SO.transpose(), tDIC_SO.transpose(), tALK_SO.transpose()), columns = ['YEAR','DIC', 'ALK'])"
   ]
  },
  {
   "cell_type": "code",
   "execution_count": null,
   "id": "2ef80d8d-7f15-4c4d-8261-07338605bfc8",
   "metadata": {},
   "outputs": [],
   "source": []
  },
  {
   "cell_type": "code",
   "execution_count": null,
   "id": "14fa4def-6609-449f-a686-f603f243329c",
   "metadata": {},
   "outputs": [],
   "source": []
  },
  {
   "cell_type": "code",
   "execution_count": null,
   "id": "829a5c03-0ba2-4925-9e9d-9028535abd38",
   "metadata": {},
   "outputs": [],
   "source": []
  }
 ],
 "metadata": {
  "kernelspec": {
   "display_name": "Python 3 (ipykernel)",
   "language": "python",
   "name": "python3"
  },
  "language_info": {
   "codemirror_mode": {
    "name": "ipython",
    "version": 3
   },
   "file_extension": ".py",
   "mimetype": "text/x-python",
   "name": "python",
   "nbconvert_exporter": "python",
   "pygments_lexer": "ipython3",
   "version": "3.7.11"
  }
 },
 "nbformat": 4,
 "nbformat_minor": 5
}

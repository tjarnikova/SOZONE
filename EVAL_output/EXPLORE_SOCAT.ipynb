{
 "cells": [
  {
   "cell_type": "markdown",
   "metadata": {},
   "source": [
    "# SOCAT analysis\n",
    "\n",
    ":cat: :cat: :cat: :cat: :cat: :cat: \n",
    "\n",
    "     1. Explore the SOCATv2021_tracks_gridded_monthly.nc and recover major (time) trends in the SO\n",
    "    2. Compare how T001 and M001 do against these obs. \n"
   ]
  },
  {
   "cell_type": "code",
   "execution_count": 1,
   "metadata": {},
   "outputs": [
    {
     "name": "stdin",
     "output_type": "stream",
     "text": [
      "Once deleted, variables cannot be recovered. Proceed (y/[n])?  y\n"
     ]
    }
   ],
   "source": [
    "%reset"
   ]
  },
  {
   "cell_type": "code",
   "execution_count": 2,
   "metadata": {},
   "outputs": [
    {
     "data": {
      "text/html": [
       "<script>\n",
       "code_show=true; \n",
       "function code_toggle() {\n",
       " if (code_show){\n",
       " $('div.input').hide();\n",
       " } else {\n",
       " $('div.input').show();\n",
       " }\n",
       " code_show = !code_show\n",
       "} \n",
       "$( document ).ready(code_toggle);\n",
       "</script>\n",
       "<form action=\"javascript:code_toggle()\"><input type=\"submit\" value=\"Click here to toggle on/off the raw code.\"></form>"
      ],
      "text/plain": [
       "<IPython.core.display.HTML object>"
      ]
     },
     "execution_count": 2,
     "metadata": {},
     "output_type": "execute_result"
    }
   ],
   "source": [
    "from IPython.display import HTML\n",
    "\n",
    "HTML('''<script>\n",
    "code_show=true; \n",
    "function code_toggle() {\n",
    " if (code_show){\n",
    " $('div.input').hide();\n",
    " } else {\n",
    " $('div.input').show();\n",
    " }\n",
    " code_show = !code_show\n",
    "} \n",
    "$( document ).ready(code_toggle);\n",
    "</script>\n",
    "<form action=\"javascript:code_toggle()\"><input type=\"submit\" value=\"Click here to toggle on/off the raw code.\"></form>''')\n"
   ]
  },
  {
   "cell_type": "code",
   "execution_count": 6,
   "metadata": {},
   "outputs": [],
   "source": [
    "import numpy as np\n",
    "from cmocean import cm\n",
    "import cartopy as cp\n",
    "import cartopy.crs as ccrs\n",
    "import netCDF4 as nc\n",
    "import matplotlib.pyplot as plt\n",
    "import xarray as xr\n",
    "import sys\n",
    "sys.path.append('/gpfs/home/mep22dku/scratch/SOZONE')\n",
    "\n",
    "%matplotlib inline\n",
    "import warnings\n",
    "from datetime import datetime\n",
    "warnings.filterwarnings('ignore')\n",
    "import cartopy.feature as cfeature\n",
    "from importlib import reload\n",
    "import matplotlib.path as mpath\n",
    "import glob\n",
    "import pickle\n",
    "import pandas as pd\n",
    "import seawater\n",
    "\n",
    "#import mapfxn as mf\n",
    "#reload(mf)\n",
    "\n",
    "plt.rcParams.update({'font.size': 12})\n",
    "font = {'family' : 'normal',\n",
    "'weight' : 'normal',\n",
    "'size'   : 12}\n",
    "\n",
    "plt.rc('font', **font)"
   ]
  },
  {
   "cell_type": "code",
   "execution_count": 34,
   "metadata": {},
   "outputs": [
    {
     "name": "stdout",
     "output_type": "stream",
     "text": [
      "<class 'netCDF4._netCDF4.Dataset'>\n",
      "root group (NETCDF3_CLASSIC data model, file format NETCDF3):\n",
      "    history: FERRET V7.62  25-May-21\n",
      "    Conventions: CF-1.6\n",
      "    SOCAT_Notes: SOCAT gridded v2021 26-May-2021\n",
      "    title: SOCAT gridded v2021 Monthly 1x1 degree gridded dataset\n",
      "    summary: Surface Ocean Carbon Atlas (SOCAT) Gridded (binned) SOCAT observations, with a spatial \n",
      "grid of 1x1 degree and monthly in time. The gridded fields are computed using only SOCAT \n",
      "datasets with QC flags of A through D and SOCAT data points flagged with WOCE flag values of 2.\n",
      "    references: http://www.socat.info/\n",
      "    caution: NO INTERPOLATION WAS PERFORMED. SIGNIFICANT BIASES ARE PRESENT IN THESE GRIDDED RESULTS DUE TO THE \n",
      "ARBITRARY AND SPARSE LOCATIONS OF DATA VALUES IN BOTH SPACE AND TIME.\n",
      "    dimensions(sizes): xlon(360), ylat(180), tmnth(612), bnds(2)\n",
      "    variables(dimensions): float64 xlon(xlon), float64 ylat(ylat), float64 tmnth(tmnth), float64 tmnth_bnds(tmnth,bnds), int32 count_ncruise(tmnth,ylat,xlon), int32 fco2_count_nobs(tmnth,ylat,xlon), float32 fco2_ave_weighted(tmnth,ylat,xlon), float32 fco2_ave_unwtd(tmnth,ylat,xlon), float32 fco2_min_unwtd(tmnth,ylat,xlon), float32 fco2_max_unwtd(tmnth,ylat,xlon), float32 fco2_std_weighted(tmnth,ylat,xlon), float32 fco2_std_unwtd(tmnth,ylat,xlon), int32 sst_count_nobs(tmnth,ylat,xlon), float32 sst_ave_weighted(tmnth,ylat,xlon), float32 sst_ave_unwtd(tmnth,ylat,xlon), float32 sst_min_unwtd(tmnth,ylat,xlon), float32 sst_max_unwtd(tmnth,ylat,xlon), float32 sst_std_weighted(tmnth,ylat,xlon), float32 sst_std_unwtd(tmnth,ylat,xlon), int32 salinity_count_nobs(tmnth,ylat,xlon), float32 salinity_ave_weighted(tmnth,ylat,xlon), float32 salinity_ave_unwtd(tmnth,ylat,xlon), float32 salinity_min_unwtd(tmnth,ylat,xlon), float32 salinity_max_unwtd(tmnth,ylat,xlon), float32 salinity_std_weighted(tmnth,ylat,xlon), float32 salinity_std_unwtd(tmnth,ylat,xlon), float32 lat_offset_unwtd(tmnth,ylat,xlon), float32 lon_offset_unwtd(tmnth,ylat,xlon)\n",
      "    groups: \n",
      "45.0\n"
     ]
    }
   ],
   "source": [
    "obsdir = '/gpfs/data/greenocean/software/resources/Observations/'\n",
    "tdir = '/gpfs/home/mep22dku/scratch/'\n",
    "tso = 'SOCATv2021_tracks_gridded_monthly.nc'\n",
    "\n",
    "so = nc.Dataset(f'{tdir}{tso}')\n",
    "print(so)\n",
    "\n",
    "print(so['tmnth'][1])"
   ]
  },
  {
   "cell_type": "code",
   "execution_count": 36,
   "metadata": {},
   "outputs": [
    {
     "data": {
      "text/plain": [
       "[<matplotlib.lines.Line2D at 0x2b344853d250>]"
      ]
     },
     "execution_count": 36,
     "metadata": {},
     "output_type": "execute_result"
    },
    {
     "data": {
      "image/png": "[encoded data removed]",
      "text/plain": [
       "<Figure size 432x288 with 1 Axes>"
      ]
     },
     "metadata": {
      "needs_background": "light"
     },
     "output_type": "display_data"
    }
   ],
   "source": [
    "mons = np.zeros([51,12]); yrs = np.zeros([51,12])\n",
    "\n",
    "for i in range(0,51):\n",
    "    yrs[i,:] = 1970+i\n",
    "    \n",
    "for i in range(0,12):\n",
    "    mons[:,i] = i+1\n",
    "\n",
    "mons_r = mons.ravel()\n",
    "\n",
    "yrs_r = yrs.ravel()\n",
    "plt.plot(yrs_r)\n",
    "# mns = pd.date_range('1970-01-01','2019-12-01', \n",
    "#               freq='MS').strftime(\"%Y-%b\").tolist()\n",
    "\n",
    "# print(np.shape(mns))\n",
    "\n",
    "# print(mns[599])\n",
    "\n",
    "# dat = np.zeros([600])\n",
    "# dat[:] = np.random.randint(100)\n",
    "\n",
    "# plt.plot(mns[0:10],dat[0:10])"
   ]
  },
  {
   "cell_type": "code",
   "execution_count": null,
   "metadata": {},
   "outputs": [],
   "source": []
  }
 ],
 "metadata": {
  "kernelspec": {
   "display_name": "Python 3 (ipykernel)",
   "language": "python",
   "name": "python3"
  },
  "language_info": {
   "codemirror_mode": {
    "name": "ipython",
    "version": 3
   },
   "file_extension": ".py",
   "mimetype": "text/x-python",
   "name": "python",
   "nbconvert_exporter": "python",
   "pygments_lexer": "ipython3",
   "version": "3.7.11"
  }
 },
 "nbformat": 4,
 "nbformat_minor": 4
}

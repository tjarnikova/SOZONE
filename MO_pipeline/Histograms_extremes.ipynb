{
 "cells": [
  {
   "cell_type": "code",
   "execution_count": 135,
   "id": "799f06a4-7db7-465f-812d-2de7876cf05a",
   "metadata": {},
   "outputs": [],
   "source": [
    "import xarray as xr\n",
    "import glob\n",
    "import numpy as np\n",
    "import netCDF4 as nc\n",
    "import warnings\n",
    "warnings.filterwarnings('ignore')\n",
    "from matplotlib import pyplot as plt"
   ]
  },
  {
   "cell_type": "code",
   "execution_count": 136,
   "id": "8efa075d-5f8c-4267-81d3-ae46b0bfb5bf",
   "metadata": {},
   "outputs": [
    {
     "data": {
      "text/html": [
       "<script>\n",
       "code_show=true; \n",
       "function code_toggle() {\n",
       " if (code_show){\n",
       " $('div.input').hide();\n",
       " } else {\n",
       " $('div.input').show();\n",
       " }\n",
       " code_show = !code_show\n",
       "} \n",
       "$( document ).ready(code_toggle);\n",
       "</script>\n",
       "<form action=\"javascript:code_toggle()\"><input type=\"submit\" value=\"Click here to toggle on/off the raw code.\"></form>"
      ],
      "text/plain": [
       "<IPython.core.display.HTML object>"
      ]
     },
     "execution_count": 136,
     "metadata": {},
     "output_type": "execute_result"
    }
   ],
   "source": [
    "from IPython.display import HTML\n",
    "\n",
    "HTML('''<script>\n",
    "code_show=true; \n",
    "function code_toggle() {\n",
    " if (code_show){\n",
    " $('div.input').hide();\n",
    " } else {\n",
    " $('div.input').show();\n",
    " }\n",
    " code_show = !code_show\n",
    "} \n",
    "$( document ).ready(code_toggle);\n",
    "</script>\n",
    "<form action=\"javascript:code_toggle()\"><input type=\"submit\" value=\"Click here to toggle on/off the raw code.\"></form>''')\n"
   ]
  },
  {
   "cell_type": "code",
   "execution_count": 137,
   "id": "3e897d36-6972-4523-899c-4b5fccecebf0",
   "metadata": {},
   "outputs": [],
   "source": [
    "rdir = '/gpfs/data/greenocean/software/resources/MetProcessed/MET_forcing/'\n",
    "\n",
    "def make_yearlist_met(yrst, yrend):\n",
    "    yrs = np.arange(yrst,yrend+1,1)\n",
    "    ylist = []; xlist = []\n",
    "    for i in range(0,len(yrs)):\n",
    "        ty = f'{rdir}/scen_1A/MetOffice_tauy_y{yrs[i]}.nc'\n",
    "        t2 = glob.glob(ty)\n",
    "        ylist.append(t2[0])\n",
    "        \n",
    "        tx = f'{rdir}/scen_1A/MetOffice_taux_y{yrs[i]}.nc'\n",
    "        t2 = glob.glob(tx)\n",
    "        xlist.append(t2[0])\n",
    "        \n",
    "    return ylist, xlist\n",
    "\n",
    "yl_met, xl_met = make_yearlist_met(1950,1959)"
   ]
  },
  {
   "cell_type": "code",
   "execution_count": 138,
   "id": "85d046f8-c479-42e7-9c04-98b5f7295545",
   "metadata": {},
   "outputs": [],
   "source": [
    "tmesh = xr.open_dataset('/gpfs/data/greenocean/software/resources/regrid/mesh_mask3_6.nc')\n",
    "tmesh['csize'] = tmesh.tmask[0,0,:,:] * tmesh.e1t[0,:,:] * tmesh.e2t[0,:,:]\n",
    "\n",
    "so_csize = (tmesh['csize'][0:37,:].values)\n",
    "so_csize_broad = np.zeros([365*10, 37, 182])\n",
    "\n",
    "for i in range(0,365*10):\n",
    "    so_csize_broad[i,:,:] = so_csize"
   ]
  },
  {
   "cell_type": "markdown",
   "id": "58bed245-822f-486a-b161-862f06f7df1f",
   "metadata": {},
   "source": [
    "## histogram example:\n",
    "\n",
    "https://github.com/SalishSeaCast/analysis_tereza/blob/master/notebooks/PI_CARBON_PAPER/MAIN_ANALYSIS/KEY_REBOOT/MF04_aragonite_saturation_PI6.ipynb"
   ]
  },
  {
   "cell_type": "code",
   "execution_count": 139,
   "id": "cd248cf6-c953-4c33-89c5-aaae816f1278",
   "metadata": {},
   "outputs": [
    {
     "name": "stdout",
     "output_type": "stream",
     "text": [
      "[0.01547538 0.52090716 0.89732122 1.10003161 1.20660377 1.45212662\n",
      " 2.02627587 2.87888932 3.69129443 4.14423561 4.29967403 4.21042156\n",
      " 4.30464268 4.60973358 5.27933979 5.93420362 6.40886068 6.60711098\n",
      " 6.46829653 6.38896847 6.81638908 7.89660501 9.1692934  9.61218643\n",
      " 9.45909214 9.20177078 8.87643242 8.6244688  8.39449692 8.27186584\n",
      " 8.35209465 8.6308794  8.94054604 9.54969311 6.25142002 2.25845385\n",
      " 0.06525362]\n",
      "[ 4.02544928  4.77446413  4.98132038  4.83883524  4.50220251  4.06290102\n",
      "  3.32038045  2.56395602  1.77916455  1.09265447  0.78431803  0.91461647\n",
      "  1.10166049  0.76391006  0.42714801  0.17193671  1.18116963  3.36855173\n",
      "  5.21267653  4.68662643  0.82369387 -2.80174327 -3.98454547 -4.96313095\n",
      " -6.83404064 -8.38442326 -7.91214848 -6.6892581  -5.16080427 -3.491364\n",
      " -1.85119486 -0.37410012  0.88065332  1.89214087  2.23240399  1.22908211\n",
      " -1.16128898]\n"
     ]
    }
   ],
   "source": [
    "np.shape(bb)\n",
    "\n",
    "print(bb[0,:,90])\n",
    "print(bb[2000,:,90])"
   ]
  },
  {
   "cell_type": "code",
   "execution_count": 140,
   "id": "abb2ab8e-da69-422f-8429-96dc08ec7e8a",
   "metadata": {},
   "outputs": [],
   "source": [
    "def get_histo_met(start, end, typ = 'tauy', var = 'vflx'):\n",
    "    \n",
    "    yrs = np.arange(start,end+1,1)\n",
    "    big_broad = np.zeros([365*10, 37, 182])\n",
    "    ind = 0\n",
    "    for i in range(0,len(yrs)):\n",
    "        \n",
    "        ty = f'{rdir}/scen_1A/MetOffice_{typ}_y{yrs[i]}.nc'\n",
    "        t2 = glob.glob(ty)\n",
    "        met_y = nc.Dataset(t2[0])\n",
    "        met_vflx = met_y[var][:,0:37,:]\n",
    "        # print(np.shape(met_vflx))\n",
    "        # print(np.shape(big_broad))\n",
    "        big_broad[ind:ind+365,:,:] = met_vflx\n",
    "        ind = ind+365\n",
    "    \n",
    "    nbins = 25\n",
    "    hist_met_vflx, bins = np.histogram(np.ravel(big_broad), bins=nbins,\\\n",
    "                                 range = [-25, 25], weights=np.ravel(so_csize_broad))\n",
    "\n",
    "    bin_cent = bins + (bins[1]-bins[0])/2\n",
    "    tot_count = np.sum(hist_met_vflx)\n",
    "\n",
    "    \n",
    "    binsback = bins[0:nbins]\n",
    "    histback = hist_met_vflx/tot_count\n",
    "    \n",
    "    return binsback, histback\n",
    "    \n",
    "\n",
    "\n",
    "def get_histo_era(start, end, typ = 'tauy', var = 'vflx'):\n",
    "    \n",
    "    yrs = np.arange(start,end+1,1)\n",
    "    big_broad = np.zeros([365*10, 37, 182])\n",
    "    ind = 0\n",
    "    for i in range(0,len(yrs)):\n",
    "        \n",
    "        ty = f'/gpfs/data/greenocean/software/products/ERA5Forcing/daily/{typ}_1d_{yrs[i]}_daily.nc'\n",
    "        #print(ty)\n",
    "        t2 = glob.glob(ty)\n",
    "        met_y = nc.Dataset(t2[0])\n",
    "        met_vflx = met_y[var][0:365,0:37,:]\n",
    "        # print(np.shape(met_vflx))\n",
    "        # print(np.shape(big_broad))\n",
    "        big_broad[ind:ind+365,:,:] = met_vflx\n",
    "        ind = ind+365\n",
    "    \n",
    "    nbins = 25\n",
    "    hist_met_vflx, bins = np.histogram(np.ravel(big_broad), bins=nbins,\\\n",
    "                                 range = [-25, 25], weights=np.ravel(so_csize_broad))\n",
    "\n",
    "    bin_cent = bins + (bins[1]-bins[0])/2\n",
    "    tot_count = np.sum(hist_met_vflx)\n",
    "\n",
    "    \n",
    "    binsback = bins[0:nbins]\n",
    "    histback = hist_met_vflx/tot_count\n",
    "    \n",
    "    return binsback, histback\n",
    "    \n",
    "\n",
    "\n",
    "        "
   ]
  },
  {
   "cell_type": "code",
   "execution_count": 141,
   "id": "5a1e9d22-c31c-4b03-8363-5b55a44c2533",
   "metadata": {},
   "outputs": [
    {
     "name": "stdout",
     "output_type": "stream",
     "text": [
      "1950\n",
      "1960\n",
      "1970\n",
      "1980\n",
      "1990\n",
      "2000\n",
      "2010\n",
      "1950\n",
      "1960\n",
      "1970\n",
      "1980\n",
      "1990\n",
      "2000\n",
      "2010\n"
     ]
    }
   ],
   "source": [
    "met_hists_tauy_ar = []\n",
    "met_bins_tauy_ar = []\n",
    "\n",
    "start = 1950\n",
    "for d in range(0,7):\n",
    "    print(start)\n",
    "    end = start+9\n",
    "    binsback, histback = get_histo_met(start, end, typ = 'tauy', var = 'vflx')\n",
    "    met_hists_tauy_ar.append(histback)\n",
    "    met_bins_tauy_ar.append(binsback)\n",
    "    start = start+10\n",
    "\n",
    "   ####### \n",
    "met_hists_taux_ar = []\n",
    "met_bins_taux_ar = []\n",
    "\n",
    "start = 1950\n",
    "for d in range(0,7):\n",
    "    print(start)\n",
    "    end = start+9\n",
    "    binsback, histback = get_histo_met(start, end, typ = 'taux', var = 'uflx')\n",
    "    met_hists_taux_ar.append(histback)\n",
    "    met_bins_taux_ar.append(binsback)\n",
    "    start = start+10"
   ]
  },
  {
   "cell_type": "code",
   "execution_count": null,
   "id": "8f553173-56ef-4c8a-92af-8b4d0a7bc9d4",
   "metadata": {},
   "outputs": [
    {
     "name": "stdout",
     "output_type": "stream",
     "text": [
      "1950\n",
      "1960\n",
      "1970\n",
      "1980\n"
     ]
    }
   ],
   "source": [
    "era_hists_tauy_ar = []\n",
    "era_bins_tauy_ar = []\n",
    "\n",
    "start = 1950\n",
    "for d in range(0,7):\n",
    "    print(start)\n",
    "    end = start+9\n",
    "    binsback, histback = get_histo_era(start, end, typ = 'tauy', var = 'vflx')\n",
    "    era_hists_tauy_ar.append(histback)\n",
    "    era_bins_tauy_ar.append(binsback)\n",
    "    start = start+10\n",
    "\n",
    "   ####### \n",
    "era_hists_taux_ar = []\n",
    "era_bins_taux_ar = []\n",
    "\n",
    "start = 1950\n",
    "for d in range(0,7):\n",
    "    print(start)\n",
    "    end = start+9\n",
    "    binsback, histback = get_histo_era(start, end, typ = 'taux', var = 'uflx')\n",
    "    era_hists_taux_ar.append(histback)\n",
    "    era_bins_taux_ar.append(binsback)\n",
    "    start = start+10"
   ]
  },
  {
   "cell_type": "code",
   "execution_count": null,
   "id": "b1043e1c-605c-4a5a-ba1c-e2aaa8baab46",
   "metadata": {},
   "outputs": [],
   "source": [
    "fact = 0.55\n",
    "\n",
    "fig, axs = plt.subplots(7,2, figsize=(14*fact, 18*fact), facecolor='w', edgecolor='k')\n",
    "axs = axs.ravel()\n",
    "\n",
    "for i in range(0,7):\n",
    "    axs[0+2*i].plot(met_bins_tauy_ar[i],met_hists_tauy_ar[i]*100, label = 'met')\n",
    "    axs[1+2*i].plot(met_bins_taux_ar[i],met_hists_taux_ar[i]*100, label = 'met')\n",
    "    axs[0+2*i].plot(era_bins_tauy_ar[i],era_hists_tauy_ar[i]*100, label = 'era')\n",
    "    axs[1+2*i].plot(era_bins_taux_ar[i],era_hists_taux_ar[i]*100, label = 'era')\n",
    "    axs[0+2*i].set_title(f'vflx {1950+i*10}-{1950+i*10+9}')\n",
    "    axs[1+2*i].set_title(f'uflx {1950+i*10}-{1950+i*10+9}')\n",
    "    axs[0].legend()\n",
    "\n",
    "for i in range(0,14):\n",
    "    axs[i].grid()\n",
    "    axs[i].set_xlim([-20,20])\n",
    "    axs[i].set_ylim([0,16])\n",
    "    axs[i].set_yticks(np.arange(0,20,4))\n",
    "\n",
    "plt.suptitle('weighted histogram of daily wind values, full year, for 10 years \\n at model resolution \\n (Southern Ocean south of -50)')\n",
    "fig.tight_layout()"
   ]
  },
  {
   "cell_type": "code",
   "execution_count": null,
   "id": "5e3e4460-4721-45cb-acef-a37ad0cce705",
   "metadata": {},
   "outputs": [],
   "source": [
    "print('compute complete')"
   ]
  },
  {
   "cell_type": "code",
   "execution_count": null,
   "id": "7644e5a5-efc6-4651-a581-42e56f1b613b",
   "metadata": {},
   "outputs": [],
   "source": []
  }
 ],
 "metadata": {
  "kernelspec": {
   "display_name": "Python 3 (ipykernel)",
   "language": "python",
   "name": "python3"
  },
  "language_info": {
   "codemirror_mode": {
    "name": "ipython",
    "version": 3
   },
   "file_extension": ".py",
   "mimetype": "text/x-python",
   "name": "python",
   "nbconvert_exporter": "python",
   "pygments_lexer": "ipython3",
   "version": "3.7.11"
  }
 },
 "nbformat": 4,
 "nbformat_minor": 5
}

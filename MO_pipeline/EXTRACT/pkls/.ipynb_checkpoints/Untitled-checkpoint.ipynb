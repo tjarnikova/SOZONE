{
 "cells": [
  {
   "cell_type": "code",
   "execution_count": 2,
   "id": "afdf862e-c078-4b1e-953f-68f9e545aec2",
   "metadata": {},
   "outputs": [],
   "source": [
    "import glob\n",
    "import pickle\n",
    "import netCDF4 as nc\n",
    "import numpy as np\n",
    "import matplotlib.pyplot as plt\n",
    "%matplotlib inline"
   ]
  },
  {
   "cell_type": "code",
   "execution_count": 3,
   "id": "5ce5d766-8e37-4f17-999a-59e7d36d5f25",
   "metadata": {},
   "outputs": [],
   "source": [
    "#root directory, where to find Met office files\n",
    "rdir = '/gpfs/home/mep22dku/scratch/MET_soft/'\n",
    "dir_1H = 'hist/u-bc370_hist/'\n",
    "dir_2H = 'hist/u-cj198_hist_1950start1950ozone/'\n",
    "dir_3H = 'hist/u-cj200_hist_1990start1990ozone/'\n",
    "\n",
    "dir_1FA = 'ssp126/u-be682_ssp126/'\n",
    "dir_1FB = 'ssp370/u-ce417_ssp370/'\n",
    "\n",
    "dir_2FA = 'ssp126/u-cj880_ssp126_1950start1950ozone/'\n",
    "dir_2FB = 'ssp370/u-cj881_ssp370_1950start1950ozone/'\n",
    "\n",
    "dir_3FA = 'ssp126/u-cj484_ssp126_1990start1990ozone/'\n",
    "dir_3FB = 'ssp370/u-cj504_ssp370_1990start1990ozone/'\n",
    "\n",
    "name_1H = '1H: NatlOzone-historical'\n",
    "name_2H = '2H: Ozone1950-historical'\n",
    "name_3H = '3H: Ozone1990-historical'\n",
    "name_1FA = '1FA: NatlOzone-SSP126'\n",
    "name_1FB = '1FB: NatlOzone-SSP370'\n",
    "name_2FA = '2FA: Ozone1950-SSP126'\n",
    "name_2FB = '2FB: Ozone1950-SSP370'\n",
    "name_3FA = '3FA: Ozone1990-SSP126'\n",
    "name_3FB = '3FB: Ozone1990-SSP370'\n",
    "\n",
    "col_1A = 'darksalmon'; col_1B = 'sienna'\n",
    "col_2A = 'lightgreen'; col_2B = 'g'\n",
    "col_3A = 'dodgerblue'; col_3B = 'mediumblue'\n",
    "\n",
    "exp_1H = 'bc370'; exp_2H = 'cj198'; exp_3H = 'cj200'\n",
    "exp_1FA = 'be682'; exp_1FB = 'ce417'\n",
    "exp_2FA = 'cj880'; exp_2FB = 'cj881'\n",
    "exp_3FA = 'cj484'; exp_3FB = 'cj504'\n",
    "\n"
   ]
  },
  {
   "cell_type": "code",
   "execution_count": null,
   "id": "38a28bb0-af10-4f4e-bb89-3b1b26af627b",
   "metadata": {},
   "outputs": [],
   "source": [
    "scen = 'scen_1H'; yrstart = 1940; yrend = 2015\n",
    "scen_1H_stor = pickle.load(open(f'./pkls/{scen}_temp_{yrstart}_{yrend}.pkl','rb'))\n",
    "scen = 'scen_1FA'; yrstart = 2015; yrend = 2101\n",
    "scen_1FA_stor = pickle.load(open(f'./pkls/{scen}_temp_{yrstart}_{yrend}.pkl','rb'))\n"
   ]
  }
 ],
 "metadata": {
  "kernelspec": {
   "display_name": "Python 3 (ipykernel)",
   "language": "python",
   "name": "python3"
  },
  "language_info": {
   "codemirror_mode": {
    "name": "ipython",
    "version": 3
   },
   "file_extension": ".py",
   "mimetype": "text/x-python",
   "name": "python",
   "nbconvert_exporter": "python",
   "pygments_lexer": "ipython3",
   "version": "3.7.11"
  }
 },
 "nbformat": 4,
 "nbformat_minor": 5
}

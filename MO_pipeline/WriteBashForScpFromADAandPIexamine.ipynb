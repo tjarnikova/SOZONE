{
 "cells": [
  {
   "cell_type": "markdown",
   "id": "ad608cd6-66fd-4d5c-ae4d-ba1cb197bd93",
   "metadata": {},
   "source": [
    "aw310_bulk_y2224m12.nc  aw310_rad_y2224m12.nc    aw310_wind_y2224m12.nc\n",
    "aw310_dust_y2224m12.nc  aw310_river_y2224m12.nc (slp for 1, 4, 7, 10)"
   ]
  },
  {
   "cell_type": "code",
   "execution_count": 10,
   "id": "1a0cff94-20d0-4ba4-bf93-8cc324d53a65",
   "metadata": {},
   "outputs": [],
   "source": [
    "\n",
    "\n",
    "ms = ['01','02','03','04','05','06','07','08','09','10','11','12']\n",
    "\n",
    "ts = 'bashforScpWind01.txt'\n",
    "for y in range(2220,2260):\n",
    "    for m in ms:\n",
    "        sol = 'scp tjarniko@xfer1.jasmin.ac.uk://gws/nopw/j04/ukesm/bosley/ocean_forcing/fixed_ozone/pictrl/u-aw310_pictrl/'\n",
    "        tfil = f'{sol}aw310_wind_y{y}m{m}.nc ./\\n'\n",
    "        #print(tfil)\n",
    "        with open(ts, 'a') as f:\n",
    "            f.write(\"\\n\")\n",
    "            f.write(tfil)\n",
    "            f.close()"
   ]
  },
  {
   "cell_type": "code",
   "execution_count": 11,
   "id": "132ad014-050d-40d2-af57-853543c5d126",
   "metadata": {},
   "outputs": [],
   "source": [
    "\n",
    "\n",
    "ms = ['01','02','03','04','05','06','07','08','09','10','11','12']\n",
    "\n",
    "ts = 'bashforScpWind02.txt'\n",
    "for y in range(2260,2300):\n",
    "    for m in ms:\n",
    "        sol = 'scp tjarniko@xfer1.jasmin.ac.uk://gws/nopw/j04/ukesm/bosley/ocean_forcing/fixed_ozone/pictrl/u-aw310_pictrl/'\n",
    "        tfil = f'{sol}aw310_wind_y{y}m{m}.nc ./\\n'\n",
    "        #print(tfil)\n",
    "        with open(ts, 'a') as f:\n",
    "            f.write(\"\\n\")\n",
    "            f.write(tfil)\n",
    "            f.close()"
   ]
  },
  {
   "cell_type": "markdown",
   "id": "a8384e32-b15e-4f56-abae-0fb0d70be992",
   "metadata": {},
   "source": [
    "walrus to ada"
   ]
  },
  {
   "cell_type": "code",
   "execution_count": null,
   "id": "d6618996-b27e-468f-908f-bf48cd04564e",
   "metadata": {},
   "outputs": [],
   "source": [
    "\n",
    "\n",
    "ms = ['01','02','03','04','05','06','07','08','09','10','11','12']\n",
    "\n",
    "ts = 'walrustoADAwind01.txt'\n",
    "for y in range(2260,2300):\n",
    "    for m in ms:\n",
    "        sol = 'scp tjarniko@xfer1.jasmin.ac.uk://gws/nopw/j04/ukesm/bosley/ocean_forcing/fixed_ozone/pictrl/u-aw310_pictrl/'\n",
    "        tfil = f'scp aw310_wind_y{y}m{m}.nc ./\\n'\n",
    "        #print(tfil)\n",
    "        with open(ts, 'a') as f:\n",
    "            f.write(\"\\n\")\n",
    "            f.write(tfil)\n",
    "            f.close()"
   ]
  },
  {
   "cell_type": "markdown",
   "id": "54e0af08-720e-4913-82c6-aedb6abb8726",
   "metadata": {},
   "source": [
    "## better bashscripts bb"
   ]
  },
  {
   "cell_type": "code",
   "execution_count": 2,
   "id": "5dc81d73-ef31-411c-980a-4e8dbd25fcbe",
   "metadata": {},
   "outputs": [],
   "source": [
    "\n",
    "\n",
    "pat = ['bulk', 'dust', 'rad', 'river']\n",
    "ms = ['01','02','03','04','05','06','07','08','09','10','11','12']\n",
    "     \n",
    "\n",
    "\n",
    "for p in pat:\n",
    "    ts = f'cp{p}.sh'\n",
    "    for y in range(2220,2300):\n",
    "        for m in ms:\n",
    "            sol = 'scp tjarniko@xfer1.jasmin.ac.uk://gws/nopw/j04/ukesm/bosley/ocean_forcing/fixed_ozone/pictrl/u-aw310_pictrl/'\n",
    "            tfil = f'{sol}aw310_{p}_y{y}m{m}.nc ./\\n'\n",
    "            #print(tfil)\n",
    "            with open(ts, 'a') as f:\n",
    "                f.write(\"\\n\")\n",
    "                f.write(tfil)\n",
    "                f.close()\n",
    "                \n"
   ]
  },
  {
   "cell_type": "code",
   "execution_count": 4,
   "id": "65b7f57a-1cf8-468b-9972-9697e4fbe766",
   "metadata": {},
   "outputs": [],
   "source": [
    "\n",
    "\n",
    "pat2 = ['slp']\n",
    "m2s = ['01','04','07','10']   \n",
    "\n",
    "for p in pat2:\n",
    "    ts = f'cpslp.sh'\n",
    "    for y in range(2220,2300):\n",
    "        for m in m2s:\n",
    "            sol = 'scp tjarniko@xfer1.jasmin.ac.uk://gws/nopw/j04/ukesm/bosley/ocean_forcing/fixed_ozone/pictrl/u-aw310_pictrl/'\n",
    "            tfil = f'{sol}aw310_{p}_y{y}m{m}.nc ./\\n'\n",
    "            #print(tfil)\n",
    "            with open(ts, 'a') as f:\n",
    "                f.write(\"\\n\")\n",
    "                f.write(tfil)\n",
    "                f.close()\n",
    "                "
   ]
  },
  {
   "cell_type": "code",
   "execution_count": 1,
   "id": "218fdb08-4283-4130-b1a7-e5c46ecc5ae0",
   "metadata": {},
   "outputs": [],
   "source": [
    "\n",
    "\n",
    "pat = ['bulk', 'dust', 'rad', 'river']\n",
    "ms = ['01','02','03','04','05','06','07','08','09','10','11','12']\n",
    "     \n",
    "\n",
    "\n",
    "for p in pat:\n",
    "    ts = f'cp{p}2.sh'\n",
    "    for y in range(2260,2300):\n",
    "        for m in ms:\n",
    "            sol = 'scp tjarniko@xfer1.jasmin.ac.uk://gws/nopw/j04/ukesm/bosley/ocean_forcing/fixed_ozone/pictrl/u-aw310_pictrl/'\n",
    "            tfil = f'{sol}aw310_{p}_y{y}m{m}.nc ./\\n'\n",
    "            #print(tfil)\n",
    "            with open(ts, 'a') as f:\n",
    "                f.write(\"\\n\")\n",
    "                f.write(tfil)\n",
    "                f.close()\n",
    "                \n"
   ]
  },
  {
   "cell_type": "code",
   "execution_count": null,
   "id": "e217f2e5-f6f1-469b-a8fa-aee55e917050",
   "metadata": {},
   "outputs": [],
   "source": []
  }
 ],
 "metadata": {
  "kernelspec": {
   "display_name": "Python 3 (ipykernel)",
   "language": "python",
   "name": "python3"
  },
  "language_info": {
   "codemirror_mode": {
    "name": "ipython",
    "version": 3
   },
   "file_extension": ".py",
   "mimetype": "text/x-python",
   "name": "python",
   "nbconvert_exporter": "python",
   "pygments_lexer": "ipython3",
   "version": "3.7.11"
  }
 },
 "nbformat": 4,
 "nbformat_minor": 5
}

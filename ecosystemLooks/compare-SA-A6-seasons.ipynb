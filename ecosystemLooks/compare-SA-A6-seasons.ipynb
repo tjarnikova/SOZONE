{
 "cells": [
  {
   "cell_type": "markdown",
   "id": "3f8bd87b",
   "metadata": {},
   "source": [
    "### aim: \n",
    "\n",
    "### date: "
   ]
  },
  {
   "cell_type": "code",
   "execution_count": 1,
   "id": "8012f094",
   "metadata": {},
   "outputs": [
    {
     "data": {
      "text/html": [
       "<script>\n",
       "code_show=true; \n",
       "function code_toggle() {\n",
       " if (code_show){\n",
       " $('div.input').hide();\n",
       " } else {\n",
       " $('div.input').show();\n",
       " }\n",
       " code_show = !code_show\n",
       "} \n",
       "$( document ).ready(code_toggle);\n",
       "</script>\n",
       "<form action=\"javascript:code_toggle()\"><input type=\"submit\" value=\"Click here to toggle on/off the raw code.\"></form>"
      ],
      "text/plain": [
       "<IPython.core.display.HTML object>"
      ]
     },
     "execution_count": 1,
     "metadata": {},
     "output_type": "execute_result"
    }
   ],
   "source": [
    "from IPython.display import HTML\n",
    "\n",
    "HTML('''<script>\n",
    "code_show=true; \n",
    "function code_toggle() {\n",
    " if (code_show){\n",
    " $('div.input').hide();\n",
    " } else {\n",
    " $('div.input').show();\n",
    " }\n",
    " code_show = !code_show\n",
    "} \n",
    "$( document ).ready(code_toggle);\n",
    "</script>\n",
    "<form action=\"javascript:code_toggle()\"><input type=\"submit\" value=\"Click here to toggle on/off the raw code.\"></form>''')\n"
   ]
  },
  {
   "cell_type": "code",
   "execution_count": 2,
   "id": "c99f764a",
   "metadata": {},
   "outputs": [
    {
     "name": "stdout",
     "output_type": "stream",
     "text": [
      "Once deleted, variables cannot be recovered. Proceed (y/[n])? y\n"
     ]
    }
   ],
   "source": [
    "%reset"
   ]
  },
  {
   "cell_type": "code",
   "execution_count": 3,
   "id": "7ba928a5",
   "metadata": {},
   "outputs": [],
   "source": [
    "import numpy as np\n",
    "from cmocean import cm\n",
    "import cartopy as cp\n",
    "import cartopy.crs as ccrs\n",
    "import netCDF4 as nc\n",
    "import matplotlib.pyplot as plt\n",
    "import xarray as xr\n",
    "import sys\n",
    "sys.path.append('/gpfs/home/mep22dku/scratch/SOZONE')\n",
    "#list of models\n",
    "sys.path.append('/gpfs/home/mep22dku/scratch/SOZONE/UTILS')\n",
    "import lom\n",
    "import utils as ut\n",
    "\n",
    "%matplotlib inline\n",
    "import warnings\n",
    "from datetime import datetime\n",
    "warnings.filterwarnings('ignore')\n",
    "import cartopy.feature as cfeature\n",
    "from importlib import reload\n",
    "import matplotlib.path as mpath\n",
    "import glob\n",
    "import pickle\n",
    "import pandas as pd\n",
    "import seawater\n",
    "import time\n",
    "plt.rcParams.update({'font.size': 12})\n",
    "font = {'family' : 'monospace',\n",
    "'weight' : 'normal',\n",
    "'size'   : 12}\n",
    "\n",
    "plt.rc('font', **font)"
   ]
  },
  {
   "cell_type": "code",
   "execution_count": 4,
   "id": "2327f0f3",
   "metadata": {},
   "outputs": [],
   "source": [
    "def make_yearlist(yrst, yrend, tr, baseDir = '/gpfs/home/mep22dku/scratch/SOZONE/ecosystemLooks/depthint-ptrc'):\n",
    "    yrs = np.arange(yrst,yrend+1,1)\n",
    "    ylist = []\n",
    "    for i in range(0,len(yrs)):\n",
    "        ty = f'{baseDir}/TOM12_TJ_{tr}-ptrc-{yrs[i]}.nc'\n",
    "        t2 = glob.glob(ty)\n",
    "        #print(t2)\n",
    "        ylist.append(t2[0])\n",
    "    return ylist\n",
    "\n"
   ]
  },
  {
   "cell_type": "code",
   "execution_count": 5,
   "id": "5a866cc8",
   "metadata": {},
   "outputs": [
    {
     "data": {
      "text/plain": [
       "Text(0.5, 1.0, 'latitudinal bands, \\n Arctic = 1, Subarctic = 2 & so on, SO = 6')"
      ]
     },
     "execution_count": 5,
     "metadata": {},
     "output_type": "execute_result"
    },
    {
     "data": {
      "image/png": "[encoded data removed]",
      "text/plain": [
       "<Figure size 432x288 with 1 Axes>"
      ]
     },
     "metadata": {
      "needs_background": "light"
     },
     "output_type": "display_data"
    }
   ],
   "source": [
    "regs = ['ARCTIC', 'P1', 'P2', 'P3', 'P4', 'P5', 'A1', 'A2', 'A3', 'A4', 'A5', 'I3', 'I4', 'I5']\n",
    "\n",
    "regdict = {'ARCTIC' : {'number' : 0.5},\n",
    "           'P1' : {'number': 1.0},\n",
    "          'P2' : {'number': 1.2},\n",
    "           'P3' : {'number': 1.4},\n",
    "           'P4' : {'number': 1.6},\n",
    "           'P5' : {'number': 1.8},\n",
    "            'A1' : {'number': 2.4},\n",
    "          'A2' : {'number': 2.6},\n",
    "           'A3' : {'number': 2.8},\n",
    "           'A4' : {'number': 3},\n",
    "           'A5' : {'number': 3.2},\n",
    "           'I3' : {'number': 3.6},\n",
    "           'I4' : {'number': 3.8},\n",
    "           'I5' : {'number': 4},\n",
    "           \n",
    "          }\n",
    "    \n",
    "tics = []\n",
    "tcm = 'Spectral'\n",
    "tmask = nc.Dataset('/gpfs/data/greenocean/software/resources/breakdown/clq_basin_masks_ORCA.nc')\n",
    "\n",
    "maskno = np.zeros([149,182])\n",
    "for i in range(0, len(regs)):\n",
    "    maskno[tmask[regs[i]][:] == 1] = regdict[regs[i]]['number']\n",
    "    tics.append(regdict[regs[i]]['number'])\n",
    "maskno[maskno == 0] = np.nan\n",
    "\n",
    "# w = plt.pcolor(maskno, cmap = tcm, vmin = 0.5, vmax = 4)\n",
    "# cbar = plt.colorbar(w, ticks=tics)\n",
    "# t = cbar.ax.set_yticklabels(['ARCTIC', 'P1', 'P2', 'P3', 'P4', 'P5', 'A1', 'A2', 'A3', 'A4', 'A5', 'I3', 'I4', 'I5'], fontsize = 9)\n",
    "# plt.suptitle('original ocean regions, subdivided')\n",
    "\n",
    "# fact = 0.2\n",
    "# #fig = plt.figure(figsize=(30*fact,15*fact))\n",
    "# import matplotlib\n",
    "# cmap = matplotlib.cm.get_cmap('Spectral')\n",
    "# norm = matplotlib.colors.Normalize(vmin=0.5, vmax=4)\n",
    "# for i in range(0,len(regs)):\n",
    "#     rgba = cmap(norm(regdict[regs[i]]['number']))\n",
    "#     #plt.plot(regdict[regs[i]]['number'], 1, marker = 'o', color = rgba, label = regs[i])\n",
    "#     regdict[regs[i]]['colour'] = rgba\n",
    "# # plt.legend(ncol = 5, fontsize = 10)\n",
    "# # plt.suptitle('check that norm of colours works')\n",
    "\n",
    "plt.figure()\n",
    "mask_latbands = np.copy(maskno)\n",
    "\n",
    "mask_latbands[maskno == 0.5] = 1\n",
    "mask_latbands[(maskno == 1) | (maskno == 2.4)] = 2\n",
    "mask_latbands[(maskno == 1.2) | (maskno == 2.6)] = 3\n",
    "mask_latbands[(maskno == 1.4) | (maskno == 2.8) | (maskno == 3.6)] = 4\n",
    "mask_latbands[(maskno == 1.6) | (maskno == 3.0) | (maskno == 3.8)] = 5\n",
    "mask_latbands[(maskno == 1.8) | (maskno == 3.2) | (maskno == 4.0)] = 6\n",
    "import matplotlib\n",
    "cmap = matplotlib.cm.get_cmap('Spectral')\n",
    "w = plt.contourf(mask_latbands, vmin = 1, vmax = 6, cmap = cmap)\n",
    "plt.title('latitudinal bands, \\n Arctic = 1, Subarctic = 2 & so on, SO = 6')\n",
    "#plt.colorbar(w)"
   ]
  },
  {
   "cell_type": "code",
   "execution_count": 6,
   "id": "66f869f0",
   "metadata": {},
   "outputs": [],
   "source": [
    "p1AA6 = xr.open_mfdataset(make_yearlist(1950,2099,'1AA6'))\n",
    "p1BA6 = xr.open_mfdataset(make_yearlist(1950,2099,'1BA6'))\n",
    "p1ASA = xr.open_mfdataset(make_yearlist(1950,2099,'1ASA'))\n",
    "p1BSA = xr.open_mfdataset(make_yearlist(1950,2099,'1BSA'))"
   ]
  },
  {
   "cell_type": "code",
   "execution_count": null,
   "id": "6f8fe959",
   "metadata": {},
   "outputs": [],
   "source": []
  }
 ],
 "metadata": {
  "kernelspec": {
   "display_name": "Python 3 (ipykernel)",
   "language": "python",
   "name": "python3"
  },
  "language_info": {
   "codemirror_mode": {
    "name": "ipython",
    "version": 3
   },
   "file_extension": ".py",
   "mimetype": "text/x-python",
   "name": "python",
   "nbconvert_exporter": "python",
   "pygments_lexer": "ipython3",
   "version": "3.7.11"
  }
 },
 "nbformat": 4,
 "nbformat_minor": 5
}

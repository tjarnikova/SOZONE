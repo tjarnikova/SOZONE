{
 "cells": [
  {
   "cell_type": "markdown",
   "id": "04738d22-be96-4229-9149-b34cfb166fe1",
   "metadata": {},
   "source": [
    "## processing notebook that takes several models and calculates , plots, compares carbon flux. first cell has inputs, to change if necessary\n",
    "\n"
   ]
  },
  {
   "cell_type": "code",
   "execution_count": 1,
   "id": "9755fa1c-b45c-479c-b25c-21c7ae8c7409",
   "metadata": {},
   "outputs": [
    {
     "name": "stdin",
     "output_type": "stream",
     "text": [
      "Once deleted, variables cannot be recovered. Proceed (y/[n])?  y\n"
     ]
    }
   ],
   "source": [
    "%reset\n",
    "bd = '/gpfs/home/mep22dku/scratch/ModelRuns/'\n",
    "ad = '/gpfs/afm/greenocean/software/runs/'\n",
    "trs = ['TOM12_TJ_1AS5', 'TOM12_TJ_1BS1','TOM12_TJ_1AS1','TOM12_DW_WE43']\n",
    "bds = [bd, bd, ad]\n",
    "labs = ['1AS5- hist ozone, ssp1-2.6 chloro feedback off',\\\n",
    "        '1BS1- hist ozone, ssp1-2.6 chloro feedback off',\\\n",
    "        '1AS1- hist ozone, old atm co2 file, chloro feedback on',\\\n",
    "        'WD43 - dave CORE dynamics run']\n",
    "\n",
    "forced_mins = ['1948','1948','1948']"
   ]
  },
  {
   "cell_type": "code",
   "execution_count": 2,
   "id": "4935b92b-f936-4922-8f16-8e7fefe32112",
   "metadata": {},
   "outputs": [],
   "source": [
    "import matplotlib.pyplot as plt\n",
    "import netCDF4 as nc\n",
    "import numpy as np\n",
    "import glob\n",
    "import warnings\n",
    "import sys\n",
    "warnings.filterwarnings('ignore')\n",
    "import argparse\n",
    "from argparse import RawTextHelpFormatter\n",
    "sys.path.append('/gpfs/home/mep22dku/scratch/SOZONE/MO_pipeline/')\n",
    "sys.path.append('/gpfs/home/mep22dku/scratch/SOZONE/UTILS/')\n",
    "import utils as ut\n",
    "import xarray as xr\n",
    "import re\n",
    "import time"
   ]
  },
  {
   "cell_type": "code",
   "execution_count": 3,
   "id": "27beef0c-6fdb-4776-ad84-e7da071eb70a",
   "metadata": {},
   "outputs": [],
   "source": [
    "def make_yearlist(yrst, yrend, dtype, tr, baseDir):\n",
    "    yrs = np.arange(yrst,yrend+1,1)\n",
    "    ylist = []\n",
    "    for i in range(0,len(yrs)):\n",
    "        ty = f'{baseDir}/{tr}/ORCA2_1m_{yrs[i]}*{dtype}*.nc'\n",
    "        t2 = glob.glob(ty)\n",
    "        #print(t2)\n",
    "        ylist.append(t2[0])\n",
    "    return ylist\n",
    "\n",
    "def max_min_yrs(tr, baseDir):\n",
    "    w = glob.glob(f'{baseDir}{tr}/ORCA2_1m_*ptrc*.nc')\n",
    "    yrs = []\n",
    "    for i in range(0,len(w)):\n",
    "        ts = (w[i])\n",
    "        pattern = f'{baseDir}{tr}/ORCA2_1m_'\n",
    "        mod_string = re.sub(pattern, '', ts)\n",
    "        yrs.append(int(mod_string[0:4]))\n",
    "        \n",
    "    tmin = min(yrs); tmax = max(yrs)\n",
    "    return tmin, tmax\n",
    "\n",
    "def weighted_temporal_mean(tvar):\n",
    "    \"\"\"\n",
    "    weight by days in each month - get a yearly mean value for a quantity\n",
    "    https://ncar.github.io/esds/posts/2021/yearly-averages-xarray/\n",
    "    original had stuff about nans, we don't\n",
    "    \"\"\"\n",
    "    # Determine the month length\n",
    "    month_length = tvar.time_counter.dt.days_in_month\n",
    "\n",
    "    # Calculate the weights\n",
    "    wgts = month_length.groupby(\"time_centered.year\") / month_length.groupby(\"time_centered.year\").sum()\n",
    "\n",
    "    # Make sure the weights in each year add up to 1\n",
    "    np.testing.assert_allclose(wgts.groupby(\"time_centered.year\").sum(xr.ALL_DIMS), 1.0)\n",
    "\n",
    "    # Subset our dataset for our variable\n",
    "    obs = tvar\n",
    "\n",
    "    # Calculate the numerator annual\n",
    "    obs_sum = (obs * wgts).resample(time_counter=\"A\").sum(dim=\"time_counter\")\n",
    "\n",
    "    return obs_sum \n",
    "\n",
    "\n",
    "def get_yrs_and_cflx(tr, baseDir = '/gpfs/home/mep22dku/scratch/ModelRuns/', forcedmin = False, fm = 0):\n",
    "    '''\n",
    "    uses previous 3 fxns - get maxs and mins in timeseries,\n",
    "    get year list \n",
    "    get weighted temporal mean and years\n",
    "    \n",
    "    '''\n",
    "    w = time.time()\n",
    "    #find max and min years in TS\n",
    "    tmin, tmax = max_min_yrs(tr, baseDir)\n",
    "    if forcedmin:\n",
    "        tmin = fm;\n",
    "    #get filelist for TS - diad for cflx\n",
    "    t_yearlist = make_yearlist(tmin,tmax,'diad',tr, baseDir)\n",
    "    #open whole ts as one mfdataset\n",
    "    t_ds = xr.open_mfdataset(t_yearlist)\n",
    "\n",
    "    #open the meshmask file\n",
    "    tmesh = xr.open_dataset('/gpfs/data/greenocean/software/resources/regrid/mesh_mask3_6.nc')\n",
    "    tmesh['csize'] = tmesh.tmask[0,0,:,:] * tmesh.e1t[0,:,:] * tmesh.e2t[0,:,:]\n",
    "\n",
    "    #cflx is in mol/m2/s, multiply by m2 in meshmask to get mol/s\n",
    "    cflx_mol_s = t_ds['Cflx']*tmesh['csize']\n",
    "\n",
    "    t_yearly = weighted_temporal_mean(cflx_mol_s)\n",
    "\n",
    "    #seconds in year\n",
    "    siy = 60*60*24*365\n",
    "    pg_in_mol = 12 * 1e-15\n",
    "\n",
    "    cflx_pg_yr = (np.nansum(np.nansum(t_yearly*siy*pg_in_mol, axis = 2), axis = 1))\n",
    "    \n",
    "    #get years out\n",
    "    yrs = cflx_mol_s.groupby('time_counter.year').mean('time_counter').year.values\n",
    "    t_ds.close()\n",
    "    w2 = time.time()\n",
    "    print(w2-w)\n",
    "    return yrs, cflx_pg_yr"
   ]
  },
  {
   "cell_type": "code",
   "execution_count": 4,
   "id": "125b3cb4-f6c3-4ffa-8a98-c76e215233ba",
   "metadata": {},
   "outputs": [
    {
     "name": "stdout",
     "output_type": "stream",
     "text": [
      "25.403844356536865\n",
      "34.72067165374756\n"
     ]
    },
    {
     "ename": "ValueError",
     "evalue": "Coordinate variable time_counter is neither monotonically increasing nor monotonically decreasing on all datasets",
     "output_type": "error",
     "traceback": [
      "\u001b[0;31m---------------------------------------------------------------------------\u001b[0m",
      "\u001b[0;31mValueError\u001b[0m                                Traceback (most recent call last)",
      "\u001b[0;32m/tmp/ipykernel_74748/407923530.py\u001b[0m in \u001b[0;36m<module>\u001b[0;34m\u001b[0m\n\u001b[1;32m      4\u001b[0m \u001b[0;34m\u001b[0m\u001b[0m\n\u001b[1;32m      5\u001b[0m     \u001b[0mtr\u001b[0m \u001b[0;34m=\u001b[0m \u001b[0mtrs\u001b[0m\u001b[0;34m[\u001b[0m\u001b[0mi\u001b[0m\u001b[0;34m]\u001b[0m\u001b[0;34m\u001b[0m\u001b[0;34m\u001b[0m\u001b[0m\n\u001b[0;32m----> 6\u001b[0;31m     \u001b[0myrs\u001b[0m\u001b[0;34m,\u001b[0m \u001b[0mcflx_pg_yr\u001b[0m \u001b[0;34m=\u001b[0m \u001b[0mget_yrs_and_cflx\u001b[0m\u001b[0;34m(\u001b[0m\u001b[0mtr\u001b[0m\u001b[0;34m,\u001b[0m \u001b[0mbaseDir\u001b[0m \u001b[0;34m=\u001b[0m \u001b[0mbds\u001b[0m\u001b[0;34m[\u001b[0m\u001b[0mi\u001b[0m\u001b[0;34m]\u001b[0m\u001b[0;34m,\u001b[0m \u001b[0mforcedmin\u001b[0m \u001b[0;34m=\u001b[0m \u001b[0;32mTrue\u001b[0m\u001b[0;34m,\u001b[0m \u001b[0mfm\u001b[0m \u001b[0;34m=\u001b[0m \u001b[0;36m1948\u001b[0m\u001b[0;34m)\u001b[0m\u001b[0;34m\u001b[0m\u001b[0;34m\u001b[0m\u001b[0m\n\u001b[0m\u001b[1;32m      7\u001b[0m     \u001b[0myr_ar\u001b[0m\u001b[0;34m.\u001b[0m\u001b[0mappend\u001b[0m\u001b[0;34m(\u001b[0m\u001b[0myrs\u001b[0m\u001b[0;34m)\u001b[0m\u001b[0;34m\u001b[0m\u001b[0;34m\u001b[0m\u001b[0m\n\u001b[1;32m      8\u001b[0m     \u001b[0mflx_ar\u001b[0m\u001b[0;34m.\u001b[0m\u001b[0mappend\u001b[0m\u001b[0;34m(\u001b[0m\u001b[0mcflx_pg_yr\u001b[0m\u001b[0;34m)\u001b[0m\u001b[0;34m\u001b[0m\u001b[0;34m\u001b[0m\u001b[0m\n",
      "\u001b[0;32m/tmp/ipykernel_74748/3572073218.py\u001b[0m in \u001b[0;36mget_yrs_and_cflx\u001b[0;34m(tr, baseDir, forcedmin, fm)\u001b[0m\n\u001b[1;32m     60\u001b[0m     \u001b[0mt_yearlist\u001b[0m \u001b[0;34m=\u001b[0m \u001b[0mmake_yearlist\u001b[0m\u001b[0;34m(\u001b[0m\u001b[0mtmin\u001b[0m\u001b[0;34m,\u001b[0m\u001b[0mtmax\u001b[0m\u001b[0;34m,\u001b[0m\u001b[0;34m'diad'\u001b[0m\u001b[0;34m,\u001b[0m\u001b[0mtr\u001b[0m\u001b[0;34m,\u001b[0m \u001b[0mbaseDir\u001b[0m\u001b[0;34m)\u001b[0m\u001b[0;34m\u001b[0m\u001b[0;34m\u001b[0m\u001b[0m\n\u001b[1;32m     61\u001b[0m     \u001b[0;31m#open whole ts as one mfdataset\u001b[0m\u001b[0;34m\u001b[0m\u001b[0;34m\u001b[0m\u001b[0;34m\u001b[0m\u001b[0m\n\u001b[0;32m---> 62\u001b[0;31m     \u001b[0mt_ds\u001b[0m \u001b[0;34m=\u001b[0m \u001b[0mxr\u001b[0m\u001b[0;34m.\u001b[0m\u001b[0mopen_mfdataset\u001b[0m\u001b[0;34m(\u001b[0m\u001b[0mt_yearlist\u001b[0m\u001b[0;34m)\u001b[0m\u001b[0;34m\u001b[0m\u001b[0;34m\u001b[0m\u001b[0m\n\u001b[0m\u001b[1;32m     63\u001b[0m \u001b[0;34m\u001b[0m\u001b[0m\n\u001b[1;32m     64\u001b[0m     \u001b[0;31m#open the meshmask file\u001b[0m\u001b[0;34m\u001b[0m\u001b[0;34m\u001b[0m\u001b[0;34m\u001b[0m\u001b[0m\n",
      "\u001b[0;32m~/.conda/envs/swampenv/lib/python3.7/site-packages/xarray/backends/api.py\u001b[0m in \u001b[0;36mopen_mfdataset\u001b[0;34m(paths, chunks, concat_dim, compat, preprocess, engine, lock, data_vars, coords, combine, autoclose, parallel, join, attrs_file, **kwargs)\u001b[0m\n\u001b[1;32m    950\u001b[0m                 \u001b[0mcoords\u001b[0m\u001b[0;34m=\u001b[0m\u001b[0mcoords\u001b[0m\u001b[0;34m,\u001b[0m\u001b[0;34m\u001b[0m\u001b[0;34m\u001b[0m\u001b[0m\n\u001b[1;32m    951\u001b[0m                 \u001b[0mjoin\u001b[0m\u001b[0;34m=\u001b[0m\u001b[0mjoin\u001b[0m\u001b[0;34m,\u001b[0m\u001b[0;34m\u001b[0m\u001b[0;34m\u001b[0m\u001b[0m\n\u001b[0;32m--> 952\u001b[0;31m                 \u001b[0mcombine_attrs\u001b[0m\u001b[0;34m=\u001b[0m\u001b[0;34m\"drop\"\u001b[0m\u001b[0;34m,\u001b[0m\u001b[0;34m\u001b[0m\u001b[0;34m\u001b[0m\u001b[0m\n\u001b[0m\u001b[1;32m    953\u001b[0m             )\n\u001b[1;32m    954\u001b[0m         \u001b[0;32melse\u001b[0m\u001b[0;34m:\u001b[0m\u001b[0;34m\u001b[0m\u001b[0;34m\u001b[0m\u001b[0m\n",
      "\u001b[0;32m~/.conda/envs/swampenv/lib/python3.7/site-packages/xarray/core/combine.py\u001b[0m in \u001b[0;36mcombine_by_coords\u001b[0;34m(datasets, compat, data_vars, coords, fill_value, join, combine_attrs)\u001b[0m\n\u001b[1;32m    758\u001b[0m     \u001b[0;32mfor\u001b[0m \u001b[0mvars\u001b[0m\u001b[0;34m,\u001b[0m \u001b[0mdatasets_with_same_vars\u001b[0m \u001b[0;32min\u001b[0m \u001b[0mgrouped_by_vars\u001b[0m\u001b[0;34m:\u001b[0m\u001b[0;34m\u001b[0m\u001b[0;34m\u001b[0m\u001b[0m\n\u001b[1;32m    759\u001b[0m         combined_ids, concat_dims = _infer_concat_order_from_coords(\n\u001b[0;32m--> 760\u001b[0;31m             \u001b[0mlist\u001b[0m\u001b[0;34m(\u001b[0m\u001b[0mdatasets_with_same_vars\u001b[0m\u001b[0;34m)\u001b[0m\u001b[0;34m\u001b[0m\u001b[0;34m\u001b[0m\u001b[0m\n\u001b[0m\u001b[1;32m    761\u001b[0m         )\n\u001b[1;32m    762\u001b[0m \u001b[0;34m\u001b[0m\u001b[0m\n",
      "\u001b[0;32m~/.conda/envs/swampenv/lib/python3.7/site-packages/xarray/core/combine.py\u001b[0m in \u001b[0;36m_infer_concat_order_from_coords\u001b[0;34m(datasets)\u001b[0m\n\u001b[1;32m     80\u001b[0m                         \u001b[0;34m\"Coordinate variable {} is neither \"\u001b[0m\u001b[0;34m\u001b[0m\u001b[0;34m\u001b[0m\u001b[0m\n\u001b[1;32m     81\u001b[0m                         \u001b[0;34m\"monotonically increasing nor \"\u001b[0m\u001b[0;34m\u001b[0m\u001b[0;34m\u001b[0m\u001b[0m\n\u001b[0;32m---> 82\u001b[0;31m                         \u001b[0;34m\"monotonically decreasing on all datasets\"\u001b[0m\u001b[0;34m.\u001b[0m\u001b[0mformat\u001b[0m\u001b[0;34m(\u001b[0m\u001b[0mdim\u001b[0m\u001b[0;34m)\u001b[0m\u001b[0;34m\u001b[0m\u001b[0;34m\u001b[0m\u001b[0m\n\u001b[0m\u001b[1;32m     83\u001b[0m                     )\n\u001b[1;32m     84\u001b[0m \u001b[0;34m\u001b[0m\u001b[0m\n",
      "\u001b[0;31mValueError\u001b[0m: Coordinate variable time_counter is neither monotonically increasing nor monotonically decreasing on all datasets"
     ]
    }
   ],
   "source": [
    "\n",
    "\n",
    "yr_ar = []\n",
    "flx_ar = []\n",
    "for i in range(0,len(trs)):\n",
    "\n",
    "    tr = trs[i]\n",
    "    yrs, cflx_pg_yr = get_yrs_and_cflx(tr, baseDir = bds[i], forcedmin = True, fm = 1948)\n",
    "    yr_ar.append(yrs)\n",
    "    flx_ar.append(cflx_pg_yr)\n",
    "    \n",
    "\n",
    "    "
   ]
  },
  {
   "cell_type": "code",
   "execution_count": null,
   "id": "3e075d64-b4d5-4010-8422-81fb41508ac9",
   "metadata": {},
   "outputs": [],
   "source": [
    "\n",
    "\n",
    "for i in range(0, len(yr_ar)):\n",
    "    \n",
    "    plt.plot(yr_ar[i], flx_ar[i], color = colors[i], label = labs[i])\n",
    "plt.legend(loc = 'best')"
   ]
  },
  {
   "cell_type": "code",
   "execution_count": null,
   "id": "c788d5cb-2725-46a3-83ac-b4b89bfc40b0",
   "metadata": {},
   "outputs": [],
   "source": [
    "np.shape(yr_ar)"
   ]
  },
  {
   "cell_type": "code",
   "execution_count": null,
   "id": "0da1bf7c-5fa0-49ab-9ade-676d2bfac4a3",
   "metadata": {},
   "outputs": [],
   "source": [
    "plt.plot(yrs,cflx_pg_yr)"
   ]
  },
  {
   "cell_type": "code",
   "execution_count": null,
   "id": "b28234fa-4c58-42a5-84d2-ad56931fae14",
   "metadata": {},
   "outputs": [],
   "source": [
    "# cflx_mol_s['time_centered'].sel('time_centered' = 1)\n",
    "\n",
    "\n"
   ]
  },
  {
   "cell_type": "code",
   "execution_count": null,
   "id": "bc3d7f7b-5560-4be0-90fd-57ab2ac62866",
   "metadata": {},
   "outputs": [],
   "source": [
    "monthly_avr2.year.values"
   ]
  },
  {
   "cell_type": "code",
   "execution_count": null,
   "id": "67b46279-2358-4b43-9cfa-b1bb63264f6b",
   "metadata": {},
   "outputs": [],
   "source": []
  }
 ],
 "metadata": {
  "kernelspec": {
   "display_name": "Python 3 (ipykernel)",
   "language": "python",
   "name": "python3"
  },
  "language_info": {
   "codemirror_mode": {
    "name": "ipython",
    "version": 3
   },
   "file_extension": ".py",
   "mimetype": "text/x-python",
   "name": "python",
   "nbconvert_exporter": "python",
   "pygments_lexer": "ipython3",
   "version": "3.7.11"
  }
 },
 "nbformat": 4,
 "nbformat_minor": 5
}

{
 "cells": [
  {
   "cell_type": "markdown",
   "id": "cde06b65",
   "metadata": {},
   "source": [
    "## processing notebook that takes several models and calculates , plots, compares carbon flux. first cell has inputs, to change if necessary\n",
    "\n"
   ]
  },
  {
   "cell_type": "code",
   "execution_count": 1,
   "id": "7ee585ee",
   "metadata": {},
   "outputs": [
    {
     "name": "stdin",
     "output_type": "stream",
     "text": [
      "Once deleted, variables cannot be recovered. Proceed (y/[n])?  y\n"
     ]
    }
   ],
   "source": [
    "%reset\n",
    "bd = '/gpfs/home/mep22dku/scratch/ModelRuns/'\n",
    "ad = '/gpfs/afm/greenocean/software/runs/'\n",
    "\n",
    "#runs to extract - may not be all runs to plot\n",
    "\n",
    "trs = ['TOM12_TJ_1AS6', 'TOM12_DW_WE43']\n",
    "bds = [ad, ad]\n",
    "labs = ['1AS6- hist ozone, ssp1-2.6 chloro feedback on',\n",
    "        'WD43 - dave CORE dynamics run']\n",
    "\n",
    "forced_mins = ['1948','1948','1948','1948']\n",
    "colors = ['red','blue','green',]"
   ]
  },
  {
   "cell_type": "code",
   "execution_count": 2,
   "id": "89df97c5",
   "metadata": {},
   "outputs": [],
   "source": [
    "import matplotlib.pyplot as plt\n",
    "import netCDF4 as nc\n",
    "import numpy as np\n",
    "import glob\n",
    "import warnings\n",
    "import sys\n",
    "warnings.filterwarnings('ignore')\n",
    "import argparse\n",
    "from argparse import RawTextHelpFormatter\n",
    "sys.path.append('/gpfs/home/mep22dku/scratch/SOZONE/MO_pipeline/')\n",
    "sys.path.append('/gpfs/home/mep22dku/scratch/SOZONE/UTILS/')\n",
    "import utils as ut\n",
    "import xarray as xr\n",
    "import re\n",
    "import time"
   ]
  },
  {
   "cell_type": "code",
   "execution_count": 3,
   "id": "b2772821",
   "metadata": {},
   "outputs": [],
   "source": [
    "def make_yearlist(yrst, yrend, dtype, tr, baseDir):\n",
    "    yrs = np.arange(yrst,yrend+1,1)\n",
    "    ylist = []\n",
    "    for i in range(0,len(yrs)):\n",
    "        ty = f'{baseDir}/{tr}/ORCA2_1m_{yrs[i]}*{dtype}*.nc'\n",
    "        t2 = glob.glob(ty)\n",
    "        #print(t2)\n",
    "        ylist.append(t2[0])\n",
    "    return ylist\n",
    "\n",
    "def max_min_yrs(tr, baseDir):\n",
    "    w = glob.glob(f'{baseDir}{tr}/ORCA2_1m_*ptrc*.nc')\n",
    "    yrs = []\n",
    "    for i in range(0,len(w)):\n",
    "        ts = (w[i])\n",
    "        pattern = f'{baseDir}{tr}/ORCA2_1m_'\n",
    "        mod_string = re.sub(pattern, '', ts)\n",
    "        yrs.append(int(mod_string[0:4]))\n",
    "        \n",
    "    tmin = min(yrs); tmax = max(yrs)\n",
    "    return tmin, tmax\n",
    "\n",
    "def weighted_temporal_mean(tvar):\n",
    "    \"\"\"\n",
    "    weight by days in each month - get a yearly mean value for a quantity\n",
    "    https://ncar.github.io/esds/posts/2021/yearly-averages-xarray/\n",
    "    original had stuff about nans, we don't\n",
    "    \"\"\"\n",
    "    # Determine the month length\n",
    "    month_length = tvar.time_counter.dt.days_in_month\n",
    "\n",
    "    # Calculate the weights\n",
    "    wgts = month_length.groupby(\"time_centered.year\") / month_length.groupby(\"time_centered.year\").sum()\n",
    "\n",
    "    # Make sure the weights in each year add up to 1\n",
    "    np.testing.assert_allclose(wgts.groupby(\"time_centered.year\").sum(xr.ALL_DIMS), 1.0)\n",
    "\n",
    "    # Subset our dataset for our variable\n",
    "    obs = tvar\n",
    "\n",
    "    # Calculate the numerator annual\n",
    "    obs_sum = (obs * wgts).resample(time_counter=\"A\").sum(dim=\"time_counter\")\n",
    "\n",
    "    return obs_sum \n",
    "\n",
    "\n",
    "def get_yrs_and_cflx(tr, baseDir = '/gpfs/home/mep22dku/scratch/ModelRuns/', forcedmin = False, fm = 0):\n",
    "    '''\n",
    "    uses previous 3 fxns - get maxs and mins in timeseries,\n",
    "    get year list \n",
    "    get weighted temporal mean and years\n",
    "    \n",
    "    '''\n",
    "    w = time.time()\n",
    "    #find max and min years in TS\n",
    "    tmin, tmax = max_min_yrs(tr, baseDir)\n",
    "    if forcedmin:\n",
    "        tmin = fm;\n",
    "    #get filelist for TS - diad for cflx\n",
    "    t_yearlist = make_yearlist(tmin,tmax,'diad',tr, baseDir)\n",
    "    #open whole ts as one mfdataset\n",
    "    t_ds = xr.open_mfdataset(t_yearlist)\n",
    "\n",
    "    #open the meshmask file\n",
    "    tmesh = xr.open_dataset('/gpfs/data/greenocean/software/resources/regrid/mesh_mask3_6.nc')\n",
    "    tmesh['csize'] = tmesh.tmask[0,0,:,:] * tmesh.e1t[0,:,:] * tmesh.e2t[0,:,:]\n",
    "\n",
    "    #cflx is in mol/m2/s, multiply by m2 in meshmask to get mol/s\n",
    "    cflx_mol_s = t_ds['Cflx']*tmesh['csize']\n",
    "\n",
    "    t_yearly = weighted_temporal_mean(cflx_mol_s)\n",
    "\n",
    "    #seconds in year\n",
    "    siy = 60*60*24*365\n",
    "    pg_in_mol = 12 * 1e-15\n",
    "\n",
    "    cflx_pg_yr = (np.nansum(np.nansum(t_yearly*siy*pg_in_mol, axis = 2), axis = 1))\n",
    "    \n",
    "    #get years out\n",
    "    yrs = cflx_mol_s.groupby('time_counter.year').mean('time_counter').year.values\n",
    "    t_ds.close()\n",
    "    w2 = time.time()\n",
    "    print(w2-w)\n",
    "    return yrs, cflx_pg_yr"
   ]
  },
  {
   "cell_type": "code",
   "execution_count": 4,
   "id": "67d65b09",
   "metadata": {},
   "outputs": [
    {
     "name": "stdout",
     "output_type": "stream",
     "text": [
      "43.39901661872864\n",
      "26.82164430618286\n",
      "41.65707540512085\n",
      "32.09512400627136\n"
     ]
    }
   ],
   "source": [
    "\n",
    "\n",
    "yr_ar = []\n",
    "flx_ar = []\n",
    "for i in range(0,len(trs)):\n",
    "\n",
    "    tr = trs[i]\n",
    "    yrs, cflx_pg_yr = get_yrs_and_cflx(tr, baseDir = bds[i], forcedmin = True, fm = 1948)\n",
    "    yr_ar.append(yrs)\n",
    "    flx_ar.append(cflx_pg_yr)\n",
    "    \n",
    "\n",
    "    "
   ]
  },
  {
   "cell_type": "code",
   "execution_count": 5,
   "id": "328cf273",
   "metadata": {},
   "outputs": [
    {
     "data": {
      "text/plain": [
       "<matplotlib.legend.Legend at 0x2afd8d143090>"
      ]
     },
     "execution_count": 5,
     "metadata": {},
     "output_type": "execute_result"
    },
    {
     "data": {
      "image/png": "[encoded data removed]",
      "text/plain": [
       "<Figure size 432x288 with 1 Axes>"
      ]
     },
     "metadata": {
      "needs_background": "light"
     },
     "output_type": "display_data"
    }
   ],
   "source": [
    "\n",
    "\n",
    "for i in range(0, len(yr_ar)):\n",
    "    \n",
    "    plt.plot(yr_ar[i], flx_ar[i], color = colors[i], label = labs[i])\n",
    "plt.legend(loc = 'best')"
   ]
  },
  {
   "cell_type": "code",
   "execution_count": 6,
   "id": "a04d9bca",
   "metadata": {},
   "outputs": [
    {
     "data": {
      "text/plain": [
       "(4,)"
      ]
     },
     "execution_count": 6,
     "metadata": {},
     "output_type": "execute_result"
    }
   ],
   "source": [
    "np.shape(yr_ar)"
   ]
  },
  {
   "cell_type": "code",
   "execution_count": 7,
   "id": "25ca2441",
   "metadata": {},
   "outputs": [
    {
     "data": {
      "text/plain": [
       "[<matplotlib.lines.Line2D at 0x2afd8e89b590>]"
      ]
     },
     "execution_count": 7,
     "metadata": {},
     "output_type": "execute_result"
    },
    {
     "data": {
      "image/png": "[encoded data removed]",
      "text/plain": [
       "<Figure size 432x288 with 1 Axes>"
      ]
     },
     "metadata": {
      "needs_background": "light"
     },
     "output_type": "display_data"
    }
   ],
   "source": [
    "plt.plot(yrs,cflx_pg_yr)"
   ]
  },
  {
   "cell_type": "code",
   "execution_count": 8,
   "id": "e2c82100",
   "metadata": {},
   "outputs": [],
   "source": [
    "# cflx_mol_s['time_centered'].sel('time_centered' = 1)\n",
    "\n",
    "\n"
   ]
  },
  {
   "cell_type": "code",
   "execution_count": 9,
   "id": "93ffebf8",
   "metadata": {},
   "outputs": [
    {
     "ename": "NameError",
     "evalue": "name 'monthly_avr2' is not defined",
     "output_type": "error",
     "traceback": [
      "\u001b[0;31m---------------------------------------------------------------------------\u001b[0m",
      "\u001b[0;31mNameError\u001b[0m                                 Traceback (most recent call last)",
      "\u001b[0;32m/tmp/ipykernel_93695/1867847613.py\u001b[0m in \u001b[0;36m<module>\u001b[0;34m\u001b[0m\n\u001b[0;32m----> 1\u001b[0;31m \u001b[0mmonthly_avr2\u001b[0m\u001b[0;34m.\u001b[0m\u001b[0myear\u001b[0m\u001b[0;34m.\u001b[0m\u001b[0mvalues\u001b[0m\u001b[0;34m\u001b[0m\u001b[0;34m\u001b[0m\u001b[0m\n\u001b[0m",
      "\u001b[0;31mNameError\u001b[0m: name 'monthly_avr2' is not defined"
     ]
    }
   ],
   "source": [
    "monthly_avr2.year.values"
   ]
  },
  {
   "cell_type": "code",
   "execution_count": null,
   "id": "1a6a9795",
   "metadata": {},
   "outputs": [],
   "source": []
  },
  {
   "cell_type": "code",
   "execution_count": null,
   "id": "8718e638",
   "metadata": {},
   "outputs": [],
   "source": []
  }
 ],
 "metadata": {
  "kernelspec": {
   "display_name": "Python 3 (ipykernel)",
   "language": "python",
   "name": "python3"
  },
  "language_info": {
   "codemirror_mode": {
    "name": "ipython",
    "version": 3
   },
   "file_extension": ".py",
   "mimetype": "text/x-python",
   "name": "python",
   "nbconvert_exporter": "python",
   "pygments_lexer": "ipython3",
   "version": "3.7.11"
  }
 },
 "nbformat": 4,
 "nbformat_minor": 5
}

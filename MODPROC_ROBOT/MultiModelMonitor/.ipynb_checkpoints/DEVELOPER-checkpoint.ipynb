{
 "cells": [
  {
   "cell_type": "markdown",
   "id": "1b85025c-e8e6-4375-af82-778a9d18e909",
   "metadata": {},
   "source": [
    "### custom breakdown file for a model as a netcdf\n",
    "\n",
    "-air sea C flux\n",
    "-air sea SO flux\n",
    "-air sea export\n",
    "-air sea annual surface DIC\n",
    "-air sea annual S (surface)\n",
    "-the above two at 100m and for SO\n",
    "-run in a notebook format\n"
   ]
  },
  {
   "cell_type": "code",
   "execution_count": 19,
   "id": "36fc2544-c267-43ca-9143-948e868013f4",
   "metadata": {},
   "outputs": [
    {
     "data": {
      "text/plain": [
       "<module 'breakdown' from '/gpfs/home/mep22dku/scratch/SOZONE/MODPROC_ROBOT/MultiModelMonitor/WORK_SCRIPTS/breakdown.py'>"
      ]
     },
     "execution_count": 19,
     "metadata": {},
     "output_type": "execute_result"
    }
   ],
   "source": [
    "import matplotlib.pyplot as plt\n",
    "import glob\n",
    "import xarray as xr\n",
    "import sys\n",
    "sys.path.append('/gpfs/home/mep22dku/scratch/SOZONE/MODPROC_ROBOT/MultiModelMonitor/WORK_SCRIPTS')\n",
    "sys.path.append('/gpfs/home/mep22dku/scratch/SOZONE/MO_pipeline/')\n",
    "import scendict as sc\n",
    "import breakdown as bp\n",
    "import plotr as pr\n",
    "from importlib import reload\n",
    "reload(bp)"
   ]
  },
  {
   "cell_type": "code",
   "execution_count": 20,
   "id": "de28605e-e2c1-49b2-bdc4-5c7bd413b3a3",
   "metadata": {},
   "outputs": [],
   "source": [
    "\n",
    "#------CHANGE THIS TO WHAT YOU WANT TO EXTRACT\n",
    "extract = True #extracting?\n",
    "graph = True #plotting?\n",
    "sdir = '/gpfs/home/mep22dku/scratch/SOZONE/MODPROC_ROBOT/MultiModelMonitor/OUTPUT/' #results directory\n",
    "fnam = 'Cflx_comparison.png' ## filename for resulting plot\n",
    "#tms = ['TOM12_TJ_1AS7','TOM12_TJ_1AS6','TOM12_TJ_1BS2', 'TOM12_TJ_3AS1','TOM12_DW_WE43', 'TOM12_DW_GA01'] ##models to plot\n",
    "tms = ['TOM12_TJ_SORS']\n",
    "tms_te = ['TOM12_TJ_SORS'] ##models to extract\n",
    "\n",
    "# descs = ['1AS7: TJ(MET), Hist. ozone, \\n SSP 1-2.6, restart@ WE43(1948)',\\\n",
    "#          '1AS6: TJ(MET), Hist. ozone, \\n SSP 1-2.6, restart@ WE43(1948)',\\\n",
    "#          '1BS2: TJ(MET), Hist. ozone, \\n SSP 3-7.0, restart@ WE43(1948)',\\\n",
    "#          '3AS1: TJ(MET), Ozone-1990, \\n SSP 1-2.6, restart@ WE43(1948)',\\\n",
    "#          'WE43: DW(ERA5)',\n",
    "#          'GA01: DW(NCEP), GCB run'] #descriptions of models in tm\n",
    "cols = ['maroon']#,sc.scen['1A']['color'],sc.scen['1B']['color'],sc.scen['3A']['color'], 'grey', 'b'] #colours for models in tm\n",
    "\n"
   ]
  },
  {
   "cell_type": "code",
   "execution_count": 21,
   "id": "1fc49766-fd34-49c7-ad1f-8c1309acac6a",
   "metadata": {},
   "outputs": [],
   "source": [
    "# import os\n",
    "# w = sorted(glob.glob('/gpfs/afm/greenocean/software/runs/TOM12_TJ_SORS/*ptrc*'),\\\n",
    "#            key=os.path.getmtime)\n",
    "\n",
    "# ptrc = "
   ]
  },
  {
   "cell_type": "code",
   "execution_count": 22,
   "id": "72a4f0f4-1e6e-4a7f-bf81-66b38d0615fa",
   "metadata": {},
   "outputs": [
    {
     "name": "stdout",
     "output_type": "stream",
     "text": [
      "BEEP BOOP RUNNING SUMMARY PROTOCOL ON MODEL TOM12_TJ_SORS\n",
      "analyzing years 1760-1940\n",
      "producing summary stats SUMMARY_cflx_TOM12_TJ_SORS_1760-1940.nc\n",
      "for storage in /gpfs/home/mep22dku/scratch/SOZONE/MODPROC_ROBOT/MultiModelMonitor/OUTPUT/\n"
     ]
    },
    {
     "ename": "NameError",
     "evalue": "name 'yrst' is not defined",
     "output_type": "error",
     "traceback": [
      "\u001b[0;31m---------------------------------------------------------------------------\u001b[0m",
      "\u001b[0;31mNameError\u001b[0m                                 Traceback (most recent call last)",
      "\u001b[0;32m/tmp/ipykernel_80717/1953188233.py\u001b[0m in \u001b[0;36m<module>\u001b[0;34m\u001b[0m\n\u001b[1;32m      1\u001b[0m \u001b[0;32mif\u001b[0m \u001b[0mextract\u001b[0m\u001b[0;34m:\u001b[0m\u001b[0;34m\u001b[0m\u001b[0;34m\u001b[0m\u001b[0m\n\u001b[1;32m      2\u001b[0m     \u001b[0;32mfor\u001b[0m \u001b[0mtm\u001b[0m \u001b[0;32min\u001b[0m \u001b[0mtms_te\u001b[0m\u001b[0;34m:\u001b[0m\u001b[0;34m\u001b[0m\u001b[0;34m\u001b[0m\u001b[0m\n\u001b[0;32m----> 3\u001b[0;31m         \u001b[0mbp\u001b[0m\u001b[0;34m.\u001b[0m\u001b[0mbreakdown_maker\u001b[0m\u001b[0;34m(\u001b[0m\u001b[0mtm\u001b[0m\u001b[0;34m,\u001b[0m \u001b[0mbdflag\u001b[0m \u001b[0;34m=\u001b[0m \u001b[0;34m'cflx'\u001b[0m\u001b[0;34m,\u001b[0m \u001b[0mresDir\u001b[0m \u001b[0;34m=\u001b[0m \u001b[0msdir\u001b[0m\u001b[0;34m)\u001b[0m\u001b[0;34m\u001b[0m\u001b[0;34m\u001b[0m\u001b[0m\n\u001b[0m\u001b[1;32m      4\u001b[0m \u001b[0;34m\u001b[0m\u001b[0m\n",
      "\u001b[0;32m~/scratch/SOZONE/MODPROC_ROBOT/MultiModelMonitor/WORK_SCRIPTS/breakdown.py\u001b[0m in \u001b[0;36mbreakdown_maker\u001b[0;34m(tr, baseDir, fmi, fmx, bdflag, resDir, verbose)\u001b[0m\n\u001b[1;32m     34\u001b[0m     \u001b[0;31m#-------------- cflx extract--------------\u001b[0m\u001b[0;34m\u001b[0m\u001b[0;34m\u001b[0m\u001b[0;34m\u001b[0m\u001b[0m\n\u001b[1;32m     35\u001b[0m     \u001b[0;32mif\u001b[0m \u001b[0mbdflag\u001b[0m \u001b[0;34m==\u001b[0m \u001b[0;34m'cflx'\u001b[0m\u001b[0;34m:\u001b[0m\u001b[0;34m\u001b[0m\u001b[0;34m\u001b[0m\u001b[0m\n\u001b[0;32m---> 36\u001b[0;31m         \u001b[0mget_cflx\u001b[0m\u001b[0;34m(\u001b[0m\u001b[0mtmin\u001b[0m\u001b[0;34m,\u001b[0m\u001b[0mtmax\u001b[0m\u001b[0;34m,\u001b[0m\u001b[0mtr\u001b[0m\u001b[0;34m,\u001b[0m \u001b[0mbaseDir\u001b[0m\u001b[0;34m,\u001b[0m \u001b[0mresDir\u001b[0m\u001b[0;34m,\u001b[0m \u001b[0mfnam\u001b[0m\u001b[0;34m,\u001b[0m \u001b[0mverbose\u001b[0m\u001b[0;34m)\u001b[0m\u001b[0;34m\u001b[0m\u001b[0;34m\u001b[0m\u001b[0m\n\u001b[0m\u001b[1;32m     37\u001b[0m \u001b[0;34m\u001b[0m\u001b[0m\n\u001b[1;32m     38\u001b[0m     \u001b[0mw2\u001b[0m \u001b[0;34m=\u001b[0m \u001b[0mtime\u001b[0m\u001b[0;34m.\u001b[0m\u001b[0mtime\u001b[0m\u001b[0;34m(\u001b[0m\u001b[0;34m)\u001b[0m\u001b[0;34m\u001b[0m\u001b[0;34m\u001b[0m\u001b[0m\n",
      "\u001b[0;32m~/scratch/SOZONE/MODPROC_ROBOT/MultiModelMonitor/WORK_SCRIPTS/breakdown.py\u001b[0m in \u001b[0;36mget_cflx\u001b[0;34m(tmin, tmax, tr, baseDir, sdir, fnam, verbose)\u001b[0m\n\u001b[1;32m     50\u001b[0m     for whole ocean and southern ocean, return two np arrays'''\n\u001b[1;32m     51\u001b[0m     \u001b[0;31m#t_yearlist = make_yearlist(tmin,tmax,'diad',tr, baseDir)\u001b[0m\u001b[0;34m\u001b[0m\u001b[0;34m\u001b[0m\u001b[0;34m\u001b[0m\u001b[0m\n\u001b[0;32m---> 52\u001b[0;31m     \u001b[0mt_yearlist\u001b[0m \u001b[0;34m=\u001b[0m \u001b[0mmake_yearlist_globsort\u001b[0m\u001b[0;34m(\u001b[0m\u001b[0myrst\u001b[0m\u001b[0;34m,\u001b[0m \u001b[0myrend\u001b[0m\u001b[0;34m,\u001b[0m \u001b[0;34m'diad'\u001b[0m\u001b[0;34m,\u001b[0m \u001b[0mtr\u001b[0m\u001b[0;34m,\u001b[0m \u001b[0mbaseDir\u001b[0m\u001b[0;34m)\u001b[0m\u001b[0;34m\u001b[0m\u001b[0;34m\u001b[0m\u001b[0m\n\u001b[0m\u001b[1;32m     53\u001b[0m     \u001b[0myrs\u001b[0m \u001b[0;34m=\u001b[0m \u001b[0mnp\u001b[0m\u001b[0;34m.\u001b[0m\u001b[0marange\u001b[0m\u001b[0;34m(\u001b[0m\u001b[0mtmin\u001b[0m\u001b[0;34m,\u001b[0m \u001b[0mtmax\u001b[0m\u001b[0;34m+\u001b[0m\u001b[0;36m1\u001b[0m\u001b[0;34m,\u001b[0m\u001b[0;36m1\u001b[0m\u001b[0;34m)\u001b[0m\u001b[0;34m\u001b[0m\u001b[0;34m\u001b[0m\u001b[0m\n\u001b[1;32m     54\u001b[0m     \u001b[0mt_ds\u001b[0m \u001b[0;34m=\u001b[0m \u001b[0mxr\u001b[0m\u001b[0;34m.\u001b[0m\u001b[0mopen_mfdataset\u001b[0m\u001b[0;34m(\u001b[0m\u001b[0mt_yearlist\u001b[0m\u001b[0;34m)\u001b[0m\u001b[0;34m\u001b[0m\u001b[0;34m\u001b[0m\u001b[0m\n",
      "\u001b[0;31mNameError\u001b[0m: name 'yrst' is not defined"
     ]
    }
   ],
   "source": [
    "if extract: \n",
    "    for tm in tms_te:\n",
    "        bp.breakdown_maker(tm, bdflag = 'cflx', resDir = sdir)\n",
    "\n"
   ]
  },
  {
   "cell_type": "code",
   "execution_count": null,
   "id": "1a2654bc-bc01-49f2-ac37-544036c5c1f4",
   "metadata": {},
   "outputs": [],
   "source": [
    "### open the datasets\n",
    "if graph:\n",
    "    dsets = []\n",
    "\n",
    "    for tm in tms:\n",
    "        w = glob.glob(f'{sdir}*{tm}*')\n",
    "        ds = xr.open_dataset(w[0])\n",
    "        dsets.append(ds)\n",
    "    pr.plot_carbon(dsets, cols, descs, sdir, fnam, tend = 2100, tendatm = 450)\n"
   ]
  },
  {
   "cell_type": "code",
   "execution_count": null,
   "id": "ee3433b2-33d0-49de-a86e-db6cf7f28317",
   "metadata": {},
   "outputs": [],
   "source": []
  }
 ],
 "metadata": {
  "kernelspec": {
   "display_name": "Python 3 (ipykernel)",
   "language": "python",
   "name": "python3"
  },
  "language_info": {
   "codemirror_mode": {
    "name": "ipython",
    "version": 3
   },
   "file_extension": ".py",
   "mimetype": "text/x-python",
   "name": "python",
   "nbconvert_exporter": "python",
   "pygments_lexer": "ipython3",
   "version": "3.7.11"
  }
 },
 "nbformat": 4,
 "nbformat_minor": 5
}

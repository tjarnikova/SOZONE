{
 "cells": [
  {
   "cell_type": "markdown",
   "id": "dc5825fe",
   "metadata": {},
   "source": [
    "### custom breakdown file for a model as a netcdf\n",
    "\n",
    "    -air sea C flux\n",
    "    -air sea SO flux\n",
    "    -air sea export\n",
    "    -air sea annual surface DIC\n",
    "    -air sea annual S (surface)\n",
    "    -the above two at 100m and for SO\n",
    "    -run in a notebook format\n",
    "\n",
    "Takes model names and plots"
   ]
  },
  {
   "cell_type": "code",
   "execution_count": null,
   "id": "557b4280",
   "metadata": {},
   "outputs": [],
   "source": []
  },
  {
   "cell_type": "code",
   "execution_count": 1,
   "id": "945847c7",
   "metadata": {},
   "outputs": [
    {
     "data": {
      "text/plain": [
       "<module 'breakdown' from '/gpfs/home/mep22dku/scratch/SOZONE/MODPROC_ROBOT/MultiModelMonitor/WORK_SCRIPTS/breakdown.py'>"
      ]
     },
     "execution_count": 1,
     "metadata": {},
     "output_type": "execute_result"
    }
   ],
   "source": [
    "import matplotlib.pyplot as plt\n",
    "import glob\n",
    "import xarray as xr\n",
    "import sys\n",
    "sys.path.append('/gpfs/home/mep22dku/scratch/SOZONE/MODPROC_ROBOT/MultiModelMonitor/WORK_SCRIPTS')\n",
    "sys.path.append('/gpfs/home/mep22dku/scratch/SOZONE/MO_pipeline/')\n",
    "import scendict as sc\n",
    "import breakdown as bp\n",
    "import plotr as pr\n",
    "from importlib import reload\n",
    "reload(bp)"
   ]
  },
  {
   "cell_type": "code",
   "execution_count": 2,
   "id": "943da53b",
   "metadata": {},
   "outputs": [
    {
     "data": {
      "text/html": [
       "<script>\n",
       "code_show=true; \n",
       "function code_toggle() {\n",
       " if (code_show){\n",
       " $('div.input').hide();\n",
       " } else {\n",
       " $('div.input').show();\n",
       " }\n",
       " code_show = !code_show\n",
       "} \n",
       "$( document ).ready(code_toggle);\n",
       "</script>\n",
       "<form action=\"javascript:code_toggle()\"><input type=\"submit\" value=\"Click here to toggle on/off the raw code.\"></form>"
      ],
      "text/plain": [
       "<IPython.core.display.HTML object>"
      ]
     },
     "execution_count": 2,
     "metadata": {},
     "output_type": "execute_result"
    }
   ],
   "source": [
    "from IPython.display import HTML\n",
    "\n",
    "HTML('''<script>\n",
    "code_show=true; \n",
    "function code_toggle() {\n",
    " if (code_show){\n",
    " $('div.input').hide();\n",
    " } else {\n",
    " $('div.input').show();\n",
    " }\n",
    " code_show = !code_show\n",
    "} \n",
    "$( document ).ready(code_toggle);\n",
    "</script>\n",
    "<form action=\"javascript:code_toggle()\"><input type=\"submit\" value=\"Click here to toggle on/off the raw code.\"></form>''')\n"
   ]
  },
  {
   "cell_type": "code",
   "execution_count": null,
   "id": "4f9ee006",
   "metadata": {},
   "outputs": [],
   "source": []
  },
  {
   "cell_type": "code",
   "execution_count": 7,
   "id": "4578036c",
   "metadata": {},
   "outputs": [],
   "source": [
    "\n",
    "#------CHANGE THIS TO WHAT YOU WANT TO EXTRACT\n",
    "extract = True #extracting?\n",
    "graph = True #plotting?"
   ]
  },
  {
   "cell_type": "code",
   "execution_count": 8,
   "id": "d8341409",
   "metadata": {},
   "outputs": [],
   "source": [
    "\n",
    "sdir = '/gpfs/home/mep22dku/scratch/SOZONE/MODPROC_ROBOT/MultiModelMonitor/OUTPUT/' #results directory\n",
    "fnam = 'Cflx_comparison_1-3.png' ## filename for resulting plot\n",
    "tms_te = ['TOM12_TJ_1ASA','TOM12_TJ_1BSA', 'TOM12_TJ_3ASA', 'TOM12_TJ_3BSA',\\\n",
    "          'TOM12_TJ_2ASA', 'TOM12_TJ_2BSA', 'TOM12_DW_WE43'\n",
    "         'TOM12_TJ_WE43']\n",
    "\n",
    "tms = tms_te\n",
    "\n",
    "#tms = ['TOM12_TJ_1ASA','TOM12_TJ_1BSA']#, 'TOM12_TJ_3ASA', 'TOM12_TJ_3BSA',\\\n",
    "      #  'TOM12_DW_WE43','TOM12_TJ_WE43', 'TOM12_DW_GA01'] ##models to plot\n",
    " ##models to extract\n",
    "\n",
    "descs = ['1ASA: TJ(MET), Hist. ozone, SSP 1-2.6, restart@ WE43(1948)',\\\n",
    "         '1BSA: TJ(MET), Hist. ozone, SSP 3-7.0, restart@ WE43(1948)',\\\n",
    "         '3ASA: TJ(MET), 1990 ozone, SSP 1-2.6, restart@ WE43(1948)',\\\n",
    "         '3BSA: TJ(MET), 1990 ozone, SSP 3-7.0, restart@ WE43(1948)',\\\n",
    "         '2ASA: TJ(MET), 1990 ozone, SSP 1-2.6, restart@ WE43(1948)',\\\n",
    "         '2BSA: TJ(MET), 1990 ozone, SSP 3-7.0, restart@ WE43(1948)',\\\n",
    "         'DW_WE43: DW(ERA5) DW_WE43 with GOC limit OFF',\\\n",
    "         'TJ_WE43: TJ(ERA5), rerun of DW_WE43 with GOC limit ON',\\\n",
    "\n",
    "         'GA01: DW(NCEP), GCB run']#descriptions of models in tm\n",
    "cols = [sc.scen['1A']['color'],\\\n",
    "        sc.scen['1B']['color'],\\\n",
    "        sc.scen['3A']['color'],\\\n",
    "        sc.scen['3B']['color'],\\\n",
    "        sc.scen['2A']['color'],\\\n",
    "        sc.scen['2B']['color'],\\\n",
    "        'grey', 'g', 'b'] #colours for models in tm\n",
    "\n",
    "linestyles = ['-',':','-',':','-',':','-',':','-']"
   ]
  },
  {
   "cell_type": "code",
   "execution_count": null,
   "id": "cb8bef12",
   "metadata": {},
   "outputs": [
    {
     "name": "stdout",
     "output_type": "stream",
     "text": [
      "BEEP BOOP RUNNING SUMMARY PROTOCOL ON MODEL TOM12_TJ_1ASA\n",
      "analyzing years 1948-2100\n",
      "producing summary stats SUMMARY_cflx_TOM12_TJ_1ASA_1948-2100.nc\n",
      "for storage in /gpfs/home/mep22dku/scratch/SOZONE/MODPROC_ROBOT/MultiModelMonitor/OUTPUT/\n",
      "compute complete, time taken (s): 628.0278701782227\n",
      "BEEP BOOP RUNNING SUMMARY PROTOCOL ON MODEL TOM12_TJ_1BSA\n",
      "analyzing years 1948-2100\n",
      "producing summary stats SUMMARY_cflx_TOM12_TJ_1BSA_1948-2100.nc\n",
      "for storage in /gpfs/home/mep22dku/scratch/SOZONE/MODPROC_ROBOT/MultiModelMonitor/OUTPUT/\n"
     ]
    }
   ],
   "source": [
    "reload(bp)\n",
    "if extract: \n",
    "    for tm in tms_te:\n",
    "        bp.breakdown_maker(tm, bdflag = 'cflx', resDir = sdir)\n",
    "\n"
   ]
  },
  {
   "cell_type": "code",
   "execution_count": null,
   "id": "328f26e6",
   "metadata": {},
   "outputs": [],
   "source": [
    "### open the datasets\n",
    "reload(pr)\n",
    "if graph:\n",
    "    dsets = []\n",
    "\n",
    "    for tm in tms:\n",
    "        w = glob.glob(f'{sdir}*{tm}*')\n",
    "        ds = xr.open_dataset(w[0])\n",
    "        dsets.append(ds)\n",
    "    pr.plot_carbon(dsets, cols, descs, linestyles, sdir, fnam, tstart = 1948, tend = 2095, tendatm = 600)\n"
   ]
  },
  {
   "cell_type": "code",
   "execution_count": null,
   "id": "ff92853c",
   "metadata": {},
   "outputs": [],
   "source": []
  },
  {
   "cell_type": "code",
   "execution_count": null,
   "id": "d9386f46",
   "metadata": {},
   "outputs": [],
   "source": [
    "# ssp1 = '/gpfs/data/greenocean/software/resources/SOZONE_atmo/atmco2_ssp1-26.dat'\n",
    "# ssp3 = '/gpfs/data/greenocean/software/resources/SOZONE_atmo/atmco2_ssp3-70.dat'\n",
    "# import pandas as pd\n",
    "# import numpy as np\n",
    "\n",
    "# # columns_to_keep = ['#time', 'x-momentum', 'y-momentum', 'mass']\n",
    "# df1 = pd.read_table(ssp1)\n",
    "# df3 = pd.read_table(ssp3)\n",
    "\n",
    "# df3.columns"
   ]
  },
  {
   "cell_type": "code",
   "execution_count": null,
   "id": "38a195e3",
   "metadata": {},
   "outputs": [],
   "source": [
    "# plt.plot(df1['1650.042'],df1['276.58'])\n",
    "# plt.plot(df3['1650.042'],df3['276.58'])\n",
    "# plt.xlim([1940,2100])\n",
    "# plt.ylim([250,1000])\n",
    "# plt.grid()"
   ]
  },
  {
   "cell_type": "code",
   "execution_count": null,
   "id": "39d8b898",
   "metadata": {},
   "outputs": [],
   "source": [
    "# extract = False #extracting?\n",
    "# graph = True #plotting?\n",
    "# sdir = '/gpfs/home/mep22dku/scratch/SOZONE/MODPROC_ROBOT/MultiModelMonitor/OUTPUT/' #results directory\n",
    "# fnam = 'Cflx_spinup_monitor.png' ## filename for resulting plot\n",
    "# tms = ['TOM12_TJ_SP01']#,'TOM12_TJ_1BS2', 'TOM12_TJ_3AS1','TOM12_DW_WE43', 'TOM12_DW_GA01'] ##models to plot\n",
    "# tms_te = tms ##models to extract\n",
    "# descs = ['SPO1: model spinup',\n",
    "#          'GA01: DW(NCEP), GCB run'] #descriptions of models in tm\n",
    "# cols = ['brown', sc.scen['1A']['color'],sc.scen['1B']['color'],sc.scen['3A']['color'], 'grey', 'b'] #colours for models in tm\n",
    "\n",
    "# if extract: \n",
    "#     for tm in tms_te:\n",
    "#         bp.breakdown_maker(tm, bdflag = 'cflx', resDir = sdir)\n",
    "# linestyles = ['-',':','-',':','-',':','-',':','-']\n",
    "# ## open the datasets\n",
    "# if graph:\n",
    "#     dsets = []\n",
    "\n",
    "#     for tm in tms:\n",
    "#         w = glob.glob(f'{sdir}*{tm}*')\n",
    "#         ds = xr.open_dataset(w[0])\n",
    "#         dsets.append(ds)\n",
    "#     pr.plot_carbon(dsets, cols, descs,linestyles, sdir, fnam, tstart = 1700, tend = 2100, tendatm = 450)\n"
   ]
  },
  {
   "cell_type": "code",
   "execution_count": null,
   "id": "d0c7a8c2",
   "metadata": {},
   "outputs": [],
   "source": []
  },
  {
   "cell_type": "code",
   "execution_count": null,
   "id": "2ea2de0c",
   "metadata": {},
   "outputs": [],
   "source": []
  },
  {
   "cell_type": "code",
   "execution_count": null,
   "id": "9c280268",
   "metadata": {},
   "outputs": [],
   "source": []
  }
 ],
 "metadata": {
  "kernelspec": {
   "display_name": "Python 3 (ipykernel)",
   "language": "python",
   "name": "python3"
  },
  "language_info": {
   "codemirror_mode": {
    "name": "ipython",
    "version": 3
   },
   "file_extension": ".py",
   "mimetype": "text/x-python",
   "name": "python",
   "nbconvert_exporter": "python",
   "pygments_lexer": "ipython3",
   "version": "3.7.11"
  }
 },
 "nbformat": 4,
 "nbformat_minor": 5
}

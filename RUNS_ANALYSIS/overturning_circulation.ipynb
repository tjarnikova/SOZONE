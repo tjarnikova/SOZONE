{
 "cells": [
  {
   "cell_type": "markdown",
   "id": "384451e3-9786-464f-ac59-50b27d70aa7b",
   "metadata": {},
   "source": [
    "#### Notebook purpose:\n",
    "\n",
    "- calculate the overturning circulation / learn to calculate the overturning cirucation\n",
    "\n",
    "someone at geomar wrote a code for it sort of:\n",
    "https://git.geomar.de/open-source/meridional-overturning-circulation-from-nemo-output/-/blob/main/MOC.ipynb\n",
    "\n",
    "http://sam.ucsd.edu/ltalley/sio210/Global_circulation/lecture_global.pdf"
   ]
  },
  {
   "cell_type": "code",
   "execution_count": 2,
   "id": "c8af54ce-01ab-4401-aa8e-fe042325a060",
   "metadata": {},
   "outputs": [
    {
     "data": {
      "text/html": [
       "<script>\n",
       "code_show=true; \n",
       "function code_toggle() {\n",
       " if (code_show){\n",
       " $('div.input').hide();\n",
       " } else {\n",
       " $('div.input').show();\n",
       " }\n",
       " code_show = !code_show\n",
       "} \n",
       "$( document ).ready(code_toggle);\n",
       "</script>\n",
       "<form action=\"javascript:code_toggle()\"><input type=\"submit\" value=\"Click here to toggle on/off the raw code.\"></form>"
      ],
      "text/plain": [
       "<IPython.core.display.HTML object>"
      ]
     },
     "execution_count": 2,
     "metadata": {},
     "output_type": "execute_result"
    }
   ],
   "source": [
    "from IPython.display import HTML\n",
    "\n",
    "HTML('''<script>\n",
    "code_show=true; \n",
    "function code_toggle() {\n",
    " if (code_show){\n",
    " $('div.input').hide();\n",
    " } else {\n",
    " $('div.input').show();\n",
    " }\n",
    " code_show = !code_show\n",
    "} \n",
    "$( document ).ready(code_toggle);\n",
    "</script>\n",
    "<form action=\"javascript:code_toggle()\"><input type=\"submit\" value=\"Click here to toggle on/off the raw code.\"></form>''')\n"
   ]
  },
  {
   "cell_type": "code",
   "execution_count": 3,
   "id": "0f76b546-f85d-4fa8-a8f2-bd4805be4a8d",
   "metadata": {},
   "outputs": [],
   "source": [
    "import numpy as np\n",
    "from cmocean import cm\n",
    "import cartopy as cp\n",
    "import cartopy.crs as ccrs\n",
    "import netCDF4 as nc\n",
    "import matplotlib.pyplot as plt\n",
    "import xarray as xr\n",
    "import sys\n",
    "sys.path.append('/gpfs/home/mep22dku/scratch/SOZONE')\n",
    "\n",
    "%matplotlib inline\n",
    "import warnings\n",
    "from datetime import datetime\n",
    "warnings.filterwarnings('ignore')\n",
    "import cartopy.feature as cfeature\n",
    "from importlib import reload\n",
    "import matplotlib.path as mpath\n",
    "import glob\n",
    "import pickle\n",
    "\n",
    "#import mapfxn as mf\n",
    "#reload(mf)\n",
    "\n",
    "plt.rcParams.update({'font.size': 12})\n",
    "font = {'family' : 'normal',\n",
    "'weight' : 'normal',\n",
    "'size'   : 12}\n",
    "\n",
    "plt.rc('font', **font)"
   ]
  },
  {
   "cell_type": "markdown",
   "id": "a48df8e4-56ec-4653-9ce7-cb11479fb8fc",
   "metadata": {},
   "source": [
    "# How does overturning work? (From Talley)\n",
    "\n",
    "![title](overturning.png)"
   ]
  },
  {
   "cell_type": "code",
   "execution_count": 23,
   "id": "d77b9e5b-6410-41b4-8e20-7c4eed48070b",
   "metadata": {},
   "outputs": [
    {
     "name": "stdout",
     "output_type": "stream",
     "text": [
      "(50, 182)\n",
      "(31, 50, 182)\n",
      "(31, 50, 182)\n",
      "/gpfs/data/greenocean/software/runs/TOM12_DW_WE20/ORCA2_1m_19880101_19881231_grid_V.nc\n",
      "[4.9999380e+00 1.5000288e+01 2.5001759e+01 3.5005413e+01 4.5013317e+01\n",
      " 5.5029499e+01 6.5061806e+01 7.5125511e+01 8.5250366e+01 9.5494286e+01\n",
      " 1.0596992e+02 1.1689624e+02 1.2869791e+02 1.4219525e+02 1.5896062e+02\n",
      " 1.8196278e+02 2.1664792e+02 2.7247672e+02 3.6430304e+02 5.1153476e+02\n",
      " 7.3220087e+02 1.0332173e+03 1.4056975e+03 1.8308850e+03 2.2897678e+03\n",
      " 2.7682424e+03 3.2574788e+03 3.7524421e+03 4.2504014e+03 4.7499131e+03\n",
      " 5.2502266e+03]\n",
      "(31, 182)\n",
      "7.668801974024801\n"
     ]
    },
    {
     "data": {
      "text/plain": [
       "[<matplotlib.lines.Line2D at 0x2b2c1885fad0>]"
      ]
     },
     "execution_count": 23,
     "metadata": {},
     "output_type": "execute_result"
    },
    {
     "data": {
      "image/png": "[encoded data removed]",
      "text/plain": [
       "<Figure size 432x288 with 1 Axes>"
      ]
     },
     "metadata": {
      "needs_background": "light"
     },
     "output_type": "display_data"
    }
   ],
   "source": [
    "tnc = nc.Dataset('/gpfs/data/greenocean/software/resources/regrid/mesh_mask3_6.nc')\n",
    "u_direction_size = tnc['e1v'][0,0:50,:]\n",
    "print(np.shape(u_direction_size))\n",
    "w_direction_size = tnc['e3v_0'][0,:,0:50,:]\n",
    "print(np.shape(w_direction_size))\n",
    "area_broad = np.zeros_like(w_direction_size)\n",
    "for i in range(0,31):\n",
    "    area_broad[i,:,:] = w_direction_size[i,:,:]*u_direction_size[:,:]\n",
    "\n",
    "print(np.shape(area_broad))\n",
    "\n",
    "#calculate it for one month, for one latitude, #10th from bottom\n",
    "\n",
    "rdir = '/gpfs/data/greenocean/software/runs/'\n",
    "tdir = 'TOM12_DW_WE20'\n",
    "yr = 1988\n",
    "tw = glob.glob(f'{rdir}{tdir}/*{yr}*{yr}*_grid_V.nc')\n",
    "print(tw[0])\n",
    "t_test = nc.Dataset(tw[0])\n",
    "lat = 30\n",
    "month = 5\n",
    "depthv = t_test['depthv'][:]\n",
    "print(depthv)\n",
    "sverdrups_10 = (t_test['vomecrty'][month,:,lat,:]+t_test['vomeeivv'][month,:,lat,:]) * area_broad[:,lat,:] * 1e-6\n",
    "print(np.shape(sverdrups_10))\n",
    "print(np.nansum(sverdrups_10))\n",
    "plt.plot(np.nansum(sverdrups_10,axis = 1),-depthv)"
   ]
  },
  {
   "cell_type": "code",
   "execution_count": 31,
   "id": "61a8e5df-7a24-4ab7-9564-3bcc6616e0b3",
   "metadata": {},
   "outputs": [
    {
     "name": "stdout",
     "output_type": "stream",
     "text": [
      "(50, 182)\n",
      "(31, 50, 182)\n",
      "(31, 50, 182)\n",
      "/gpfs/data/greenocean/software/runs/TOM12_DW_WE20/ORCA2_1m_19880101_19881231_grid_V.nc\n",
      "[4.9999380e+00 1.5000288e+01 2.5001759e+01 3.5005413e+01 4.5013317e+01\n",
      " 5.5029499e+01 6.5061806e+01 7.5125511e+01 8.5250366e+01 9.5494286e+01\n",
      " 1.0596992e+02 1.1689624e+02 1.2869791e+02 1.4219525e+02 1.5896062e+02\n",
      " 1.8196278e+02 2.1664792e+02 2.7247672e+02 3.6430304e+02 5.1153476e+02\n",
      " 7.3220087e+02 1.0332173e+03 1.4056975e+03 1.8308850e+03 2.2897678e+03\n",
      " 2.7682424e+03 3.2574788e+03 3.7524421e+03 4.2504014e+03 4.7499131e+03\n",
      " 5.2502266e+03]\n",
      "(31, 182)\n"
     ]
    },
    {
     "data": {
      "text/plain": [
       "<matplotlib.colorbar.Colorbar at 0x2b2c18335750>"
      ]
     },
     "execution_count": 31,
     "metadata": {},
     "output_type": "execute_result"
    },
    {
     "data": {
      "image/png": "[encoded data removed]",
      "text/plain": [
       "<Figure size 432x288 with 2 Axes>"
      ]
     },
     "metadata": {
      "needs_background": "light"
     },
     "output_type": "display_data"
    }
   ],
   "source": [
    "tnc = nc.Dataset('/gpfs/data/greenocean/software/resources/regrid/mesh_mask3_6.nc')\n",
    "u_direction_size = tnc['e1v'][0,0:50,:]\n",
    "print(np.shape(u_direction_size))\n",
    "w_direction_size = tnc['e3v_0'][0,:,0:50,:]\n",
    "print(np.shape(w_direction_size))\n",
    "area_broad = np.zeros_like(w_direction_size)\n",
    "for i in range(0,31):\n",
    "    area_broad[i,:,:] = w_direction_size[i,:,:]*u_direction_size[:,:]\n",
    "\n",
    "print(np.shape(area_broad))\n",
    "\n",
    "#calculate it for one month, for one latitude, #10th from bottom\n",
    "\n",
    "rdir = '/gpfs/data/greenocean/software/runs/'\n",
    "tdir = 'TOM12_DW_WE20'\n",
    "yr = 1988\n",
    "tw = glob.glob(f'{rdir}{tdir}/*{yr}*{yr}*_grid_V.nc')\n",
    "print(tw[0])\n",
    "t_test = nc.Dataset(tw[0])\n",
    "lat = 30\n",
    "month = 5\n",
    "depthv = t_test['depthv'][:]\n",
    "print(depthv)\n",
    "yearly_vels = np.nansum((t_test['vomecrty'][:,:,lat,:]+t_test['vomeeivv'][:,:,lat,:]),axis = 0)\n",
    "print(np.shape(yearly_vels))\n",
    "sverdrups_10 = (yearly_vels) * area_broad[:,lat,:] * 1e-6\n",
    "\n",
    "# plt.plot(np.nansum(sverdrups_10,axis = 1),-depthv)\n",
    "\n",
    "manual_sverdrups = np.zeros([31,50])\n",
    "for i in range(0,50):\n",
    "    lat = i\n",
    "    yearly_vels = np.nansum((t_test['vomecrty'][:,:,lat,:]+t_test['vomeeivv'][:,:,lat,:]),axis = 0)\n",
    "    sverdrups_10 = (yearly_vels) * area_broad[:,lat,:] * 1e-6\n",
    "    manual_sverdrups[:,i] = np.nansum(sverdrups_10,axis = 1)\n",
    "    \n",
    "    \n",
    "plt.pcolormesh(manual_sverdrups, cmap = cm.balance)\n",
    "plt.colorbar()"
   ]
  },
  {
   "cell_type": "code",
   "execution_count": 110,
   "id": "f9a228f2-ad97-47b2-b9a2-cb742fd11869",
   "metadata": {},
   "outputs": [
    {
     "name": "stdout",
     "output_type": "stream",
     "text": [
      "(50, 182)\n",
      "(31, 50, 182)\n",
      "(31, 50, 182)\n",
      "/gpfs/data/greenocean/software/runs/TOM12_DW_WE20/ORCA2_1m_19880101_19881231_grid_V.nc\n",
      "(12, 31, 50, 182)\n"
     ]
    },
    {
     "data": {
      "image/png": "[encoded data removed]",
      "text/plain": [
       "<Figure size 1008x504 with 4 Axes>"
      ]
     },
     "metadata": {
      "needs_background": "light"
     },
     "output_type": "display_data"
    }
   ],
   "source": [
    "tnc = nc.Dataset('/gpfs/data/greenocean/software/resources/regrid/mesh_mask3_6.nc')\n",
    "u_direction_size = tnc['e1v'][0,0:50,:]\n",
    "print(np.shape(v_direction_size))\n",
    "w_direction_size = tnc['e3v_0'][0,:,0:50,:]\n",
    "print(np.shape(w_direction_size))\n",
    "area_broad = np.zeros_like(w_direction_size)\n",
    "for i in range(0,31):\n",
    "    area_broad[i,:,:] = w_direction_size[i,:,:]*u_direction_size[:,:]\n",
    "\n",
    "print(np.shape(area_broad))\n",
    "rdir = '/gpfs/data/greenocean/software/runs/'\n",
    "tdir = 'TOM12_DW_WE20'\n",
    "yr = 1988\n",
    "tw = glob.glob(f'{rdir}{tdir}/*{yr}*{yr}*_grid_V.nc')\n",
    "print(tw[0])\n",
    "t_test = nc.Dataset(tw[0])\n",
    "\n",
    "sverdrups_total = -1 * (t_test['vomecrty'][:,:,0:50,:]+t_test['vomeeivv'][:,:,0:50,:])*area_broad * 1e-6 #clockwise is positive\n",
    "print(np.shape(sverdrups_total))\n",
    "#sverdrups_sum = np.nansum(sverdrups_total,axis = 2)\n",
    "\n",
    "sverdrups_mean = np.nansum(np.nanmean(sverdrups_total,axis=0),axis = 2)\n",
    "sverdrups_sum = np.nansum(np.nansum(sverdrups_total,axis=0),axis = 2)\n",
    "lats = t_test['nav_lat'][0:50,0]\n",
    "depthv = (t_test['depthv'][:])\n",
    "\n",
    "\n",
    "fact = 0.7 \n",
    "fig, [ax1, ax2] = plt.subplots(nrows=1, ncols=2, figsize=(20*fact, 10*fact))\n",
    "mesh = ax1.pcolormesh(lats,depthv,sverdrups_sum, cmap = cm.balance, vmin = -40, vmax = 40)\n",
    "\n",
    "ax1.set_ylim([0,depthv[29]])\n",
    "ax1.invert_yaxis()\n",
    "cbar = fig.colorbar(mesh, ax=ax1, orientation = 'horizontal',fraction=0.05, pad=0.1)#, ticks = tticks)\n",
    "#cbar.set_label(label=' mol C m$^{-2}$ d$^{-1}$ tramsport')\n",
    "ax1.set_ylabel('depth(m)')\n",
    "\n",
    "mesh = ax2.pcolormesh(lats,depthv,sverdrups_mean, cmap = cm.balance, vmin = -20, vmax = 20)\n",
    "\n",
    "ax2.set_ylim([0,depthv[29]])\n",
    "ax2.invert_yaxis()\n",
    "ax2.set_ylabel('depth(m)')\n",
    "cbar = fig.colorbar(mesh, ax=ax2, orientation = 'horizontal',fraction=0.05, pad=0.1)#, ticks = tticks)"
   ]
  },
  {
   "cell_type": "code",
   "execution_count": 112,
   "id": "ecbcd6a2-269b-4902-bbaa-3580e5829fa2",
   "metadata": {},
   "outputs": [
    {
     "name": "stdout",
     "output_type": "stream",
     "text": [
      "(31, 50)\n"
     ]
    }
   ],
   "source": [
    "print(np.shape(sverdrups_sum))"
   ]
  },
  {
   "cell_type": "code",
   "execution_count": 115,
   "id": "486972f0-80ed-4103-8782-1a08e3af0023",
   "metadata": {},
   "outputs": [
    {
     "name": "stdout",
     "output_type": "stream",
     "text": [
      "(50, 182)\n",
      "(31, 50, 182)\n",
      "0\n",
      "20\n",
      "40\n",
      "60\n"
     ]
    }
   ],
   "source": [
    "sverdrups_sum_ts = np.zeros([70,31,50])\n",
    "sverdrups_mean_ts = np.zeros([70,31,50])\n",
    "\n",
    "tnc = nc.Dataset('/gpfs/data/greenocean/software/resources/regrid/mesh_mask3_6.nc')\n",
    "u_direction_size = tnc['e1v'][0,0:50,:]\n",
    "print(np.shape(v_direction_size))\n",
    "w_direction_size = tnc['e3v_0'][0,:,0:50,:]\n",
    "print(np.shape(w_direction_size))\n",
    "area_broad = np.zeros_like(w_direction_size)\n",
    "for i in range(0,31):\n",
    "    area_broad[i,:,:] = w_direction_size[i,:,:]*u_direction_size[:,:]\n",
    "\n",
    "\n",
    "yrs = np.arange(1950,2020,1)\n",
    "for i in range(0,len(yrs)):\n",
    "    yr = yrs[i]\n",
    "    rdir = '/gpfs/data/greenocean/software/runs/'\n",
    "    tdir = 'TOM12_DW_WE20'\n",
    "    tw = glob.glob(f'{rdir}{tdir}/*{yr}*{yr}*_grid_V.nc')\n",
    "    t_test = nc.Dataset(tw[0])\n",
    "\n",
    "    sverdrups_total = -1 * (t_test['vomecrty'][:,:,0:50,:]+t_test['vomeeivv'][:,:,0:50,:])*area_broad * 1e-6 #clockwise is positive\n",
    "    #sverdrups_sum = np.nansum(sverdrups_total,axis = 2)\n",
    "\n",
    "    sverdrups_mean = np.nansum(np.nanmean(sverdrups_total,axis=0),axis = 2)\n",
    "    sverdrups_sum = np.nansum(np.nansum(sverdrups_total,axis=0),axis = 2)\n",
    "    sverdrups_sum_ts[i,:,:] = sverdrups_sum\n",
    "    sverdrups_mean_ts[i,:,:] = sverdrups_mean\n",
    "    if i%20 == 0:\n",
    "        print(i)\n",
    "\n",
    "\n"
   ]
  },
  {
   "cell_type": "code",
   "execution_count": 116,
   "id": "5489db7e-03f0-487f-8be2-4ab80691b3b2",
   "metadata": {},
   "outputs": [],
   "source": [
    "sverdrups_sum_ts_mean = np.nanmean(sverdrups_sum_ts, axis = 0)\n",
    "sverdrups_mean_ts_mean = np.nanmean(sverdrups_mean_ts, axis = 0)"
   ]
  },
  {
   "cell_type": "code",
   "execution_count": 117,
   "id": "4fce0b1f-033e-4ddd-a051-1b575863a76c",
   "metadata": {},
   "outputs": [
    {
     "data": {
      "image/png": "[encoded data removed]",
      "text/plain": [
       "<Figure size 1008x504 with 4 Axes>"
      ]
     },
     "metadata": {
      "needs_background": "light"
     },
     "output_type": "display_data"
    }
   ],
   "source": [
    "fact = 0.7 \n",
    "fig, [ax1, ax2] = plt.subplots(nrows=1, ncols=2, figsize=(20*fact, 10*fact))\n",
    "mesh = ax1.pcolormesh(lats,depthv,sverdrups_sum_ts_mean, cmap = cm.balance, vmin = -40, vmax = 40)\n",
    "\n",
    "ax1.set_ylim([0,depthv[29]])\n",
    "ax1.invert_yaxis()\n",
    "cbar = fig.colorbar(mesh, ax=ax1, orientation = 'horizontal',fraction=0.05, pad=0.1)#, ticks = tticks)\n",
    "#cbar.set_label(label=' mol C m$^{-2}$ d$^{-1}$ tramsport')\n",
    "ax1.set_ylabel('depth(m)')\n",
    "\n",
    "mesh = ax2.pcolormesh(lats,depthv,sverdrups_mean_ts_mean, cmap = cm.balance, vmin = -20, vmax = 20)\n",
    "\n",
    "ax2.set_ylim([0,depthv[29]])\n",
    "ax2.invert_yaxis()\n",
    "ax2.set_ylabel('depth(m)')\n",
    "cbar = fig.colorbar(mesh, ax=ax2, orientation = 'horizontal',fraction=0.05, pad=0.1)#, ticks = tticks)"
   ]
  },
  {
   "cell_type": "markdown",
   "id": "f87a0c3a-dc82-432e-bc15-447d97d7afd9",
   "metadata": {},
   "source": [
    "##"
   ]
  },
  {
   "cell_type": "code",
   "execution_count": 78,
   "id": "6d13c725-b45a-4ef4-b907-56e610bf0973",
   "metadata": {},
   "outputs": [],
   "source": [
    " import xarray as xr\n",
    "import datetime\n",
    "import numpy as np\n",
    "import pandas as pd\n",
    "import datetime\n",
    "import seawater as sw"
   ]
  },
  {
   "cell_type": "code",
   "execution_count": 86,
   "id": "a91ee32b-9f1d-4c67-bf57-3520b574d81a",
   "metadata": {},
   "outputs": [
    {
     "name": "stdout",
     "output_type": "stream",
     "text": [
      "(149, 182, 31)\n"
     ]
    }
   ],
   "source": [
    " # compute the reference latitude and the area for meridional flux computations\n",
    "ds = xr.open_dataset('/gpfs/data/greenocean/software/resources/regrid/mesh_mask3_6.nc',chunks={'z':-1,'x':-1,'y':-1}).squeeze()\n",
    "lat_b = ds.gphiv # load global V-grid latitudes\n",
    "lat_b = lat_b.isel(x=slice(1,-1)) # remove colums at cyclic boundary\n",
    "ref_lat = lat_b.max(dim='x').compute() # estimate reference latitude (for the whole globe, this is also the result if one considers only ocean cells)\n",
    "area_b = (ds.e1v * ds.e3v_0)\n",
    "print(np.shape(area_b))"
   ]
  },
  {
   "cell_type": "code",
   "execution_count": 97,
   "id": "5a0979f8-ba03-4bc4-8056-99a79e0ebb9f",
   "metadata": {},
   "outputs": [
    {
     "name": "stdout",
     "output_type": "stream",
     "text": [
      "<xarray.DataArray (time_counter: 12, depthv: 31, y: 149, z: 31)>\n",
      "array([[[[ 0.00000000e+00,  0.00000000e+00,  0.00000000e+00, ...,\n",
      "           0.00000000e+00,  0.00000000e+00,  0.00000000e+00],\n",
      "         [ 4.69484686e+00,  9.38439798e+00,  1.40636693e+01, ...,\n",
      "           4.81109513e+01,  4.82047497e+01,  4.82985407e+01],\n",
      "         [ 5.98577815e+00,  1.19648044e+01,  1.79307243e+01, ...,\n",
      "           6.17654748e+01,  6.18850647e+01,  6.20046453e+01],\n",
      "         ...,\n",
      "         [ 1.69904962e+00,  4.07166646e+00,  5.80368701e+00, ...,\n",
      "           1.85563891e+01,  1.85903344e+01,  1.86242771e+01],\n",
      "         [-1.69904962e+00, -4.07166646e+00, -5.80368701e+00, ...,\n",
      "          -1.85563891e+01, -1.85903344e+01, -1.86242771e+01],\n",
      "         [-6.41860305e+00, -1.32176136e+01, -1.92857040e+01, ...,\n",
      "          -6.64137780e+01, -6.65420154e+01, -6.66702426e+01]],\n",
      "\n",
      "        [[ 0.00000000e+00,  0.00000000e+00,  0.00000000e+00, ...,\n",
      "           0.00000000e+00,  0.00000000e+00,  0.00000000e+00],\n",
      "         [ 2.82403181e+00,  5.64487815e+00,  8.45954104e+00, ...,\n",
      "           2.89873967e+01,  2.90438180e+01,  2.91002350e+01],\n",
      "         [ 5.10239906e+00,  1.01990427e+01,  1.52845142e+01, ...,\n",
      "           5.23933395e+01,  5.24952804e+01,  5.25972133e+01],\n",
      "...\n",
      "         [ 0.00000000e+00,  0.00000000e+00,  0.00000000e+00, ...,\n",
      "           0.00000000e+00,  0.00000000e+00,  0.00000000e+00],\n",
      "         [ 0.00000000e+00,  0.00000000e+00,  0.00000000e+00, ...,\n",
      "           0.00000000e+00,  0.00000000e+00,  0.00000000e+00],\n",
      "         [ 0.00000000e+00,  0.00000000e+00,  0.00000000e+00, ...,\n",
      "           0.00000000e+00,  0.00000000e+00,  0.00000000e+00]],\n",
      "\n",
      "        [[ 0.00000000e+00,  0.00000000e+00,  0.00000000e+00, ...,\n",
      "           0.00000000e+00,  0.00000000e+00,  0.00000000e+00],\n",
      "         [ 0.00000000e+00,  0.00000000e+00,  0.00000000e+00, ...,\n",
      "           0.00000000e+00,  0.00000000e+00,  0.00000000e+00],\n",
      "         [ 0.00000000e+00,  0.00000000e+00,  0.00000000e+00, ...,\n",
      "           0.00000000e+00,  0.00000000e+00,  0.00000000e+00],\n",
      "         ...,\n",
      "         [ 0.00000000e+00,  0.00000000e+00,  0.00000000e+00, ...,\n",
      "           0.00000000e+00,  0.00000000e+00,  0.00000000e+00],\n",
      "         [ 0.00000000e+00,  0.00000000e+00,  0.00000000e+00, ...,\n",
      "           0.00000000e+00,  0.00000000e+00,  0.00000000e+00],\n",
      "         [ 0.00000000e+00,  0.00000000e+00,  0.00000000e+00, ...,\n",
      "           0.00000000e+00,  0.00000000e+00,  0.00000000e+00]]]])\n",
      "Coordinates:\n",
      "  * depthv         (depthv) float32 4.999938 15.000288 ... 4749.913 5250.2266\n",
      "    time_centered  (time_counter) object 2020-01-16 12:00:00 ... 2020-12-16 1...\n",
      "  * time_counter   (time_counter) object 2020-01-16 12:00:00 ... 2020-12-16 1...\n",
      "Dimensions without coordinates: y, z\n"
     ]
    }
   ],
   "source": [
    "ds2 = xr.open_dataset('/gpfs/data/greenocean/software/runs/TOM12_DW_WE20/ORCA2_1m_20200101_20201231_grid_V.nc')\n",
    "v_b = ds2.vomecrty\n",
    "F_b = -1 * v_b * area_b / 1e6\n",
    "\n",
    "moc = F_b.sum(dim={'x'}).sortby('z', ascending=False).cumsum(dim='z').compute()\n",
    "\n",
    "print(moc)"
   ]
  },
  {
   "cell_type": "code",
   "execution_count": 93,
   "id": "2e8599c7-44a8-4fb2-925a-dc7c62d795d8",
   "metadata": {},
   "outputs": [
    {
     "name": "stdout",
     "output_type": "stream",
     "text": [
      "<xarray.DataArray 'moc' (time_counter: 12, depthv: 31, y: 149, z: 31)>\n",
      "array([[[[ 0.00000000e+00,  0.00000000e+00,  0.00000000e+00, ...,\n",
      "           0.00000000e+00,  0.00000000e+00,  0.00000000e+00],\n",
      "         [ 4.69484686e+00,  9.38439798e+00,  1.40636693e+01, ...,\n",
      "           4.81109513e+01,  4.82047497e+01,  4.82985407e+01],\n",
      "         [ 5.98577815e+00,  1.19648044e+01,  1.79307243e+01, ...,\n",
      "           6.17654748e+01,  6.18850647e+01,  6.20046453e+01],\n",
      "         ...,\n",
      "         [ 1.69904962e+00,  4.07166646e+00,  5.80368701e+00, ...,\n",
      "           1.85563891e+01,  1.85903344e+01,  1.86242771e+01],\n",
      "         [-1.69904962e+00, -4.07166646e+00, -5.80368701e+00, ...,\n",
      "          -1.85563891e+01, -1.85903344e+01, -1.86242771e+01],\n",
      "         [-6.41860305e+00, -1.32176136e+01, -1.92857040e+01, ...,\n",
      "          -6.64137780e+01, -6.65420154e+01, -6.66702426e+01]],\n",
      "\n",
      "        [[ 0.00000000e+00,  0.00000000e+00,  0.00000000e+00, ...,\n",
      "           0.00000000e+00,  0.00000000e+00,  0.00000000e+00],\n",
      "         [ 2.82403181e+00,  5.64487815e+00,  8.45954104e+00, ...,\n",
      "           2.89873967e+01,  2.90438180e+01,  2.91002350e+01],\n",
      "         [ 5.10239906e+00,  1.01990427e+01,  1.52845142e+01, ...,\n",
      "           5.23933395e+01,  5.24952804e+01,  5.25972133e+01],\n",
      "...\n",
      "         [ 0.00000000e+00,  0.00000000e+00,  0.00000000e+00, ...,\n",
      "           0.00000000e+00,  0.00000000e+00,  0.00000000e+00],\n",
      "         [ 0.00000000e+00,  0.00000000e+00,  0.00000000e+00, ...,\n",
      "           0.00000000e+00,  0.00000000e+00,  0.00000000e+00],\n",
      "         [ 0.00000000e+00,  0.00000000e+00,  0.00000000e+00, ...,\n",
      "           0.00000000e+00,  0.00000000e+00,  0.00000000e+00]],\n",
      "\n",
      "        [[ 0.00000000e+00,  0.00000000e+00,  0.00000000e+00, ...,\n",
      "           0.00000000e+00,  0.00000000e+00,  0.00000000e+00],\n",
      "         [ 0.00000000e+00,  0.00000000e+00,  0.00000000e+00, ...,\n",
      "           0.00000000e+00,  0.00000000e+00,  0.00000000e+00],\n",
      "         [ 0.00000000e+00,  0.00000000e+00,  0.00000000e+00, ...,\n",
      "           0.00000000e+00,  0.00000000e+00,  0.00000000e+00],\n",
      "         ...,\n",
      "         [ 0.00000000e+00,  0.00000000e+00,  0.00000000e+00, ...,\n",
      "           0.00000000e+00,  0.00000000e+00,  0.00000000e+00],\n",
      "         [ 0.00000000e+00,  0.00000000e+00,  0.00000000e+00, ...,\n",
      "           0.00000000e+00,  0.00000000e+00,  0.00000000e+00],\n",
      "         [ 0.00000000e+00,  0.00000000e+00,  0.00000000e+00, ...,\n",
      "           0.00000000e+00,  0.00000000e+00,  0.00000000e+00]]]])\n",
      "Coordinates:\n",
      "  * depthv         (depthv) float32 4.999938 15.000288 ... 4749.913 5250.2266\n",
      "    time_centered  (time_counter) object 2020-01-16 12:00:00 ... 2020-12-16 1...\n",
      "  * time_counter   (time_counter) object 2020-01-16 12:00:00 ... 2020-12-16 1...\n",
      "  * y              (y) float32 -77.98417 -77.56062 ... 89.4608 88.78615\n",
      "Dimensions without coordinates: z\n"
     ]
    }
   ],
   "source": [
    "moc = moc.rename('moc')\n",
    "moc = moc.assign_coords({'y':ref_lat.values})\n",
    "print(moc)"
   ]
  },
  {
   "cell_type": "code",
   "execution_count": 96,
   "id": "fda1172b-7a74-426e-a5f2-0eacbcceb987",
   "metadata": {},
   "outputs": [
    {
     "ename": "ValueError",
     "evalue": "too many values to unpack (expected 2)",
     "output_type": "error",
     "traceback": [
      "\u001b[0;31m---------------------------------------------------------------------------\u001b[0m",
      "\u001b[0;31mValueError\u001b[0m                                Traceback (most recent call last)",
      "\u001b[0;32m/tmp/ipykernel_31854/1410716063.py\u001b[0m in \u001b[0;36m<module>\u001b[0;34m\u001b[0m\n\u001b[1;32m      1\u001b[0m \u001b[0mvertvar\u001b[0m \u001b[0;34m=\u001b[0m \u001b[0mmoc\u001b[0m\u001b[0;34m.\u001b[0m\u001b[0mz\u001b[0m\u001b[0;34m\u001b[0m\u001b[0;34m\u001b[0m\u001b[0m\n\u001b[0;32m----> 2\u001b[0;31m \u001b[0mcp\u001b[0m \u001b[0;34m=\u001b[0m \u001b[0mplt\u001b[0m\u001b[0;34m.\u001b[0m\u001b[0mpcolormesh\u001b[0m\u001b[0;34m(\u001b[0m\u001b[0mref_lat\u001b[0m\u001b[0;34m,\u001b[0m\u001b[0mvertvar\u001b[0m\u001b[0;34m,\u001b[0m\u001b[0mmoc\u001b[0m\u001b[0;34m,\u001b[0m\u001b[0mvmin\u001b[0m\u001b[0;34m=\u001b[0m\u001b[0;34m-\u001b[0m\u001b[0;36m40\u001b[0m\u001b[0;34m,\u001b[0m\u001b[0mvmax\u001b[0m\u001b[0;34m=\u001b[0m\u001b[0;36m40\u001b[0m\u001b[0;34m,\u001b[0m\u001b[0mcmap\u001b[0m\u001b[0;34m=\u001b[0m\u001b[0mcm\u001b[0m\u001b[0;34m.\u001b[0m\u001b[0mbalance\u001b[0m\u001b[0;34m)\u001b[0m\u001b[0;34m\u001b[0m\u001b[0;34m\u001b[0m\u001b[0m\n\u001b[0m\u001b[1;32m      3\u001b[0m \u001b[0;34m\u001b[0m\u001b[0m\n\u001b[1;32m      4\u001b[0m \u001b[0mplt\u001b[0m\u001b[0;34m.\u001b[0m\u001b[0mylabel\u001b[0m\u001b[0;34m(\u001b[0m\u001b[0;34m'depth [m]'\u001b[0m\u001b[0;34m,\u001b[0m\u001b[0mfontsize\u001b[0m\u001b[0;34m=\u001b[0m\u001b[0;36m15\u001b[0m\u001b[0;34m)\u001b[0m\u001b[0;34m\u001b[0m\u001b[0;34m\u001b[0m\u001b[0m\n\u001b[1;32m      5\u001b[0m \u001b[0mplt\u001b[0m\u001b[0;34m.\u001b[0m\u001b[0mcontour\u001b[0m\u001b[0;34m(\u001b[0m\u001b[0mref_lat\u001b[0m\u001b[0;34m,\u001b[0m\u001b[0mvertvar\u001b[0m\u001b[0;34m,\u001b[0m\u001b[0mmoc\u001b[0m\u001b[0;34m,\u001b[0m\u001b[0mplotvec\u001b[0m\u001b[0;34m,\u001b[0m\u001b[0mcolors\u001b[0m\u001b[0;34m=\u001b[0m\u001b[0;34m'k'\u001b[0m\u001b[0;34m)\u001b[0m\u001b[0;34m\u001b[0m\u001b[0;34m\u001b[0m\u001b[0m\n",
      "\u001b[0;32m~/.conda/envs/swampenv/lib/python3.7/site-packages/matplotlib/pyplot.py\u001b[0m in \u001b[0;36mpcolormesh\u001b[0;34m(alpha, norm, cmap, vmin, vmax, shading, antialiased, data, *args, **kwargs)\u001b[0m\n\u001b[1;32m   2719\u001b[0m         \u001b[0;34m*\u001b[0m\u001b[0margs\u001b[0m\u001b[0;34m,\u001b[0m \u001b[0malpha\u001b[0m\u001b[0;34m=\u001b[0m\u001b[0malpha\u001b[0m\u001b[0;34m,\u001b[0m \u001b[0mnorm\u001b[0m\u001b[0;34m=\u001b[0m\u001b[0mnorm\u001b[0m\u001b[0;34m,\u001b[0m \u001b[0mcmap\u001b[0m\u001b[0;34m=\u001b[0m\u001b[0mcmap\u001b[0m\u001b[0;34m,\u001b[0m \u001b[0mvmin\u001b[0m\u001b[0;34m=\u001b[0m\u001b[0mvmin\u001b[0m\u001b[0;34m,\u001b[0m\u001b[0;34m\u001b[0m\u001b[0;34m\u001b[0m\u001b[0m\n\u001b[1;32m   2720\u001b[0m         \u001b[0mvmax\u001b[0m\u001b[0;34m=\u001b[0m\u001b[0mvmax\u001b[0m\u001b[0;34m,\u001b[0m \u001b[0mshading\u001b[0m\u001b[0;34m=\u001b[0m\u001b[0mshading\u001b[0m\u001b[0;34m,\u001b[0m \u001b[0mantialiased\u001b[0m\u001b[0;34m=\u001b[0m\u001b[0mantialiased\u001b[0m\u001b[0;34m,\u001b[0m\u001b[0;34m\u001b[0m\u001b[0;34m\u001b[0m\u001b[0m\n\u001b[0;32m-> 2721\u001b[0;31m         **({\"data\": data} if data is not None else {}), **kwargs)\n\u001b[0m\u001b[1;32m   2722\u001b[0m     \u001b[0msci\u001b[0m\u001b[0;34m(\u001b[0m\u001b[0m__ret\u001b[0m\u001b[0;34m)\u001b[0m\u001b[0;34m\u001b[0m\u001b[0;34m\u001b[0m\u001b[0m\n\u001b[1;32m   2723\u001b[0m     \u001b[0;32mreturn\u001b[0m \u001b[0m__ret\u001b[0m\u001b[0;34m\u001b[0m\u001b[0;34m\u001b[0m\u001b[0m\n",
      "\u001b[0;32m~/.conda/envs/swampenv/lib/python3.7/site-packages/matplotlib/__init__.py\u001b[0m in \u001b[0;36minner\u001b[0;34m(ax, data, *args, **kwargs)\u001b[0m\n\u001b[1;32m   1410\u001b[0m     \u001b[0;32mdef\u001b[0m \u001b[0minner\u001b[0m\u001b[0;34m(\u001b[0m\u001b[0max\u001b[0m\u001b[0;34m,\u001b[0m \u001b[0;34m*\u001b[0m\u001b[0margs\u001b[0m\u001b[0;34m,\u001b[0m \u001b[0mdata\u001b[0m\u001b[0;34m=\u001b[0m\u001b[0;32mNone\u001b[0m\u001b[0;34m,\u001b[0m \u001b[0;34m**\u001b[0m\u001b[0mkwargs\u001b[0m\u001b[0;34m)\u001b[0m\u001b[0;34m:\u001b[0m\u001b[0;34m\u001b[0m\u001b[0;34m\u001b[0m\u001b[0m\n\u001b[1;32m   1411\u001b[0m         \u001b[0;32mif\u001b[0m \u001b[0mdata\u001b[0m \u001b[0;32mis\u001b[0m \u001b[0;32mNone\u001b[0m\u001b[0;34m:\u001b[0m\u001b[0;34m\u001b[0m\u001b[0;34m\u001b[0m\u001b[0m\n\u001b[0;32m-> 1412\u001b[0;31m             \u001b[0;32mreturn\u001b[0m \u001b[0mfunc\u001b[0m\u001b[0;34m(\u001b[0m\u001b[0max\u001b[0m\u001b[0;34m,\u001b[0m \u001b[0;34m*\u001b[0m\u001b[0mmap\u001b[0m\u001b[0;34m(\u001b[0m\u001b[0msanitize_sequence\u001b[0m\u001b[0;34m,\u001b[0m \u001b[0margs\u001b[0m\u001b[0;34m)\u001b[0m\u001b[0;34m,\u001b[0m \u001b[0;34m**\u001b[0m\u001b[0mkwargs\u001b[0m\u001b[0;34m)\u001b[0m\u001b[0;34m\u001b[0m\u001b[0;34m\u001b[0m\u001b[0m\n\u001b[0m\u001b[1;32m   1413\u001b[0m \u001b[0;34m\u001b[0m\u001b[0m\n\u001b[1;32m   1414\u001b[0m         \u001b[0mbound\u001b[0m \u001b[0;34m=\u001b[0m \u001b[0mnew_sig\u001b[0m\u001b[0;34m.\u001b[0m\u001b[0mbind\u001b[0m\u001b[0;34m(\u001b[0m\u001b[0max\u001b[0m\u001b[0;34m,\u001b[0m \u001b[0;34m*\u001b[0m\u001b[0margs\u001b[0m\u001b[0;34m,\u001b[0m \u001b[0;34m**\u001b[0m\u001b[0mkwargs\u001b[0m\u001b[0;34m)\u001b[0m\u001b[0;34m\u001b[0m\u001b[0;34m\u001b[0m\u001b[0m\n",
      "\u001b[0;32m~/.conda/envs/swampenv/lib/python3.7/site-packages/matplotlib/axes/_axes.py\u001b[0m in \u001b[0;36mpcolormesh\u001b[0;34m(self, alpha, norm, cmap, vmin, vmax, shading, antialiased, *args, **kwargs)\u001b[0m\n\u001b[1;32m   6061\u001b[0m \u001b[0;34m\u001b[0m\u001b[0m\n\u001b[1;32m   6062\u001b[0m         X, Y, C, shading = self._pcolorargs('pcolormesh', *args,\n\u001b[0;32m-> 6063\u001b[0;31m                                             shading=shading, kwargs=kwargs)\n\u001b[0m\u001b[1;32m   6064\u001b[0m         \u001b[0mcoords\u001b[0m \u001b[0;34m=\u001b[0m \u001b[0mnp\u001b[0m\u001b[0;34m.\u001b[0m\u001b[0mstack\u001b[0m\u001b[0;34m(\u001b[0m\u001b[0;34m[\u001b[0m\u001b[0mX\u001b[0m\u001b[0;34m,\u001b[0m \u001b[0mY\u001b[0m\u001b[0;34m]\u001b[0m\u001b[0;34m,\u001b[0m \u001b[0maxis\u001b[0m\u001b[0;34m=\u001b[0m\u001b[0;34m-\u001b[0m\u001b[0;36m1\u001b[0m\u001b[0;34m)\u001b[0m\u001b[0;34m\u001b[0m\u001b[0;34m\u001b[0m\u001b[0m\n\u001b[1;32m   6065\u001b[0m         \u001b[0;31m# convert to one dimensional array\u001b[0m\u001b[0;34m\u001b[0m\u001b[0;34m\u001b[0m\u001b[0;34m\u001b[0m\u001b[0m\n",
      "\u001b[0;32m~/.conda/envs/swampenv/lib/python3.7/site-packages/matplotlib/axes/_axes.py\u001b[0m in \u001b[0;36m_pcolorargs\u001b[0;34m(self, funcname, shading, *args, **kwargs)\u001b[0m\n\u001b[1;32m   5548\u001b[0m                 \u001b[0;32mif\u001b[0m \u001b[0misinstance\u001b[0m\u001b[0;34m(\u001b[0m\u001b[0mY\u001b[0m\u001b[0;34m,\u001b[0m \u001b[0mnp\u001b[0m\u001b[0;34m.\u001b[0m\u001b[0mma\u001b[0m\u001b[0;34m.\u001b[0m\u001b[0mcore\u001b[0m\u001b[0;34m.\u001b[0m\u001b[0mMaskedArray\u001b[0m\u001b[0;34m)\u001b[0m\u001b[0;34m:\u001b[0m\u001b[0;34m\u001b[0m\u001b[0;34m\u001b[0m\u001b[0m\n\u001b[1;32m   5549\u001b[0m                     \u001b[0mY\u001b[0m \u001b[0;34m=\u001b[0m \u001b[0mY\u001b[0m\u001b[0;34m.\u001b[0m\u001b[0mdata\u001b[0m\u001b[0;34m\u001b[0m\u001b[0;34m\u001b[0m\u001b[0m\n\u001b[0;32m-> 5550\u001b[0;31m             \u001b[0mnrows\u001b[0m\u001b[0;34m,\u001b[0m \u001b[0mncols\u001b[0m \u001b[0;34m=\u001b[0m \u001b[0mC\u001b[0m\u001b[0;34m.\u001b[0m\u001b[0mshape\u001b[0m\u001b[0;34m\u001b[0m\u001b[0;34m\u001b[0m\u001b[0m\n\u001b[0m\u001b[1;32m   5551\u001b[0m         \u001b[0;32melse\u001b[0m\u001b[0;34m:\u001b[0m\u001b[0;34m\u001b[0m\u001b[0;34m\u001b[0m\u001b[0m\n\u001b[1;32m   5552\u001b[0m             raise TypeError(f'{funcname}() takes 1 or 3 positional arguments '\n",
      "\u001b[0;31mValueError\u001b[0m: too many values to unpack (expected 2)"
     ]
    },
    {
     "data": {
      "image/png": "[encoded data removed]",
      "text/plain": [
       "<Figure size 432x288 with 1 Axes>"
      ]
     },
     "metadata": {
      "needs_background": "light"
     },
     "output_type": "display_data"
    }
   ],
   "source": [
    "vertvar = moc.z\n",
    "cp = plt.pcolormesh(ref_lat,vertvar,moc,vmin=-40,vmax=40,cmap=cm.balance)\n",
    "\n",
    "plt.ylabel('depth [m]',fontsize=15)\n",
    "plt.contour(ref_lat,vertvar,moc,plotvec,colors='k')\n",
    "\n",
    "cbar = plt.colorbar(cp,extend = 'both')\n",
    "cbar.ax.tick_params(labelsize=15)\n",
    "cbar.set_label(aipg_moc + ' [Sv]',fontsize=15)\n",
    "plt.gca().invert_yaxis()\n",
    "\n",
    "plt.xlabel('latitude [°]',fontsize=15)\n",
    "plt.xticks(fontsize=15)\n",
    "plt.yticks(fontsize=15)\n",
    "plt.grid()"
   ]
  },
  {
   "cell_type": "code",
   "execution_count": null,
   "id": "efc01577-100a-49e1-9bfa-57da28b4d840",
   "metadata": {},
   "outputs": [],
   "source": []
  }
 ],
 "metadata": {
  "kernelspec": {
   "display_name": "Python 3 (ipykernel)",
   "language": "python",
   "name": "python3"
  },
  "language_info": {
   "codemirror_mode": {
    "name": "ipython",
    "version": 3
   },
   "file_extension": ".py",
   "mimetype": "text/x-python",
   "name": "python",
   "nbconvert_exporter": "python",
   "pygments_lexer": "ipython3",
   "version": "3.7.11"
  }
 },
 "nbformat": 4,
 "nbformat_minor": 5
}

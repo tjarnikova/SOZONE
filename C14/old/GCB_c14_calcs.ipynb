{
 "cells": [
  {
   "cell_type": "markdown",
   "id": "3f8bd87b",
   "metadata": {},
   "source": [
    "### aim: \n",
    "\n",
    "### date: "
   ]
  },
  {
   "cell_type": "code",
   "execution_count": 2,
   "id": "8012f094",
   "metadata": {},
   "outputs": [
    {
     "data": {
      "text/html": [
       "<script>\n",
       "code_show=true; \n",
       "function code_toggle() {\n",
       " if (code_show){\n",
       " $('div.input').hide();\n",
       " } else {\n",
       " $('div.input').show();\n",
       " }\n",
       " code_show = !code_show\n",
       "} \n",
       "$( document ).ready(code_toggle);\n",
       "</script>\n",
       "<form action=\"javascript:code_toggle()\"><input type=\"submit\" value=\"Click here to toggle on/off the raw code.\"></form>"
      ],
      "text/plain": [
       "<IPython.core.display.HTML object>"
      ]
     },
     "execution_count": 2,
     "metadata": {},
     "output_type": "execute_result"
    }
   ],
   "source": [
    "from IPython.display import HTML\n",
    "\n",
    "HTML('''<script>\n",
    "code_show=true; \n",
    "function code_toggle() {\n",
    " if (code_show){\n",
    " $('div.input').hide();\n",
    " } else {\n",
    " $('div.input').show();\n",
    " }\n",
    " code_show = !code_show\n",
    "} \n",
    "$( document ).ready(code_toggle);\n",
    "</script>\n",
    "<form action=\"javascript:code_toggle()\"><input type=\"submit\" value=\"Click here to toggle on/off the raw code.\"></form>''')\n"
   ]
  },
  {
   "cell_type": "code",
   "execution_count": 3,
   "id": "c99f764a",
   "metadata": {},
   "outputs": [
    {
     "name": "stdout",
     "output_type": "stream",
     "text": [
      "Once deleted, variables cannot be recovered. Proceed (y/[n])? y\n"
     ]
    }
   ],
   "source": [
    "%reset"
   ]
  },
  {
   "cell_type": "code",
   "execution_count": 4,
   "id": "7ba928a5",
   "metadata": {},
   "outputs": [],
   "source": [
    "import numpy as np\n",
    "from cmocean import cm\n",
    "import cartopy as cp\n",
    "import cartopy.crs as ccrs\n",
    "import netCDF4 as nc\n",
    "import matplotlib.pyplot as plt\n",
    "import xarray as xr\n",
    "import sys\n",
    "sys.path.append('/gpfs/home/mep22dku/scratch/SOZONE')\n",
    "#list of models\n",
    "sys.path.append('/gpfs/home/mep22dku/scratch/SOZONE/UTILS')\n",
    "import lom\n",
    "import utils as ut\n",
    "\n",
    "%matplotlib inline\n",
    "import warnings\n",
    "from datetime import datetime\n",
    "warnings.filterwarnings('ignore')\n",
    "import cartopy.feature as cfeature\n",
    "from importlib import reload\n",
    "import matplotlib.path as mpath\n",
    "import glob\n",
    "import pickle\n",
    "import pandas as pd\n",
    "import seawater\n",
    "import time\n",
    "plt.rcParams.update({'font.size': 12})\n",
    "font = {'family' : 'normal',\n",
    "'weight' : 'normal',\n",
    "'size'   : 12}\n",
    "\n",
    "plt.rc('font', **font)"
   ]
  },
  {
   "cell_type": "markdown",
   "id": "020db104",
   "metadata": {},
   "source": [
    "## concatenate ptrc and diad variables - in concatenate_c14.py"
   ]
  },
  {
   "cell_type": "code",
   "execution_count": 5,
   "id": "d4368b1c",
   "metadata": {},
   "outputs": [],
   "source": [
    "tmesh = xr.open_dataset('/gpfs/data/greenocean/software/resources/regrid/mesh_mask3_6.nc')\n",
    "tmesh['csize'] = tmesh.tmask[0,0,:,:] * tmesh.e1t[0,:,:] * tmesh.e2t[0,:,:]"
   ]
  },
  {
   "cell_type": "code",
   "execution_count": 27,
   "id": "0664038b",
   "metadata": {},
   "outputs": [
    {
     "data": {
      "text/plain": [
       "KeysView(<xarray.Dataset>\n",
       "Dimensions:               (axis_nbounds: 2, deptht: 31, time_counter: 540, x: 182, y: 149)\n",
       "Coordinates:\n",
       "    nav_lat               (y, x) float32 ...\n",
       "    nav_lon               (y, x) float32 ...\n",
       "  * deptht                (deptht) float32 4.999938 15.000288 ... 5250.2266\n",
       "    time_centered         (time_counter) object ...\n",
       "  * time_counter          (time_counter) object 1959-01-16 12:00:00 ... 2003-...\n",
       "Dimensions without coordinates: axis_nbounds, x, y\n",
       "Data variables:\n",
       "    deptht_bounds         (time_counter, deptht, axis_nbounds) float32 ...\n",
       "    time_centered_bounds  (time_counter, axis_nbounds) object ...\n",
       "    time_counter_bounds   (time_counter, axis_nbounds) object ...\n",
       "    B14B                  (time_counter, deptht, y, x) float32 ...\n",
       "    C14B                  (time_counter, deptht, y, x) float32 ...\n",
       "    D14B                  (time_counter, deptht, y, x) float32 ...\n",
       "Attributes:\n",
       "    name:         ORCA2_1m_19590101_19591231\n",
       "    description:  planktom sms variables\n",
       "    title:        planktom sms variables\n",
       "    Conventions:  CF-1.5\n",
       "    production:   An IPSL model\n",
       "    timeStamp:    2023-Jun-17 03:52:20 BST)"
      ]
     },
     "execution_count": 27,
     "metadata": {},
     "output_type": "execute_result"
    }
   ],
   "source": [
    "GEA0 = xr.open_dataset('/gpfs/data/greenocean/software/runs/TOM12_TJ_GEA0/C14-ptrc-1959-2003.nc')\n",
    "GEA0.keys()"
   ]
  },
  {
   "cell_type": "code",
   "execution_count": 1,
   "id": "dc8776f8",
   "metadata": {},
   "outputs": [],
   "source": [
    "extract = False\n",
    "if extract: # put in extract-c14.py\n",
    "    tmesh = xr.open_dataset('/gpfs/data/greenocean/software/resources/regrid/mesh_mask3_6.nc')\n",
    "    tmesh['csize'] = tmesh.tmask[0,0,:,:] * tmesh.e1t[0,:,:] * tmesh.e2t[0,:,:]\n",
    "    print('GEA0')\n",
    "    GEA0 = xr.open_dataset('/gpfs/data/greenocean/software/runs/TOM12_TJ_GEA0/C14-ptrc-1959-2003.nc')\n",
    "    GEA0_B14B = GEA0['B14B'].weighted(tmesh['csize']).mean(dim = ['x','y'])\n",
    "    GEA0_C14B = GEA0['C14B'].weighted(tmesh['csize']).mean(dim = ['x','y'])\n",
    "    print('GEA0')\n",
    "    GEB0 = xr.open_dataset('/gpfs/data/greenocean/software/runs/TOM12_TJ_GEB0/C14-ptrc-1959-2003.nc')\n",
    "    GEB0_B14B = GEB0['B14B'].weighted(tmesh['csize']).mean(dim = ['x','y'])\n",
    "    GEB0_C14B = GEB0['C14B'].weighted(tmesh['csize']).mean(dim = ['x','y'])\n",
    "    print('GEA0')\n",
    "    GEC0 = xr.open_dataset('/gpfs/data/greenocean/software/runs/TOM12_TJ_GEC0/C14-ptrc-1959-2003.nc')\n",
    "    GEC0_B14B = GEC0['B14B'].weighted(tmesh['csize']).mean(dim = ['x','y'])\n",
    "    GEC0_C14B = GEC0['C14B'].weighted(tmesh['csize']).mean(dim = ['x','y'])\n",
    "    print('GEA0')\n",
    "    GED0 = xr.open_dataset('/gpfs/data/greenocean/software/runs/TOM12_TJ_GED0/C14-ptrc-1959-2003.nc')\n",
    "    GED0_B14B = GED0['B14B'].weighted(tmesh['csize']).mean(dim = ['x','y'])\n",
    "    GED0_C14B = GED0['C14B'].weighted(tmesh['csize']).mean(dim = ['x','y'])\n",
    "\n",
    "    GEA0_B14B.to_netcdf('./extracted/GEA0_B14B.nc')\n",
    "    GEA0_C14B.to_netcdf('./extracted/GEA0_C14B.nc')\n",
    "    GEB0_B14B.to_netcdf('./extracted/GEB0_B14B.nc')\n",
    "    GEB0_C14B.to_netcdf('./extracted/GEB0_C14B.nc')\n",
    "    GEC0_B14B.to_netcdf('./extracted/GEC0_B14B.nc')\n",
    "    GEC0_C14B.to_netcdf('./extracted/GEC0_C14B.nc')\n",
    "    GED0_B14B.to_netcdf('./extracted/GED0_B14B.nc')\n",
    "    GED0_C14B.to_netcdf('./extracted/GED0_C14B.nc')"
   ]
  },
  {
   "cell_type": "code",
   "execution_count": 26,
   "id": "cbbef99c",
   "metadata": {},
   "outputs": [
    {
     "data": {
      "text/plain": [
       "[<matplotlib.lines.Line2D at 0x2ba5bb5d6d10>]"
      ]
     },
     "execution_count": 26,
     "metadata": {},
     "output_type": "execute_result"
    },
    {
     "data": {
      "image/png": "[encoded data removed]",
      "text/plain": [
       "<Figure size 432x288 with 1 Axes>"
      ]
     },
     "metadata": {
      "needs_background": "light"
     },
     "output_type": "display_data"
    }
   ],
   "source": [
    "GEA0_B14B = xr.open_dataset('./extracted/GEA0_B14B.nc')\n",
    "GEA0_C14B = xr.open_dataset('./extracted/GEA0_C14B.nc')\n",
    "GEB0_B14B = xr.open_dataset('./extracted/GEB0_B14B.nc')\n",
    "GEB0_C14B = xr.open_dataset('./extracted/GEB0_C14B.nc')\n",
    "GEC0_B14B = xr.open_dataset('./extracted/GEC0_B14B.nc')\n",
    "GEC0_C14B = xr.open_dataset('./extracted/GEC0_C14B.nc')\n",
    "GED0_B14B = xr.open_dataset('./extracted/GED0_B14B.nc')\n",
    "GED0_C14B = xr.open_dataset('./extracted/GED0_C14B.nc')\n",
    "\n",
    "\n",
    "fact = 1.1\n",
    "fig, axs = plt.subplots(1,2, figsize=(14*fact, 5*fact), facecolor='w', edgecolor='k')\n",
    "axs = axs.ravel()\n",
    "\n",
    "ttim = GED0_B14B.indexes['time_counter'].to_datetimeindex()\n",
    "\n",
    "axs[0].plot(ttim,'GED0_B14B', label = 'GCB 2023 - D')\n",
    "axs[0].plot(ttim,'GEC0_B14B', label = 'GCB 2023 - C')\n",
    "axs[0].plot(ttim,'GEB0_B14B', label = 'GCB 2023 - B')\n",
    "axs[0].plot(ttim,'GEA0_B14B', label = 'GCB 2023 - A')\n",
    "\n",
    "axs[1].plot(ttim,'GED0_C14B', label = 'GCB 2023 - D')\n",
    "axs[1].plot(ttim,'GEC0_C14B', label = 'GCB 2023 - C')\n",
    "axs[1].plot(ttim,'GEB0_C14B', label = 'GCB 2023 - B')\n",
    "axs[1].plot(ttim,'GEA0_C14B', label = 'GCB 2023 - A')"
   ]
  },
  {
   "cell_type": "code",
   "execution_count": 21,
   "id": "7aebb830",
   "metadata": {},
   "outputs": [
    {
     "ename": "TypeError",
     "evalue": "only size-1 arrays can be converted to Python scalars",
     "output_type": "error",
     "traceback": [
      "\u001b[0;31m---------------------------------------------------------------------------\u001b[0m",
      "\u001b[0;31mTypeError\u001b[0m                                 Traceback (most recent call last)",
      "\u001b[0;32m/tmp/ipykernel_55471/709040152.py\u001b[0m in \u001b[0;36m<module>\u001b[0;34m\u001b[0m\n\u001b[1;32m      1\u001b[0m \u001b[0;32mfrom\u001b[0m \u001b[0mdatetime\u001b[0m \u001b[0;32mimport\u001b[0m \u001b[0mdatetime\u001b[0m\u001b[0;34m\u001b[0m\u001b[0;34m\u001b[0m\u001b[0m\n\u001b[1;32m      2\u001b[0m \u001b[0;34m\u001b[0m\u001b[0m\n\u001b[0;32m----> 3\u001b[0;31m \u001b[0mtdate\u001b[0m \u001b[0;34m=\u001b[0m \u001b[0mdatetime\u001b[0m\u001b[0;34m(\u001b[0m\u001b[0mtom_fg\u001b[0m\u001b[0;34m.\u001b[0m\u001b[0mtime_counter\u001b[0m\u001b[0;34m)\u001b[0m\u001b[0;34m\u001b[0m\u001b[0;34m\u001b[0m\u001b[0m\n\u001b[0m",
      "\u001b[0;32m~/.conda/envs/swamp2/lib/python3.7/site-packages/xarray/core/common.py\u001b[0m in \u001b[0;36m__int__\u001b[0;34m(self)\u001b[0m\n\u001b[1;32m    123\u001b[0m \u001b[0;34m\u001b[0m\u001b[0m\n\u001b[1;32m    124\u001b[0m     \u001b[0;32mdef\u001b[0m \u001b[0m__int__\u001b[0m\u001b[0;34m(\u001b[0m\u001b[0mself\u001b[0m\u001b[0;34m:\u001b[0m \u001b[0mAny\u001b[0m\u001b[0;34m)\u001b[0m \u001b[0;34m->\u001b[0m \u001b[0mint\u001b[0m\u001b[0;34m:\u001b[0m\u001b[0;34m\u001b[0m\u001b[0;34m\u001b[0m\u001b[0m\n\u001b[0;32m--> 125\u001b[0;31m         \u001b[0;32mreturn\u001b[0m \u001b[0mint\u001b[0m\u001b[0;34m(\u001b[0m\u001b[0mself\u001b[0m\u001b[0;34m.\u001b[0m\u001b[0mvalues\u001b[0m\u001b[0;34m)\u001b[0m\u001b[0;34m\u001b[0m\u001b[0;34m\u001b[0m\u001b[0m\n\u001b[0m\u001b[1;32m    126\u001b[0m \u001b[0;34m\u001b[0m\u001b[0m\n\u001b[1;32m    127\u001b[0m     \u001b[0;32mdef\u001b[0m \u001b[0m__complex__\u001b[0m\u001b[0;34m(\u001b[0m\u001b[0mself\u001b[0m\u001b[0;34m:\u001b[0m \u001b[0mAny\u001b[0m\u001b[0;34m)\u001b[0m \u001b[0;34m->\u001b[0m \u001b[0mcomplex\u001b[0m\u001b[0;34m:\u001b[0m\u001b[0;34m\u001b[0m\u001b[0;34m\u001b[0m\u001b[0m\n",
      "\u001b[0;31mTypeError\u001b[0m: only size-1 arrays can be converted to Python scalars"
     ]
    }
   ],
   "source": [
    "from datetime import datetime\n",
    "\n",
    "tdate = datetime(tom_fg.time_counter)"
   ]
  },
  {
   "cell_type": "code",
   "execution_count": 23,
   "id": "994932d9",
   "metadata": {},
   "outputs": [
    {
     "data": {
      "text/plain": [
       "DatetimeIndex(['1959-01-16 12:00:00', '1959-02-15 00:00:00',\n",
       "               '1959-03-16 12:00:00', '1959-04-16 00:00:00',\n",
       "               '1959-05-16 12:00:00', '1959-06-16 00:00:00',\n",
       "               '1959-07-16 12:00:00', '1959-08-16 12:00:00',\n",
       "               '1959-09-16 00:00:00', '1959-10-16 12:00:00',\n",
       "               ...\n",
       "               '2003-03-16 12:00:00', '2003-04-16 00:00:00',\n",
       "               '2003-05-16 12:00:00', '2003-06-16 00:00:00',\n",
       "               '2003-07-16 12:00:00', '2003-08-16 12:00:00',\n",
       "               '2003-09-16 00:00:00', '2003-10-16 12:00:00',\n",
       "               '2003-11-16 00:00:00', '2003-12-16 12:00:00'],\n",
       "              dtype='datetime64[ns]', length=540, freq=None)"
      ]
     },
     "execution_count": 23,
     "metadata": {},
     "output_type": "execute_result"
    }
   ],
   "source": []
  },
  {
   "cell_type": "code",
   "execution_count": null,
   "id": "a99b1211",
   "metadata": {},
   "outputs": [],
   "source": []
  }
 ],
 "metadata": {
  "kernelspec": {
   "display_name": "Python 3 (ipykernel)",
   "language": "python",
   "name": "python3"
  },
  "language_info": {
   "codemirror_mode": {
    "name": "ipython",
    "version": 3
   },
   "file_extension": ".py",
   "mimetype": "text/x-python",
   "name": "python",
   "nbconvert_exporter": "python",
   "pygments_lexer": "ipython3",
   "version": "3.7.11"
  }
 },
 "nbformat": 4,
 "nbformat_minor": 5
}

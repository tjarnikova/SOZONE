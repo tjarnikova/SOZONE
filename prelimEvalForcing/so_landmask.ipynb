{
 "cells": [
  {
   "cell_type": "markdown",
   "id": "46bc9168-7597-4050-a87b-a1c8462fcfba",
   "metadata": {},
   "source": [
    "# Landmask"
   ]
  },
  {
   "cell_type": "code",
   "execution_count": 1,
   "id": "547ce774-7d0a-47d9-94f1-6bc847be5061",
   "metadata": {},
   "outputs": [],
   "source": [
    "import numpy as np\n",
    "from cmocean import cm\n",
    "import cartopy as cp\n",
    "import cartopy.crs as ccrs\n",
    "import netCDF4 as nc\n",
    "import matplotlib.pyplot as plt\n",
    "import xarray as xr\n",
    "import sys\n",
    "sys.path.append('/gpfs/home/mep22dku/scratch/SOZONE/UTILS')\n",
    "# import mapfxn as mf\n",
    "%matplotlib inline\n",
    "import warnings\n",
    "warnings.filterwarnings('ignore')\n",
    "import cartopy.feature as cfeature\n",
    "from importlib import reload\n",
    "# reload(mf)\n"
   ]
  },
  {
   "cell_type": "markdown",
   "id": "a8c8a9c5-6ca9-46c8-8d56-4386c9edf87a",
   "metadata": {},
   "source": [
    "#### masks of different regions 2 is atl, 3 is ind, 4 is pac, 1 is land, using the ORCA grid"
   ]
  },
  {
   "cell_type": "code",
   "execution_count": 2,
   "id": "5b2111f9-43a9-42a3-a455-2d61b2279fb3",
   "metadata": {},
   "outputs": [],
   "source": [
    "basin= nc.Dataset('/gpfs/home/e415/data/masks/basin_masks.nc')\n",
    "basin = nc.Dataset('/gpfs/data/greenocean/software/resources/ModelResources/BasinMasks/clq_basin_masks_ORCA.nc')\n",
    "\n",
    "nav_lat = basin['Y'][:]\n",
    "nav_lon = basin['X'][:]\n",
    "\n",
    "\n",
    "ATL = basin['ATL'][:,:]; \n",
    "PAC = basin['PAC'][:,:]; IND = basin['IND'][:,:]\n",
    "SO = basin['SO'][:,:]; ARCTIC = basin['ARCTIC'][:,:]; P1 = basin['P1'][:,:]\n",
    "P2 = basin['P2'][:,:]; P3 = basin['P3'][:,:]; P4 = basin['P4'][:,:]\n",
    "P5 = basin['P5'][:,:]; A1 = basin['A1'][:,:]; A2 = basin['A2'][:,:]\n",
    "A3 = basin['A3'][:,:]; A4 = basin['A4'][:,:]; A5 = basin['A5'][:,:]\n",
    "I3 = basin['I3'][:,:]; I4 = basin['I4'][:,:]; I5 = basin['I5'][:,:]\n",
    "\n",
    "msks = [ATL, PAC, IND, SO, ARCTIC, P1, P2, P3, P4, P5, A1, A2, A3, A4, A5, I3, I4, I5]\n",
    "titles = ['ATL', 'PAC', 'IND', 'SO', 'ARCTIC', 'P1', 'P2', 'P3',\n",
    "          'P4', 'P5', 'A1', 'A2', 'A3', 'A4', 'A5', 'I3', 'I4', 'I5']"
   ]
  },
  {
   "cell_type": "code",
   "execution_count": 3,
   "id": "42f7244a-27c9-4483-994b-ba2569bad01f",
   "metadata": {},
   "outputs": [
    {
     "data": {
      "text/plain": [
       "<matplotlib.collections.QuadMesh at 0x2b1621a23f90>"
      ]
     },
     "execution_count": 3,
     "metadata": {},
     "output_type": "execute_result"
    },
    {
     "data": {
      "image/png": "[encoded data removed]",
      "text/plain": [
       "<Figure size 432x288 with 1 Axes>"
      ]
     },
     "metadata": {
      "needs_background": "light"
     },
     "output_type": "display_data"
    }
   ],
   "source": [
    "basin = nc.Dataset('/gpfs/data/greenocean/software/resources/ModelResources/BasinMasks/clq_basin_masks_ORCA.nc')\n",
    "basin\n",
    "\n",
    "plt.pcolormesh(basin['SO'], vmin = 0, vmax = 5)"
   ]
  },
  {
   "cell_type": "code",
   "execution_count": 4,
   "id": "fcf17d8a-118f-472d-9f01-da54911c0c48",
   "metadata": {},
   "outputs": [
    {
     "name": "stdout",
     "output_type": "stream",
     "text": [
      "(149, 182)\n"
     ]
    },
    {
     "data": {
      "text/plain": [
       "<matplotlib.colorbar.Colorbar at 0x2b1622333550>"
      ]
     },
     "execution_count": 4,
     "metadata": {},
     "output_type": "execute_result"
    },
    {
     "data": {
      "image/png": "[encoded data removed]",
      "text/plain": [
       "<Figure size 432x288 with 2 Axes>"
      ]
     },
     "metadata": {
      "needs_background": "light"
     },
     "output_type": "display_data"
    }
   ],
   "source": [
    "w = nc.Dataset('../UTILS/simple_landmask.nc')  \n",
    "#this was made from /gpfs/home/yzh17dvu/scratch/ModelRuns/basin_mask.nc 1 is land 0 is water\n",
    "\n",
    "so_oneline = np.zeros_like(A5[30,:])\n",
    "\n",
    "\n",
    "so_oneline[A5[30,:]==1] = 2\n",
    "so_oneline[I5[30,:]==1] = 3\n",
    "so_oneline[so_oneline == 0] = 4\n",
    "# print(so_oneline)\n",
    "# print(np.shape(so_oneline))\n",
    "\n",
    "so_oneline_ATL = np.zeros_like(A5[30,:])\n",
    "\n",
    "lmask = (w['mask'][:])\n",
    "print(np.shape(lmask))\n",
    "sectormask = np.zeros_like(lmask)\n",
    "\n",
    "for i in range(0,149):\n",
    "    sectormask[i,:] = so_oneline\n",
    "\n",
    "sectormask[lmask ==1]=1\n",
    "\n",
    "plt.pcolormesh(sectormask)\n",
    "plt.colorbar()\n"
   ]
  },
  {
   "cell_type": "code",
   "execution_count": 5,
   "id": "b303d155-bf37-44ef-83f2-608906fc0857",
   "metadata": {},
   "outputs": [],
   "source": [
    "fn = f'../UTILS/sector_landmask.nc'        \n",
    "ds = nc.Dataset(fn, 'w', format='NETCDF4')\n",
    "ds.description = 'made in EVAL_forcing/so_landmask.ipynb, 1 land, 2 atl, 3 ind, 4 pac'\n",
    "x = ds.createDimension('x',182)\n",
    "y = ds.createDimension('y',149)\n",
    "mm = ds.createVariable('sectormask', 'f4', ( 'y','x'))\n",
    "mm[:] = sectormask[:]\n",
    "ds.close()"
   ]
  },
  {
   "cell_type": "code",
   "execution_count": 6,
   "id": "44329bed-54d2-4947-99c8-ffb1a5292224",
   "metadata": {},
   "outputs": [
    {
     "name": "stdout",
     "output_type": "stream",
     "text": [
      "<class 'netCDF4._netCDF4.Dataset'>\n",
      "root group (NETCDF4 data model, file format HDF5):\n",
      "    description: made in EVAL_forcing/so_landmask.ipynb, 1 land, 2 atl, 3 ind, 4 pac\n",
      "    dimensions(sizes): x(182), y(149)\n",
      "    variables(dimensions): float32 sectormask(y,x)\n",
      "    groups: \n"
     ]
    },
    {
     "data": {
      "text/plain": [
       "<matplotlib.collections.QuadMesh at 0x2b162240ab90>"
      ]
     },
     "execution_count": 6,
     "metadata": {},
     "output_type": "execute_result"
    },
    {
     "data": {
      "image/png": "[encoded data removed]",
      "text/plain": [
       "<Figure size 432x288 with 1 Axes>"
      ]
     },
     "metadata": {
      "needs_background": "light"
     },
     "output_type": "display_data"
    }
   ],
   "source": [
    "w = nc.Dataset('../UTILS/sector_landmask.nc')  \n",
    "print(w)\n",
    "sectormask = (w['sectormask'][:])\n",
    "\n",
    "plt.pcolormesh(sectormask)"
   ]
  },
  {
   "cell_type": "markdown",
   "id": "4bda1739-535c-4c6c-8573-eae7265fb285",
   "metadata": {},
   "source": [
    "landmask looks good, projecting it onto cartopy doesn't. \n"
   ]
  },
  {
   "cell_type": "code",
   "execution_count": 7,
   "id": "0550bb98-f5f7-42aa-8f1f-ec15aa57b27d",
   "metadata": {},
   "outputs": [
    {
     "ename": "NameError",
     "evalue": "name 'mf' is not defined",
     "output_type": "error",
     "traceback": [
      "\u001b[0;31m---------------------------------------------------------------------------\u001b[0m",
      "\u001b[0;31mNameError\u001b[0m                                 Traceback (most recent call last)",
      "\u001b[0;32m/tmp/ipykernel_25218/1024577767.py\u001b[0m in \u001b[0;36m<module>\u001b[0;34m\u001b[0m\n\u001b[1;32m      7\u001b[0m \u001b[0max1\u001b[0m \u001b[0;34m=\u001b[0m \u001b[0mfig\u001b[0m\u001b[0;34m.\u001b[0m\u001b[0madd_subplot\u001b[0m\u001b[0;34m(\u001b[0m\u001b[0;36m1\u001b[0m\u001b[0;34m,\u001b[0m \u001b[0;36m2\u001b[0m\u001b[0;34m,\u001b[0m \u001b[0;36m2\u001b[0m\u001b[0;34m,\u001b[0m \u001b[0mprojection\u001b[0m\u001b[0;34m=\u001b[0m\u001b[0mccrs\u001b[0m\u001b[0;34m.\u001b[0m\u001b[0mOrthographic\u001b[0m\u001b[0;34m(\u001b[0m\u001b[0;36m0\u001b[0m\u001b[0;34m,\u001b[0m \u001b[0;34m-\u001b[0m\u001b[0;36m90\u001b[0m\u001b[0;34m)\u001b[0m\u001b[0;34m)\u001b[0m\u001b[0;34m\u001b[0m\u001b[0;34m\u001b[0m\u001b[0m\n\u001b[1;32m      8\u001b[0m \u001b[0;34m\u001b[0m\u001b[0m\n\u001b[0;32m----> 9\u001b[0;31m mf.plot_southern(fig, ax1, nav_lon[0:37,:], nav_lat[0:37,:], sectormask[0:37,:], 0, \n\u001b[0m\u001b[1;32m     10\u001b[0m                   4, 1, northex = -50, fs = 12, tit = '', cbarlab = '', tcmap = 'viridis', lm = True)\n",
      "\u001b[0;31mNameError\u001b[0m: name 'mf' is not defined"
     ]
    },
    {
     "data": {
      "image/png": "[encoded data removed]",
      "text/plain": [
       "<Figure size 806.4x288 with 2 Axes>"
      ]
     },
     "metadata": {
      "needs_background": "light"
     },
     "output_type": "display_data"
    }
   ],
   "source": [
    "fact = 0.4\n",
    "fig = plt.figure(figsize=[28*fact, 10*fact])\n",
    "ax1 = fig.add_subplot(1, 2, 1)\n",
    "\n",
    "plt.pcolormesh(sectormask)\n",
    "\n",
    "ax1 = fig.add_subplot(1, 2, 2, projection=ccrs.Orthographic(0, -90))\n",
    "\n",
    "mf.plot_southern(fig, ax1, nav_lon[0:37,:], nav_lat[0:37,:], sectormask[0:37,:], 0, \n",
    "                  4, 1, northex = -50, fs = 12, tit = '', cbarlab = '', tcmap = 'viridis', lm = True)"
   ]
  },
  {
   "cell_type": "markdown",
   "id": "6f6c42fd-17f6-4fde-8ad3-388c87ba9d9c",
   "metadata": {},
   "source": [
    "# Let's do the same thing, but with the regridded landmask product that is 180 by 360. anticipate that it will solve my problems with ugliness (above)"
   ]
  },
  {
   "cell_type": "code",
   "execution_count": null,
   "id": "23b43504-62cb-4fc3-aa8d-ae0056a6d688",
   "metadata": {},
   "outputs": [],
   "source": [
    "basin = nc.Dataset('/gpfs/data/greenocean/software/resources/ModelResources/BasinMasks/clq_basin_masks.nc')\n",
    "print(basin)\n",
    "y = basin['Y'][:]\n",
    "x = basin['X'][:]\n",
    "\n",
    "yv, xv = np.meshgrid(y, x, indexing='ij') \n",
    "\n",
    "print(xv[0:5,0:5])\n",
    "print(yv[0:5,0:5])\n",
    "\n",
    "w = plt.pcolormesh(basin['ATL'][0,:,:])\n",
    "plt.colorbar(w)\n"
   ]
  },
  {
   "cell_type": "code",
   "execution_count": null,
   "id": "d35bd7af-7cdf-4d22-ac67-f7db17e9d4b6",
   "metadata": {},
   "outputs": [],
   "source": [
    "basin = nc.Dataset('/gpfs/data/greenocean/software/resources/ModelResources/BasinMasks/clq_basin_masks.nc')\n",
    "print(basin)\n",
    "y = basin['Y'][:]\n",
    "x = basin['X'][:]\n",
    "\n",
    "yv, xv = np.meshgrid(y, x, indexing='ij') \n",
    "\n",
    "print(xv[0:5,0:5])\n",
    "print(yv[0:5,0:5])\n",
    "\n",
    "ATL = basin['ATL'][0,:,:]\n",
    "PAC = basin['PAC'][0,:,:]\n",
    "IND = basin['IND'][0,:,:]\n",
    "ARC = basin['ARCTIC'][0,:,:]\n",
    "\n",
    "sectormask = np.zeros_like(xv)\n",
    "sectormask[ATL>0]=2\n",
    "sectormask[IND>0]=3\n",
    "sectormask[PAC>0]=4\n",
    "sectormask[ARC>0]=5\n",
    "sectormask[sectormask<1]=1\n",
    "w = plt.pcolormesh(sectormask)\n",
    "plt.colorbar(w)\n"
   ]
  },
  {
   "cell_type": "code",
   "execution_count": null,
   "id": "cd9ba26f-e58b-40ae-ba3a-7f8cb43fcdd0",
   "metadata": {},
   "outputs": [],
   "source": [
    "fact = 0.4\n",
    "fig = plt.figure(figsize=[28*fact, 10*fact])\n",
    "ax1 = fig.add_subplot(1, 2, 1)\n",
    "\n",
    "plt.pcolormesh(sectormask)\n",
    "\n",
    "ax1 = fig.add_subplot(1, 2, 2, projection=ccrs.Orthographic(0, -90))\n",
    "\n",
    "mf.plot_southern(fig, ax1, xv[0:37,:], yv[0:37,:], sectormask[0:37,:], 0, \n",
    "                  5, 1, northex = -50, fs = 12, tit = '', cbarlab = '', tcmap = 'viridis', lm = True)"
   ]
  },
  {
   "cell_type": "code",
   "execution_count": null,
   "id": "4bc8299b-d025-4787-95ac-d7745e4f5cb0",
   "metadata": {},
   "outputs": [],
   "source": [
    "fn = f'../UTILS/sector_landmask_regrid.nc'        \n",
    "ds = nc.Dataset(fn, 'w', format='NETCDF4')\n",
    "ds.description = 'made in EVAL_forcing/so_landmask.ipynb, 1 land, 2 atl, 3 ind, 4 pac'\n",
    "x = ds.createDimension('x',360)\n",
    "y = ds.createDimension('y',180)\n",
    "mm = ds.createVariable('sectormask', 'f4', ( 'y','x'))\n",
    "mm[:] = sectormask[:]\n",
    "mm = ds.createVariable('nav_lat', 'f4', ( 'y','x'))\n",
    "mm[:] = yv[:]\n",
    "mm = ds.createVariable('nav_lon', 'f4', ( 'y','x'))\n",
    "mm[:] = xv[:]\n",
    "ds.close()"
   ]
  }
 ],
 "metadata": {
  "kernelspec": {
   "display_name": "Python 3 (ipykernel)",
   "language": "python",
   "name": "python3"
  },
  "language_info": {
   "codemirror_mode": {
    "name": "ipython",
    "version": 3
   },
   "file_extension": ".py",
   "mimetype": "text/x-python",
   "name": "python",
   "nbconvert_exporter": "python",
   "pygments_lexer": "ipython3",
   "version": "3.7.11"
  }
 },
 "nbformat": 4,
 "nbformat_minor": 5
}

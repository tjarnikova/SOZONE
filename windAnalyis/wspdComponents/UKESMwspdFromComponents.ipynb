{
 "cells": [
  {
   "cell_type": "markdown",
   "id": "3f8bd87b",
   "metadata": {},
   "source": [
    "### aim: \n",
    "\n",
    "### date: "
   ]
  },
  {
   "cell_type": "code",
   "execution_count": null,
   "id": "8012f094",
   "metadata": {},
   "outputs": [
    {
     "ename": "",
     "evalue": "",
     "output_type": "error",
     "traceback": [
      "\u001b[1;31mFailed to start the Kernel. \n",
      "\u001b[1;31mFailed to connect to the remote Jupyter Server 'c0009.hpc.private'. Verify the server is running and reachable. (request to http://c0009.hpc.private:8888/hub/api failed, reason: connect ECONNREFUSED 10.85.20.9:8888). \n",
      "\u001b[1;31mView Jupyter <a href='command:jupyter.viewOutput'>log</a> for further details."
     ]
    }
   ],
   "source": [
    "from IPython.display import HTML\n",
    "\n",
    "HTML('''<script>\n",
    "code_show=true; \n",
    "function code_toggle() {\n",
    " if (code_show){\n",
    " $('div.input').hide();\n",
    " } else {\n",
    " $('div.input').show();\n",
    " }\n",
    " code_show = !code_show\n",
    "} \n",
    "$( document ).ready(code_toggle);\n",
    "</script>\n",
    "<form action=\"javascript:code_toggle()\"><input type=\"submit\" value=\"Click here to toggle on/off the raw code.\"></form>''')\n"
   ]
  },
  {
   "cell_type": "code",
   "execution_count": null,
   "id": "c99f764a",
   "metadata": {},
   "outputs": [
    {
     "ename": "",
     "evalue": "",
     "output_type": "error",
     "traceback": [
      "\u001b[1;31mFailed to start the Kernel. \n",
      "\u001b[1;31mFailed to connect to the remote Jupyter Server 'c0009.hpc.private'. Verify the server is running and reachable. (request to http://c0009.hpc.private:8888/hub/api failed, reason: connect ECONNREFUSED 10.85.20.9:8888). \n",
      "\u001b[1;31mView Jupyter <a href='command:jupyter.viewOutput'>log</a> for further details."
     ]
    }
   ],
   "source": [
    "%reset"
   ]
  },
  {
   "cell_type": "code",
   "execution_count": null,
   "id": "7ba928a5",
   "metadata": {},
   "outputs": [
    {
     "ename": "",
     "evalue": "",
     "output_type": "error",
     "traceback": [
      "\u001b[1;31mFailed to start the Kernel. \n",
      "\u001b[1;31mFailed to connect to the remote Jupyter Server 'c0009.hpc.private'. Verify the server is running and reachable. (request to http://c0009.hpc.private:8888/hub/api failed, reason: connect ECONNREFUSED 10.85.20.9:8888). \n",
      "\u001b[1;31mView Jupyter <a href='command:jupyter.viewOutput'>log</a> for further details."
     ]
    }
   ],
   "source": [
    "import numpy as np\n",
    "from cmocean import cm\n",
    "import cartopy as cp\n",
    "import cartopy.crs as ccrs\n",
    "import netCDF4 as nc\n",
    "import matplotlib.pyplot as plt\n",
    "import xarray as xr\n",
    "import sys\n",
    "sys.path.append('/gpfs/home/mep22dku/scratch/SOZONE')\n",
    "#list of models\n",
    "sys.path.append('/gpfs/home/mep22dku/scratch/SOZONE/UTILS')\n",
    "import lom\n",
    "import utils as ut\n",
    "\n",
    "%matplotlib inline\n",
    "import warnings\n",
    "from datetime import datetime\n",
    "warnings.filterwarnings('ignore')\n",
    "import cartopy.feature as cfeature\n",
    "from importlib import reload\n",
    "import matplotlib.path as mpath\n",
    "import glob\n",
    "import pickle\n",
    "import pandas as pd\n",
    "import seawater\n",
    "import time\n",
    "plt.rcParams.update({'font.size': 12})\n",
    "font = {'family' : 'normal',\n",
    "'weight' : 'normal',\n",
    "'size'   : 12}\n",
    "\n",
    "plt.rc('font', **font)"
   ]
  },
  {
   "cell_type": "markdown",
   "id": "d158975a",
   "metadata": {},
   "source": [
    "## need wind speed at 10m for both UKESM and ERA5\n",
    "for UKESM:\n",
    "1) get daily u and v's from monthly files and save in monthly files, for all scenarios\n",
    "2) regrid with cdo (u and v are on different grids and we need them on the same one to square)\n",
    "3) concatenate files by year and get windspeed "
   ]
  },
  {
   "cell_type": "code",
   "execution_count": null,
   "id": "0ebb361f",
   "metadata": {},
   "outputs": [
    {
     "ename": "",
     "evalue": "",
     "output_type": "error",
     "traceback": [
      "\u001b[1;31mFailed to start the Kernel. \n",
      "\u001b[1;31mFailed to connect to the remote Jupyter Server 'c0009.hpc.private'. Verify the server is running and reachable. (request to http://c0009.hpc.private:8888/hub/api failed, reason: connect ECONNREFUSED 10.85.20.9:8888). \n",
      "\u001b[1;31mView Jupyter <a href='command:jupyter.viewOutput'>log</a> for further details."
     ]
    }
   ],
   "source": [
    "fact = 1.1\n",
    "fig, axs = plt.subplots(2,5, figsize=(12*fact, 8*fact), facecolor='w', edgecolor='k')\n",
    "axs = axs.ravel()"
   ]
  },
  {
   "cell_type": "code",
   "execution_count": null,
   "id": "2327f0f3",
   "metadata": {},
   "outputs": [
    {
     "ename": "",
     "evalue": "",
     "output_type": "error",
     "traceback": [
      "\u001b[1;31mFailed to start the Kernel. \n",
      "\u001b[1;31mFailed to connect to the remote Jupyter Server 'c0009.hpc.private'. Verify the server is running and reachable. (request to http://c0009.hpc.private:8888/hub/api failed, reason: connect ECONNREFUSED 10.85.20.9:8888). \n",
      "\u001b[1;31mView Jupyter <a href='command:jupyter.viewOutput'>log</a> for further details."
     ]
    }
   ],
   "source": [
    "demo = False\n",
    "tdir = '/gpfs/home/mep22dku/scratch/SOZONE/windAnalyis/wspdComponents/'\n",
    "if demo:\n",
    "    w = xr.open_dataset('/gpfs/data/greenocean/software/resources/MetOffice/fixed_ozone/ssp126/u-be682_ssp126/be682_wind_y2070m10.nc')\n",
    "\n",
    "    w2 = w.uwind10m.groupby('time_counter.day').mean()\n",
    "    tdir = '/gpfs/home/mep22dku/scratch/SOZONE/windAnalyis/wspdComponents/'\n",
    "    w3 = w2.to_dataset()\n",
    "    w3.to_netcdf(f'{tdir}be682_wind_y2070m10_uwind10m_daily.nc')\n",
    "\n",
    "    w4 = w.vwind10m.groupby('time_counter.day').mean()\n",
    "    w5 = w4.to_dataset()\n",
    "    w5.to_netcdf(f'{tdir}be682_wind_y2070m10_vwind10m_daily.nc')\n",
    "\n",
    "uwind_orig = xr.open_dataset(f'{tdir}be682_wind_y2070m10_uwind10m_daily.nc')\n",
    "uwind_rg = xr.open_dataset(f'{tdir}be682_wind_y2070m10_uwind10m_daily_rg.nc')\n",
    "vwind_orig = xr.open_dataset(f'{tdir}be682_wind_y2070m10_vwind10m_daily.nc')\n",
    "vwind_rg = xr.open_dataset(f'{tdir}be682_wind_y2070m10_vwind10m_daily_rg.nc')\n",
    "\n",
    "fact = 1.1\n",
    "fig, axs = plt.subplots(2,2, figsize=(12*fact, 8*fact), facecolor='w', edgecolor='k')\n",
    "axs = axs.ravel()\n",
    "\n",
    "axs[0].pcolormesh(vwind_orig.vwind10m[0,:,:])\n",
    "axs[1].pcolormesh(vwind_rg.vwind10m[0,:,:])\n",
    "axs[2].pcolormesh(uwind_orig.uwind10m[0,:,:])\n",
    "axs[3].pcolormesh(uwind_rg.uwind10m[0,:,:])\n"
   ]
  },
  {
   "cell_type": "markdown",
   "id": "fec9428e",
   "metadata": {},
   "source": [
    "### ukesm windspeed from components"
   ]
  },
  {
   "cell_type": "code",
   "execution_count": null,
   "id": "04840fd2",
   "metadata": {},
   "outputs": [
    {
     "ename": "",
     "evalue": "",
     "output_type": "error",
     "traceback": [
      "\u001b[1;31mFailed to start the Kernel. \n",
      "\u001b[1;31mFailed to connect to the remote Jupyter Server 'c0009.hpc.private'. Verify the server is running and reachable. (request to http://c0009.hpc.private:8888/hub/api failed, reason: connect ECONNREFUSED 10.85.20.9:8888). \n",
      "\u001b[1;31mView Jupyter <a href='command:jupyter.viewOutput'>log</a> for further details."
     ]
    }
   ],
   "source": [
    "tdir = '/gpfs/data/greenocean/software/resources/MetOffice/fixed_ozone/'\n",
    "dir_1H = 'hist/u-bc370_hist/'\n",
    "dir_2H = 'hist/u-cj198_hist_1950start1950ozone/'\n",
    "dir_3H = 'hist/u-cj200_hist_1990start1990ozone/'\n",
    "\n",
    "dir_1FA = 'ssp126/u-be682_ssp126/'\n",
    "dir_1FB = 'ssp370/u-ce417_ssp370/'\n",
    "\n",
    "dir_2FA = 'ssp126/u-cj880_ssp126_1950start1950ozone/'\n",
    "dir_2FB = 'ssp370/u-cj881_ssp370_1950start1950ozone/'\n",
    "\n",
    "dir_3FA = 'ssp126/u-cj484_ssp126_1990start1990ozone/'\n",
    "dir_3FB = 'ssp370/u-cj504_ssp370_1990start1990ozone/'\n",
    "\n",
    "name_1H = '1H: NatlOzone-historical'\n",
    "name_2H = '2H: Ozone1950-historical'\n",
    "name_3H = '3H: Ozone1990-historical'\n",
    "name_1FA = '1FA: NatlOzone-SSP126'\n",
    "name_1FB = '1FB: NatlOzone-SSP370'\n",
    "name_2FA = '2FA: Ozone1950-SSP126'\n",
    "name_2FB = '2FB: Ozone1950-SSP370'\n",
    "name_3FA = '3FA: Ozone1990-SSP126'\n",
    "name_3FB = '3FB: Ozone1990-SSP370'\n",
    "\n",
    "col_1A = 'darksalmon'; col_1B = 'sienna'\n",
    "col_2A = 'lightgreen'; col_2B = 'g'\n",
    "col_3A = 'dodgerblue'; col_3B = 'mediumblue'\n",
    "\n",
    "exp_1H = 'bc370'; exp_2H = 'cj198'; exp_3H = 'cj200'\n",
    "exp_1FA = 'be682'; exp_1FB = 'ce417'\n",
    "exp_2FA = 'cj880'; exp_2FB = 'cj881'\n",
    "exp_3FA = 'cj484'; exp_3FB = 'cj504'"
   ]
  },
  {
   "cell_type": "code",
   "execution_count": null,
   "id": "56d0fa53",
   "metadata": {},
   "outputs": [
    {
     "ename": "",
     "evalue": "",
     "output_type": "error",
     "traceback": [
      "\u001b[1;31mFailed to start the Kernel. \n",
      "\u001b[1;31mFailed to connect to the remote Jupyter Server 'c0009.hpc.private'. Verify the server is running and reachable. (request to http://c0009.hpc.private:8888/hub/api failed, reason: connect ECONNREFUSED 10.85.20.9:8888). \n",
      "\u001b[1;31mView Jupyter <a href='command:jupyter.viewOutput'>log</a> for further details."
     ]
    }
   ],
   "source": [
    "##1A\n",
    "\n",
    "scen = '1A'\n",
    "for y in range(1940,2101):\n",
    "    if y < 2015:\n",
    "        dir2 = dir_1H\n",
    "    if y >= 2015:\n",
    "        dir2 = dir_1FA\n",
    "    fdir = f'{tdir}{dir2}'\n",
    "    print(y)\n",
    "    wx = glob.glob(f'{fdir}/*wind*y{y}*')\n",
    "    wx2 = np.sort(wx)#wx.sort()\n",
    "    mons = ['01','02','03','04','05','06','07','08','09','10','11','12']\n",
    "    for i in range(0,12):\n",
    "        if f'm{mons[i]}' not in wx2[i]:\n",
    "            print(f'problem in {fdir}, {mons[i]}')\n",
    "        else:\n",
    "            pass\n",
    "        w = xr.open_dataset(wx2[i])\n",
    "        savedir = '/gpfs/data/greenocean/software/products/windsFromComponents/UKESM_monthly_atdayres/'\n",
    "        savestr = f'UKESM_{scen}_y{y}m{mons[i]}'\n",
    "        print(savestr)\n",
    "        w2 = w.uwind10m.groupby('time_counter.day').mean()\n",
    "        w3 = w2.to_dataset()\n",
    "        w3['day'] = np.arange(i*30+1,(i+1)*30+1,1)\n",
    "        w3.attrs = {'made in': '/gpfs/home/mep22dku/scratch/SOZONE/windAnalyis/wspdComponents/UKESMwspdFromComponents.ipynb'}\n",
    "        w3.to_netcdf(f'{savedir}{savestr}_uwind10m_daily.nc')\n",
    "\n",
    "        w4 = w.vwind10m.groupby('time_counter.day').mean()\n",
    "        w5 = w4.to_dataset()\n",
    "        w5['day'] = np.arange(i*30+1,(i+1)*30+1,1)\n",
    "        w5.attrs = {'made in': '/gpfs/home/mep22dku/scratch/SOZONE/windAnalyis/wspdComponents/UKESMwspdFromComponents.ipynb'}\n",
    "        w5.to_netcdf(f'{savedir}{savestr}_vwind10m_daily.nc')\n",
    "\n",
    "##1A\n",
    "\n",
    "scen = '1B'\n",
    "print()\n",
    "print(scen)\n",
    "for y in range(1940,2101):\n",
    "    if y < 2015:\n",
    "        dir2 = dir_1H\n",
    "    if y >= 2015:\n",
    "        dir2 = dir_1FB\n",
    "    fdir = f'{tdir}{dir2}'\n",
    "    print(y)\n",
    "    wx = glob.glob(f'{fdir}/*wind*y{y}*')\n",
    "    wx2 = np.sort(wx)#wx.sort()\n",
    "    mons = ['01','02','03','04','05','06','07','08','09','10','11','12']\n",
    "    for i in range(0,12):\n",
    "        if f'm{mons[i]}' not in wx2[i]:\n",
    "            print(f'problem in {fdir}, {mons[i]}')\n",
    "        else:\n",
    "            pass\n",
    "        w = xr.open_dataset(wx2[i])\n",
    "        savedir = '/gpfs/data/greenocean/software/products/windsFromComponents/UKESM_monthly_atdayres/'\n",
    "        savestr = f'UKESM_{scen}_y{y}m{mons[i]}'\n",
    "        print(savestr)\n",
    "        w2 = w.uwind10m.groupby('time_counter.day').mean()\n",
    "        w3 = w2.to_dataset()\n",
    "        w3['day'] = np.arange(i*30+1,(i+1)*30+1,1)\n",
    "        w3.attrs = {'made in': '/gpfs/home/mep22dku/scratch/SOZONE/windAnalyis/wspdComponents/UKESMwspdFromComponents.ipynb'}\n",
    "        w3.to_netcdf(f'{savedir}{savestr}_uwind10m_daily.nc')\n",
    "\n",
    "        w4 = w.vwind10m.groupby('time_counter.day').mean()\n",
    "        w5 = w4.to_dataset()\n",
    "        w5['day'] = np.arange(i*30+1,(i+1)*30+1,1)\n",
    "        w5.attrs = {'made in': '/gpfs/home/mep22dku/scratch/SOZONE/windAnalyis/wspdComponents/UKESMwspdFromComponents.ipynb'}\n",
    "        w5.to_netcdf(f'{savedir}{savestr}_vwind10m_daily.nc')\n",
    "\n"
   ]
  },
  {
   "cell_type": "code",
   "execution_count": null,
   "id": "60eb0ef4",
   "metadata": {},
   "outputs": [
    {
     "ename": "",
     "evalue": "",
     "output_type": "error",
     "traceback": [
      "\u001b[1;31mFailed to start the Kernel. \n",
      "\u001b[1;31mFailed to connect to the remote Jupyter Server 'c0009.hpc.private'. Verify the server is running and reachable. (request to http://c0009.hpc.private:8888/hub/api failed, reason: connect ECONNREFUSED 10.85.20.9:8888). \n",
      "\u001b[1;31mView Jupyter <a href='command:jupyter.viewOutput'>log</a> for further details."
     ]
    }
   ],
   "source": [
    "##1A\n",
    "\n",
    "scen = '2A'\n",
    "for y in range(1940,2101):\n",
    "    if y < 2015:\n",
    "        dir2 = dir_2H\n",
    "    if y >= 2015:\n",
    "        dir2 = dir_2FA\n",
    "    fdir = f'{tdir}{dir2}'\n",
    "    print(y)\n",
    "    wx = glob.glob(f'{fdir}/*wind*y{y}*')\n",
    "    wx2 = np.sort(wx)#wx.sort()\n",
    "    mons = ['01','02','03','04','05','06','07','08','09','10','11','12']\n",
    "    for i in range(0,12):\n",
    "        if f'm{mons[i]}' not in wx2[i]:\n",
    "            print(f'problem in {fdir}, {mons[i]}')\n",
    "        else:\n",
    "            pass\n",
    "        w = xr.open_dataset(wx2[i])\n",
    "        savedir = '/gpfs/data/greenocean/software/products/windsFromComponents/UKESM_monthly_atdayres/'\n",
    "        savestr = f'UKESM_{scen}_y{y}m{mons[i]}'\n",
    "        print(savestr)\n",
    "        w2 = w.uwind10m.groupby('time_counter.day').mean()\n",
    "        w3 = w2.to_dataset()\n",
    "        w3['day'] = np.arange(i*30+1,(i+1)*30+1,1)\n",
    "        w3.attrs = {'made in': '/gpfs/home/mep22dku/scratch/SOZONE/windAnalyis/wspdComponents/UKESMwspdFromComponents.ipynb'}\n",
    "        w3.to_netcdf(f'{savedir}{savestr}_uwind10m_daily.nc')\n",
    "\n",
    "        w4 = w.vwind10m.groupby('time_counter.day').mean()\n",
    "        w5 = w4.to_dataset()\n",
    "        w5['day'] = np.arange(i*30+1,(i+1)*30+1,1)\n",
    "        w5.attrs = {'made in': '/gpfs/home/mep22dku/scratch/SOZONE/windAnalyis/wspdComponents/UKESMwspdFromComponents.ipynb'}\n",
    "        w5.to_netcdf(f'{savedir}{savestr}_vwind10m_daily.nc')\n",
    "\n",
    "##1A\n",
    "\n",
    "scen = '2B'\n",
    "print()\n",
    "print(scen)\n",
    "for y in range(1940,2101):\n",
    "    if y < 2015:\n",
    "        dir2 = dir_2H\n",
    "    if y >= 2015:\n",
    "        dir2 = dir_2FB\n",
    "    fdir = f'{tdir}{dir2}'\n",
    "    print(y)\n",
    "    wx = glob.glob(f'{fdir}/*wind*y{y}*')\n",
    "    wx2 = np.sort(wx)#wx.sort()\n",
    "    mons = ['01','02','03','04','05','06','07','08','09','10','11','12']\n",
    "    for i in range(0,12):\n",
    "        if f'm{mons[i]}' not in wx2[i]:\n",
    "            print(f'problem in {fdir}, {mons[i]}')\n",
    "        else:\n",
    "            pass\n",
    "        w = xr.open_dataset(wx2[i])\n",
    "        savedir = '/gpfs/data/greenocean/software/products/windsFromComponents/UKESM_monthly_atdayres/'\n",
    "        savestr = f'UKESM_{scen}_y{y}m{mons[i]}'\n",
    "        print(savestr)\n",
    "        w2 = w.uwind10m.groupby('time_counter.day').mean()\n",
    "        w3 = w2.to_dataset()\n",
    "        w3['day'] = np.arange(i*30+1,(i+1)*30+1,1)\n",
    "        w3.attrs = {'made in': '/gpfs/home/mep22dku/scratch/SOZONE/windAnalyis/wspdComponents/UKESMwspdFromComponents.ipynb'}\n",
    "        w3.to_netcdf(f'{savedir}{savestr}_uwind10m_daily.nc')\n",
    "\n",
    "        w4 = w.vwind10m.groupby('time_counter.day').mean()\n",
    "        w5 = w4.to_dataset()\n",
    "        w5['day'] = np.arange(i*30+1,(i+1)*30+1,1)\n",
    "        w5.attrs = {'made in': '/gpfs/home/mep22dku/scratch/SOZONE/windAnalyis/wspdComponents/UKESMwspdFromComponents.ipynb'}\n",
    "        w5.to_netcdf(f'{savedir}{savestr}_vwind10m_daily.nc')\n",
    "\n",
    "\n"
   ]
  },
  {
   "cell_type": "code",
   "execution_count": null,
   "id": "a0459992",
   "metadata": {},
   "outputs": [
    {
     "ename": "",
     "evalue": "",
     "output_type": "error",
     "traceback": [
      "\u001b[1;31mFailed to start the Kernel. \n",
      "\u001b[1;31mFailed to connect to the remote Jupyter Server 'c0009.hpc.private'. Verify the server is running and reachable. (request to http://c0009.hpc.private:8888/hub/api failed, reason: connect ECONNREFUSED 10.85.20.9:8888). \n",
      "\u001b[1;31mView Jupyter <a href='command:jupyter.viewOutput'>log</a> for further details."
     ]
    }
   ],
   "source": [
    "savedir = '/gpfs/data/greenocean/software/products/windsFromComponents/UKESM_monthly_atdayres/'\n",
    "tw = [f'{savedir}UKESM_1A_y1940m01_uwind10m_daily.nc',f'{savedir}UKESM_1A_y1940m02_uwind10m_daily.nc',f'{savedir}UKESM_1A_y1940m03_uwind10m_daily.nc']\n",
    "w = xr.open_mfdataset(tw)"
   ]
  },
  {
   "cell_type": "code",
   "execution_count": null,
   "id": "297591a8",
   "metadata": {},
   "outputs": [
    {
     "ename": "",
     "evalue": "",
     "output_type": "error",
     "traceback": [
      "\u001b[1;31mFailed to start the Kernel. \n",
      "\u001b[1;31mFailed to connect to the remote Jupyter Server 'c0009.hpc.private'. Verify the server is running and reachable. (request to http://c0009.hpc.private:8888/hub/api failed, reason: connect ECONNREFUSED 10.85.20.9:8888). \n",
      "\u001b[1;31mView Jupyter <a href='command:jupyter.viewOutput'>log</a> for further details."
     ]
    }
   ],
   "source": []
  },
  {
   "cell_type": "code",
   "execution_count": null,
   "id": "d5924a82",
   "metadata": {},
   "outputs": [
    {
     "ename": "",
     "evalue": "",
     "output_type": "error",
     "traceback": [
      "\u001b[1;31mFailed to start the Kernel. \n",
      "\u001b[1;31mFailed to connect to the remote Jupyter Server 'c0009.hpc.private'. Verify the server is running and reachable. (request to http://c0009.hpc.private:8888/hub/api failed, reason: connect ECONNREFUSED 10.85.20.9:8888). \n",
      "\u001b[1;31mView Jupyter <a href='command:jupyter.viewOutput'>log</a> for further details."
     ]
    }
   ],
   "source": []
  }
 ],
 "metadata": {
  "kernelspec": {
   "display_name": "Python 3 (ipykernel)",
   "language": "python",
   "name": "python3"
  }
 },
 "nbformat": 4,
 "nbformat_minor": 5
}

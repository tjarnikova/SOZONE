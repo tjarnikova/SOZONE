{
 "cells": [
  {
   "cell_type": "markdown",
   "id": "3f8bd87b",
   "metadata": {},
   "source": [
    "### aim: \n",
    "\n",
    "### date: "
   ]
  },
  {
   "cell_type": "code",
   "execution_count": 1,
   "id": "8012f094",
   "metadata": {},
   "outputs": [
    {
     "data": {
      "text/html": [
       "<script>\n",
       "code_show=true; \n",
       "function code_toggle() {\n",
       " if (code_show){\n",
       " $('div.input').hide();\n",
       " } else {\n",
       " $('div.input').show();\n",
       " }\n",
       " code_show = !code_show\n",
       "} \n",
       "$( document ).ready(code_toggle);\n",
       "</script>\n",
       "<form action=\"javascript:code_toggle()\"><input type=\"submit\" value=\"Click here to toggle on/off the raw code.\"></form>"
      ],
      "text/plain": [
       "<IPython.core.display.HTML object>"
      ]
     },
     "execution_count": 1,
     "metadata": {},
     "output_type": "execute_result"
    }
   ],
   "source": [
    "from IPython.display import HTML\n",
    "\n",
    "HTML('''<script>\n",
    "code_show=true; \n",
    "function code_toggle() {\n",
    " if (code_show){\n",
    " $('div.input').hide();\n",
    " } else {\n",
    " $('div.input').show();\n",
    " }\n",
    " code_show = !code_show\n",
    "} \n",
    "$( document ).ready(code_toggle);\n",
    "</script>\n",
    "<form action=\"javascript:code_toggle()\"><input type=\"submit\" value=\"Click here to toggle on/off the raw code.\"></form>''')\n"
   ]
  },
  {
   "cell_type": "code",
   "execution_count": 2,
   "id": "c99f764a",
   "metadata": {},
   "outputs": [
    {
     "name": "stdout",
     "output_type": "stream",
     "text": [
      "Once deleted, variables cannot be recovered. Proceed (y/[n])? y\n"
     ]
    }
   ],
   "source": [
    "%reset"
   ]
  },
  {
   "cell_type": "code",
   "execution_count": 3,
   "id": "7ba928a5",
   "metadata": {},
   "outputs": [],
   "source": [
    "import numpy as np\n",
    "from cmocean import cm\n",
    "import cartopy as cp\n",
    "import cartopy.crs as ccrs\n",
    "import netCDF4 as nc\n",
    "import matplotlib.pyplot as plt\n",
    "import xarray as xr\n",
    "import sys\n",
    "sys.path.append('/gpfs/home/mep22dku/scratch/SOZONE')\n",
    "#list of models\n",
    "sys.path.append('/gpfs/home/mep22dku/scratch/SOZONE/UTILS')\n",
    "import lom\n",
    "import utils as ut\n",
    "\n",
    "%matplotlib inline\n",
    "import warnings\n",
    "from datetime import datetime\n",
    "warnings.filterwarnings('ignore')\n",
    "import cartopy.feature as cfeature\n",
    "from importlib import reload\n",
    "import matplotlib.path as mpath\n",
    "import glob\n",
    "import pickle\n",
    "import pandas as pd\n",
    "import seawater\n",
    "import time\n",
    "plt.rcParams.update({'font.size': 12})\n",
    "font = {'family' : 'normal',\n",
    "'weight' : 'normal',\n",
    "'size'   : 12}\n",
    "\n",
    "plt.rc('font', **font)"
   ]
  },
  {
   "cell_type": "code",
   "execution_count": 28,
   "id": "2327f0f3",
   "metadata": {},
   "outputs": [
    {
     "data": {
      "image/png": "[encoded data removed]",
      "text/plain": [
       "<Figure size 345.6x115.2 with 4 Axes>"
      ]
     },
     "metadata": {},
     "output_type": "display_data"
    }
   ],
   "source": [
    "warmcol = 'darkred'; ozcol = 'royalblue'; tw = 1; marg = 1.5\n",
    "windWarm = 1; windOz = 0.3\n",
    "sstWarm = 1; sstOz = 0.6\n",
    "otWarm = 7; otOz = 4\n",
    "mldWarm = 5; mldOz = 3\n",
    "\n",
    "fact = 0.4\n",
    "fig, axs = plt.subplots(1,4, figsize=(12*fact, 4*fact), facecolor='w', edgecolor='k')\n",
    "axs = axs.ravel()\n",
    "axs[0].bar(1,windWarm, color = warmcol, width = tw)\n",
    "axs[0].bar(2,windOz, color = ozcol, width = tw)\n",
    "axs[1].bar(1,sstWarm, color = warmcol, width = tw)\n",
    "axs[1].bar(2,sstOz, color = ozcol, width = tw)\n",
    "axs[2].bar(1,mldWarm, color = warmcol, width = tw)\n",
    "axs[2].bar(2,mldOz, color = ozcol, width = tw)\n",
    "axs[3].bar(1,otWarm, color = warmcol, width = tw)\n",
    "axs[3].bar(2,otOz, color = ozcol, width = tw)\n",
    "\n",
    "\n",
    "# axs[0].spines['bottom'].set_visible(False)\n",
    "# axs[0].spines['left'].set_visible(False)\n",
    "\n",
    "\n",
    "for i in range(0,4):\n",
    "    axs[i].set_xlim([1-(tw/2)-marg,2+(tw/2)+marg])\n",
    "    axs[i].spines['top'].set_visible(False)\n",
    "    axs[i].spines['right'].set_visible(False)\n",
    "    axs[i].set_xticks([])\n",
    "    \n",
    "plt.subplots_adjust(hspace = 0.0, wspace = 0.0)"
   ]
  },
  {
   "cell_type": "code",
   "execution_count": 29,
   "id": "f24a7568",
   "metadata": {},
   "outputs": [
    {
     "ename": "AttributeError",
     "evalue": "'Axes' object has no attribute 'subgridspec'",
     "output_type": "error",
     "traceback": [
      "\u001b[0;31m---------------------------------------------------------------------------\u001b[0m",
      "\u001b[0;31mAttributeError\u001b[0m                            Traceback (most recent call last)",
      "\u001b[0;32m/tmp/ipykernel_56093/3767110231.py\u001b[0m in \u001b[0;36m<module>\u001b[0;34m\u001b[0m\n\u001b[1;32m      9\u001b[0m \u001b[0;34m\u001b[0m\u001b[0m\n\u001b[1;32m     10\u001b[0m     \u001b[0;31m# Create an inner grid for nested subplots\u001b[0m\u001b[0;34m\u001b[0m\u001b[0;34m\u001b[0m\u001b[0;34m\u001b[0m\u001b[0m\n\u001b[0;32m---> 11\u001b[0;31m     \u001b[0minner_grid\u001b[0m \u001b[0;34m=\u001b[0m \u001b[0max\u001b[0m\u001b[0;34m.\u001b[0m\u001b[0minset_axes\u001b[0m\u001b[0;34m(\u001b[0m\u001b[0;34m[\u001b[0m\u001b[0;36m0\u001b[0m\u001b[0;34m,\u001b[0m \u001b[0;36m0\u001b[0m\u001b[0;34m,\u001b[0m \u001b[0;36m1\u001b[0m\u001b[0;34m,\u001b[0m \u001b[0;36m1\u001b[0m\u001b[0;34m]\u001b[0m\u001b[0;34m)\u001b[0m\u001b[0;34m.\u001b[0m\u001b[0msubgridspec\u001b[0m\u001b[0;34m(\u001b[0m\u001b[0;36m1\u001b[0m\u001b[0;34m,\u001b[0m \u001b[0;36m3\u001b[0m\u001b[0;34m)\u001b[0m\u001b[0;34m\u001b[0m\u001b[0;34m\u001b[0m\u001b[0m\n\u001b[0m\u001b[1;32m     12\u001b[0m \u001b[0;34m\u001b[0m\u001b[0m\n\u001b[1;32m     13\u001b[0m     \u001b[0;31m# Create 3 nested subplots in each primary subplot\u001b[0m\u001b[0;34m\u001b[0m\u001b[0;34m\u001b[0m\u001b[0;34m\u001b[0m\u001b[0m\n",
      "\u001b[0;31mAttributeError\u001b[0m: 'Axes' object has no attribute 'subgridspec'"
     ]
    },
    {
     "data": {
      "image/png": "[encoded data removed]",
      "text/plain": [
       "<Figure size 720x720 with 1 Axes>"
      ]
     },
     "metadata": {
      "needs_background": "light"
     },
     "output_type": "display_data"
    }
   ],
   "source": [
    "import matplotlib.pyplot as plt\n",
    "\n",
    "# Create the main figure\n",
    "fig = plt.figure(figsize=(10, 10))\n",
    "\n",
    "# Create 4 primary subplots in the main figure\n",
    "for i in range(4):\n",
    "    ax = fig.add_subplot(2, 2, i + 1)\n",
    "\n",
    "    # Create an inner grid for nested subplots\n",
    "    inner_grid = ax.inset_axes([0, 0, 1, 1]).subgridspec(1, 3)\n",
    "\n",
    "    # Create 3 nested subplots in each primary subplot\n",
    "    for j in range(3):\n",
    "        inner_ax = fig.add_subplot(inner_grid[0, j])\n",
    "        inner_ax.plot()  # Add your plot here\n",
    "        inner_ax.set_xticks([])  # Optional: remove x-ticks\n",
    "        inner_ax.set_yticks([])  # Optional: remove y-ticks\n",
    "\n",
    "# Adjust the layout\n",
    "plt.tight_layout()\n",
    "plt.show()"
   ]
  },
  {
   "cell_type": "code",
   "execution_count": null,
   "id": "fa635ce6",
   "metadata": {},
   "outputs": [],
   "source": []
  },
  {
   "cell_type": "code",
   "execution_count": 49,
   "id": "5b0428a1",
   "metadata": {},
   "outputs": [
    {
     "data": {
      "image/png": "[encoded data removed]",
      "text/plain": [
       "<Figure size 720x864 with 75 Axes>"
      ]
     },
     "metadata": {
      "needs_background": "light"
     },
     "output_type": "display_data"
    }
   ],
   "source": [
    "import matplotlib.pyplot as plt\n",
    "import matplotlib.gridspec as gridspec\n",
    "\n",
    "# Create the main figure\n",
    "fig = plt.figure(figsize=(10, 12))\n",
    "\n",
    "# Define GridSpec for the 4 main subplots\n",
    "outer_grid = gridspec.GridSpec(5, 3, fig)\n",
    "\n",
    "# Loop to create each of the 4 main subplots\n",
    "for i in range(15):\n",
    "    # Create a subplot in the outer grid\n",
    "    outer_ax = plt.Subplot(fig, outer_grid[i])\n",
    "    fig.add_subplot(outer_ax)\n",
    "\n",
    "#     # Define GridSpec for the 3 nested subplots inside the current main subplot\n",
    "    #inner_grid = gridspec.GridSpecFromSubplotSpec(1, 4, subplot_spec=outer_grid[i])\n",
    "    inner_grid = gridspec.GridSpecFromSubplotSpec(1, 4, subplot_spec=outer_grid[i], wspace=0.0)\n",
    "\n",
    "    #inner_grid.subplots_adjust(wspace=0.0)\n",
    "    \n",
    "#     axs[0].bar(1,windWarm, color = warmcol, width = tw)\n",
    "#     axs[0].bar(2,windOz, color = ozcol, width = tw)\n",
    "#     axs[1].bar(1,sstWarm, color = warmcol, width = tw)\n",
    "#     axs[1].bar(2,sstOz, color = ozcol, width = tw)\n",
    "#     axs[2].bar(1,mldWarm, color = warmcol, width = tw)\n",
    "#     axs[2].bar(2,mldOz, color = ozcol, width = tw)\n",
    "#     axs[3].bar(1,otWarm, color = warmcol, width = tw)\n",
    "#     axs[3].bar(2,otOz, color = ozcol, width = tw)\n",
    "#     # Loop to create each of the 3 nested subplots\n",
    "    for j in range(4):\n",
    "        # Create a subplot in the inner grid\n",
    "        inner_ax = plt.Subplot(fig, inner_grid[j])\n",
    "        fig.add_subplot(inner_ax)\n",
    "        inner_ax.spines['top'].set_visible(False)\n",
    "        inner_ax.spines['right'].set_visible(False)\n",
    "        \n",
    "    \n",
    "        if i>0:\n",
    "            inner_ax.set_yticks([])\n",
    "            inner_ax.set_xticks([])\n",
    "        # Plot your data here\n",
    "        # Example: inner_ax.plot([1, 2, 3], [1, 2, 3])\n",
    "\n",
    "        # Optional: Customize inner_ax (e.g., set labels, titles, etc.)\n",
    "\n",
    "    # Optional: Customize outer_ax (e.g., set titles)\n",
    "\n",
    "# Adjust layout\n",
    "plt.tight_layout()\n",
    "plt.show()"
   ]
  },
  {
   "cell_type": "code",
   "execution_count": null,
   "id": "fd1ded74",
   "metadata": {},
   "outputs": [],
   "source": [
    "savenam = 'test2.nc'\n",
    "data_vars = {'trend':(['period', 'season', 'quantity', 'forcing'], vomecrty.values,\n",
    "{'units': '/yr',\n",
    "'long_name':'Surface ocean pCO2'}),\n",
    "}\n",
    "# define coordinates\n",
    "coords = {'time_counter': (['time_counter'], time_counter),\n",
    "        'time_centered': (['time_centered'], time_centered),\n",
    "'nav_lat': (['y','x'], nav_lat),\n",
    "'nav_lon': (['y','x'], nav_lon),\n",
    "'depthv': (['depthv'], depthv)}\n",
    "# define global attributes\n",
    "attrs = {'made in':'SOZONE/MEDUSA/makeYearlyMEDUSAsubsetfiles.ipynb',\n",
    "'desc': 'yearly medusa files, saving only variables of interest'\n",
    "}\n",
    "ds = xr.Dataset(data_vars=data_vars,\n",
    "coords=coords,\n",
    "attrs=attrs)\n",
    "ds.to_netcdf(savenam)"
   ]
  }
 ],
 "metadata": {
  "kernelspec": {
   "display_name": "Python 3 (ipykernel)",
   "language": "python",
   "name": "python3"
  },
  "language_info": {
   "codemirror_mode": {
    "name": "ipython",
    "version": 3
   },
   "file_extension": ".py",
   "mimetype": "text/x-python",
   "name": "python",
   "nbconvert_exporter": "python",
   "pygments_lexer": "ipython3",
   "version": "3.7.11"
  }
 },
 "nbformat": 4,
 "nbformat_minor": 5
}

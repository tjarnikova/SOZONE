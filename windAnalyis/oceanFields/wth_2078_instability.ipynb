{
 "cells": [
  {
   "cell_type": "markdown",
   "id": "3f8bd87b",
   "metadata": {},
   "source": [
    "### aim: \n",
    "\n",
    "### date: "
   ]
  },
  {
   "cell_type": "code",
   "execution_count": 2,
   "id": "8012f094",
   "metadata": {},
   "outputs": [
    {
     "data": {
      "text/html": [
       "<script>\n",
       "code_show=true; \n",
       "function code_toggle() {\n",
       " if (code_show){\n",
       " $('div.input').hide();\n",
       " } else {\n",
       " $('div.input').show();\n",
       " }\n",
       " code_show = !code_show\n",
       "} \n",
       "$( document ).ready(code_toggle);\n",
       "</script>\n",
       "<form action=\"javascript:code_toggle()\"><input type=\"submit\" value=\"Click here to toggle on/off the raw code.\"></form>"
      ],
      "text/plain": [
       "<IPython.core.display.HTML object>"
      ]
     },
     "execution_count": 2,
     "metadata": {},
     "output_type": "execute_result"
    }
   ],
   "source": [
    "from IPython.display import HTML\n",
    "\n",
    "HTML('''<script>\n",
    "code_show=true; \n",
    "function code_toggle() {\n",
    " if (code_show){\n",
    " $('div.input').hide();\n",
    " } else {\n",
    " $('div.input').show();\n",
    " }\n",
    " code_show = !code_show\n",
    "} \n",
    "$( document ).ready(code_toggle);\n",
    "</script>\n",
    "<form action=\"javascript:code_toggle()\"><input type=\"submit\" value=\"Click here to toggle on/off the raw code.\"></form>''')\n"
   ]
  },
  {
   "cell_type": "code",
   "execution_count": 3,
   "id": "c99f764a",
   "metadata": {},
   "outputs": [
    {
     "name": "stdout",
     "output_type": "stream",
     "text": [
      "Once deleted, variables cannot be recovered. Proceed (y/[n])? y\n"
     ]
    }
   ],
   "source": [
    "%reset"
   ]
  },
  {
   "cell_type": "code",
   "execution_count": 4,
   "id": "7ba928a5",
   "metadata": {},
   "outputs": [],
   "source": [
    "import numpy as np\n",
    "from cmocean import cm\n",
    "import cartopy as cp\n",
    "import cartopy.crs as ccrs\n",
    "import netCDF4 as nc\n",
    "import matplotlib.pyplot as plt\n",
    "import xarray as xr\n",
    "import sys\n",
    "sys.path.append('/gpfs/home/mep22dku/scratch/SOZONE')\n",
    "#list of models\n",
    "sys.path.append('/gpfs/home/mep22dku/scratch/SOZONE/UTILS')\n",
    "import lom\n",
    "import utils as ut\n",
    "\n",
    "%matplotlib inline\n",
    "import warnings\n",
    "from datetime import datetime\n",
    "warnings.filterwarnings('ignore')\n",
    "import cartopy.feature as cfeature\n",
    "from importlib import reload\n",
    "import matplotlib.path as mpath\n",
    "import glob\n",
    "import pickle\n",
    "import pandas as pd\n",
    "import seawater\n",
    "import time\n",
    "plt.rcParams.update({'font.size': 12})\n",
    "font = {'family' : 'normal',\n",
    "'weight' : 'normal',\n",
    "'size'   : 12}\n",
    "\n",
    "plt.rc('font', **font)"
   ]
  },
  {
   "cell_type": "markdown",
   "id": "9b5f9ec7",
   "metadata": {},
   "source": [
    "## problem with instability in cal12 - run 1AA5 (test run, investigating TOM12_TJ_xxA3 series)\n",
    "\n",
    "model code: opa_DEV:/gpfs/home/mep22dku/scratch/modelTest/CAL12_v3/CONFIG/ORCA2_LIM_PlankTOM/BLD/bin/nemo.exe\n",
    "\n",
    "- run 1AA3 completes, but the co2 flux goes completely haywire (up) in 2078 and then does something asymptotic. This is true of the full series of 6 runs - all have the same problem in the same year. it was not true of the previous set of runs"
   ]
  },
  {
   "cell_type": "code",
   "execution_count": 6,
   "id": "4f4f1bbf",
   "metadata": {},
   "outputs": [],
   "source": [
    "\n",
    "plt.rc('font', **font)\n",
    "\n",
    "mod = {\n",
    "    '1A': {\n",
    "        'hist_str': 'bc370',\n",
    "        'fut_str': 'be682',\n",
    "        'name': 'HIST.OZONE \\n LOW TEMP.',\n",
    "        'name2':'1A: NatlOzone-SSP126',\n",
    "        'color':'#E8D215',\n",
    "        'runid':'TOM12_TJ_1AA1'},\n",
    "    '1B': {\n",
    "        'hist_str': 'bc370',\n",
    "        'fut_str': 'ce417',\n",
    "        'name': 'HIST. OZONE \\n HIGH TEMP.',\n",
    "        'name2':'1B: NatlOzone-SSP370',\n",
    "        'color':'#87800A',\n",
    "        'runid':'TOM12_TJ_1BA1'},\n",
    "    '2A': {\n",
    "        'hist_str': 'cj198',\n",
    "        'fut_str': 'cj880',\n",
    "        'name': 'FIXED OZONE \\n LOW TEMP.',\n",
    "        'name2':'2A: Ozone1950-SSP126',\n",
    "        'color':'#2DC18E',\n",
    "        'runid':'TOM12_TJ_2AA1'},\n",
    "    '2B': {\n",
    "        'hist_str': 'cj198',\n",
    "        'fut_str': 'cj881',\n",
    "        'name': 'FIXED OZONE \\n HIGH TEMP.',\n",
    "        'name2':'2B: Ozone1950-SSP370',\n",
    "        'color':'#18765C',\n",
    "        'runid':'TOM12_TJ_2BA1'},\n",
    "    '3A': {\n",
    "        'hist_str': 'cj200',\n",
    "        'fut_str': 'cj484',\n",
    "        'name': '1990 OZONE \\n LOW TEMP.',\n",
    "        'name2':'3A: Ozone1990-SSP126',\n",
    "        'color':'#FF462B',\n",
    "        'runid':'TOM12_TJ_3AA1'},\n",
    "    '3B': {\n",
    "        'hist_str': 'cj200',\n",
    "        'fut_str': 'cj504',\n",
    "        'name': '1990 OZONE \\n HIGH TEMP.',\n",
    "        'name2':'3B: Ozone1990-SSP370',\n",
    "        'color':'#822722',\n",
    "        'runid':'TOM12_TJ_3BA1'},\n",
    "    'PI': {\n",
    "        'hist_str': '',\n",
    "        'fut_str': '',\n",
    "        'name': 'PI OZONE \\n PI TEMP.',\n",
    "        'name2':'PI: OzonePI-PI',\n",
    "        'color':'silver',\n",
    "        'runid':'TOM12_TJ_PIA1'}\n",
    "}\n"
   ]
  },
  {
   "cell_type": "code",
   "execution_count": 7,
   "id": "b2daaec2",
   "metadata": {},
   "outputs": [
    {
     "data": {
      "text/plain": [
       "Text(0.5, 1.01, 'total Cflx, Pg/yr')"
      ]
     },
     "execution_count": 7,
     "metadata": {},
     "output_type": "execute_result"
    },
    {
     "data": {
      "text/plain": [
       "<Figure size 432x288 with 0 Axes>"
      ]
     },
     "metadata": {},
     "output_type": "display_data"
    },
    {
     "name": "stderr",
     "output_type": "stream",
     "text": [
      "findfont: Font family ['normal'] not found. Falling back to DejaVu Sans.\n"
     ]
    },
    {
     "data": {
      "image/png": "[encoded data removed]",
      "text/plain": [
       "<Figure size 950.4x633.6 with 1 Axes>"
      ]
     },
     "metadata": {},
     "output_type": "display_data"
    }
   ],
   "source": [
    "plt.figure()\n",
    "\n",
    "models = ['1A','1B','2A','2B','3A','3B',\\\n",
    "         ]\n",
    "\n",
    "# for i in range(0,6):#len(models)):\n",
    "    \n",
    "#     tmod = xr.open_dataset(f'./extracted-summary/Cflx_ukesm{models[i]}.nc')\n",
    "#     plt.plot(tmod.year,tmod.Cflx, color = mod[models[i]]['color'])\n",
    "    \n",
    "fact = 1.1\n",
    "fig, axs = plt.subplots(1,1, figsize=(12*fact, 8*fact), facecolor='w', edgecolor='k')\n",
    "\n",
    "\n",
    "for i in range(0,6):#len(models)):\n",
    "\n",
    "    tmod = xr.open_dataset(f'./extracted-summary/Cflx_tom_{models[i]}A3.nc')\n",
    "    axs.plot(tmod.year,tmod.Cflx, color = mod[models[i]]['color'], linestyle = '-', linewidth = 2)\n",
    "    axs.plot(tmod.year,tmod.Cflx, color = mod[models[i]]['color'], linestyle = '-', linewidth = 2)\n",
    "    \n",
    "# tits = ['UKESM', 'TOM12- DWmodel', 'CAL12', 'all models']\n",
    "# for i in range(0,4):\n",
    "#     axs[i].grid(linestyle = ':', color = 'grey')\n",
    "#     axs[i].set_xlim([1950,2100])\n",
    "#     axs[i].set_ylim([0,6])\n",
    "#     axs[i].set_title(tits[i])\n",
    "    \n",
    "plt.suptitle('total Cflx, Pg/yr', y = 1.01, fontsize = 20)"
   ]
  },
  {
   "cell_type": "markdown",
   "id": "6452b8f0",
   "metadata": {},
   "source": [
    "## is it an atmospheric problem (1AA5):\n",
    "\n",
    "    atmco2.dat points to atmco2.dat.variable points to meinshausen-based file:\n",
    "\n",
    "    lrwxrwxrwx 1 mep22dku greenocean  71 Oct  5 15:52 atmco2.dat.variable -> /gpfs/data/greenocean/software/resources/SOZONE_atmo/atmco2_ssp1-26.dat*\n",
    "    lrwxrwxrwx 1 mep22dku greenocean 105 Oct  5 15:52 atmco2.dat.static -> /gpfs/data/greenocean/software/resources/ModelResources/AtmosCO2/atmco2_dw_edit_4200_v3_CONSTANT_1750.dat\n",
    "    lrwxrwxrwx 1 mep22dku greenocean  89 Oct  5 15:52 atmco2cfc.dat -> /gpfs/data/greenocean/software/resources/ModelResources/AtmosCO2/atmco2cfc_NEEDS_WORK.dat\n",
    "    lrwxrwxrwx 1 mep22dku greenocean  19 Oct  5 15:52 atmco2.dat -> atmco2.dat.variable*\n",
    "\n",
    "    atmco2cfc is a bizarre file but i don't think that's the problem\n",
    "\n",
    "    something with cfcs, from ocean.output:\n",
    "\n",
    "    corrections      1.825     2.666     0.005     2.882     2.934     0.212     4.438\n",
    "      minfer =   1.0000000000000001E-015\n",
    "      Reading real atmospheric CO2 option\n",
    "      Reading atmospheric CFC\n",
    "      atm CFC11    21000101   0.0000000000000000        0.0000000000000000        0.0000000000000000\n",
    "     Caution: The date is outside tabulated values.\n",
    "     zyr, zyr(min) zyr(max) =    2100.0013698630137        1650.0419999999999        2077.5000000000000\n",
    "\n",
    "     ./NEMO/TOP_SRC/PlankTOM/bgcatm.F90:        write(numout,*)'Caution: The date is outside tabulated values.'\n",
    "     \n",
    "     !\n",
    "      IF (zyr .lt. yrco2(1) .OR. zyr .gt. yrco2(nmaxrec)) THEN\n",
    "        write(numout,*)'Caution: The date is outside tabulated values.'\n",
    "        write(numout,*)'zyr, zyr(min) zyr(max) = ', zyr, yrco2(1),yrco2(nmaxrec)"
   ]
  },
  {
   "cell_type": "code",
   "execution_count": null,
   "id": "eead3722",
   "metadata": {},
   "outputs": [],
   "source": [
    "\n",
    "fact = 1.1\n",
    "fig, axs = plt.subplots(1,1, figsize=(12*fact, 6*fact), facecolor='w', edgecolor='k')\n",
    "# axs = axs.ravel()\n",
    "\n",
    "ind = 0\n",
    "for i in range(0,len(models)):\n",
    "    tmod = models[i]\n",
    "    print(tmod)\n",
    "    trunid = mod[tmod]['runid']\n",
    "    \n",
    "    tdat = pd.read_csv(f'/gpfs/home/mep22dku/scratch/ModelRuns//{trunid}/breakdown.sur.annual.dat', sep='\\t')\n",
    "    tcol = mod[tmod]['color']\n",
    "    tlin = '-'#mod[tmod]['linestyle']\n",
    "    tdesc = mod[tmod]['runid']\n",
    "\n",
    "    tdat = pd.read_csv(f'/gpfs/home/mep22dku/scratch/ModelRuns//{trunid}/breakdown.sur.annual.dat', sep='\\t')\n",
    "    year = tdat.year[2:].to_numpy().astype(float)\n",
    "    Cflx_total = tdat.Cflx[2:].to_numpy().astype(float)\n",
    "    filt = (year>1700)\n",
    "    axs.plot(year[filt],Cflx_total[filt], linestyle = tlin, color = tcol, label = f'{tmod} \\n {tdesc}')\n",
    "\n",
    "    axs.legend(ncol = 4, loc = 'best', fontsize = 12)\n",
    "    axs.set_ylabel('global cflx Pg/y')\n",
    "    axs.grid(linestyle = ':')"
   ]
  },
  {
   "cell_type": "code",
   "execution_count": null,
   "id": "2327f0f3",
   "metadata": {},
   "outputs": [],
   "source": [
    "tmesh = xr.open_dataset('/gpfs/data/greenocean/software/resources/regrid/mesh_mask3_6.nc')\n",
    "tmesh['csize'] = tmesh.tmask[0,0,:,:] * tmesh.e1t[0,:,:] * tmesh.e2t[0,:,:]\n",
    "csize_broad = np.zeros([31,149,182])\n",
    "for i in range(0,31):\n",
    "    csize_broad[i,:,:] = tmesh['csize'].values\n",
    "cvol = csize_broad * tmesh['e3t_0'][0,:,:,:] * tmesh['tmask'][0,:,:,:]"
   ]
  }
 ],
 "metadata": {
  "kernelspec": {
   "display_name": "Python 3 (ipykernel)",
   "language": "python",
   "name": "python3"
  },
  "language_info": {
   "codemirror_mode": {
    "name": "ipython",
    "version": 3
   },
   "file_extension": ".py",
   "mimetype": "text/x-python",
   "name": "python",
   "nbconvert_exporter": "python",
   "pygments_lexer": "ipython3",
   "version": "3.7.11"
  }
 },
 "nbformat": 4,
 "nbformat_minor": 5
}

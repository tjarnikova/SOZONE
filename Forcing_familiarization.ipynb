{
 "cells": [
  {
   "cell_type": "code",
   "execution_count": 36,
   "metadata": {},
   "outputs": [
    {
     "data": {
      "text/html": [
       "<script>\n",
       "code_show=true; \n",
       "function code_toggle() {\n",
       " if (code_show){\n",
       " $('div.input').hide();\n",
       " } else {\n",
       " $('div.input').show();\n",
       " }\n",
       " code_show = !code_show\n",
       "} \n",
       "$( document ).ready(code_toggle);\n",
       "</script>\n",
       "<form action=\"javascript:code_toggle()\"><input type=\"submit\" value=\"Click here to toggle on/off the raw code.\"></form>"
      ],
      "text/plain": [
       "<IPython.core.display.HTML object>"
      ]
     },
     "execution_count": 36,
     "metadata": {},
     "output_type": "execute_result"
    }
   ],
   "source": [
    "from IPython.display import HTML\n",
    "\n",
    "HTML('''<script>\n",
    "code_show=true; \n",
    "function code_toggle() {\n",
    " if (code_show){\n",
    " $('div.input').hide();\n",
    " } else {\n",
    " $('div.input').show();\n",
    " }\n",
    " code_show = !code_show\n",
    "} \n",
    "$( document ).ready(code_toggle);\n",
    "</script>\n",
    "<form action=\"javascript:code_toggle()\"><input type=\"submit\" value=\"Click here to toggle on/off the raw code.\"></form>''')"
   ]
  },
  {
   "cell_type": "code",
   "execution_count": 3,
   "metadata": {},
   "outputs": [],
   "source": [
    "import numpy as np\n",
    "# from cmocean import cm\n",
    "import netCDF4 as nc\n",
    "import matplotlib.pyplot as plt"
   ]
  },
  {
   "cell_type": "markdown",
   "metadata": {},
   "source": [
    "#### Notes to self:\n",
    "#### OVERARCHING GOAL of project: \n",
    "Understand role of changing atmospheric ozone in carbon sink of the southern ocean\n",
    "#### Experimental design:\n",
    "\"Therefore, we will have three set of forcing, one with no ozone, one with ozone but no ozone recovery, and one with best estimated ozone recovery. This set will nicely border the possible evolution of ozone this century.\" (from CELOS grant)\n",
    "#### Goal of this notebook:\n",
    "Familiarize self with the various forcing products. \n",
    "#### Knowledge gaps to fill in:\n",
    "    - where are the 3 sets of forcing? how do they work?\n",
    "#### location notes from dave:\n",
    "    This is the standard forcing we use for our model runs\n",
    "            `/gpfs/data/greenocean/software/products/NCEPForcingData/`\n",
    "    ERA5 forcing (still being verified), in daily and 6-hourly\n",
    "            `/gpfs/data/greenocean/software/products/ERA5Forcing/`\n",
    "    This is what Kat Turner (master’s student) produced. The forcing data for the model based on the Met Office data\n",
    "            `/gpfs/data/greenocean/software/products/MetOffice/withOzone/`\n",
    "    This is the data we received from The Met Office (note we have 2 directories called < insert something unfathomable > )\n",
    "            `/gpfs/data/greenocean/software/resources/MetOffice/ozone/`\n",
    "\n",
    "#### "
   ]
  },
  {
   "cell_type": "markdown",
   "metadata": {},
   "source": [
    "### open some year of metoffice data"
   ]
  },
  {
   "cell_type": "code",
   "execution_count": 16,
   "metadata": {},
   "outputs": [
    {
     "name": "stdout",
     "output_type": "stream",
     "text": [
      "\n",
      "MetOffice_wind2020.nc file contents\n",
      "<class 'netCDF4._netCDF4.Dataset'>\n",
      "root group (NETCDF3_CLASSIC data model, file format NETCDF3):\n",
      "    dimensions(sizes): x(182), y(149), time_counter(365)\n",
      "    variables(dimensions): float32 \u001b[4mglam\u001b[0m(y,x), float32 \u001b[4mgphi\u001b[0m(y,x), float32 \u001b[4mtime_counter\u001b[0m(time_counter), float64 \u001b[4muwind10m\u001b[0m(time_counter,y,x), float64 \u001b[4mvwind10m\u001b[0m(time_counter,y,x)\n",
      "    groups: \n",
      "\n",
      "\n",
      "ncep_bulk_2020.nc file contents\n",
      "<class 'netCDF4._netCDF4.Dataset'>\n",
      "root group (NETCDF3_CLASSIC data model, file format NETCDF3):\n",
      "    dimensions(sizes): x(182), y(149), deptht(1), time_counter(366)\n",
      "    variables(dimensions): float32 \u001b[4mnav_lon\u001b[0m(y,x), float32 \u001b[4mnav_lat\u001b[0m(y,x), float32 \u001b[4mdeptht\u001b[0m(y,x), float32 \u001b[4mtime_counter\u001b[0m(time_counter), float32 \u001b[4mair\u001b[0m(time_counter,y,x), float32 \u001b[4mpres\u001b[0m(time_counter,y,x), float32 \u001b[4mhumidity\u001b[0m(time_counter,y,x), float32 \u001b[4mwspd\u001b[0m(time_counter,y,x), float32 \u001b[4muwnd\u001b[0m(time_counter,y,x), float32 \u001b[4mvwnd\u001b[0m(time_counter,y,x), float32 \u001b[4mtcdc\u001b[0m(time_counter,y,x), float32 \u001b[4mprate\u001b[0m(time_counter,y,x)\n",
      "    groups: \n",
      "\n"
     ]
    }
   ],
   "source": [
    "tdir = '/gpfs/data/greenocean/software/products/MetOffice/withOzone/'\n",
    "tfilmet = 'MetOffice_wind2020.nc'\n",
    "MO = nc.Dataset(f'{tdir}{tfilmet}')\n",
    "print('')\n",
    "print(f'{tfilmet} file contents')\n",
    "print(MO)\n",
    "\n",
    "tdirncep = '/gpfs/data/greenocean/software/products/NCEPForcingData/'\n",
    "tfilncep = 'ncep_bulk_2020.nc'\n",
    "print('')\n",
    "print(f'{tfilncep} file contents')\n",
    "NCEP = nc.Dataset(f'{tdirncep}{tfilncep}')\n",
    "print(NCEP)"
   ]
  },
  {
   "cell_type": "markdown",
   "metadata": {},
   "source": [
    "#### let's get out wind speed (sqrt(u2+v2)), plot one day for each, and plot domain averages over the course of the year"
   ]
  },
  {
   "cell_type": "code",
   "execution_count": 31,
   "metadata": {},
   "outputs": [
    {
     "name": "stdout",
     "output_type": "stream",
     "text": [
      "Met Office ozone forcing, year 2020 max. windspeed: 28.792690882133865\n",
      "Met Office ozone forcing, year 2020 min. windspeed: 0.0013395665318499729\n",
      "NCEP standard forcing, year 2020 max. windspeed: 31.512340545654297\n",
      "NCEP standard forcing, year 2020 min. windspeed: 0.0009264976833947003\n",
      "comparing calculated windspeed from the u and v velocities with what is included a priori in the netcdf:\n",
      "NCEP standard forcing, year 2020 max. windspeed: 31.82965660095215\n",
      "NCEP standard forcing, year 2020 min. windspeed: 0.0\n",
      "close but not identical...rounding? what?\n"
     ]
    }
   ],
   "source": [
    "MO_uw = MO['uwind10m'][:]\n",
    "MO_vw = MO['vwind10m'][:]\n",
    "MO_wspd = np.sqrt(MO_uw**2 + MO_vw**2)\n",
    "print(f'Met Office ozone forcing, year 2020 max. windspeed: {np.nanmax(MO_wspd)}')\n",
    "print(f'Met Office ozone forcing, year 2020 min. windspeed: {np.nanmin(MO_wspd)}')\n",
    "NCEP_uw = NCEP['uwnd'][:]\n",
    "NCEP_vw = NCEP['vwnd'][:]\n",
    "NCEP_origwspd = NCEP['wspd'][:]\n",
    "NCEP_wspd = np.sqrt(NCEP_uw**2 + NCEP_vw**2)\n",
    "print(f'NCEP standard forcing, year 2020 max. windspeed: {np.nanmax(NCEP_wspd)}')\n",
    "print(f'NCEP standard forcing, year 2020 min. windspeed: {np.nanmin(NCEP_wspd)}')\n",
    "print('comparing calculated windspeed from the u and v velocities with what is included a priori in the netcdf:')\n",
    "print(f'NCEP standard forcing, year 2020 max. windspeed: {np.nanmax(NCEP_origwspd)}')\n",
    "print(f'NCEP standard forcing, year 2020 min. windspeed: {np.nanmin(NCEP_origwspd)}')\n",
    "print('close but not identical...rounding? what?')"
   ]
  },
  {
   "cell_type": "code",
   "execution_count": 35,
   "metadata": {},
   "outputs": [
    {
     "data": {
      "image/png": "[encoded data removed]",
      "text/plain": [
       "<Figure size 1123.2x345.6 with 3 Axes>"
      ]
     },
     "metadata": {},
     "output_type": "display_data"
    }
   ],
   "source": [
    "fact = 0.6\n",
    "fig, axs = plt.subplots(1,3, figsize=(26*fact, 8*fact), facecolor='w', edgecolor='k')\n",
    "axs = axs.ravel()"
   ]
  },
  {
   "cell_type": "code",
   "execution_count": null,
   "metadata": {},
   "outputs": [],
   "source": []
  }
 ],
 "metadata": {
  "kernelspec": {
   "display_name": "Python 3",
   "language": "python",
   "name": "python3"
  },
  "language_info": {
   "codemirror_mode": {
    "name": "ipython",
    "version": 3
   },
   "file_extension": ".py",
   "mimetype": "text/x-python",
   "name": "python",
   "nbconvert_exporter": "python",
   "pygments_lexer": "ipython3",
   "version": "3.7.3"
  }
 },
 "nbformat": 4,
 "nbformat_minor": 4
}

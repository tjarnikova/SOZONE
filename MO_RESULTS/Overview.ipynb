{
 "cells": [
  {
   "cell_type": "markdown",
   "id": "394fab31-c5bd-4b71-ac65-46354472abe7",
   "metadata": {},
   "source": [
    "# Overview of key results so far"
   ]
  },
  {
   "cell_type": "markdown",
   "id": "1cac2c70-7dd9-46ce-94ef-27713d83fb2c",
   "metadata": {},
   "source": []
  },
  {
   "cell_type": "code",
   "execution_count": 19,
   "id": "3e349683-65ac-47c1-8a26-193b9b5c4163",
   "metadata": {},
   "outputs": [
    {
     "data": {
      "text/html": [
       "<script>\n",
       "code_show=true; \n",
       "function code_toggle() {\n",
       " if (code_show){\n",
       " $('div.input').hide();\n",
       " } else {\n",
       " $('div.input').show();\n",
       " }\n",
       " code_show = !code_show\n",
       "} \n",
       "$( document ).ready(code_toggle);\n",
       "</script>\n",
       "<form action=\"javascript:code_toggle()\"><input type=\"submit\" value=\"Click here to toggle on/off the raw code.\"></form>"
      ],
      "text/plain": [
       "<IPython.core.display.HTML object>"
      ]
     },
     "execution_count": 19,
     "metadata": {},
     "output_type": "execute_result"
    }
   ],
   "source": [
    "from IPython.display import HTML\n",
    "\n",
    "HTML('''<script>\n",
    "code_show=true; \n",
    "function code_toggle() {\n",
    " if (code_show){\n",
    " $('div.input').hide();\n",
    " } else {\n",
    " $('div.input').show();\n",
    " }\n",
    " code_show = !code_show\n",
    "} \n",
    "$( document ).ready(code_toggle);\n",
    "</script>\n",
    "<form action=\"javascript:code_toggle()\"><input type=\"submit\" value=\"Click here to toggle on/off the raw code.\"></form>''')\n"
   ]
  },
  {
   "cell_type": "markdown",
   "id": "e89107ec-293e-4381-b954-7ea476cd9d6f",
   "metadata": {},
   "source": [
    "# Introduction\n",
    "\n",
    "In this research project, we are interested in knowing how the future southern ocean carbon sink will be impacted by the interaction of 2 main drivers:\n",
    "\n",
    "- evolution of atmospheric O$_3$ concentration in the Southern Ocean \n",
    "    - 3 different scenarios:\n",
    "    - no ozone hole (\"Fixed Ozone\" or \"Ozone 1950\")\n",
    "    - ozone hole opens and then recovers (\"Hist. Ozone\")\n",
    "    - ozone hole opens around 1990 and then never recovers (\"1990 Ozone\")\n",
    "- evolution of atmospheric GHG concentrations\n",
    "    - 2 scenarios: \n",
    "    - SSP1-2.6 (LOW CARBON)\n",
    "    - SSP 3-7.0 (HIGH CARBON)\n",
    "    \n",
    "We force a model (currently PlankTOM12, with a small adaptation to prevent GOC \"explosions\", see https://nbviewer.org/github/tjarnikova/SOZONE/blob/master/MODPROC_ROBOT/MultiModelMonitor/SANITY_MONITOR.ipynb) with atmospheric forcing from 6 scenarios (combination of the above) of the UKESM1. This forcing has been adapted to work with NEMO (see https://nbviewer.org/github/tjarnikova/SOZONE/tree/master/MO_pipeline/ and https://docs.google.com/document/d/1sK9lCSdDUcnPzPrVHjrkluf2xh09VzTUMCh7yDlOkDk/edit). \n",
    "\n",
    "Here I'm keeping track of main results and considerations so far (with pictures!)"
   ]
  },
  {
   "cell_type": "markdown",
   "id": "c6edfeb6-5321-4797-93d4-526928e62eb4",
   "metadata": {},
   "source": [
    "# A) Comparison of 3 types of wind forcing\n",
    "\n",
    "The 3 types of wind forcing we can use to force a NEMO ocean model:\n",
    "\n",
    "- NCEP- NCEP/NCAR reanalysis (https://gitlab.com/env_greenocean/greenocean_documentation/-/blob/main/HowToCreateNCEPForcingFiles.pdf)\n",
    "    - /gpfs/data/greenocean/software/products/NCEPForcingData\n",
    "    - uses CLIO bulk formulation https://www.nemo-ocean.eu/doc/node49.html\n",
    "    - known wind issues, see docs on gitlab\n",
    "    - essentially observational\n",
    "    \n",
    "- ERA5\n",
    "    - /gpfs/data/greenocean/software/products/ERA5Forcing\n",
    "    - https://www.ecmwf.int/en/forecasts/datasets/reanalysis-datasets/era5\n",
    "    - uses CORE bulk formulation \n",
    "    - essentially observational\n",
    "    - issues around year 1979\n",
    "\n",
    "- MetOffice\n",
    "    - processed data is in: /gpfs/data/greenocean/software/resources/MetProcessed/MET_forcing/\n",
    "    - output of UKESM1 (not observational, has internal weather)\n",
    "    \n",
    "The 3 types of forcing are broadly comparable:\n",
    "https://nbviewer.org/github/tjarnikova/SOZONE/blob/master/prelimEvalForcing/wind_climatology_maps.ipynb\n",
    "\n",
    "But there are important differences:\n"
   ]
  },
  {
   "cell_type": "code",
   "execution_count": 20,
   "id": "8cf7b312-aa7d-4b36-b19b-dbcc4b4e08d6",
   "metadata": {},
   "outputs": [
    {
     "data": {
      "text/html": [
       "<img src=\"../uploadPics/windzonal.jpg\" width=\"400\" height=\"400\"/>"
      ],
      "text/plain": [
       "<IPython.core.display.Image object>"
      ]
     },
     "execution_count": 20,
     "metadata": {},
     "output_type": "execute_result"
    }
   ],
   "source": [
    "# from https://nbviewer.org/github/tjarnikova/SOZONE/blob/master/prelimEvalForcing/wind_climatology_maps.ipynb\n",
    "pdir = '../uploadPics/windzonal.jpg'\n",
    "from IPython.display import Image\n",
    "Image(url= pdir, width=400, height=400)"
   ]
  },
  {
   "cell_type": "markdown",
   "id": "70db2202-ef20-4c8b-8efe-5c9b8e00df2c",
   "metadata": {},
   "source": [
    "Basically, in general, NCEP starts out at a lower windspeed than UKESM1/ERA and experiences a stronger increase in winds over 1950-2020 in both summer and winter. Winter winds have increased only slightly in ERA/UKESM1, the increase in NCEp has been stronger. Net magnitudes of wind are also lower.\n",
    "\n",
    "Importantly/unsettlingly, the 3 different wind forcing products lead to differnt estimations of the total air-sea CO2 flux, both in the total domain and in the southern ocean specifically. A few key points from a summary figure of 4 runs (NCEP, ERA, MET with GOC brakes, MET without GOC brakes):\n",
    "\n",
    "1) The NCEP run (GAO1, blue, using CLIO) has somewhat lower uptake than the others, both globally and in SO specifically. \n",
    "    - this lower uptake is despite lower winds overall: high winds in SO should lead to lower carbon sink. \n",
    "    - on the other hand, the NCEP wind product is the only one that sees an increase in SO winds in winter, which could be the cause of a slowdown\n",
    "    - or it could have something to do with using CLIO instead of CORE.\n",
    "    \n",
    "2) The other 3 runs, using CORE and comparable though independent wind products, tend to have similar estimates of CO2 flux, both globally and in the SO. \n",
    "    - the \"weirdness\" in the first 30 years or so of the air-sea co2 flux in the yellow met office run is partly because this run is not spun up - will be fixed. after 30 years or so it seems to settle into giving very similar results to the two ERA5 runs.\n",
    "    \n",
    "3) We do see an effect of the GOC brakes (dotted black line vs grey line). In the 2010s, when the original DW_WE43 run has a GOC and EXP exlosion (goc and export increase unstably), the TJ_WE43 run has lower sink. Ie, less export > more outgassing > lower sink. \n",
    "\n",
    "My guess is that the bulk formulation, more than the wind speed magnitudes, determines the differences in flux here. However it means that important features (eg. '90s slowdown in SO CO2 uptake') may be a feature more of bulk formulation than windspeed magnitudes (or some combination of the two). "
   ]
  },
  {
   "cell_type": "code",
   "execution_count": 21,
   "id": "a8218150-ffcd-4e1b-bb97-eb32d644eb4c",
   "metadata": {},
   "outputs": [
    {
     "data": {
      "text/html": [
       "<img src=\"../uploadPics/co2flux_era_met_ncep.jpg\" width=\"700\" height=\"400\"/>"
      ],
      "text/plain": [
       "<IPython.core.display.Image object>"
      ]
     },
     "execution_count": 21,
     "metadata": {},
     "output_type": "execute_result"
    }
   ],
   "source": [
    "#https://nbviewer.org/github/tjarnikova/SOZONE/blob/master/MODPROC_ROBOT/MultiModelMonitor/CFLX_MONITOR.ipynb\n",
    "pdir = '../uploadPics/co2flux_era_met_ncep.jpg'\n",
    "from IPython.display import Image\n",
    "Image(url= pdir, width=700, height=400)\n"
   ]
  },
  {
   "cell_type": "markdown",
   "id": "ce5149fa-89dc-4e3d-9b4f-ce38058c72cd",
   "metadata": {},
   "source": [
    "We can also look a bit more in-depth at how the MET office winds compare with the ERA5 product. TL;DR: really quite well. \n",
    "\n",
    "I did some high-detail histograms here:\n",
    "https://nbviewer.org/github/tjarnikova/SOZONE/blob/master/windAnalyis/MonthlyERAMetHistograms.ipynb\n",
    "\n",
    "Here is a by-latitude comparison of the winds in ERA5 and Met Office:\n",
    "https://nbviewer.org/github/tjarnikova/SOZONE/blob/master/windAnalyis/LatitudinalWinds.ipynb\n",
    "\n",
    "A good summary figure from it is the following set of latitudinally-divided time-progressing histograms of summer wind speed for both ERA and MET/UKESM1:\n",
    "\n",
    "Obvious takeaways:\n",
    "- ERA and MO agree really pretty well, but best in midlatitudes -64 to - 55 say?\n",
    "- MO underestimates winds in high latitudes (near land/over ice )? but slightly overestimates in lower latitudes\n",
    "- the most obvious speedup of summer winds in both datasets is in bands something like -65 to -50 - a good place to look for results. "
   ]
  },
  {
   "cell_type": "code",
   "execution_count": 22,
   "id": "2d835804-5afe-4bb5-bf0e-760e7c4f5c22",
   "metadata": {},
   "outputs": [
    {
     "data": {
      "text/html": [
       "<img src=\"../uploadPics/lat_summer_winds_era_met.jpg\" width=\"500\" height=\"400\"/>"
      ],
      "text/plain": [
       "<IPython.core.display.Image object>"
      ]
     },
     "execution_count": 22,
     "metadata": {},
     "output_type": "execute_result"
    }
   ],
   "source": [
    "#https://nbviewer.org/github/tjarnikova/SOZONE/blob/master/windAnalyis/wind_violin.ipynb\n",
    "pdir = '../uploadPics/lat_summer_winds_era_met.jpg'\n",
    "from IPython.display import Image\n",
    "Image(url= pdir, width=500, height=400)"
   ]
  },
  {
   "cell_type": "markdown",
   "id": "d78a1c8a-49d4-4267-a221-eb534d464706",
   "metadata": {},
   "source": [
    "# B) Time trends in the UKESM1 forcing:\n",
    "\n",
    "I did a fairly in-depth analysis of how the winds shift in summer and winter. As expected (why?) we expect bigger shifts in summer than in winter. \n",
    "https://nbviewer.org/github/tjarnikova/SOZONE/blob/master/windAnalyis/wind_violin.ipynb\n",
    "\n",
    "Satisfyingly, the following (10-year running mean averaged, for clarity) analysis of the summer and winter winds shows what we expect to see: \n",
    "\n",
    "- increases in summer are bigger than in winter (expected)\n",
    "- high co2 scenarios always have higher wind speeds than lower co2 scenarios (expected)\n",
    "- in the ozone recovery scenario, the 2nd half of 21st century winds decrease again, but only under low carbon scen. (semi-expected, cool!)"
   ]
  },
  {
   "cell_type": "code",
   "execution_count": 23,
   "id": "cb6f793e-be4e-454c-9934-64be56e59729",
   "metadata": {},
   "outputs": [
    {
     "data": {
      "text/html": [
       "<img src=\"../uploadPics/wspd_10yrmean.jpg\" width=\"500\" height=\"400\"/>"
      ],
      "text/plain": [
       "<IPython.core.display.Image object>"
      ]
     },
     "execution_count": 23,
     "metadata": {},
     "output_type": "execute_result"
    }
   ],
   "source": [
    "#https://nbviewer.org/github/tjarnikova/SOZONE/blob/master/windAnalyis/wind_violin.ipynb\n",
    "pdir = '../uploadPics/wspd_10yrmean.jpg'\n",
    "from IPython.display import Image\n",
    "Image(url= pdir, width=500, height=400)"
   ]
  },
  {
   "cell_type": "markdown",
   "id": "c886638a-401c-46aa-8131-0b096f50a025",
   "metadata": {},
   "source": [
    "# C) Evolution of the SO carbon sink based on these 6 wind forcings\n",
    "\n",
    "So far I've run these 6 scenarios once, using PlankTOM12, from 1948 (a restart from DW_WE43). This version of the model seems to have a better ice model (says Dave), I added GOC brakes because things tend to go unstable otherwise. Here is a summary plot of the air-sea co2 flux and pco2 for the 6 runs. A more in-depth subdivision, with decadal and seasonal trends, is here: https://nbviewer.org/github/tjarnikova/SOZONE/blob/master/MO_RESULTS/SeasonalCflxFullRunset.ipynb\n",
    "\n",
    "Key takeaways: \n",
    "- the GHG signal completely overwhelms the O$_3$ signal - we see results between GHG scenarios but not between the O3 ones. differences between wind forcings seem too subtle?\n",
    "- there is a saturation of the global carbon sink in the latter half of the 21st century on a global level, under SSP3-7.0"
   ]
  },
  {
   "cell_type": "code",
   "execution_count": 24,
   "id": "6819f96b-7841-4384-9b44-017120897683",
   "metadata": {},
   "outputs": [
    {
     "data": {
      "text/html": [
       "<img src=\"../uploadPics/CFLX_SA_runs.jpg\" width=\"900\" height=\"400\"/>"
      ],
      "text/plain": [
       "<IPython.core.display.Image object>"
      ]
     },
     "execution_count": 24,
     "metadata": {},
     "output_type": "execute_result"
    }
   ],
   "source": [
    "#https://nbviewer.org/github/tjarnikova/SOZONE/blob/master/MO_RESULTS/SeasonalCflxFullRunset.ipynb\n",
    "pdir = '../uploadPics/CFLX_SA_runs.jpg'\n",
    "from IPython.display import Image\n",
    "Image(url= pdir, width=900, height=400)"
   ]
  },
  {
   "cell_type": "markdown",
   "id": "a8a79584-b17a-4cde-8b51-b4e326b7c3b3",
   "metadata": {},
   "source": [
    "So, why is there no response to differences in wind in the CO2 flux? I still don't really know. The effect size may be very small?  \n",
    "\n",
    "I made some videos:\n",
    "analysis here :https://nbviewer.org/github/tjarnikova/SOZONE/blob/master/MO_RESULTS/LatitudinalCflxWinds.ipynb\n",
    "and here: https://nbviewer.org/github/tjarnikova/SOZONE/blob/master/MO_RESULTS/plotsForMovies.ipynb\n",
    "\n",
    "- https://drive.google.com/drive/folders/1L9bRD2mZreUsLWG7QJGnpRXn8NqU8UWL\n",
    "\n",
    "It is very hard to tell differences between the wind behaviours of the different scenarios. Looking at latitudinal trends (first link) also doesn't tell us very much - though there are distinct patterns that I cannot explain. From part A, we know that the biggest changes in windspeed are between -65 and -50. \n"
   ]
  },
  {
   "cell_type": "code",
   "execution_count": null,
   "id": "40fc74f3-34ec-4cb6-b319-9e4e3b6de738",
   "metadata": {},
   "outputs": [],
   "source": []
  },
  {
   "cell_type": "code",
   "execution_count": null,
   "id": "814bd57d-edbb-4b3d-a22a-6b4a625bbb57",
   "metadata": {},
   "outputs": [],
   "source": []
  }
 ],
 "metadata": {
  "kernelspec": {
   "display_name": "Python 3 (ipykernel)",
   "language": "python",
   "name": "python3"
  },
  "language_info": {
   "codemirror_mode": {
    "name": "ipython",
    "version": 3
   },
   "file_extension": ".py",
   "mimetype": "text/x-python",
   "name": "python",
   "nbconvert_exporter": "python",
   "pygments_lexer": "ipython3",
   "version": "3.7.11"
  }
 },
 "nbformat": 4,
 "nbformat_minor": 5
}

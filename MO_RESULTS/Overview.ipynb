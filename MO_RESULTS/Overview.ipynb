{
 "cells": [
  {
   "cell_type": "markdown",
   "id": "394fab31-c5bd-4b71-ac65-46354472abe7",
   "metadata": {},
   "source": [
    "## Overview of Key Results so Far"
   ]
  },
  {
   "cell_type": "markdown",
   "id": "1cac2c70-7dd9-46ce-94ef-27713d83fb2c",
   "metadata": {},
   "source": []
  },
  {
   "cell_type": "code",
   "execution_count": null,
   "id": "3e349683-65ac-47c1-8a26-193b9b5c4163",
   "metadata": {},
   "outputs": [],
   "source": [
    "from IPython.display import HTML\n",
    "\n",
    "HTML('''<script>\n",
    "code_show=true; \n",
    "function code_toggle() {\n",
    " if (code_show){\n",
    " $('div.input').hide();\n",
    " } else {\n",
    " $('div.input').show();\n",
    " }\n",
    " code_show = !code_show\n",
    "} \n",
    "$( document ).ready(code_toggle);\n",
    "</script>\n",
    "<form action=\"javascript:code_toggle()\"><input type=\"submit\" value=\"Click here to toggle on/off the raw code.\"></form>''')\n"
   ]
  },
  {
   "cell_type": "markdown",
   "id": "e89107ec-293e-4381-b954-7ea476cd9d6f",
   "metadata": {},
   "source": [
    "In this research project, we are interested in knowing how the future southern ocean carbon sink will be impacted by the interaction of 2 main drivers:\n",
    "\n",
    "- evolution of atmospheric O$_3$ concentration in the Southern Ocean \n",
    "    - 3 different scenarios:\n",
    "    - no ozone hole (\"Fixed Ozone\" or \"Ozone 1950\")\n",
    "    - ozone hole opens and then recovers (\"Hist. Ozone\")\n",
    "    - ozone hole opens around 1990 and then never recovers (\"1990 Ozone\")\n",
    "- evolution of atmospheric GHG concentrations\n",
    "    - 2 scenarios: \n",
    "    - SSP1-2.6 (LOW CARBON)\n",
    "    - SSP 3-7.0 (HIGH CARBON)\n",
    "    \n",
    "We force a model (currently PlankTOM12, with a small adaptation to prevent GOC \"explosions\", see https://nbviewer.org/github/tjarnikova/SOZONE/blob/master/MODPROC_ROBOT/MultiModelMonitor/SANITY_MONITOR.ipynb) with atmospheric forcing from 6 scenarios (combination of the above) of the UKESM1. This forcing has been adapted to work with NEMO (see https://nbviewer.org/github/tjarnikova/SOZONE/tree/master/MO_pipeline/ and https://docs.google.com/document/d/1sK9lCSdDUcnPzPrVHjrkluf2xh09VzTUMCh7yDlOkDk/edit). \n",
    "\n",
    "\n",
    "\n",
    "\n"
   ]
  },
  {
   "cell_type": "code",
   "execution_count": 4,
   "id": "cb6f793e-be4e-454c-9934-64be56e59729",
   "metadata": {},
   "outputs": [
    {
     "data": {
      "text/html": [
       "<img src=\"../PICTURES/OVERVIEW/wspd_10yrmean.jpg\" width=\"700\" height=\"400\"/>"
      ],
      "text/plain": [
       "<IPython.core.display.Image object>"
      ]
     },
     "execution_count": 4,
     "metadata": {},
     "output_type": "execute_result"
    }
   ],
   "source": [
    "pdir = '../PICTURES/OVERVIEW/wspd_10yrmean.jpg'\n",
    "from IPython.display import Image\n",
    "Image(url= pdir, width=700, height=400)"
   ]
  },
  {
   "cell_type": "code",
   "execution_count": null,
   "id": "503bf8a4-4333-4c28-8a41-919ebe98c281",
   "metadata": {},
   "outputs": [],
   "source": [
    "from IPython.display import Image\n",
    "  \n",
    "# get the image\n",
    "Image(url=\"snowfall4.jpeg\", width=300, height=300)"
   ]
  }
 ],
 "metadata": {
  "kernelspec": {
   "display_name": "Python 3 (ipykernel)",
   "language": "python",
   "name": "python3"
  },
  "language_info": {
   "codemirror_mode": {
    "name": "ipython",
    "version": 3
   },
   "file_extension": ".py",
   "mimetype": "text/x-python",
   "name": "python",
   "nbconvert_exporter": "python",
   "pygments_lexer": "ipython3",
   "version": "3.7.11"
  }
 },
 "nbformat": 4,
 "nbformat_minor": 5
}

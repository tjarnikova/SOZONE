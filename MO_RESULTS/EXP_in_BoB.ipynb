{
 "cells": [
  {
   "cell_type": "markdown",
   "id": "0f22eb0b-0879-4d2e-ad12-df77bc05a769",
   "metadata": {},
   "source": [
    "## Export in Bay of Bengal seems to be unreasonably large at 100m"
   ]
  },
  {
   "cell_type": "code",
   "execution_count": null,
   "id": "61cb31f1-4628-48cc-8bee-218b1c4574c5",
   "metadata": {},
   "outputs": [],
   "source": []
  },
  {
   "cell_type": "code",
   "execution_count": 1,
   "id": "db137205-e837-4fe2-accd-5e5e2c5dcce7",
   "metadata": {},
   "outputs": [
    {
     "name": "stdin",
     "output_type": "stream",
     "text": [
      "Once deleted, variables cannot be recovered. Proceed (y/[n])?  y\n"
     ]
    }
   ],
   "source": [
    "%reset\n",
    "import sys\n",
    "sys.path.append('/gpfs/home/mep22dku/scratch/SOZONE/MO_pipeline/')\n",
    "sys.path.append('/gpfs/home/mep22dku/scratch/SOZONE/UTILS/')\n",
    "import scendict as sc\n",
    "import utils as ut\n",
    "import netCDF4 as nc\n",
    "import xarray as xr\n",
    "import numpy as np\n",
    "from importlib import reload\n",
    "reload(sc)\n",
    "reload(ut)\n",
    "\n",
    "import cartopy as cp\n",
    "import cartopy.crs as ccrs\n",
    "import cmocean as cm\n",
    "import matplotlib.pyplot as plt\n",
    "import warnings\n",
    "warnings.filterwarnings('ignore')\n",
    "import glob\n",
    "plt.rcParams.update({'font.size': 14})\n",
    "font = {'family' : 'normal',\n",
    "'weight' : 'bold',\n",
    "'size'   : 14}\n",
    "\n"
   ]
  },
  {
   "cell_type": "code",
   "execution_count": 2,
   "id": "68ddad81-157b-4c29-b3b8-64ac89eb0ae9",
   "metadata": {},
   "outputs": [
    {
     "data": {
      "text/html": [
       "<script>\n",
       "code_show=true; \n",
       "function code_toggle() {\n",
       " if (code_show){\n",
       " $('div.input').hide();\n",
       " } else {\n",
       " $('div.input').show();\n",
       " }\n",
       " code_show = !code_show\n",
       "} \n",
       "$( document ).ready(code_toggle);\n",
       "</script>\n",
       "<form action=\"javascript:code_toggle()\"><input type=\"submit\" value=\"Click here to toggle on/off the raw code.\"></form>"
      ],
      "text/plain": [
       "<IPython.core.display.HTML object>"
      ]
     },
     "execution_count": 2,
     "metadata": {},
     "output_type": "execute_result"
    }
   ],
   "source": [
    "from IPython.display import HTML\n",
    "\n",
    "HTML('''<script>\n",
    "code_show=true; \n",
    "function code_toggle() {\n",
    " if (code_show){\n",
    " $('div.input').hide();\n",
    " } else {\n",
    " $('div.input').show();\n",
    " }\n",
    " code_show = !code_show\n",
    "} \n",
    "$( document ).ready(code_toggle);\n",
    "</script>\n",
    "<form action=\"javascript:code_toggle()\"><input type=\"submit\" value=\"Click here to toggle on/off the raw code.\"></form>''')\n"
   ]
  },
  {
   "cell_type": "code",
   "execution_count": 3,
   "id": "bf69ee05-a2bf-463b-8590-576118965ac2",
   "metadata": {},
   "outputs": [],
   "source": [
    "ylist = ut.make_yearlist(1960,2020,'diad_T','TOM12_TJ_1AS1')\n",
    "with xr.set_options(enable_cftimeindex=True):\n",
    "    TJ_1AS1 = xr.open_mfdataset(ylist)\n",
    "    \n",
    "ylist = ut.make_yearlist_data(1960,2020,'diad_T','TOM12_DW_WE43')\n",
    "with xr.set_options(enable_cftimeindex=True):\n",
    "    DW_WE43 = xr.open_mfdataset(ylist)\n",
    "\n"
   ]
  },
  {
   "cell_type": "markdown",
   "id": "97a0d194-aa0c-40bb-b278-66468fc19a29",
   "metadata": {},
   "source": []
  },
  {
   "cell_type": "code",
   "execution_count": 4,
   "id": "394a3e2a-aeb9-482e-a624-46a0205cf76b",
   "metadata": {},
   "outputs": [],
   "source": [
    "tmesh = xr.open_dataset('/gpfs/data/greenocean/software/resources/regrid/mesh_mask3_6.nc')\n",
    "tmesh['csize'] = tmesh.tmask[0,0,:,:] * tmesh.e1t[0,:,:] * tmesh.e2t[0,:,:]\n",
    "tmesh['csize'].attrs = dict(\n",
    "        description=\"model cell area at surface, 0 if land\",\n",
    "        units=\"m^2\",\n",
    "    )\n",
    "tmesh['csize_100'] = tmesh.tmask[0,10,:,:] * tmesh.e1t[0,:,:] * tmesh.e2t[0,:,:]\n",
    "tmesh['csize_100'].attrs = dict(\n",
    "        description=\"model cell area at 100m, 0 if land\",\n",
    "        units=\"m^2\",\n",
    "    )"
   ]
  },
  {
   "cell_type": "code",
   "execution_count": null,
   "id": "27ea7a5a-9130-4052-95be-11d7ea21ce7c",
   "metadata": {},
   "outputs": [],
   "source": []
  },
  {
   "cell_type": "code",
   "execution_count": null,
   "id": "264af540-c00b-4fbc-89c2-47fa19c0e135",
   "metadata": {},
   "outputs": [],
   "source": []
  },
  {
   "cell_type": "code",
   "execution_count": 5,
   "id": "c55256a1-7af1-4f35-88d2-8221db6f786d",
   "metadata": {},
   "outputs": [],
   "source": [
    "Cflx_1AS1 = TJ_1AS1.Cflx\n",
    "EXP_1AS1 = TJ_1AS1.EXP[:,10,:,:]\n",
    "EXP_1AS1_percell = EXP_1AS1*tmesh.csize_100\n",
    "Cflx_1AS1_percell= Cflx_1AS1*tmesh.csize\n",
    "\n",
    "Cflx_WE43 = DW_WE43.Cflx\n",
    "EXP_WE43 = DW_WE43.EXP[:,10,:,:]\n",
    "EXP_WE43_percell = EXP_WE43*tmesh.csize_100\n",
    "Cflx_WE43_percell= Cflx_WE43*tmesh.csize\n",
    "\n"
   ]
  },
  {
   "cell_type": "code",
   "execution_count": null,
   "id": "03a850eb-f55e-4b50-83bb-b270316b80d3",
   "metadata": {},
   "outputs": [],
   "source": []
  },
  {
   "cell_type": "code",
   "execution_count": null,
   "id": "48f22cee-ff14-45c6-a460-5b7d360e92ed",
   "metadata": {},
   "outputs": [],
   "source": [
    "EXP_1AS1_percell_v = EXP_1AS1_percell.values\n",
    "Cflx_1AS1_percell_v = Cflx_1AS1_percell.values\n",
    "EXP_1AS1_percell_v[EXP_1AS1_percell_v==0] = np.nan\n",
    "\n",
    "EXP_WE43_percell_v = EXP_WE43_percell.values\n",
    "Cflx_WE43_percell_v = Cflx_WE43_percell.values\n",
    "EXP_WE43_percell_v[EXP_WE43_percell_v==0] = np.nan"
   ]
  },
  {
   "cell_type": "code",
   "execution_count": null,
   "id": "a35d3e35-5b6e-4cda-b1d0-ebd432b72761",
   "metadata": {},
   "outputs": [],
   "source": [
    "td = TJ_1AS1.indexes['time_counter'].to_datetimeindex()"
   ]
  },
  {
   "cell_type": "code",
   "execution_count": null,
   "id": "d4ffebbd-e786-48e0-a127-191536128bd8",
   "metadata": {},
   "outputs": [],
   "source": [
    "EXP_WE43.values[0,92,6]"
   ]
  },
  {
   "cell_type": "code",
   "execution_count": null,
   "id": "88a29dcb-7a35-4d95-98e6-f333d28eb25b",
   "metadata": {},
   "outputs": [],
   "source": [
    "EXP_WE43.values[0,91,6]"
   ]
  },
  {
   "cell_type": "code",
   "execution_count": null,
   "id": "6ef4e4d1-8bad-4f8b-b802-b8fcfea6047d",
   "metadata": {},
   "outputs": [],
   "source": [
    "tot_EXP_1AS1 = np.nansum(np.nansum(EXP_1AS1_percell_v, axis =2),axis = 1)\n",
    "plt.plot(td, EXP_1AS1_percell_v[:,92,6]/tot_EXP_1AS1*100, label = 'TJ_1AS1')\n",
    "tot_EXP_WE43 = np.nansum(np.nansum(EXP_WE43_percell_v, axis =2),axis = 1)\n",
    "plt.plot(td, EXP_WE43_percell_v[:,92,6]/tot_EXP_WE43*100, label = 'DW_WE43')\n",
    "plt.legend()\n",
    "w = plt.title('export at 100m (depth level 10 with python indexing) \\n at y = 92, x = 6 (21N, -90W, ie bay of bengal) \\n as percent of total 100m export flux of model')"
   ]
  },
  {
   "cell_type": "code",
   "execution_count": null,
   "id": "70ebe342-41a9-482d-a1e0-f5b119cd3130",
   "metadata": {},
   "outputs": [],
   "source": [
    "plt.figure()\n",
    "plt.pcolormesh(EXP_1AS1_percell_v[0,:,0:90], vmin = 1e5, vmax = 2e5, cmap = cm.cm.thermal_r)\n",
    "plt.colorbar(label = 'mol/s (per grid cell)')\n",
    "plt.title('export at 100m, TJ_1AS1, january 1960')\n",
    "\n",
    "plt.figure()\n",
    "plt.pcolormesh(EXP_WE43_percell_v[0,:,0:90], vmin = 5e4, vmax = 1.2e5, cmap = cm.cm.thermal_r)\n",
    "plt.colorbar(label = 'mol/s (per grid cell)')\n",
    "plt.title('export at 100m, DW_WE43, january 1960')"
   ]
  },
  {
   "cell_type": "code",
   "execution_count": null,
   "id": "55901ef6-126d-4802-98be-697712c8a479",
   "metadata": {},
   "outputs": [],
   "source": []
  },
  {
   "cell_type": "code",
   "execution_count": null,
   "id": "49b44084-3887-44ae-a589-be717cb24a04",
   "metadata": {},
   "outputs": [],
   "source": []
  },
  {
   "cell_type": "code",
   "execution_count": null,
   "id": "85a7ab6e-ef6d-48c3-81cf-649a8e600fde",
   "metadata": {},
   "outputs": [],
   "source": []
  }
 ],
 "metadata": {
  "kernelspec": {
   "display_name": "Python 3 (ipykernel)",
   "language": "python",
   "name": "python3"
  },
  "language_info": {
   "codemirror_mode": {
    "name": "ipython",
    "version": 3
   },
   "file_extension": ".py",
   "mimetype": "text/x-python",
   "name": "python",
   "nbconvert_exporter": "python",
   "pygments_lexer": "ipython3",
   "version": "3.7.11"
  }
 },
 "nbformat": 4,
 "nbformat_minor": 5
}

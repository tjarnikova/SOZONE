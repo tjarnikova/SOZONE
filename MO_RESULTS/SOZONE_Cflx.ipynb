{
 "cells": [
  {
   "cell_type": "code",
   "execution_count": 1,
   "id": "6971f811-d0a0-4047-82b2-1b2c875023e9",
   "metadata": {},
   "outputs": [
    {
     "data": {
      "text/html": [
       "<script>\n",
       "code_show=true; \n",
       "function code_toggle() {\n",
       " if (code_show){\n",
       " $('div.input').hide();\n",
       " } else {\n",
       " $('div.input').show();\n",
       " }\n",
       " code_show = !code_show\n",
       "} \n",
       "$( document ).ready(code_toggle);\n",
       "</script>\n",
       "<form action=\"javascript:code_toggle()\"><input type=\"submit\" value=\"Click here to toggle on/off the raw code.\"></form>"
      ],
      "text/plain": [
       "<IPython.core.display.HTML object>"
      ]
     },
     "execution_count": 1,
     "metadata": {},
     "output_type": "execute_result"
    }
   ],
   "source": [
    "from IPython.display import HTML\n",
    "\n",
    "HTML('''<script>\n",
    "code_show=true; \n",
    "function code_toggle() {\n",
    " if (code_show){\n",
    " $('div.input').hide();\n",
    " } else {\n",
    " $('div.input').show();\n",
    " }\n",
    " code_show = !code_show\n",
    "} \n",
    "$( document ).ready(code_toggle);\n",
    "</script>\n",
    "<form action=\"javascript:code_toggle()\"><input type=\"submit\" value=\"Click here to toggle on/off the raw code.\"></form>''')\n"
   ]
  },
  {
   "cell_type": "code",
   "execution_count": 14,
   "id": "13b8080f-6340-46c5-9251-ad0006481f06",
   "metadata": {},
   "outputs": [],
   "source": [
    "import sys\n",
    "sys.path.append('/gpfs/home/mep22dku/scratch/SOZONE/MO_pipeline/')\n",
    "import scendict as sc\n",
    "import netCDF4 as nc\n",
    "import xarray as xr\n",
    "import numpy as np\n",
    "import warnings\n",
    "import cartopy as cp\n",
    "import cartopy.crs as ccrs\n",
    "import cmocean as cm\n",
    "import matplotlib.pyplot as plt\n",
    "warnings.filterwarnings('ignore')\n",
    "import glob\n"
   ]
  },
  {
   "cell_type": "code",
   "execution_count": null,
   "id": "8d116b27-f2d4-48dc-9477-e862b54612d3",
   "metadata": {},
   "outputs": [],
   "source": []
  },
  {
   "cell_type": "code",
   "execution_count": 33,
   "id": "5c772332-ca06-43cf-b090-488ff6ec99c4",
   "metadata": {},
   "outputs": [],
   "source": [
    "## get surface area out\n",
    "tmesh = nc.Dataset('/gpfs/data/greenocean/software/resources/regrid/mesh_mask3_6.nc')\n",
    "surfarea_m2 = tmesh['tmaskutil'][0,:,:] * tmesh['e1t'][0,:,:] * tmesh['e2t'][0,:,:]\n",
    "#print(np.shape(surfarea_m2))\n",
    "days_in_month = np.array([31,28,31,30,31,30,31,31,30,31,30,31])\n",
    "surfar_times_days_in_month = np.zeros([12,149,182])\n",
    "\n",
    "for i in range(0,12):\n",
    "    surfar_times_days_in_month[i,:,:] = surfarea_m2 * days_in_month[i]"
   ]
  },
  {
   "cell_type": "code",
   "execution_count": 39,
   "id": "1741ba84-c866-4ca5-94f2-6d355dd3d729",
   "metadata": {},
   "outputs": [],
   "source": [
    "def get_yearly_Cflx(trun):\n",
    "    yrstart = 1948; yrend = 2100\n",
    "    yrs = np.arange(yrstart,yrend+1,1)\n",
    "    yearflx_ts = np.zeros([len(yrs)])\n",
    "    yearflx_ts_SO = np.zeros([len(yrs)])\n",
    "    rdir = '/gpfs/afm/greenocean/software/runs/TOM12_TJ_'\n",
    "    print(trun)\n",
    "    for i in range(0,len(yrs)):\n",
    "        if i%50 == 0:\n",
    "            print(i)\n",
    "        yr = yrs[i]\n",
    "        ncnam = 'diad'; varnam = 'Cflx'\n",
    "        w = glob.glob(f'{rdir}{trun}/ORCA*{yr}01*{ncnam}_T.nc')\n",
    "\n",
    "        try: \n",
    "            tnam = w[0]\n",
    "            tfil = nc.Dataset(tnam)\n",
    "\n",
    "            tq = tfil[varnam][:,:,:]\n",
    "            sid = 60*60*24\n",
    "        # now it's in petagrams total done by each cell \n",
    "            totflx = surfar_times_days_in_month * tq * sid * 12 * 1e-15\n",
    "            yrflx= np.nansum(totflx)\n",
    "            yearflx_ts[i] = yrflx\n",
    "            yrflx_SO= np.nansum(totflx[0:39,:,:])\n",
    "            yearflx_ts_SO[i] = yrflx_SO\n",
    "        except:\n",
    "            yearflx_ts[i] = np.nan\n",
    "            \n",
    "    return yearflx_ts, yearflx_ts_SO"
   ]
  },
  {
   "cell_type": "code",
   "execution_count": 48,
   "id": "c734db11-9c7b-4202-a181-f08b59d9fb33",
   "metadata": {},
   "outputs": [
    {
     "name": "stdout",
     "output_type": "stream",
     "text": [
      "1AS1\n",
      "0\n",
      "50\n",
      "100\n",
      "150\n",
      "1AC1\n",
      "0\n",
      "50\n",
      "100\n",
      "150\n",
      "1AW1\n",
      "0\n",
      "50\n",
      "100\n",
      "150\n",
      "2AS1\n",
      "0\n",
      "50\n",
      "100\n",
      "150\n",
      "2AC1\n",
      "0\n",
      "50\n",
      "100\n",
      "150\n",
      "2AS1\n",
      "0\n",
      "50\n",
      "100\n",
      "150\n"
     ]
    }
   ],
   "source": [
    "yearflx_1AS1 = get_yearly_Cflx('1AS1')\n",
    "yearflx_1AC1 = get_yearly_Cflx('1AC1')\n",
    "yearflx_1AW1 = get_yearly_Cflx('1AW1')\n",
    "yearflx_2AS1 = get_yearly_Cflx('2AS1')\n",
    "yearflx_2AC1 = get_yearly_Cflx('2AC1')\n",
    "yearflx_2AW1 = get_yearly_Cflx('2AS1')\n"
   ]
  },
  {
   "cell_type": "code",
   "execution_count": 50,
   "id": "954621d5-709c-429f-9a28-36f7e12eab0f",
   "metadata": {},
   "outputs": [
    {
     "data": {
      "image/png": "[encoded data removed]",
      "text/plain": [
       "<Figure size 864x691.2 with 2 Axes>"
      ]
     },
     "metadata": {},
     "output_type": "display_data"
    }
   ],
   "source": [
    "yrs = np.arange(1948,2101,1)\n",
    "plotlab = ['yearflx_1AS1','yearflx_1AW1','yearflx_1AC1','yearflx_2AS1','yearflx_2AW1','yearflx_2AC1']\n",
    "plot = [yearflx_1AS1,yearflx_1AW1,yearflx_1AC1,yearflx_2AS1,yearflx_2AW1,yearflx_2AC1]\n",
    "\n",
    "fact = 0.6\n",
    "fig, axs = plt.subplots(2,1, figsize=(20*fact, 16*fact), \\\n",
    "                        facecolor='w', edgecolor='k')\n",
    "axs = axs.ravel()\n",
    "for i in range(0,3):\n",
    "    axs[0].plot(yrs,plot[i],label = plotlab[i])\n",
    "    axs[0].legend()"
   ]
  },
  {
   "cell_type": "code",
   "execution_count": null,
   "id": "5c178ce0-f144-456a-a216-f7789b3f96e9",
   "metadata": {},
   "outputs": [],
   "source": []
  }
 ],
 "metadata": {
  "kernelspec": {
   "display_name": "Python 3 (ipykernel)",
   "language": "python",
   "name": "python3"
  },
  "language_info": {
   "codemirror_mode": {
    "name": "ipython",
    "version": 3
   },
   "file_extension": ".py",
   "mimetype": "text/x-python",
   "name": "python",
   "nbconvert_exporter": "python",
   "pygments_lexer": "ipython3",
   "version": "3.7.11"
  }
 },
 "nbformat": 4,
 "nbformat_minor": 5
}

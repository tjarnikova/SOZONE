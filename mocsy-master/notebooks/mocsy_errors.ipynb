{
 "cells": [
  {
   "cell_type": "markdown",
   "metadata": {},
   "source": [
    "# Examples of propagating uncertainties in mocsy"
   ]
  },
  {
   "cell_type": "markdown",
   "metadata": {},
   "source": [
    "<hr>\n",
    "James Orr - 11 November 2018<br>\n",
    "\n",
    "<img align=\"left\" width=\"60%\" src=\"http://www.lsce.ipsl.fr/Css/img/banniere_LSCE_75.png\" \\><br><br>\n",
    "\n",
    "LSCE/IPSL, CEA-CNRS-UVSQ, Gif-sur-Yvette, France\n",
    "<hr>"
   ]
  },
  {
   "cell_type": "markdown",
   "metadata": {},
   "source": [
    "#### Table of contents:\n",
    "1. Download, build, and import mocsy\n",
    "2. Simple use of mocsy's `vars` routine\n",
    "3. Simple use of mocsy's `errors` routine"
   ]
  },
  {
   "cell_type": "markdown",
   "metadata": {},
   "source": [
    "## 1. Setup"
   ]
  },
  {
   "cell_type": "markdown",
   "metadata": {},
   "source": [
    "### 1.1 Download and build `mocsy` (Do this only once)\n",
    "Put code into `./code/mocsy` subdirectory and build `mocsy.so` for import into python \n",
    "\n",
    "The build process might take a couple of minutes, depending our your computer"
   ]
  },
  {
   "cell_type": "code",
   "execution_count": null,
   "metadata": {
    "collapsed": false
   },
   "outputs": [],
   "source": [
    "%%bash\n",
    "pwd\n",
    "mkdir code\n",
    "cd code\n",
    "git clone https://github.com/jamesorr/mocsy.git\n",
    "cd mocsy\n",
    "make\n",
    "pwd"
   ]
  },
  {
   "cell_type": "markdown",
   "metadata": {},
   "source": [
    "### 1.2 Import standard python libraries"
   ]
  },
  {
   "cell_type": "code",
   "execution_count": 1,
   "metadata": {
    "collapsed": false
   },
   "outputs": [],
   "source": [
    "## Preliminaries\n",
    "import numpy as np\n",
    "import pandas as pd\n",
    "import os, sys"
   ]
  },
  {
   "cell_type": "markdown",
   "metadata": {},
   "source": [
    "### 1.3 Import mocsy (after specifying location of its shared object file)"
   ]
  },
  {
   "cell_type": "markdown",
   "metadata": {},
   "source": [
    "The first uncommented line below is the subdirectory where the `make` command was executed (where `mocsy.so` is located)"
   ]
  },
  {
   "cell_type": "code",
   "execution_count": 2,
   "metadata": {
    "collapsed": false
   },
   "outputs": [],
   "source": [
    "# Comment out 1st line below, and Uncomment 2nd line below (if you have run the cell above under section 1.1)\n",
    "mocsy_dir = \"/homel/orr/Software/fortran/mocsy\"\n",
    "#mocsy_dir = \"./code/mocsy\"\n",
    "\n",
    "sys.path.append (mocsy_dir)\n",
    "import mocsy"
   ]
  },
  {
   "cell_type": "markdown",
   "metadata": {},
   "source": [
    "## 2. Compute derived variables using mocsy's `vars` routine\n",
    "\n",
    "For starters, begin with a simple example of how to call (in python) mocsy's most used routine, `vars`"
   ]
  },
  {
   "cell_type": "markdown",
   "metadata": {},
   "source": [
    "#### Some basic documentation"
   ]
  },
  {
   "cell_type": "code",
   "execution_count": 3,
   "metadata": {
    "collapsed": true
   },
   "outputs": [
    {
     "name": "stdout",
     "output_type": "stream",
     "text": [
      "ph,pco2,fco2,co2,hco3,co3,omegaa,omegac,betad,rhosw,p,tempis = vars(temp,sal,alk,dic,sil,phos,patm,depth,lat,optcon,optt,optp,[optb,optk1k2,optkf,optgas,opts,lon,verbose])\n",
      "\n",
      "Wrapper for ``vars``.\n",
      "\n",
      "Parameters\n",
      "----------\n",
      "temp : input rank-1 array('d') with bounds (n)\n",
      "sal : input rank-1 array('d') with bounds (n)\n",
      "alk : input rank-1 array('d') with bounds (n)\n",
      "dic : input rank-1 array('d') with bounds (n)\n",
      "sil : input rank-1 array('d') with bounds (n)\n",
      "phos : input rank-1 array('d') with bounds (n)\n",
      "patm : input rank-1 array('d') with bounds (n)\n",
      "depth : input rank-1 array('d') with bounds (n)\n",
      "lat : input rank-1 array('d') with bounds (n)\n",
      "optcon : input string(len=6)\n",
      "optt : input string(len=7)\n",
      "optp : input string(len=2)\n",
      "\n",
      "Other Parameters\n",
      "----------------\n",
      "optb : input string(len=3), optional\n",
      "    Default: 'l10'\n",
      "optk1k2 : input string(len=3), optional\n",
      "    Default: 'l'\n",
      "optkf : input string(len=2), optional\n",
      "    Default: 'pf'\n",
      "optgas : input string(len=7), optional\n",
      "    Default: 'pinsitu'\n",
      "opts : input string(len=4), optional\n",
      "    Default: 'sprc'\n",
      "lon : input rank-1 array('d') with bounds (n)\n",
      "verbose : input int\n",
      "\n",
      "Returns\n",
      "-------\n",
      "ph : rank-1 array('d') with bounds (n)\n",
      "pco2 : rank-1 array('d') with bounds (n)\n",
      "fco2 : rank-1 array('d') with bounds (n)\n",
      "co2 : rank-1 array('d') with bounds (n)\n",
      "hco3 : rank-1 array('d') with bounds (n)\n",
      "co3 : rank-1 array('d') with bounds (n)\n",
      "omegaa : rank-1 array('d') with bounds (n)\n",
      "omegac : rank-1 array('d') with bounds (n)\n",
      "betad : rank-1 array('d') with bounds (n)\n",
      "rhosw : rank-1 array('d') with bounds (n)\n",
      "p : rank-1 array('d') with bounds (n)\n",
      "tempis : rank-1 array('d') with bounds (n)\n",
      "\n"
     ]
    }
   ],
   "source": [
    "print mocsy.mvars.vars.__doc__"
   ]
  },
  {
   "cell_type": "markdown",
   "metadata": {},
   "source": [
    "#### Specify input variables and options"
   ]
  },
  {
   "cell_type": "code",
   "execution_count": 4,
   "metadata": {
    "collapsed": false
   },
   "outputs": [],
   "source": [
    "# Options:\n",
    "optCON  = 'mol/kg' \n",
    "optT    = 'Tinsitu'\n",
    "optP    = 'm'      \n",
    "#optB    = 'l10'\n",
    "optB    = 'u74'\n",
    "optK1K2 = 'l'\n",
    "optKf   = 'dg'\n",
    "\n",
    "# Standard 6 input variables\n",
    "temp   = 18.0  \n",
    "sal    = 35.0  \n",
    "alk    = 2300.e-6\n",
    "dic    = 2000.e-6\n",
    "#phos   = 2.0e-6   \n",
    "#sil   = 60.0e-6 \n",
    "phos   = 0.0e-6   \n",
    "sil    = 0.0e-6 \n",
    "\n",
    "# Other standard input (depth, atm pressure, latitude)\n",
    "depth  = 0.\n",
    "Patm   = 1.0        \n",
    "lat    = 0."
   ]
  },
  {
   "cell_type": "markdown",
   "metadata": {},
   "source": [
    "#### Call the `vars` routine"
   ]
  },
  {
   "cell_type": "code",
   "execution_count": 5,
   "metadata": {
    "collapsed": false
   },
   "outputs": [],
   "source": [
    "ph, pco2, fco2, co2, hco3, co3, OmegaA, OmegaC, BetaD, rhoSW, p, tempis =    mocsy.mvars.vars(\n",
    "temp, sal, alk, dic, sil, phos, Patm, depth, lat,\n",
    "optCON, optT, optP, optb=optB, optk1k2=optK1K2, optkf=optKf    )"
   ]
  },
  {
   "cell_type": "markdown",
   "metadata": {},
   "source": [
    "#### Print output"
   ]
  },
  {
   "cell_type": "code",
   "execution_count": 6,
   "metadata": {
    "collapsed": false
   },
   "outputs": [
    {
     "name": "stdout",
     "output_type": "stream",
     "text": [
      "[ 8.15244557] [ 298.14547549] [ 297.10842043] [  1.01871371e-05] [ 0.00177925] [ 0.00021056] [ 3.25176155] [ 5.02857045] [ 9.68872071] [ 1025.27206239] [ 0.] [ 18.]\n"
     ]
    }
   ],
   "source": [
    "print ph, pco2, fco2, co2, hco3, co3, OmegaA, OmegaC, BetaD, rhoSW, p, tempis"
   ]
  },
  {
   "cell_type": "markdown",
   "metadata": {},
   "source": [
    "## 3. Example use of `errors` routine"
   ]
  },
  {
   "cell_type": "code",
   "execution_count": 7,
   "metadata": {
    "collapsed": true
   },
   "outputs": [
    {
     "name": "stdout",
     "output_type": "stream",
     "text": [
      "eh,epco2,efco2,eco2,ehco3,eco3,eomegaa,eomegac = errors(temp,sal,alk,dic,sil,phos,patm,depth,lat,etemp,esal,ealk,edic,esil,ephos,optcon,optt,optp,[optb,optk1k2,optkf,optgas,opts,lon,r,epk,ebt])\n",
      "\n",
      "Wrapper for ``errors``.\n",
      "\n",
      "Parameters\n",
      "----------\n",
      "temp : input rank-1 array('d') with bounds (n)\n",
      "sal : input rank-1 array('d') with bounds (n)\n",
      "alk : input rank-1 array('d') with bounds (n)\n",
      "dic : input rank-1 array('d') with bounds (n)\n",
      "sil : input rank-1 array('d') with bounds (n)\n",
      "phos : input rank-1 array('d') with bounds (n)\n",
      "patm : input rank-1 array('d') with bounds (n)\n",
      "depth : input rank-1 array('d') with bounds (n)\n",
      "lat : input rank-1 array('d') with bounds (n)\n",
      "etemp : input rank-1 array('d') with bounds (n)\n",
      "esal : input rank-1 array('d') with bounds (n)\n",
      "ealk : input rank-1 array('d') with bounds (n)\n",
      "edic : input rank-1 array('d') with bounds (n)\n",
      "esil : input rank-1 array('d') with bounds (n)\n",
      "ephos : input rank-1 array('d') with bounds (n)\n",
      "optcon : input string(len=6)\n",
      "optt : input string(len=7)\n",
      "optp : input string(len=2)\n",
      "\n",
      "Other Parameters\n",
      "----------------\n",
      "optb : input string(len=3), optional\n",
      "    Default: 'u74'\n",
      "optk1k2 : input string(len=3), optional\n",
      "    Default: 'l'\n",
      "optkf : input string(len=2), optional\n",
      "    Default: 'pf'\n",
      "optgas : input string(len=7), optional\n",
      "    Default: 'pinsitu'\n",
      "opts : input string(len=7), optional\n",
      "    Default: 'sprc'\n",
      "lon : input rank-1 array('d') with bounds (n)\n",
      "r : input float, optional\n",
      "    Default: 0.0\n",
      "epk : input rank-1 array('d') with bounds (7), optional\n",
      "    Default: (0.002,0.0075,0.015,0.01,0.01,0.02,0.02)\n",
      "ebt : input float, optional\n",
      "    Default: 0.02\n",
      "\n",
      "Returns\n",
      "-------\n",
      "eh : rank-1 array('d') with bounds (n)\n",
      "epco2 : rank-1 array('d') with bounds (n)\n",
      "efco2 : rank-1 array('d') with bounds (n)\n",
      "eco2 : rank-1 array('d') with bounds (n)\n",
      "ehco3 : rank-1 array('d') with bounds (n)\n",
      "eco3 : rank-1 array('d') with bounds (n)\n",
      "eomegaa : rank-1 array('d') with bounds (n)\n",
      "eomegac : rank-1 array('d') with bounds (n)\n",
      "\n"
     ]
    }
   ],
   "source": [
    "print mocsy.merrors.__doc__"
   ]
  },
  {
   "cell_type": "markdown",
   "metadata": {},
   "source": [
    "#### Define errors"
   ]
  },
  {
   "cell_type": "code",
   "execution_count": 9,
   "metadata": {
    "collapsed": false
   },
   "outputs": [],
   "source": [
    "#etemp, esal = 0.01, 0.01\n",
    "etemp, esal = 0.0, 0.0\n",
    "ealk, edic = 2e-6, 2e-6\n",
    "esil = 5e-6\n",
    "ephos = 0.1e-6"
   ]
  },
  {
   "cell_type": "markdown",
   "metadata": {},
   "source": [
    "#### Basic call to `errors` routine "
   ]
  },
  {
   "cell_type": "code",
   "execution_count": 10,
   "metadata": {
    "collapsed": false
   },
   "outputs": [
    {
     "name": "stdout",
     "output_type": "stream",
     "text": [
      "[  1.88235588e-10] [ 9.42437971] [ 9.39158749] [  3.18579388e-07] [  4.31598697e-06] [  3.08021391e-06] [ 0.15712288] [ 0.24297706]\n"
     ]
    }
   ],
   "source": [
    "[eH, epCO2, efCO2, eCO2, eHCO3, eCO3, eOmegaA, eOmegaC] = \\\n",
    "mocsy.merrors(\n",
    "temp, sal, alk, dic, sil, phos, Patm, depth, lat,\n",
    "etemp, esal, ealk, edic, esil, ephos,\n",
    "optCON, optT, optP, optb=optB, optk1k2=optK1K2, optkf=optKf, optgas='Pinsitu', ebt=0.01)\n",
    "print eH, epCO2, efCO2, eCO2, eHCO3, eCO3, eOmegaA, eOmegaC"
   ]
  },
  {
   "cell_type": "code",
   "execution_count": 14,
   "metadata": {
    "collapsed": false
   },
   "outputs": [
    {
     "name": "stdout",
     "output_type": "stream",
     "text": [
      "[  1.92787864e-10] [ 9.62209854] [ 9.58861836] [  3.25406441e-07] [  4.44296389e-06] [  3.27782684e-06] [ 0.15807355] [ 0.2444472]\n"
     ]
    }
   ],
   "source": [
    "[eH, epCO2, efCO2, eCO2, eHCO3, eCO3, eOmegaA, eOmegaC] = \\\n",
    "mocsy.merrors(\n",
    "temp, sal, alk, dic, sil, phos, Patm, depth, lat,\n",
    "etemp, esal, ealk, edic, esil, ephos,\n",
    "optCON, optT, optP, optb=optB, optk1k2=optK1K2, optkf=optKf, optgas='Pinsitu')\n",
    "print eH, epCO2, efCO2, eCO2, eHCO3, eCO3, eOmegaA, eOmegaC"
   ]
  },
  {
   "cell_type": "markdown",
   "metadata": {},
   "source": [
    "#### Call `errors` specifying most all of the arguments, including the optional ones for just the errors routine (r, epk, and ebt). \n",
    "In the cell below, the results would be identical if those 3 options were not present, because the values listed are the defaults in the `errors` routine:\n",
    "* r = 0.0 (no correlation between uncertainties in input pair (ealk and edic).\n",
    "* epk = a 7-member vector for the uncertainties in the equil. constants (K0, K1, K2, Kb, Kw, Ka, Kc) in pK units\n",
    "* ebt = the uncertainty in total boron, a relative fractional error  [i.e., ebt = 0.02 is a 2% error, the default]"
   ]
  },
  {
   "cell_type": "markdown",
   "metadata": {},
   "source": [
    "### 3.1 Errors, specifying standard r, epK, eBt"
   ]
  },
  {
   "cell_type": "code",
   "execution_count": 15,
   "metadata": {
    "collapsed": false
   },
   "outputs": [
    {
     "name": "stdout",
     "output_type": "stream",
     "text": [
      "[  1.92787864e-10] [ 9.62209854] [ 9.58861836] [  3.25406441e-07] [  4.44296389e-06] [  3.27782684e-06] [ 0.15807355] [ 0.2444472]\n"
     ]
    }
   ],
   "source": [
    "[eH, epCO2, efCO2, eCO2, eHCO3, eCO3, eOmegaA, eOmegaC] = \\\n",
    "mocsy.merrors(\n",
    "temp, sal, alk, dic, sil, phos, Patm, depth, lat,\n",
    "etemp, esal, ealk, edic, esil, ephos,\n",
    "optCON, optT, optP, optb=optB, optk1k2=optK1K2, optkf=optKf, \n",
    "r=0.0, epk=np.array([0.002,0.0075,0.015,0.01,0.01,0.02,0.02]), ebt=0.02)\n",
    "\n",
    "print eH, epCO2, efCO2, eCO2, eHCO3, eCO3, eOmegaA, eOmegaC"
   ]
  },
  {
   "cell_type": "markdown",
   "metadata": {},
   "source": [
    "### 3.2 Errors, assuming defaults for r, epK, eBt"
   ]
  },
  {
   "cell_type": "code",
   "execution_count": 16,
   "metadata": {
    "collapsed": false
   },
   "outputs": [
    {
     "name": "stdout",
     "output_type": "stream",
     "text": [
      "[  1.92787864e-10] [ 9.62209854] [ 9.58861836] [  3.25406441e-07] [  4.44296389e-06] [  3.27782684e-06] [ 0.15807355] [ 0.2444472]\n"
     ]
    }
   ],
   "source": [
    "[eH, epCO2, efCO2, eCO2, eHCO3, eCO3, eOmegaA, eOmegaC] = \\\n",
    "mocsy.merrors(\n",
    "temp, sal, alk, dic, sil, phos, Patm, depth, lat,\n",
    "etemp, esal, ealk, edic, esil, ephos,\n",
    "optCON, optT, optP, optb=optB, optk1k2=optK1K2, optkf=optKf)\n",
    "\n",
    "print eH, epCO2, efCO2, eCO2, eHCO3, eCO3, eOmegaA, eOmegaC"
   ]
  },
  {
   "cell_type": "markdown",
   "metadata": {},
   "source": [
    "### 3.3 Errors, specifying 0 for r, epK, eBt"
   ]
  },
  {
   "cell_type": "code",
   "execution_count": 17,
   "metadata": {
    "collapsed": false
   },
   "outputs": [
    {
     "name": "stdout",
     "output_type": "stream",
     "text": [
      "[  7.51501817e-11] [ 3.72766291] [ 3.71469247] [  1.27367921e-07] [  3.43481808e-06] [  1.87214484e-06] [ 0.02891188] [ 0.04470975]\n"
     ]
    }
   ],
   "source": [
    "[eH, epCO2, efCO2, eCO2, eHCO3, eCO3, eOmegaA, eOmegaC] = \\\n",
    "mocsy.merrors(\n",
    "temp, sal, alk, dic, sil, phos, Patm, depth, lat,\n",
    "etemp, esal, ealk, edic, esil, ephos,\n",
    "optCON, optT, optP, optb=optB, optk1k2=optK1K2, optkf=optKf, \n",
    "epk=np.array([0.000,0.000,0.00,0.00,0.00,0.00,0.00]), ebt=0.00)\n",
    "\n",
    "print eH, epCO2, efCO2, eCO2, eHCO3, eCO3, eOmegaA, eOmegaC"
   ]
  },
  {
   "cell_type": "markdown",
   "metadata": {},
   "source": [
    "### 3.3 Errors, specifying r=1.0"
   ]
  },
  {
   "cell_type": "code",
   "execution_count": 18,
   "metadata": {
    "collapsed": false
   },
   "outputs": [
    {
     "name": "stdout",
     "output_type": "stream",
     "text": [
      "[  1.77609844e-10] [ 8.88676459] [ 8.85584301] [  2.99999693e-07] [  3.40300633e-06] [  2.69160507e-06] [ 0.15541128] [ 0.24033022]\n"
     ]
    }
   ],
   "source": [
    "[eH, epCO2, efCO2, eCO2, eHCO3, eCO3, eOmegaA, eOmegaC] = \\\n",
    "mocsy.merrors(\n",
    "temp, sal, alk, dic, sil, phos, Patm, depth, lat,\n",
    "etemp, esal, ealk, edic, esil, ephos,\n",
    "optCON, optT, optP, optb=optB, optk1k2=optK1K2, optkf=optKf, r=1.0)\n",
    "\n",
    "print eH, epCO2, efCO2, eCO2, eHCO3, eCO3, eOmegaA, eOmegaC"
   ]
  }
 ],
 "metadata": {
  "kernelspec": {
   "display_name": "Python 2",
   "language": "python",
   "name": "python2"
  },
  "language_info": {
   "codemirror_mode": {
    "name": "ipython",
    "version": 2
   },
   "file_extension": ".py",
   "mimetype": "text/x-python",
   "name": "python",
   "nbconvert_exporter": "python",
   "pygments_lexer": "ipython2",
   "version": "2.7.13"
  }
 },
 "nbformat": 4,
 "nbformat_minor": 0
}

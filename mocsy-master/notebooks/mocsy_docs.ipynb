{
 "cells": [
  {
   "cell_type": "markdown",
   "metadata": {},
   "source": [
    "# mocsy documentation using mocsy from IOOS channel\n",
    "11/9/2015. [Emilio Mayorga](https://github.com/emiliom). Explore mocsy package content and documentation.\n",
    "- mocsy Python source documentation: http://ocmip5.ipsl.jussieu.fr/mocsy/pyth.html\n",
    "- See ioos-channel implementation discussions at https://github.com/ioos/conda-recipes/pull/563\n",
    "- Include brief text describing how to add the IOOS channel and create a bare minimum conda env with mocsy (and pandas, etc)?"
   ]
  },
  {
   "cell_type": "code",
   "execution_count": 1,
   "metadata": {
    "collapsed": true
   },
   "outputs": [],
   "source": [
    "import mocsy"
   ]
  },
  {
   "cell_type": "code",
   "execution_count": 2,
   "metadata": {
    "collapsed": false
   },
   "outputs": [
    {
     "data": {
      "text/plain": [
       "'2.0.1'"
      ]
     },
     "execution_count": 2,
     "metadata": {},
     "output_type": "execute_result"
    }
   ],
   "source": [
    "mocsy.__version__"
   ]
  },
  {
   "cell_type": "code",
   "execution_count": 3,
   "metadata": {
    "collapsed": false
   },
   "outputs": [
    {
     "name": "stdout",
     "output_type": "stream",
     "text": [
      "['__all__', '__builtins__', '__doc__', '__file__', '__name__', '__package__', '__path__', '__version__', '_mocsy', 'absolute_import', 'gasx', 'mconstants', 'mdepth2press', 'mf2pco2', 'mp2fco2', 'mp80', 'mphsolvers', 'mrho', 'mrhoinsitu', 'msingledouble', 'msw_adtg', 'msw_ptmp', 'msw_temp', 'mtis', 'mtpot', 'mvars', 'mvarsolver']\n"
     ]
    }
   ],
   "source": [
    "print(dir(mocsy))"
   ]
  },
  {
   "cell_type": "code",
   "execution_count": 4,
   "metadata": {
    "collapsed": false
   },
   "outputs": [
    {
     "data": {
      "text/plain": [
       "['p2fco2']"
      ]
     },
     "execution_count": 4,
     "metadata": {},
     "output_type": "execute_result"
    }
   ],
   "source": [
    "dir(mocsy.mp2fco2)"
   ]
  },
  {
   "cell_type": "code",
   "execution_count": 5,
   "metadata": {
    "collapsed": false
   },
   "outputs": [
    {
     "data": {
      "text/plain": [
       "['flxco2', 'pco2atm2xco2', 'scco2', 'vapress', 'x2pco2atm']"
      ]
     },
     "execution_count": 5,
     "metadata": {},
     "output_type": "execute_result"
    }
   ],
   "source": [
    "dir(mocsy.gasx)"
   ]
  },
  {
   "cell_type": "code",
   "execution_count": 6,
   "metadata": {
    "collapsed": false
   },
   "outputs": [
    {
     "name": "stdout",
     "output_type": "stream",
     "text": [
      "pco2atm = x2pco2atm(xco2,temp,salt,patm,[n])\n",
      "\n",
      "Wrapper for ``x2pco2atm``.\n",
      "\n",
      "Parameters\n",
      "----------\n",
      "xco2 : input rank-1 array('f') with bounds (n)\n",
      "temp : input rank-1 array('f') with bounds (n)\n",
      "salt : input rank-1 array('f') with bounds (n)\n",
      "patm : input rank-1 array('f') with bounds (n)\n",
      "\n",
      "Other Parameters\n",
      "----------------\n",
      "n : input int, optional\n",
      "    Default: len(xco2)\n",
      "\n",
      "Returns\n",
      "-------\n",
      "pco2atm : rank-1 array('f') with bounds (n)\n",
      "\n"
     ]
    }
   ],
   "source": [
    "print(mocsy.gasx.x2pco2atm.__doc__)"
   ]
  },
  {
   "cell_type": "code",
   "execution_count": 7,
   "metadata": {
    "collapsed": false
   },
   "outputs": [
    {
     "data": {
      "text/plain": [
       "['vars']"
      ]
     },
     "execution_count": 7,
     "metadata": {},
     "output_type": "execute_result"
    }
   ],
   "source": [
    "dir(mocsy.mvars)"
   ]
  },
  {
   "cell_type": "code",
   "execution_count": 8,
   "metadata": {
    "collapsed": false
   },
   "outputs": [
    {
     "name": "stdout",
     "output_type": "stream",
     "text": [
      "ph,pco2,fco2,co2,hco3,co3,omegaa,omegac,betad,rhosw,p,tempis = vars(temp,sal,alk,dic,sil,phos,patm,depth,lat,optcon,optt,optp,[n,optb,optk1k2,optkf,optgas])\n",
      "\n",
      "Wrapper for ``vars``.\n",
      "\n",
      "Parameters\n",
      "----------\n",
      "temp : input rank-1 array('f') with bounds (n)\n",
      "sal : input rank-1 array('f') with bounds (n)\n",
      "alk : input rank-1 array('f') with bounds (n)\n",
      "dic : input rank-1 array('f') with bounds (n)\n",
      "sil : input rank-1 array('f') with bounds (n)\n",
      "phos : input rank-1 array('f') with bounds (n)\n",
      "patm : input rank-1 array('f') with bounds (n)\n",
      "depth : input rank-1 array('f') with bounds (n)\n",
      "lat : input rank-1 array('f') with bounds (n)\n",
      "optcon : input string(len=6)\n",
      "optt : input string(len=7)\n",
      "optp : input string(len=2)\n",
      "\n",
      "Other Parameters\n",
      "----------------\n",
      "n : input int, optional\n",
      "    Default: len(temp)\n",
      "optb : input string(len=3), optional\n",
      "    Default: 'l10'\n",
      "optk1k2 : input string(len=3), optional\n",
      "    Default: 'l'\n",
      "optkf : input string(len=2), optional\n",
      "    Default: 'pf'\n",
      "optgas : input string(len=7), optional\n",
      "    Default: 'pinsitu'\n",
      "\n",
      "Returns\n",
      "-------\n",
      "ph : rank-1 array('f') with bounds (n)\n",
      "pco2 : rank-1 array('f') with bounds (n)\n",
      "fco2 : rank-1 array('f') with bounds (n)\n",
      "co2 : rank-1 array('f') with bounds (n)\n",
      "hco3 : rank-1 array('f') with bounds (n)\n",
      "co3 : rank-1 array('f') with bounds (n)\n",
      "omegaa : rank-1 array('f') with bounds (n)\n",
      "omegac : rank-1 array('f') with bounds (n)\n",
      "betad : rank-1 array('f') with bounds (n)\n",
      "rhosw : rank-1 array('f') with bounds (n)\n",
      "p : rank-1 array('f') with bounds (n)\n",
      "tempis : rank-1 array('f') with bounds (n)\n",
      "\n"
     ]
    }
   ],
   "source": [
    "print(mocsy.mvars.__doc__)"
   ]
  },
  {
   "cell_type": "code",
   "execution_count": null,
   "metadata": {
    "collapsed": true
   },
   "outputs": [],
   "source": []
  }
 ],
 "metadata": {
  "kernelspec": {
   "display_name": "Python 2",
   "language": "python",
   "name": "python2"
  },
  "language_info": {
   "codemirror_mode": {
    "name": "ipython",
    "version": 2
   },
   "file_extension": ".py",
   "mimetype": "text/x-python",
   "name": "python",
   "nbconvert_exporter": "python",
   "pygments_lexer": "ipython2",
   "version": "2.7.10"
  }
 },
 "nbformat": 4,
 "nbformat_minor": 0
}

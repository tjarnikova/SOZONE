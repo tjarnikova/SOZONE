{
 "cells": [
  {
   "cell_type": "markdown",
   "id": "3f8bd87b",
   "metadata": {},
   "source": [
    "### aim: \n",
    "\n",
    "We want to save computing time, and since we calculate a preindusrial DIC field in every run we do, we can use taht preindustrial DIC field at the end of spinup with variable co2, in this case TOM12_TJ_GNA6, to initialize D and B runs, by simply making a set of trc restarts in which the preindustrial dic values are put into the dic field. We can then run ABCD as usual (because we don't save preindustrial pco2 etc and I don't want to change code)\n",
    "\n",
    "### date: "
   ]
  },
  {
   "cell_type": "code",
   "execution_count": 1,
   "id": "8012f094",
   "metadata": {},
   "outputs": [
    {
     "data": {
      "text/html": [
       "<script>\n",
       "code_show=true; \n",
       "function code_toggle() {\n",
       " if (code_show){\n",
       " $('div.input').hide();\n",
       " } else {\n",
       " $('div.input').show();\n",
       " }\n",
       " code_show = !code_show\n",
       "} \n",
       "$( document ).ready(code_toggle);\n",
       "</script>\n",
       "<form action=\"javascript:code_toggle()\"><input type=\"submit\" value=\"Click here to toggle on/off the raw code.\"></form>"
      ],
      "text/plain": [
       "<IPython.core.display.HTML object>"
      ]
     },
     "execution_count": 1,
     "metadata": {},
     "output_type": "execute_result"
    }
   ],
   "source": [
    "from IPython.display import HTML\n",
    "\n",
    "HTML('''<script>\n",
    "code_show=true; \n",
    "function code_toggle() {\n",
    " if (code_show){\n",
    " $('div.input').hide();\n",
    " } else {\n",
    " $('div.input').show();\n",
    " }\n",
    " code_show = !code_show\n",
    "} \n",
    "$( document ).ready(code_toggle);\n",
    "</script>\n",
    "<form action=\"javascript:code_toggle()\"><input type=\"submit\" value=\"Click here to toggle on/off the raw code.\"></form>''')\n"
   ]
  },
  {
   "cell_type": "code",
   "execution_count": 2,
   "id": "c99f764a",
   "metadata": {},
   "outputs": [
    {
     "name": "stdout",
     "output_type": "stream",
     "text": [
      "Once deleted, variables cannot be recovered. Proceed (y/[n])? y\n"
     ]
    }
   ],
   "source": [
    "%reset"
   ]
  },
  {
   "cell_type": "code",
   "execution_count": null,
   "id": "7ba928a5",
   "metadata": {},
   "outputs": [],
   "source": [
    "import numpy as np\n",
    "from cmocean import cm\n",
    "import cartopy as cp\n",
    "import cartopy.crs as ccrs\n",
    "import netCDF4 as nc\n",
    "import matplotlib.pyplot as plt\n",
    "import xarray as xr\n",
    "import sys\n",
    "sys.path.append('/gpfs/home/mep22dku/scratch/SOZONE')\n",
    "#list of models\n",
    "sys.path.append('/gpfs/home/mep22dku/scratch/SOZONE/UTILS')\n",
    "import lom\n",
    "import utils as ut\n",
    "\n",
    "%matplotlib inline\n",
    "import warnings\n",
    "from datetime import datetime\n",
    "warnings.filterwarnings('ignore')\n",
    "import cartopy.feature as cfeature\n",
    "from importlib import reload\n",
    "import matplotlib.path as mpath\n",
    "import glob\n",
    "import pickle\n",
    "import pandas as pd\n",
    "import seawater\n",
    "import time\n",
    "plt.rcParams.update({'font.size': 12})\n",
    "font = {'family' : 'normal',\n",
    "'weight' : 'normal',\n",
    "'size'   : 12}\n",
    "\n",
    "plt.rc('font', **font)"
   ]
  },
  {
   "cell_type": "code",
   "execution_count": null,
   "id": "2327f0f3",
   "metadata": {},
   "outputs": [],
   "source": [
    "rstdir = '/gpfs/home/mep22dku/scratch/ModelRuns/TOM12_TJ_GNA6/'\n",
    "\n",
    "test_rst = 'ORCA2_01089525_restart_trc_0013.nc'\n",
    "\n",
    "w = xr.open_dataset(f'{rstdir}{test_rst}')\n",
    "\n",
    "w"
   ]
  },
  {
   "cell_type": "code",
   "execution_count": null,
   "id": "b6c4745f",
   "metadata": {},
   "outputs": [],
   "source": [
    "#restart_trc.nc:/gpfs/home/avd22gnu/scratch/WOA/scripts/restart_17491231_trc_PT.nc\n",
    "\n",
    "new = xr.open_dataset(f'/gpfs/home/avd22gnu/scratch/WOA/scripts/restart_17491231_trc_PT.nc')\n",
    "\n",
    "old = xr.open_dataset(f'/gpfs/home/e031/scratch/TOM12_ET_PIHM/ORCA2_00273750_restart_trc.nc')\n",
    "\n",
    "# w3 = w2.copy(deep=True)\n",
    "# w3\n",
    "\n",
    "# w3['TRBDIC'][0,:,:,:] = w['TRBDIC'].values\n",
    "# w3['TRNDIC'][0,:,:,:]= w['TRNDIC'].values\n",
    "# w3['sbc_DIC_b'][0,:,:] = w['TRNDIC'][0,:,:].values\n",
    "# w3.to_netcdf('/gpfs/home/mep22dku/scratch/ModelRuns/RIV12_TJ_SE24/restrc_from_RIV12_PT_ER24_with1749DICfrom_TJ_GNA6.nc')"
   ]
  },
  {
   "cell_type": "code",
   "execution_count": null,
   "id": "9b75fbfb",
   "metadata": {},
   "outputs": [],
   "source": [
    "import xarray as xr\n",
    "\n",
    "old = xr.open_dataset(f'/gpfs/home/e031/scratch/TOM12_ET_PIHM/ORCA2_00273750_restart_trc.nc')\n",
    "\n",
    "newasold = xr.open_dataset('/gpfs/home/mep22dku/scratch/ModelRuns/RIV12_TJ_SE24/restrc_from_RIV12_PT_ER24_with1749DICfrom_TJ_GNA6.nc')\n",
    "\n"
   ]
  },
  {
   "cell_type": "code",
   "execution_count": null,
   "id": "85688553",
   "metadata": {},
   "outputs": [],
   "source": [
    "import numpy as np\n",
    "\n",
    "print(np.nanmean(newasold.TRNDIC - old.TRNDIC))"
   ]
  },
  {
   "cell_type": "code",
   "execution_count": null,
   "id": "70666f9e",
   "metadata": {},
   "outputs": [],
   "source": []
  },
  {
   "cell_type": "code",
   "execution_count": null,
   "id": "c8a17fb7",
   "metadata": {},
   "outputs": [],
   "source": [
    "newasold.DIC"
   ]
  },
  {
   "cell_type": "code",
   "execution_count": null,
   "id": "913b2880",
   "metadata": {},
   "outputs": [],
   "source": []
  }
 ],
 "metadata": {
  "kernelspec": {
   "display_name": "Python 3 (ipykernel)",
   "language": "python",
   "name": "python3"
  },
  "language_info": {
   "codemirror_mode": {
    "name": "ipython",
    "version": 3
   },
   "file_extension": ".py",
   "mimetype": "text/x-python",
   "name": "python",
   "nbconvert_exporter": "python",
   "pygments_lexer": "ipython3",
   "version": "3.7.11"
  }
 },
 "nbformat": 4,
 "nbformat_minor": 5
}

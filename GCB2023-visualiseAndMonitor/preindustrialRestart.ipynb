{
 "cells": [
  {
   "cell_type": "markdown",
   "id": "3f8bd87b",
   "metadata": {},
   "source": [
    "### aim: \n",
    "\n",
    "We want to save computing time, and since we calculate a preindusrial DIC field in every run we do, we can use taht preindustrial DIC field at the end of spinup with variable co2, in this case TOM12_TJ_RV06, to initialize D and B runs, by simply making a set of trc restarts in which the preindustrial dic values are put into the dic field. We can then run ABCD as usual (because we don't save preindustrial pco2 etc and I don't want to change code)\n",
    "\n",
    "### date: "
   ]
  },
  {
   "cell_type": "code",
   "execution_count": 31,
   "id": "8012f094",
   "metadata": {},
   "outputs": [
    {
     "data": {
      "text/html": [
       "<script>\n",
       "code_show=true; \n",
       "function code_toggle() {\n",
       " if (code_show){\n",
       " $('div.input').hide();\n",
       " } else {\n",
       " $('div.input').show();\n",
       " }\n",
       " code_show = !code_show\n",
       "} \n",
       "$( document ).ready(code_toggle);\n",
       "</script>\n",
       "<form action=\"javascript:code_toggle()\"><input type=\"submit\" value=\"Click here to toggle on/off the raw code.\"></form>"
      ],
      "text/plain": [
       "<IPython.core.display.HTML object>"
      ]
     },
     "execution_count": 31,
     "metadata": {},
     "output_type": "execute_result"
    }
   ],
   "source": [
    "from IPython.display import HTML\n",
    "\n",
    "HTML('''<script>\n",
    "code_show=true; \n",
    "function code_toggle() {\n",
    " if (code_show){\n",
    " $('div.input').hide();\n",
    " } else {\n",
    " $('div.input').show();\n",
    " }\n",
    " code_show = !code_show\n",
    "} \n",
    "$( document ).ready(code_toggle);\n",
    "</script>\n",
    "<form action=\"javascript:code_toggle()\"><input type=\"submit\" value=\"Click here to toggle on/off the raw code.\"></form>''')\n"
   ]
  },
  {
   "cell_type": "code",
   "execution_count": 32,
   "id": "c99f764a",
   "metadata": {},
   "outputs": [
    {
     "name": "stdout",
     "output_type": "stream",
     "text": [
      "Once deleted, variables cannot be recovered. Proceed (y/[n])? y\n"
     ]
    }
   ],
   "source": [
    "%reset"
   ]
  },
  {
   "cell_type": "code",
   "execution_count": 37,
   "id": "7ba928a5",
   "metadata": {},
   "outputs": [],
   "source": [
    "import xarray as xr\n",
    "import os\n",
    "import glob\n",
    "import numpy as np\n"
   ]
  },
  {
   "cell_type": "markdown",
   "id": "b0480653",
   "metadata": {},
   "source": [
    "## define directory and timestep for which you are making preindustrial restarts"
   ]
  },
  {
   "cell_type": "code",
   "execution_count": 34,
   "id": "83b1a6e5",
   "metadata": {},
   "outputs": [],
   "source": [
    "tdir = '/gpfs/home/mep22dku/scratch/ModelRuns/TOM12_TJ_RV06/'\n",
    "ttimestep = '01040250'"
   ]
  },
  {
   "cell_type": "code",
   "execution_count": 35,
   "id": "37826789",
   "metadata": {},
   "outputs": [
    {
     "name": "stdout",
     "output_type": "stream",
     "text": [
      "ORCA2_01040250_restart_trc_0042.nc\n",
      "ORCA2_01040250_restart_trc_0004.nc\n",
      "ORCA2_01040250_restart_trc_0028.nc\n",
      "ORCA2_01040250_restart_trc_0047.nc\n",
      "ORCA2_01040250_restart_trc_0027.nc\n",
      "ORCA2_01040250_restart_trc_0010.nc\n",
      "ORCA2_01040250_restart_trc_0040.nc\n",
      "ORCA2_01040250_restart_trc_0001.nc\n",
      "ORCA2_01040250_restart_trc_0043.nc\n",
      "ORCA2_01040250_restart_trc_0002.nc\n",
      "ORCA2_01040250_restart_trc_0017.nc\n",
      "ORCA2_01040250_restart_trc_0011.nc\n",
      "ORCA2_01040250_restart_trc_0018.nc\n",
      "ORCA2_01040250_restart_trc_0032.nc\n",
      "ORCA2_01040250_restart_trc_0046.nc\n",
      "ORCA2_01040250_restart_trc_0003.nc\n",
      "ORCA2_01040250_restart_trc_0020.nc\n",
      "ORCA2_01040250_restart_trc_0022.nc\n",
      "ORCA2_01040250_restart_trc_0029.nc\n",
      "ORCA2_01040250_restart_trc_0044.nc\n",
      "ORCA2_01040250_restart_trc_0016.nc\n",
      "ORCA2_01040250_restart_trc_0045.nc\n",
      "ORCA2_01040250_restart_trc_0034.nc\n",
      "ORCA2_01040250_restart_trc_0005.nc\n",
      "ORCA2_01040250_restart_trc_0021.nc\n",
      "ORCA2_01040250_restart_trc_0000.nc\n",
      "ORCA2_01040250_restart_trc_0019.nc\n",
      "ORCA2_01040250_restart_trc_0033.nc\n",
      "ORCA2_01040250_restart_trc_0007.nc\n",
      "ORCA2_01040250_restart_trc_0015.nc\n",
      "ORCA2_01040250_restart_trc_0024.nc\n",
      "ORCA2_01040250_restart_trc_0038.nc\n",
      "ORCA2_01040250_restart_trc_0031.nc\n",
      "ORCA2_01040250_restart_trc_0023.nc\n",
      "ORCA2_01040250_restart_trc_0013.nc\n",
      "ORCA2_01040250_restart_trc_0009.nc\n",
      "ORCA2_01040250_restart_trc_0030.nc\n",
      "ORCA2_01040250_restart_trc_0014.nc\n",
      "ORCA2_01040250_restart_trc_0025.nc\n",
      "ORCA2_01040250_restart_trc_0037.nc\n",
      "ORCA2_01040250_restart_trc_0041.nc\n",
      "ORCA2_01040250_restart_trc_0036.nc\n",
      "ORCA2_01040250_restart_trc_0035.nc\n",
      "ORCA2_01040250_restart_trc_0012.nc\n",
      "ORCA2_01040250_restart_trc_0006.nc\n",
      "ORCA2_01040250_restart_trc_0026.nc\n",
      "ORCA2_01040250_restart_trc_0039.nc\n",
      "ORCA2_01040250_restart_trc_0008.nc\n"
     ]
    }
   ],
   "source": [
    "#make a directory for saving the new restart_trc!\n",
    "try:\n",
    "    os.mkdir(f'{tdir}/preindRestarts')\n",
    "except:\n",
    "    pass\n",
    "    \n",
    "\n",
    "rsts = glob.glob(f'{tdir}/*{ttimestep}*_restart_trc*')\n",
    "if (len(rsts)) != 48:\n",
    "    print('missing restarts I think')\n",
    "    \n",
    "if len(rsts) == 48:\n",
    "    for i in range(0,48):\n",
    "\n",
    "        my_string=rsts[i]\n",
    "        trcfile = (my_string.split(tdir,1)[1])\n",
    "        print(trcfile)\n",
    "\n",
    "        tdat = xr.open_dataset(rsts[i])\n",
    "        tdat2 = tdat.copy(deep=True)\n",
    "\n",
    "        tdat2['TRBDIC'][0,:,:,:] = tdat['TRBPIIC'][0,:,:,:].values ##copy over preindustrial restarts\n",
    "        tdat2['TRNDIC'][0,:,:,:]= tdat['TRNPIIC'][0,:,:,:].values\n",
    "        tdat2['sbc_DIC_b'][0,:,:] = tdat['sbc_PIIC_b'][0,:,:].values\n",
    "\n",
    "        tdat2.to_netcdf(f'{tdir}/preindRestarts/{trcfile}')"
   ]
  },
  {
   "cell_type": "markdown",
   "id": "a71391a8",
   "metadata": {},
   "source": [
    "### test that the new restart's DIC field is identical to the old restart's PIIC field - this test should give zeros."
   ]
  },
  {
   "cell_type": "code",
   "execution_count": 41,
   "id": "a38516de",
   "metadata": {},
   "outputs": [
    {
     "name": "stdout",
     "output_type": "stream",
     "text": [
      "0.0\n",
      "0.0\n",
      "0.0\n",
      "0.0\n",
      "0.0\n",
      "0.0\n"
     ]
    }
   ],
   "source": [
    "tdat = xr.open_dataset(f'{tdir}/{trcfile}')\n",
    "tdat2 = xr.open_dataset(f'{tdir}/preindRestarts/{trcfile}')\n",
    "\n",
    "print(np.nanmax(tdat2.TRNDIC.values - tdat.TRNPIIC.values))\n",
    "print(np.nanmin(tdat2.TRNDIC.values - tdat.TRNPIIC.values))\n",
    "print(np.nanmax(tdat2.TRBDIC.values - tdat.TRBPIIC.values))\n",
    "print(np.nanmin(tdat2.TRBDIC.values - tdat.TRBPIIC.values))\n",
    "print(np.nanmax(tdat2.sbc_DIC_b.values - tdat.sbc_PIIC_b.values))\n",
    "print(np.nanmin(tdat2.sbc_DIC_b.values - tdat.sbc_PIIC_b.values))\n",
    "\n"
   ]
  }
 ],
 "metadata": {
  "kernelspec": {
   "display_name": "Python 3 (ipykernel)",
   "language": "python",
   "name": "python3"
  },
  "language_info": {
   "codemirror_mode": {
    "name": "ipython",
    "version": 3
   },
   "file_extension": ".py",
   "mimetype": "text/x-python",
   "name": "python",
   "nbconvert_exporter": "python",
   "pygments_lexer": "ipython3",
   "version": "3.7.11"
  }
 },
 "nbformat": 4,
 "nbformat_minor": 5
}

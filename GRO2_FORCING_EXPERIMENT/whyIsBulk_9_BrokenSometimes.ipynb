{
 "cells": [
  {
   "cell_type": "code",
   "execution_count": 1,
   "id": "1bd66ab4-7543-4579-a204-2783e586f41b",
   "metadata": {},
   "outputs": [],
   "source": [
    "import numpy as np\n",
    "from cmocean import cm\n",
    "import cartopy as cp\n",
    "import cartopy.crs as ccrs\n",
    "import netCDF4 as nc\n",
    "import matplotlib.pyplot as plt\n",
    "import xarray as xr\n",
    "import sys\n",
    "sys.path.append('/gpfs/home/mep22dku/scratch/SOZONE')\n",
    "#list of models\n",
    "sys.path.append('/gpfs/home/mep22dku/scratch/SOZONE/UTILS')\n",
    "import lom\n",
    "import utils as ut\n",
    "\n",
    "%matplotlib inline\n",
    "import warnings\n",
    "from datetime import datetime\n",
    "warnings.filterwarnings('ignore')\n",
    "import cartopy.feature as cfeature\n",
    "from importlib import reload\n",
    "import matplotlib.path as mpath\n",
    "import glob\n",
    "import pickle\n",
    "import pandas as pd\n",
    "import seawater\n",
    "import time\n",
    "plt.rcParams.update({'font.size': 12})\n",
    "font = {'family' : 'normal',\n",
    "'weight' : 'normal',\n",
    "'size'   : 12}\n",
    "\n",
    "plt.rc('font', **font)"
   ]
  },
  {
   "cell_type": "markdown",
   "id": "5052e451-9cc7-43e3-be2b-ab7f652db39f",
   "metadata": {},
   "source": [
    "## problem description:\n",
    "\n",
    "- When downloading and processing ERA5 forcing, occasionally, the variable called `bulk_*_9_era5_daily.nc` gives a time dimension of time 0 (instead of 365/366), breaking the run\n",
    "- I wrote a script telling me when this problem happens: \n",
    "\n",
    "\n",
    "\n"
   ]
  },
  {
   "cell_type": "code",
   "execution_count": 2,
   "id": "d8ce2cb3-aea9-4d19-b76a-35f531a9d3de",
   "metadata": {},
   "outputs": [],
   "source": [
    "# 1940 1949 1953 1958 1959 1960 1962 1963 1964 1968\n",
    "\n",
    "yrs = [1940, 1949, 1953, 1958 , 1959, 1960 , 1962, 1963, 1964, 1968]\n",
    "\n",
    "#/gpfs/data/greenocean/software/products/ERA5_v202303_TJ/PATCH_HOLE\n",
    "\n",
    "\n",
    "pres.era.1968.daily.nc"
   ]
  },
  {
   "cell_type": "code",
   "execution_count": 7,
   "id": "7acfe5ff-2e36-4181-a920-c75f91c2559a",
   "metadata": {},
   "outputs": [
    {
     "name": "stdout",
     "output_type": "stream",
     "text": [
      "ok\n",
      "<xarray.Dataset>\n",
      "Dimensions:    (latitude: 721, longitude: 1440, time: 8760)\n",
      "Coordinates:\n",
      "  * longitude  (longitude) float32 0.0 0.25 0.5 0.75 ... 359.25 359.5 359.75\n",
      "  * latitude   (latitude) float32 90.0 89.75 89.5 89.25 ... -89.5 -89.75 -90.0\n",
      "  * time       (time) datetime64[ns] 1961-01-01 ... 1961-12-31T23:00:00\n",
      "Data variables:\n",
      "    d2m        (time, latitude, longitude) float32 ...\n",
      "Attributes:\n",
      "    Conventions:  CF-1.6\n",
      "    history:      2023-04-15 04:09:24 GMT by grib_to_netcdf-2.25.1: /opt/ecmw...\n",
      "not ok\n",
      "<xarray.Dataset>\n",
      "Dimensions:    (latitude: 721, longitude: 1440, time: 8784)\n",
      "Coordinates:\n",
      "  * longitude  (longitude) float32 0.0 0.25 0.5 0.75 ... 359.25 359.5 359.75\n",
      "  * latitude   (latitude) float32 90.0 89.75 89.5 89.25 ... -89.5 -89.75 -90.0\n",
      "  * time       (time) datetime64[ns] 1960-01-01 ... 1960-12-31T23:00:00\n",
      "Data variables:\n",
      "    d2m        (time, latitude, longitude) float32 ...\n",
      "Attributes:\n",
      "    Conventions:  CF-1.6\n",
      "    history:      2023-04-15 01:37:54 GMT by grib_to_netcdf-2.25.1: /opt/ecmw...\n",
      "no\n",
      "<xarray.Dataset>\n",
      "Dimensions:  (lat: 721, lon: 1440, time: 366)\n",
      "Coordinates:\n",
      "  * lat      (lat) float32 90.0 89.75 89.5 89.25 ... -89.25 -89.5 -89.75 -90.0\n",
      "  * lon      (lon) float32 0.0 0.25 0.5 0.75 1.0 ... 359.0 359.25 359.5 359.75\n",
      "  * time     (time) int32 525936 525960 525984 526008 ... 534648 534672 534696\n",
      "Data variables:\n",
      "    pres     (time, lat, lon) float32 ...\n",
      "yes\n",
      "<xarray.Dataset>\n",
      "Dimensions:  (lat: 721, lon: 1440, time: 365)\n",
      "Coordinates:\n",
      "  * lat      (lat) float32 90.0 89.75 89.5 89.25 ... -89.25 -89.5 -89.75 -90.0\n",
      "  * lon      (lon) float32 0.0 0.25 0.5 0.75 1.0 ... 359.0 359.25 359.5 359.75\n",
      "  * time     (time) int32 534720 534744 534768 534792 ... 543408 543432 543456\n",
      "Data variables:\n",
      "    pres     (time, lat, lon) float32 ...\n"
     ]
    }
   ],
   "source": [
    "tdir = '/gpfs/data/greenocean/software/products/ERA5_v202303_TJ/'\n",
    "print('ok')\n",
    "yr = 1961\n",
    "t = xr.open_dataset(f'{tdir}/2m_dewpoint_temperature_ERA5_{yr}.nc')\n",
    "print(t)\n",
    "\n",
    "print('not ok')\n",
    "yr = 1960\n",
    "t = xr.open_dataset(f'{tdir}/2m_dewpoint_temperature_ERA5_{yr}.nc')\n",
    "print(t)\n",
    "\n",
    "\n",
    "print('no')\n",
    "t = xr.open_dataset(f'{tdir}/pres.era.1960.daily.nc')\n",
    "print(t)\n",
    "\n",
    "\n",
    "print('yes')\n",
    "t = xr.open_dataset(f'{tdir}/pres.era.1961.daily.nc')\n",
    "print(t)"
   ]
  },
  {
   "cell_type": "code",
   "execution_count": null,
   "id": "c356f092-ef8b-435c-b8d7-7145331fb9c6",
   "metadata": {},
   "outputs": [],
   "source": []
  }
 ],
 "metadata": {
  "kernelspec": {
   "display_name": "Python 3 (ipykernel)",
   "language": "python",
   "name": "python3"
  },
  "language_info": {
   "codemirror_mode": {
    "name": "ipython",
    "version": 3
   },
   "file_extension": ".py",
   "mimetype": "text/x-python",
   "name": "python",
   "nbconvert_exporter": "python",
   "pygments_lexer": "ipython3",
   "version": "3.7.11"
  }
 },
 "nbformat": 4,
 "nbformat_minor": 5
}

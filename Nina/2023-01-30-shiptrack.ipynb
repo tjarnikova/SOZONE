{
 "cells": [
  {
   "cell_type": "markdown",
   "id": "caf6cb73-6721-4836-9aa1-11e64d4500c6",
   "metadata": {},
   "source": [
    "### aim: plot a few points under different cartopy configurations - for Nina\n",
    "\n",
    "### date started: Dec 6, 2022"
   ]
  },
  {
   "cell_type": "code",
   "execution_count": 56,
   "id": "8c195879-09ac-4d4e-9f27-90435b381ea7",
   "metadata": {},
   "outputs": [
    {
     "data": {
      "text/html": [
       "<script>\n",
       "code_show=true; \n",
       "function code_toggle() {\n",
       " if (code_show){\n",
       " $('div.input').hide();\n",
       " } else {\n",
       " $('div.input').show();\n",
       " }\n",
       " code_show = !code_show\n",
       "} \n",
       "$( document ).ready(code_toggle);\n",
       "</script>\n",
       "<form action=\"javascript:code_toggle()\"><input type=\"submit\" value=\"Click here to toggle on/off the raw code.\"></form>"
      ],
      "text/plain": [
       "<IPython.core.display.HTML object>"
      ]
     },
     "execution_count": 56,
     "metadata": {},
     "output_type": "execute_result"
    }
   ],
   "source": [
    "from IPython.display import HTML\n",
    "\n",
    "HTML('''<script>\n",
    "code_show=true; \n",
    "function code_toggle() {\n",
    " if (code_show){\n",
    " $('div.input').hide();\n",
    " } else {\n",
    " $('div.input').show();\n",
    " }\n",
    " code_show = !code_show\n",
    "} \n",
    "$( document ).ready(code_toggle);\n",
    "</script>\n",
    "<form action=\"javascript:code_toggle()\"><input type=\"submit\" value=\"Click here to toggle on/off the raw code.\"></form>''')\n"
   ]
  },
  {
   "cell_type": "code",
   "execution_count": 57,
   "id": "856f4cb5-2d96-4ac3-b528-6fe8e00d02f2",
   "metadata": {},
   "outputs": [
    {
     "name": "stdin",
     "output_type": "stream",
     "text": [
      "Once deleted, variables cannot be recovered. Proceed (y/[n])?  y\n"
     ]
    }
   ],
   "source": [
    "%reset"
   ]
  },
  {
   "cell_type": "code",
   "execution_count": 58,
   "id": "93f9af63-a171-4f40-a5c4-fbefd1769475",
   "metadata": {},
   "outputs": [],
   "source": [
    "import numpy as np\n",
    "import cartopy as cp\n",
    "import cartopy.crs as ccrs\n",
    "import matplotlib.pyplot as plt\n",
    "\n",
    "%matplotlib inline\n",
    "import cartopy.feature as cfeature\n",
    "\n",
    "import pandas as pd\n",
    "plt.rcParams.update({'font.size': 12})\n",
    "font = {'family' : 'normal',\n",
    "'weight' : 'normal',\n",
    "'size'   : 12}\n",
    "\n",
    "plt.rc('font', **font)"
   ]
  },
  {
   "cell_type": "markdown",
   "id": "2dfeacaa-6dd8-4078-97fa-011ca3a76c55",
   "metadata": {},
   "source": [
    "### open file and take out what we need as arrays \n",
    "\n",
    "I find it easier to work with arrays than with pandas dataframes, but many people are opposite \n",
    "there is probably shorter/tidier syntax but this one works\n"
   ]
  },
  {
   "cell_type": "code",
   "execution_count": 59,
   "id": "fd542eae-bfd2-48b1-be4b-690356465d7b",
   "metadata": {},
   "outputs": [
    {
     "name": "stdout",
     "output_type": "stream",
     "text": [
      "ship track file variables\n",
      "Index(['date time', 'SYS.DISP.ActName', 'SYS.STR.DPT', 'SYS.STR.PosLat',\n",
      "       'SYS.STR.PosLon', 'SYS.STR.Speed', 'TSG1.SBE21.Density',\n",
      "       'TSG1.SBE21.Salinity', 'TSG1.SBE21.TempExtern',\n",
      "       'TSG1.SBE21.Temperature', 'TSG2.SBE21.Density', 'TSG2.SBE21.Salinity',\n",
      "       'TSG2.SBE21.TempExtern', 'TSG2.SBE21.Temperature',\n",
      "       'WEATHER.PBWWI.AirTempPort', 'WEATHER.PBWWI.AirTempStarboard',\n",
      "       'WEATHER.PBWWI.WaterTempPort', 'WEATHER.PBWWI.WaterTempStarboard',\n",
      "       'WEATHER.PBWWI.TrueWindDir', 'WEATHER.PBWWI.TrueWindSpeed'],\n",
      "      dtype='object')\n",
      "\n",
      "obs file variables\n",
      "Index(['datetime', 'Date', 'Time', 'Seconds', 'Hours', 'PEC', 'cPEC', 'cPEP',\n",
      "       'aLHII', 'High E', 'Alpha', 'Ek', 'Beta', 'EkBeta', 'rPm', 'JVPIIm',\n",
      "       'GOPIIm', 'Fo', 'Fm', 'Fv/Fm', 'Fv/Fmc', 'AlphaPII', 'SigmaPII', 'Rho',\n",
      "       'TauS', 'Sample °C', 'System °C', 'Reference', 'Note'],\n",
      "      dtype='object')\n"
     ]
    }
   ],
   "source": [
    "tf = pd.read_excel('nina-shiptrack/M187_DSHIP_track_1min_avg.xlsx') #ship track\n",
    "df_obs = pd.read_excel('nina-shiptrack/006-Folder-rP-Es.xlsx') #observations\n",
    "\n",
    "print('ship track file variables')\n",
    "print(tf.columns)\n",
    "print()\n",
    "print('obs file variables')\n",
    "print(df_obs.columns)\n",
    "\n",
    "track_time = tf['date time'].values\n",
    "track_lat = tf['SYS.STR.PosLat'].values\n",
    "track_lon = tf['SYS.STR.PosLon'].values\n",
    "\n",
    "obs_time = df_obs['datetime'].values\n",
    "obs_rho = df_obs['Rho'].values\n",
    "\n"
   ]
  },
  {
   "cell_type": "markdown",
   "id": "39f4159e-b9ba-481f-bd88-dd4a1badb5ba",
   "metadata": {},
   "source": [
    "## a janky for loop that nevertheless does what we need\n",
    "\n",
    "for each observational index, find the track time that is closest, extract index, get lat and lon of that index "
   ]
  },
  {
   "cell_type": "code",
   "execution_count": 60,
   "id": "25ec51b6-e4f3-4821-a3e4-2d20ce0d0b4a",
   "metadata": {},
   "outputs": [],
   "source": [
    "track_time_closest_to_obs_time = np.copy(obs_time) #for saving closest times\n",
    "index_obs = np.zeros(len(obs_time)) #for saving indices of that time\n",
    "lat_obs = np.zeros(len(obs_time))\n",
    "lon_obs = np.zeros(len(obs_time))\n",
    "\n",
    "for i in range(0,len(obs_time)):\n",
    "    tobs = obs_time[i] #our observational time\n",
    "    closest = min(track_time, key=lambda d: abs(d - tobs)) #closest track time to our obs time\n",
    "    index_obs = (np.where(track_time == closest)[0][0]) #array iindex\n",
    "    track_time_closest_to_obs_time[i] = closest # save the track time as well for comparison\n",
    "    lat_obs[i] = track_lat[index_obs]\n",
    "    lon_obs[i] = track_lon[index_obs]\n",
    "    "
   ]
  },
  {
   "cell_type": "markdown",
   "id": "e6d97ba9-6221-4655-a80f-50b23850a480",
   "metadata": {},
   "source": [
    "## make sure that time of obs and time on track that we extracted that is closest to time of obs are reasonably similar"
   ]
  },
  {
   "cell_type": "code",
   "execution_count": 61,
   "id": "4f52b0c0-8dbb-4683-b9e2-8788da7c2dc1",
   "metadata": {},
   "outputs": [
    {
     "data": {
      "image/png": "[encoded data removed]",
      "text/plain": [
       "<Figure size 432x288 with 1 Axes>"
      ]
     },
     "metadata": {
      "needs_background": "light"
     },
     "output_type": "display_data"
    }
   ],
   "source": [
    "plt.plot(obs_time, track_time_closest_to_obs_time,'ro')\n",
    "q = plt.xticks(rotation = 45)"
   ]
  },
  {
   "cell_type": "markdown",
   "id": "08d84e5c-f473-4f06-ae63-a4c49e4904fd",
   "metadata": {},
   "source": [
    "## where in the world is Nina's data!?"
   ]
  },
  {
   "cell_type": "code",
   "execution_count": 62,
   "id": "73f844e3-3d8e-4638-b6cc-b684525612ad",
   "metadata": {},
   "outputs": [
    {
     "data": {
      "image/png": "[encoded data removed]",
      "text/plain": [
       "<Figure size 604.8x835.2 with 2 Axes>"
      ]
     },
     "metadata": {
      "needs_background": "light"
     },
     "output_type": "display_data"
    }
   ],
   "source": [
    "\n",
    "fact = 0.8\n",
    "tfig = plt.figure(figsize=[10.5*fact, 14.5*fact])\n",
    "ax = plt.axes(projection=ccrs.PlateCarree())\n",
    "ax.coastlines()\n",
    "#lons, lats extent\n",
    "ax.set_extent([10, 15, -22, -27], crs=ccrs.PlateCarree())\n",
    "mesh = plt.scatter(lon_obs, lat_obs, s = 50, c = obs_rho, vmin = 0, vmax = 0.3, cmap = 'viridis',\n",
    "                 transform=ccrs.PlateCarree())\n",
    "plt.colorbar(mesh, orientation = 'horizontal', label = 'rho')\n",
    "ax.add_feature(cp.feature.LAND, color='grey')\n",
    "\n",
    "ax.gridlines(draw_labels=True, dms=True, x_inline=False, y_inline=False)\n",
    "\n",
    "plt.title('available rho observations on a simple cartopy projection')\n",
    "plt.tight_layout()\n",
    "plt.show()"
   ]
  },
  {
   "cell_type": "markdown",
   "id": "7907ff82-8fdc-497a-b20c-8594ba49613f",
   "metadata": {},
   "source": [
    "### let's save the lats and lons for safekeeping"
   ]
  },
  {
   "cell_type": "code",
   "execution_count": 65,
   "id": "a40c7ae9-d375-4194-a74c-229be4b71db8",
   "metadata": {},
   "outputs": [],
   "source": [
    "df_obs['lat'] = lat_obs\n",
    "df_obs['lon'] = lon_obs"
   ]
  },
  {
   "cell_type": "code",
   "execution_count": 66,
   "id": "639ced95-5354-4341-97b0-a61eb38121d0",
   "metadata": {},
   "outputs": [],
   "source": [
    "df_obs.to_csv('nina_shiptrack_withlatlon.csv')"
   ]
  },
  {
   "cell_type": "code",
   "execution_count": 67,
   "id": "cdc09e55-bf9a-4001-9903-ce32d47f829e",
   "metadata": {},
   "outputs": [
    {
     "data": {
      "text/html": [
       "<div>\n",
       "<style scoped>\n",
       "    .dataframe tbody tr th:only-of-type {\n",
       "        vertical-align: middle;\n",
       "    }\n",
       "\n",
       "    .dataframe tbody tr th {\n",
       "        vertical-align: top;\n",
       "    }\n",
       "\n",
       "    .dataframe thead th {\n",
       "        text-align: right;\n",
       "    }\n",
       "</style>\n",
       "<table border=\"1\" class=\"dataframe\">\n",
       "  <thead>\n",
       "    <tr style=\"text-align: right;\">\n",
       "      <th></th>\n",
       "      <th>Unnamed: 0</th>\n",
       "      <th>datetime</th>\n",
       "      <th>Date</th>\n",
       "      <th>Time</th>\n",
       "      <th>Seconds</th>\n",
       "      <th>Hours</th>\n",
       "      <th>PEC</th>\n",
       "      <th>cPEC</th>\n",
       "      <th>cPEP</th>\n",
       "      <th>aLHII</th>\n",
       "      <th>...</th>\n",
       "      <th>AlphaPII</th>\n",
       "      <th>SigmaPII</th>\n",
       "      <th>Rho</th>\n",
       "      <th>TauS</th>\n",
       "      <th>Sample °C</th>\n",
       "      <th>System °C</th>\n",
       "      <th>Reference</th>\n",
       "      <th>Note</th>\n",
       "      <th>lat</th>\n",
       "      <th>lon</th>\n",
       "    </tr>\n",
       "  </thead>\n",
       "  <tbody>\n",
       "    <tr>\n",
       "      <th>0</th>\n",
       "      <td>0</td>\n",
       "      <td>2023-01-26 16:16:00</td>\n",
       "      <td>2023-01-26 00:00:00</td>\n",
       "      <td>16:16:00</td>\n",
       "      <td>0</td>\n",
       "      <td>0.000</td>\n",
       "      <td>0.1744</td>\n",
       "      <td>0.5451</td>\n",
       "      <td>0.4227</td>\n",
       "      <td>0.03908</td>\n",
       "      <td>...</td>\n",
       "      <td>0.08080</td>\n",
       "      <td>8.501</td>\n",
       "      <td>0.16060</td>\n",
       "      <td>24279</td>\n",
       "      <td>20.0</td>\n",
       "      <td>31.8</td>\n",
       "      <td>NaN</td>\n",
       "      <td>006_exp2</td>\n",
       "      <td>-25.083537</td>\n",
       "      <td>13.027007</td>\n",
       "    </tr>\n",
       "    <tr>\n",
       "      <th>1</th>\n",
       "      <td>1</td>\n",
       "      <td>2023-01-26 16:43:00</td>\n",
       "      <td>2023-01-26 00:00:00</td>\n",
       "      <td>16:43:00</td>\n",
       "      <td>1640</td>\n",
       "      <td>0.456</td>\n",
       "      <td>NaN</td>\n",
       "      <td>NaN</td>\n",
       "      <td>NaN</td>\n",
       "      <td>NaN</td>\n",
       "      <td>...</td>\n",
       "      <td>0.07052</td>\n",
       "      <td>9.205</td>\n",
       "      <td>0.10210</td>\n",
       "      <td>16457</td>\n",
       "      <td>21.1</td>\n",
       "      <td>31.9</td>\n",
       "      <td>NaN</td>\n",
       "      <td>006_exp2</td>\n",
       "      <td>-25.083332</td>\n",
       "      <td>12.974846</td>\n",
       "    </tr>\n",
       "    <tr>\n",
       "      <th>2</th>\n",
       "      <td>2</td>\n",
       "      <td>2023-01-26 16:58:00</td>\n",
       "      <td>2023-01-26 00:00:00</td>\n",
       "      <td>16:58:00</td>\n",
       "      <td>2518</td>\n",
       "      <td>0.699</td>\n",
       "      <td>0.1643</td>\n",
       "      <td>0.5135</td>\n",
       "      <td>0.4539</td>\n",
       "      <td>0.03613</td>\n",
       "      <td>...</td>\n",
       "      <td>0.08456</td>\n",
       "      <td>8.639</td>\n",
       "      <td>0.08249</td>\n",
       "      <td>29136</td>\n",
       "      <td>21.7</td>\n",
       "      <td>32.6</td>\n",
       "      <td>NaN</td>\n",
       "      <td>006_exp2</td>\n",
       "      <td>-25.083194</td>\n",
       "      <td>12.946544</td>\n",
       "    </tr>\n",
       "    <tr>\n",
       "      <th>3</th>\n",
       "      <td>3</td>\n",
       "      <td>2023-01-26 17:40:00</td>\n",
       "      <td>2023-01-26 00:00:00</td>\n",
       "      <td>17:40:00</td>\n",
       "      <td>5060</td>\n",
       "      <td>1.406</td>\n",
       "      <td>0.1681</td>\n",
       "      <td>0.5253</td>\n",
       "      <td>0.4936</td>\n",
       "      <td>0.02791</td>\n",
       "      <td>...</td>\n",
       "      <td>0.07279</td>\n",
       "      <td>6.144</td>\n",
       "      <td>0.02938</td>\n",
       "      <td>25915</td>\n",
       "      <td>21.9</td>\n",
       "      <td>33.2</td>\n",
       "      <td>NaN</td>\n",
       "      <td>006_exp2</td>\n",
       "      <td>-25.058205</td>\n",
       "      <td>12.887956</td>\n",
       "    </tr>\n",
       "    <tr>\n",
       "      <th>4</th>\n",
       "      <td>4</td>\n",
       "      <td>2023-01-26 18:15:00</td>\n",
       "      <td>2023-01-26 00:00:00</td>\n",
       "      <td>18:15:00</td>\n",
       "      <td>7179</td>\n",
       "      <td>1.994</td>\n",
       "      <td>0.1723</td>\n",
       "      <td>0.5385</td>\n",
       "      <td>0.4537</td>\n",
       "      <td>0.04155</td>\n",
       "      <td>...</td>\n",
       "      <td>0.07322</td>\n",
       "      <td>8.301</td>\n",
       "      <td>0.02698</td>\n",
       "      <td>33929</td>\n",
       "      <td>21.3</td>\n",
       "      <td>32.9</td>\n",
       "      <td>NaN</td>\n",
       "      <td>006_exp2</td>\n",
       "      <td>-24.994141</td>\n",
       "      <td>12.887948</td>\n",
       "    </tr>\n",
       "  </tbody>\n",
       "</table>\n",
       "<p>5 rows × 32 columns</p>\n",
       "</div>"
      ],
      "text/plain": [
       "   Unnamed: 0             datetime                 Date      Time  Seconds  \\\n",
       "0           0  2023-01-26 16:16:00  2023-01-26 00:00:00  16:16:00        0   \n",
       "1           1  2023-01-26 16:43:00  2023-01-26 00:00:00  16:43:00     1640   \n",
       "2           2  2023-01-26 16:58:00  2023-01-26 00:00:00  16:58:00     2518   \n",
       "3           3  2023-01-26 17:40:00  2023-01-26 00:00:00  17:40:00     5060   \n",
       "4           4  2023-01-26 18:15:00  2023-01-26 00:00:00  18:15:00     7179   \n",
       "\n",
       "   Hours     PEC    cPEC    cPEP    aLHII  ...  AlphaPII  SigmaPII      Rho  \\\n",
       "0  0.000  0.1744  0.5451  0.4227  0.03908  ...   0.08080     8.501  0.16060   \n",
       "1  0.456     NaN     NaN     NaN      NaN  ...   0.07052     9.205  0.10210   \n",
       "2  0.699  0.1643  0.5135  0.4539  0.03613  ...   0.08456     8.639  0.08249   \n",
       "3  1.406  0.1681  0.5253  0.4936  0.02791  ...   0.07279     6.144  0.02938   \n",
       "4  1.994  0.1723  0.5385  0.4537  0.04155  ...   0.07322     8.301  0.02698   \n",
       "\n",
       "    TauS  Sample °C  System °C  Reference      Note        lat        lon  \n",
       "0  24279       20.0       31.8        NaN  006_exp2 -25.083537  13.027007  \n",
       "1  16457       21.1       31.9        NaN  006_exp2 -25.083332  12.974846  \n",
       "2  29136       21.7       32.6        NaN  006_exp2 -25.083194  12.946544  \n",
       "3  25915       21.9       33.2        NaN  006_exp2 -25.058205  12.887956  \n",
       "4  33929       21.3       32.9        NaN  006_exp2 -24.994141  12.887948  \n",
       "\n",
       "[5 rows x 32 columns]"
      ]
     },
     "execution_count": 67,
     "metadata": {},
     "output_type": "execute_result"
    }
   ],
   "source": [
    "w = pd.read_csv('nina_shiptrack_withlatlon.csv')\n",
    "w.head()"
   ]
  },
  {
   "cell_type": "code",
   "execution_count": null,
   "id": "63573bce-e9d0-47f3-baf6-851b6b48757f",
   "metadata": {},
   "outputs": [],
   "source": []
  }
 ],
 "metadata": {
  "kernelspec": {
   "display_name": "Python 3 (ipykernel)",
   "language": "python",
   "name": "python3"
  },
  "language_info": {
   "codemirror_mode": {
    "name": "ipython",
    "version": 3
   },
   "file_extension": ".py",
   "mimetype": "text/x-python",
   "name": "python",
   "nbconvert_exporter": "python",
   "pygments_lexer": "ipython3",
   "version": "3.7.11"
  }
 },
 "nbformat": 4,
 "nbformat_minor": 5
}

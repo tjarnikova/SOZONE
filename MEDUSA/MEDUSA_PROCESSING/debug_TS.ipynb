{
 "cells": [
  {
   "cell_type": "code",
   "execution_count": 1,
   "id": "5ee57780-4008-489f-b1f7-28c71d5d5fc1",
   "metadata": {},
   "outputs": [],
   "source": [
    "import numpy as np\n",
    "from cmocean import cm\n",
    "import cartopy as cp\n",
    "import cartopy.crs as ccrs\n",
    "import netCDF4 as nc\n",
    "import matplotlib.pyplot as plt\n",
    "import xarray as xr\n",
    "import sys\n",
    "sys.path.append('/gpfs/home/mep22dku/scratch/SOZONE' )\n",
    "#list of models\n",
    "sys.path.append('/gpfs/home/mep22dku/scratch/SOZONE/UTILS')\n",
    "import lom\n",
    "import utils as ut\n",
    "\n",
    "%matplotlib inline\n",
    "import warnings\n",
    "from datetime import datetime\n",
    "warnings.filterwarnings('ignore')\n",
    "import cartopy.feature as cfeature\n",
    "from importlib import reload\n",
    "import matplotlib.path as mpath\n",
    "import glob\n",
    "import pickle\n",
    "import pandas as pd\n",
    "import seawater\n",
    "import time\n",
    "plt.rcParams.update({'font.size': 12})\n",
    "font = {'family' : 'normal',\n",
    "'weight' : 'normal',\n",
    "'size'   : 12}\n",
    "\n",
    "plt.rc('font', **font)"
   ]
  },
  {
   "cell_type": "markdown",
   "id": "8e7c0b03-f756-468f-8beb-e83b05a61405",
   "metadata": {},
   "source": [
    "checking bc370\n",
    "checking be682\n",
    "\n",
    "checking ce417\n",
    "2087, ce417 grid-T-TS missing\n",
    "2088, ce417 grid-T-TS missing\n",
    "2089, ce417 grid-T-TS missing\n",
    "2090, ce417 grid-T-TS missing\n",
    "2091, ce417 grid-T-TS missing\n",
    "2092, ce417 grid-T-TS missing\n",
    "2093, ce417 grid-T-TS missing\n",
    "2094, ce417 grid-T-TS missing\n",
    "2095, ce417 grid-T-TS missing\n",
    "2096, ce417 grid-T-TS missing\n",
    "2097, ce417 grid-T-TS missing\n",
    "2098, ce417 grid-T-TS missing\n",
    "2099, ce417 grid-T-TS missing"
   ]
  },
  {
   "cell_type": "code",
   "execution_count": 2,
   "id": "1e63e9a9-27e9-4087-8c03-9267cd763840",
   "metadata": {},
   "outputs": [],
   "source": [
    "import sys\n",
    "from subprocess import check_output"
   ]
  },
  {
   "cell_type": "code",
   "execution_count": null,
   "id": "241a2543-6d4d-4448-8d70-f0a04e5ca770",
   "metadata": {},
   "outputs": [],
   "source": []
  }
 ],
 "metadata": {
  "kernelspec": {
   "display_name": "Python 3 (ipykernel)",
   "language": "python",
   "name": "python3"
  },
  "language_info": {
   "codemirror_mode": {
    "name": "ipython",
    "version": 3
   },
   "file_extension": ".py",
   "mimetype": "text/x-python",
   "name": "python",
   "nbconvert_exporter": "python",
   "pygments_lexer": "ipython3",
   "version": "3.7.11"
  }
 },
 "nbformat": 4,
 "nbformat_minor": 5
}

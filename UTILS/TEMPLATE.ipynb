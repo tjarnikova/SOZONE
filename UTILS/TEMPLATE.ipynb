{
 "cells": [
  {
   "cell_type": "markdown",
   "id": "7f769fd1-9d8f-4f6c-8580-ae0f3781cc9d",
   "metadata": {},
   "source": [
    "# standard notebook for copying"
   ]
  },
  {
   "cell_type": "code",
   "execution_count": 1,
   "id": "6a6c5a5b-d2b9-47c8-ac4e-58c4d44fce56",
   "metadata": {},
   "outputs": [
    {
     "data": {
      "text/html": [
       "<script>\n",
       "code_show=true; \n",
       "function code_toggle() {\n",
       " if (code_show){\n",
       " $('div.input').hide();\n",
       " } else {\n",
       " $('div.input').show();\n",
       " }\n",
       " code_show = !code_show\n",
       "} \n",
       "$( document ).ready(code_toggle);\n",
       "</script>\n",
       "<form action=\"javascript:code_toggle()\"><input type=\"submit\" value=\"Click here to toggle on/off the raw code.\"></form>"
      ],
      "text/plain": [
       "<IPython.core.display.HTML object>"
      ]
     },
     "execution_count": 1,
     "metadata": {},
     "output_type": "execute_result"
    }
   ],
   "source": [
    "from IPython.display import HTML\n",
    "\n",
    "HTML('''<script>\n",
    "code_show=true; \n",
    "function code_toggle() {\n",
    " if (code_show){\n",
    " $('div.input').hide();\n",
    " } else {\n",
    " $('div.input').show();\n",
    " }\n",
    " code_show = !code_show\n",
    "} \n",
    "$( document ).ready(code_toggle);\n",
    "</script>\n",
    "<form action=\"javascript:code_toggle()\"><input type=\"submit\" value=\"Click here to toggle on/off the raw code.\"></form>''')\n"
   ]
  },
  {
   "cell_type": "code",
   "execution_count": 2,
   "id": "37c593b2-2fc9-4129-aef9-983eda4c6c0b",
   "metadata": {},
   "outputs": [],
   "source": [
    "import numpy as np\n",
    "from cmocean import cm\n",
    "import cartopy as cp\n",
    "import cartopy.crs as ccrs\n",
    "import netCDF4 as nc\n",
    "import matplotlib.pyplot as plt\n",
    "import xarray as xr\n",
    "import sys\n",
    "sys.path.append('/gpfs/home/mep22dku/scratch/SOZONE')\n",
    "\n",
    "%matplotlib inline\n",
    "import warnings\n",
    "from datetime import datetime\n",
    "warnings.filterwarnings('ignore')\n",
    "import cartopy.feature as cfeature\n",
    "from importlib import reload\n",
    "import matplotlib.path as mpath\n",
    "import glob\n",
    "import pickle\n",
    "\n",
    "#import mapfxn as mf\n",
    "#reload(mf)\n",
    "\n",
    "plt.rcParams.update({'font.size': 12})\n",
    "font = {'family' : 'normal',\n",
    "'weight' : 'normal',\n",
    "'size'   : 12}\n",
    "\n",
    "plt.rc('font', **font)"
   ]
  },
  {
   "cell_type": "markdown",
   "id": "485bda62-ce7c-46ac-b6f2-71ffee6d11ae",
   "metadata": {},
   "source": [
    "## get out lat and lon, tmask"
   ]
  },
  {
   "cell_type": "code",
   "execution_count": 23,
   "id": "d23350f0-0ab3-492d-93b4-c4b109378537",
   "metadata": {},
   "outputs": [
    {
     "name": "stdout",
     "output_type": "stream",
     "text": [
      "(149, 182)\n",
      "SO south of -50 is 0:37, SO south of -30 is 0:50\n"
     ]
    }
   ],
   "source": [
    "tmesh = nc.Dataset('/gpfs/data/greenocean/software/resources/regrid/mesh_mask3_6.nc')\n",
    "tmask = tmesh['tmaskutil'][0,:,:] \n",
    "print(np.shape(tmask))\n",
    "print('SO south of -50 is 0:37, SO south of -30 is 0:50')\n",
    "lats = tmesh['nav_lat'][:,0]\n",
    "lons = tmesh['nav_lon'][0,:]"
   ]
  },
  {
   "cell_type": "markdown",
   "id": "da8c0e98-3de0-4687-937a-6f9f13b12348",
   "metadata": {},
   "source": [
    "### do a pcolormesh - this one looks wonky but syntax is fine"
   ]
  },
  {
   "cell_type": "code",
   "execution_count": 22,
   "id": "fc052cb6-eb49-4a72-93f4-566cfa79f965",
   "metadata": {},
   "outputs": [
    {
     "data": {
      "text/plain": [
       "<matplotlib.collections.QuadMesh at 0x2aac42961910>"
      ]
     },
     "execution_count": 22,
     "metadata": {},
     "output_type": "execute_result"
    },
    {
     "data": {
      "image/png": "[encoded data removed]",
      "text/plain": [
       "<Figure size 432x288 with 1 Axes>"
      ]
     },
     "metadata": {
      "needs_background": "light"
     },
     "output_type": "display_data"
    }
   ],
   "source": [
    "##\n",
    "plt.pcolormesh(lons, lats, tmask, vmin = 0, vmax = 1, cmap = cm.speed)"
   ]
  },
  {
   "cell_type": "code",
   "execution_count": 18,
   "id": "acc7f9ce-147e-484d-a996-cbc898150d07",
   "metadata": {},
   "outputs": [
    {
     "data": {
      "text/plain": [
       "masked_array(\n",
       "  data=[[0, 1, 1, 1, 0, 0, 0, 0, 0, 0],\n",
       "        [0, 1, 1, 1, 1, 1, 1, 1, 1, 0],\n",
       "        [0, 1, 1, 1, 1, 1, 1, 1, 1, 1],\n",
       "        [0, 1, 1, 1, 1, 1, 1, 1, 1, 1],\n",
       "        [0, 1, 1, 1, 1, 1, 1, 1, 1, 1],\n",
       "        [0, 1, 1, 1, 1, 1, 1, 1, 1, 1],\n",
       "        [0, 1, 1, 1, 1, 1, 1, 1, 1, 1],\n",
       "        [0, 1, 1, 1, 1, 1, 1, 1, 1, 1],\n",
       "        [0, 1, 1, 1, 1, 1, 1, 1, 1, 1],\n",
       "        [0, 1, 1, 1, 1, 1, 1, 1, 1, 1]],\n",
       "  mask=False,\n",
       "  fill_value=999999,\n",
       "  dtype=int8)"
      ]
     },
     "execution_count": 18,
     "metadata": {},
     "output_type": "execute_result"
    }
   ],
   "source": [
    "tmask[20:30,0:10]"
   ]
  },
  {
   "cell_type": "code",
   "execution_count": null,
   "id": "b79d866a-7419-403f-ad06-f623b9a62eb9",
   "metadata": {},
   "outputs": [],
   "source": [
    "tmesh = xr.open_dataset('/gpfs/data/greenocean/software/resources/regrid/mesh_mask3_6.nc')\n",
    "tmesh['csize'] = tmesh.tmask[0,0,:,:] * tmesh.e1t[0,:,:] * tmesh.e2t[0,:,:]"
   ]
  }
 ],
 "metadata": {
  "kernelspec": {
   "display_name": "Python 3 (ipykernel)",
   "language": "python",
   "name": "python3"
  },
  "language_info": {
   "codemirror_mode": {
    "name": "ipython",
    "version": 3
   },
   "file_extension": ".py",
   "mimetype": "text/x-python",
   "name": "python",
   "nbconvert_exporter": "python",
   "pygments_lexer": "ipython3",
   "version": "3.7.11"
  }
 },
 "nbformat": 4,
 "nbformat_minor": 5
}

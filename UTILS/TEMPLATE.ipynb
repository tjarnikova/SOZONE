{
 "cells": [
  {
   "cell_type": "markdown",
   "id": "c8656034",
   "metadata": {},
   "source": [
    "# standard notebook for copying"
   ]
  },
  {
   "cell_type": "code",
   "execution_count": 1,
   "id": "82ea5334",
   "metadata": {},
   "outputs": [
    {
     "data": {
      "text/html": [
       "<script>\n",
       "code_show=true; \n",
       "function code_toggle() {\n",
       " if (code_show){\n",
       " $('div.input').hide();\n",
       " } else {\n",
       " $('div.input').show();\n",
       " }\n",
       " code_show = !code_show\n",
       "} \n",
       "$( document ).ready(code_toggle);\n",
       "</script>\n",
       "<form action=\"javascript:code_toggle()\"><input type=\"submit\" value=\"Click here to toggle on/off the raw code.\"></form>"
      ],
      "text/plain": [
       "<IPython.core.display.HTML object>"
      ]
     },
     "execution_count": 1,
     "metadata": {},
     "output_type": "execute_result"
    }
   ],
   "source": [
    "from IPython.display import HTML\n",
    "\n",
    "HTML('''<script>\n",
    "code_show=true; \n",
    "function code_toggle() {\n",
    " if (code_show){\n",
    " $('div.input').hide();\n",
    " } else {\n",
    " $('div.input').show();\n",
    " }\n",
    " code_show = !code_show\n",
    "} \n",
    "$( document ).ready(code_toggle);\n",
    "</script>\n",
    "<form action=\"javascript:code_toggle()\"><input type=\"submit\" value=\"Click here to toggle on/off the raw code.\"></form>''')\n"
   ]
  },
  {
   "cell_type": "code",
   "execution_count": 2,
   "id": "4c8eec71",
   "metadata": {},
   "outputs": [],
   "source": [
    "import numpy as np\n",
    "from cmocean import cm\n",
    "import cartopy as cp\n",
    "import cartopy.crs as ccrs\n",
    "import netCDF4 as nc\n",
    "import matplotlib.pyplot as plt\n",
    "import xarray as xr\n",
    "import sys\n",
    "sys.path.append('/gpfs/home/mep22dku/scratch/SOZONE')\n",
    "\n",
    "%matplotlib inline\n",
    "import warnings\n",
    "from datetime import datetime\n",
    "warnings.filterwarnings('ignore')\n",
    "import cartopy.feature as cfeature\n",
    "from importlib import reload\n",
    "import matplotlib.path as mpath\n",
    "import glob\n",
    "import pickle\n",
    "\n",
    "#import mapfxn as mf\n",
    "#reload(mf)\n",
    "\n",
    "plt.rcParams.update({'font.size': 12})\n",
    "font = {'family' : 'normal',\n",
    "'weight' : 'normal',\n",
    "'size'   : 12}\n",
    "\n",
    "plt.rc('font', **font)"
   ]
  },
  {
   "cell_type": "markdown",
   "id": "2aea7ce9",
   "metadata": {},
   "source": [
    "## get out lat and lon, tmask"
   ]
  },
  {
   "cell_type": "code",
   "execution_count": 4,
   "id": "6e4ca247",
   "metadata": {
    "tags": []
   },
   "outputs": [
    {
     "name": "stdout",
     "output_type": "stream",
     "text": [
      "(149, 182)\n",
      "SO south of -50 is 0:37, SO south of -30 is 0:50\n"
     ]
    }
   ],
   "source": [
    "tmesh = nc.Dataset('/gpfs/data/greenocean/software/resources/regrid/mesh_mask3_6.nc')\n",
    "tmask = tmesh['tmaskutil'][0,:,:] \n",
    "print(np.shape(tmask))\n",
    "print('SO south of -50 is 0:37, SO south of -30 is 0:50')\n",
    "lats = tmesh['nav_lat'][:,0]\n",
    "lons = tmesh['nav_lon'][0,:]"
   ]
  },
  {
   "cell_type": "markdown",
   "id": "f06e5bb4",
   "metadata": {},
   "source": [
    "### do a pcolormesh - this one looks wonky but syntax is fine"
   ]
  },
  {
   "cell_type": "code",
   "execution_count": 5,
   "id": "36ffb753",
   "metadata": {},
   "outputs": [
    {
     "data": {
      "text/plain": [
       "<matplotlib.collections.QuadMesh at 0x2aafbb201550>"
      ]
     },
     "execution_count": 5,
     "metadata": {},
     "output_type": "execute_result"
    },
    {
     "name": "stderr",
     "output_type": "stream",
     "text": [
      "findfont: Font family ['normal'] not found. Falling back to DejaVu Sans.\n"
     ]
    },
    {
     "data": {
      "image/png": "[encoded data removed]",
      "text/plain": [
       "<Figure size 432x288 with 1 Axes>"
      ]
     },
     "metadata": {
      "needs_background": "light"
     },
     "output_type": "display_data"
    },
    {
     "data": {
      "image/png": "[encoded data removed]",
      "text/plain": [
       "<Figure size 432x288 with 1 Axes>"
      ]
     },
     "metadata": {
      "needs_background": "light"
     },
     "output_type": "display_data"
    }
   ],
   "source": [
    "plt.figure()\n",
    "plt.pcolormesh(lons, lats, tmask, vmin = 0, vmax = 1, cmap = cm.speed)\n",
    "\n",
    "plt.figure()\n",
    "plt.pcolormesh(tmask, vmin = 0, vmax = 1, cmap = cm.speed)"
   ]
  },
  {
   "cell_type": "markdown",
   "id": "f73c5825",
   "metadata": {},
   "source": [
    "### get various tmesh things including volume_weighted means "
   ]
  },
  {
   "cell_type": "code",
   "execution_count": 6,
   "id": "4b451856",
   "metadata": {},
   "outputs": [
    {
     "name": "stdout",
     "output_type": "stream",
     "text": [
      "2048.457122967461\n",
      "2334.5326478580837\n"
     ]
    }
   ],
   "source": [
    "w2 = xr.open_dataset('//gpfs/data/greenocean/software/runs/TOM12_TJ_1ASA/ORCA2_1m_19900101_19901231_ptrc_T.nc')\n",
    "\n",
    "tmesh = xr.open_dataset('/gpfs/data/greenocean/software/resources/regrid/mesh_mask3_6.nc')\n",
    "tmask = tmesh['tmaskutil'][0,:,:] \n",
    "\n",
    "tmesh = xr.open_dataset('/gpfs/data/greenocean/software/resources/regrid/mesh_mask3_6.nc')\n",
    "tmesh['csize'] = tmesh.tmask[0,0,:,:] * tmesh.e1t[0,:,:] * tmesh.e2t[0,:,:]\n",
    "\n",
    "csize_broad = np.zeros([31,149,182])\n",
    "for i in range(0,31):\n",
    "    csize_broad[i,:,:] = tmesh['csize'].values\n",
    "cvol = csize_broad * tmesh['e3t_0'][0,:,:,:] * tmesh['tmask'][0,:,:,:]\n",
    "\n",
    "testDIC = w2.DIC.values[0,0,:,:] \n",
    "\n",
    "avgd_surface = np.ma.average(testDIC[:,:], weights = tmesh['csize'].values)\n",
    "avgd_all = np.ma.average(w2.DIC.values[0,:,:,:], weights = cvol)\n",
    "print(avgd_surface*1e6) \n",
    "print(avgd_all*1e6)"
   ]
  },
  {
   "cell_type": "markdown",
   "id": "29947e71",
   "metadata": {},
   "source": [
    "## get means and percentiles with masks and nans"
   ]
  },
  {
   "cell_type": "code",
   "execution_count": 7,
   "id": "bcf01eaf",
   "metadata": {},
   "outputs": [
    {
     "name": "stdout",
     "output_type": "stream",
     "text": [
      "1.4918596958752192e-08\n",
      "4.299022858926132e-09\n"
     ]
    }
   ],
   "source": [
    "#get 2d array\n",
    "def weighted_percentile(data, weights, perc):\n",
    "    \"\"\"\n",
    "    perc : percentile in [0-1]!\n",
    "    \"\"\"\n",
    "    data = np.ravel(data)\n",
    "    weights = np.ravel(weights)\n",
    "    ix = np.argsort(data)\n",
    "    data = data[ix] # sort data\n",
    "    weights = weights[ix] # sort weights\n",
    "    cdf = (np.cumsum(weights) - 0.5 * weights) / np.sum(weights) # 'like' a CDF function\n",
    "    return np.interp(perc, cdf, data)\n",
    "\n",
    "run = 'LIGD'\n",
    "z = xr.open_dataset(f'/gpfs/home/e415/scratch/TOM10_CL_{run}/{run}_dia3d_1998_2010_ave.nc')\n",
    "ppt_sam = (z['PPT'][0,0,:,:].values)\n",
    "\n",
    "#get weights\n",
    "tmesh = xr.open_dataset('/gpfs/data/greenocean/software/resources/regrid/mesh_mask3_6.nc')\n",
    "tmesh['csize'] = tmesh.tmask[0,0,:,:] * tmesh.e1t[0,:,:] * tmesh.e2t[0,:,:]\n",
    "\n",
    "#get weighted percentile\n",
    "p95 = weighted_percentile(ppt_sam, tmesh['csize'], 0.95)\n",
    "print(p95)\n",
    "\n",
    "#get mean\n",
    "ma = np.ma.MaskedArray(ppt_sam, mask=np.isnan(ppt_sam))\n",
    "q = np.ma.average(ma, weights=tmesh['csize'])\n",
    "print(q)"
   ]
  },
  {
   "cell_type": "markdown",
   "id": "c3ab28d0",
   "metadata": {},
   "source": [
    "## subplots"
   ]
  },
  {
   "cell_type": "code",
   "execution_count": 8,
   "id": "7ef8caae",
   "metadata": {},
   "outputs": [
    {
     "data": {
      "image/png": "[encoded data removed]",
      "text/plain": [
       "<Figure size 950.4x633.6 with 10 Axes>"
      ]
     },
     "metadata": {},
     "output_type": "display_data"
    }
   ],
   "source": [
    "\n",
    "fact = 1.1\n",
    "fig, axs = plt.subplots(2,5, figsize=(12*fact, 8*fact), facecolor='w', edgecolor='k')\n",
    "axs = axs.ravel()\n",
    "\n",
    "\n"
   ]
  },
  {
   "cell_type": "markdown",
   "id": "5c6d3197-ba47-412f-9cd1-5e1bd5870874",
   "metadata": {},
   "source": [
    "# make dataframe and save to .csv"
   ]
  },
  {
   "cell_type": "code",
   "execution_count": null,
   "id": "cb909c8a-2f35-42fc-9b22-c3d6c9696f43",
   "metadata": {},
   "outputs": [],
   "source": [
    "\n",
    "df = pd.DataFrame([tYEAR_SO,tMONTH_SO,tDIC_SO,tALK_SO,tSAL_SO,tTEMP_SO,tPRES_SO,tLAT_SO,tLON_SO,tSECT_SO, tY_SO, tX_SO, tZ_SO, tZdep_SO, tDP_SO]).T\n",
    "    # df = df.sort_values(by = tYEAR_SO)\n",
    "df.columns = ['YR', 'MONTH', 'DIC', 'ALK', 'SAL', 'TEMP', 'PRES', 'LAT', 'LON', 'SECT', 'Y', 'X', 'Z', 'Zdep', 'DP']\n",
    "df.wheremade = 'evalOutput/TA-DIC_GLODAP.ipynb and evalOutput/GLODAPv2021comparison_pipeline.ipynb'\n",
    "df.to_csv('./datasets/GLODAPv2.2021_SO_valid_DICTA_umolL_togrid.csv')"
   ]
  },
  {
   "cell_type": "markdown",
   "id": "cfc67cdb",
   "metadata": {},
   "source": [
    "## latitude bands\n"
   ]
  },
  {
   "cell_type": "code",
   "execution_count": 9,
   "id": "2913558d",
   "metadata": {},
   "outputs": [
    {
     "name": "stdout",
     "output_type": "stream",
     "text": [
      "making histograms of summer and winter wind speed for the following latitude bands:\n",
      "band 0, -78.2 to -69.5, index 0 to 16\n",
      "band 1, -69.5 to -59.3, index 16 to 28\n",
      "band 2, -59.3 to -48.8, index 28 to 37\n",
      "band 3, -48.8 to -38.7, index 37 to 44\n",
      "band 4, -38.7 to -28.7, index 44 to 50\n",
      "[-78.2 -69.5 -59.3 -48.8 -38.7]\n",
      "[-69.5 -59.3 -48.8 -38.7 -28.7]\n"
     ]
    }
   ],
   "source": [
    "bounds = np.array([0,7,16,22,28,32,37,40,44,47,50])\n",
    "bounds = np.array([0,16,28,37,44,50])\n",
    "starts = np.zeros([5]); ends = np.zeros([5])\n",
    "print('making histograms of summer and winter wind speed for the following latitude bands:')\n",
    "for i in range(0,len(bounds)-1):\n",
    "    s= np.format_float_positional(tmesh['nav_lat'][bounds[i],0].values, precision=1)\n",
    "    e= np.format_float_positional(tmesh['nav_lat'][bounds[i+1],0].values, precision=1)\n",
    "    bs = bounds[i]\n",
    "    be = bounds[i+1]\n",
    "    print(f'band {i}, {(s)} to {e}, index {bs} to {be}')\n",
    "    starts[i] = s\n",
    "    ends[i] = e\n",
    "     \n",
    "print(starts)\n",
    "print(ends)"
   ]
  },
  {
   "cell_type": "markdown",
   "id": "1ed6f722",
   "metadata": {},
   "source": [
    "## "
   ]
  },
  {
   "cell_type": "markdown",
   "id": "9bce3ee7",
   "metadata": {},
   "source": [
    "## custom histogram"
   ]
  },
  {
   "cell_type": "code",
   "execution_count": 10,
   "id": "ae1087d4",
   "metadata": {},
   "outputs": [
    {
     "data": {
      "text/plain": [
       "[<matplotlib.lines.Line2D at 0x2aafbde4d0d0>]"
      ]
     },
     "execution_count": 10,
     "metadata": {},
     "output_type": "execute_result"
    },
    {
     "data": {
      "image/png": "[encoded data removed]",
      "text/plain": [
       "<Figure size 432x288 with 1 Axes>"
      ]
     },
     "metadata": {
      "needs_background": "light"
     },
     "output_type": "display_data"
    }
   ],
   "source": [
    "tdat = np.random.rand(100)\n",
    "nbins = 10\n",
    "start = 0\n",
    "end = 1\n",
    "\n",
    "\n",
    "def custhist(tdat, nbins, start, end, tweights = None):\n",
    "    #bins = 25\n",
    "    hist_met_vflx, bins = np.histogram(np.ravel(tdat), bins=nbins,\\\n",
    "                                 range = [start, end], weights=tweights)\n",
    "\n",
    "    bin_cent = bins + (bins[1]-bins[0])/2\n",
    "    tot_count = np.sum(hist_met_vflx)\n",
    "\n",
    "    \n",
    "    binsback = bins\n",
    "    bin_cent = bin_cent[0:nbins]\n",
    "    histback = hist_met_vflx/tot_count\n",
    "    \n",
    "    return binsback, bin_cent, histback\n",
    "\n",
    "nsback, bin_cent, histback = custhist(tdat, nbins, start, end)\n",
    "plt.plot(bin_cent,histback)"
   ]
  },
  {
   "cell_type": "markdown",
   "id": "4ba8cbbd",
   "metadata": {},
   "source": [
    "## yearlists and open_mfdataset and horrible xarray selection that haunts me"
   ]
  },
  {
   "cell_type": "code",
   "execution_count": 11,
   "id": "34c1ce71",
   "metadata": {},
   "outputs": [],
   "source": [
    "def make_yearlist(yrst, yrend, dtype, tr, baseDir):\n",
    "    yrs = np.arange(yrst,yrend+1,1)\n",
    "    ylist = []\n",
    "    for i in range(0,len(yrs)):\n",
    "        ty = f'{baseDir}/{tr}/ORCA2_1m_{yrs[i]}*{dtype}*.nc'\n",
    "        t2 = glob.glob(ty)\n",
    "        #print(t2)\n",
    "        ylist.append(t2[0])\n",
    "    return ylist\n",
    "\n",
    "yrst = 1972; yrend = 2020; tr = 'TOM12_TJ_1ASA'; dtype = 'ptrc_T'\n",
    "baseDir = '/gpfs/data/greenocean/software/runs/'\n",
    "\n",
    "ylist = make_yearlist(yrst, yrend, dtype, tr, baseDir)\n",
    "w = xr.open_mfdataset(ylist)"
   ]
  },
  {
   "cell_type": "code",
   "execution_count": 12,
   "id": "110f0d68",
   "metadata": {},
   "outputs": [],
   "source": [
    "\n",
    "DIC_1AS1 = w.DIC\n",
    "\n",
    "DIC_1AS1_mmn = DIC_1AS1.groupby('time_counter.month').mean('time_counter').values\n"
   ]
  },
  {
   "cell_type": "code",
   "execution_count": 13,
   "id": "e927f8a9",
   "metadata": {},
   "outputs": [
    {
     "data": {
      "text/html": [
       "<div><svg style=\"position: absolute; width: 0; height: 0; overflow: hidden\">\n",
       "<defs>\n",
       "<symbol id=\"icon-database\" viewBox=\"0 0 32 32\">\n",
       "<path d=\"M16 0c-8.837 0-16 2.239-16 5v4c0 2.761 7.163 5 16 5s16-2.239 16-5v-4c0-2.761-7.163-5-16-5z\"></path>\n",
       "<path d=\"M16 17c-8.837 0-16-2.239-16-5v6c0 2.761 7.163 5 16 5s16-2.239 16-5v-6c0 2.761-7.163 5-16 5z\"></path>\n",
       "<path d=\"M16 26c-8.837 0-16-2.239-16-5v6c0 2.761 7.163 5 16 5s16-2.239 16-5v-6c0 2.761-7.163 5-16 5z\"></path>\n",
       "</symbol>\n",
       "<symbol id=\"icon-file-text2\" viewBox=\"0 0 32 32\">\n",
       "<path d=\"M28.681 7.159c-0.694-0.947-1.662-2.053-2.724-3.116s-2.169-2.030-3.116-2.724c-1.612-1.182-2.393-1.319-2.841-1.319h-15.5c-1.378 0-2.5 1.121-2.5 2.5v27c0 1.378 1.122 2.5 2.5 2.5h23c1.378 0 2.5-1.122 2.5-2.5v-19.5c0-0.448-0.137-1.23-1.319-2.841zM24.543 5.457c0.959 0.959 1.712 1.825 2.268 2.543h-4.811v-4.811c0.718 0.556 1.584 1.309 2.543 2.268zM28 29.5c0 0.271-0.229 0.5-0.5 0.5h-23c-0.271 0-0.5-0.229-0.5-0.5v-27c0-0.271 0.229-0.5 0.5-0.5 0 0 15.499-0 15.5 0v7c0 0.552 0.448 1 1 1h7v19.5z\"></path>\n",
       "<path d=\"M23 26h-14c-0.552 0-1-0.448-1-1s0.448-1 1-1h14c0.552 0 1 0.448 1 1s-0.448 1-1 1z\"></path>\n",
       "<path d=\"M23 22h-14c-0.552 0-1-0.448-1-1s0.448-1 1-1h14c0.552 0 1 0.448 1 1s-0.448 1-1 1z\"></path>\n",
       "<path d=\"M23 18h-14c-0.552 0-1-0.448-1-1s0.448-1 1-1h14c0.552 0 1 0.448 1 1s-0.448 1-1 1z\"></path>\n",
       "</symbol>\n",
       "</defs>\n",
       "</svg>\n",
       "<style>/* CSS stylesheet for displaying xarray objects in jupyterlab.\n",
       " *\n",
       " */\n",
       "\n",
       ":root {\n",
       "  --xr-font-color0: var(--jp-content-font-color0, rgba(0, 0, 0, 1));\n",
       "  --xr-font-color2: var(--jp-content-font-color2, rgba(0, 0, 0, 0.54));\n",
       "  --xr-font-color3: var(--jp-content-font-color3, rgba(0, 0, 0, 0.38));\n",
       "  --xr-border-color: var(--jp-border-color2, #e0e0e0);\n",
       "  --xr-disabled-color: var(--jp-layout-color3, #bdbdbd);\n",
       "  --xr-background-color: var(--jp-layout-color0, white);\n",
       "  --xr-background-color-row-even: var(--jp-layout-color1, white);\n",
       "  --xr-background-color-row-odd: var(--jp-layout-color2, #eeeeee);\n",
       "}\n",
       "\n",
       "html[theme=dark],\n",
       "body.vscode-dark {\n",
       "  --xr-font-color0: rgba(255, 255, 255, 1);\n",
       "  --xr-font-color2: rgba(255, 255, 255, 0.54);\n",
       "  --xr-font-color3: rgba(255, 255, 255, 0.38);\n",
       "  --xr-border-color: #1F1F1F;\n",
       "  --xr-disabled-color: #515151;\n",
       "  --xr-background-color: #111111;\n",
       "  --xr-background-color-row-even: #111111;\n",
       "  --xr-background-color-row-odd: #313131;\n",
       "}\n",
       "\n",
       ".xr-wrap {\n",
       "  display: block;\n",
       "  min-width: 300px;\n",
       "  max-width: 700px;\n",
       "}\n",
       "\n",
       ".xr-text-repr-fallback {\n",
       "  /* fallback to plain text repr when CSS is not injected (untrusted notebook) */\n",
       "  display: none;\n",
       "}\n",
       "\n",
       ".xr-header {\n",
       "  padding-top: 6px;\n",
       "  padding-bottom: 6px;\n",
       "  margin-bottom: 4px;\n",
       "  border-bottom: solid 1px var(--xr-border-color);\n",
       "}\n",
       "\n",
       ".xr-header > div,\n",
       ".xr-header > ul {\n",
       "  display: inline;\n",
       "  margin-top: 0;\n",
       "  margin-bottom: 0;\n",
       "}\n",
       "\n",
       ".xr-obj-type,\n",
       ".xr-array-name {\n",
       "  margin-left: 2px;\n",
       "  margin-right: 10px;\n",
       "}\n",
       "\n",
       ".xr-obj-type {\n",
       "  color: var(--xr-font-color2);\n",
       "}\n",
       "\n",
       ".xr-sections {\n",
       "  padding-left: 0 !important;\n",
       "  display: grid;\n",
       "  grid-template-columns: 150px auto auto 1fr 20px 20px;\n",
       "}\n",
       "\n",
       ".xr-section-item {\n",
       "  display: contents;\n",
       "}\n",
       "\n",
       ".xr-section-item input {\n",
       "  display: none;\n",
       "}\n",
       "\n",
       ".xr-section-item input + label {\n",
       "  color: var(--xr-disabled-color);\n",
       "}\n",
       "\n",
       ".xr-section-item input:enabled + label {\n",
       "  cursor: pointer;\n",
       "  color: var(--xr-font-color2);\n",
       "}\n",
       "\n",
       ".xr-section-item input:enabled + label:hover {\n",
       "  color: var(--xr-font-color0);\n",
       "}\n",
       "\n",
       ".xr-section-summary {\n",
       "  grid-column: 1;\n",
       "  color: var(--xr-font-color2);\n",
       "  font-weight: 500;\n",
       "}\n",
       "\n",
       ".xr-section-summary > span {\n",
       "  display: inline-block;\n",
       "  padding-left: 0.5em;\n",
       "}\n",
       "\n",
       ".xr-section-summary-in:disabled + label {\n",
       "  color: var(--xr-font-color2);\n",
       "}\n",
       "\n",
       ".xr-section-summary-in + label:before {\n",
       "  display: inline-block;\n",
       "  content: '►';\n",
       "  font-size: 11px;\n",
       "  width: 15px;\n",
       "  text-align: center;\n",
       "}\n",
       "\n",
       ".xr-section-summary-in:disabled + label:before {\n",
       "  color: var(--xr-disabled-color);\n",
       "}\n",
       "\n",
       ".xr-section-summary-in:checked + label:before {\n",
       "  content: '▼';\n",
       "}\n",
       "\n",
       ".xr-section-summary-in:checked + label > span {\n",
       "  display: none;\n",
       "}\n",
       "\n",
       ".xr-section-summary,\n",
       ".xr-section-inline-details {\n",
       "  padding-top: 4px;\n",
       "  padding-bottom: 4px;\n",
       "}\n",
       "\n",
       ".xr-section-inline-details {\n",
       "  grid-column: 2 / -1;\n",
       "}\n",
       "\n",
       ".xr-section-details {\n",
       "  display: none;\n",
       "  grid-column: 1 / -1;\n",
       "  margin-bottom: 5px;\n",
       "}\n",
       "\n",
       ".xr-section-summary-in:checked ~ .xr-section-details {\n",
       "  display: contents;\n",
       "}\n",
       "\n",
       ".xr-array-wrap {\n",
       "  grid-column: 1 / -1;\n",
       "  display: grid;\n",
       "  grid-template-columns: 20px auto;\n",
       "}\n",
       "\n",
       ".xr-array-wrap > label {\n",
       "  grid-column: 1;\n",
       "  vertical-align: top;\n",
       "}\n",
       "\n",
       ".xr-preview {\n",
       "  color: var(--xr-font-color3);\n",
       "}\n",
       "\n",
       ".xr-array-preview,\n",
       ".xr-array-data {\n",
       "  padding: 0 5px !important;\n",
       "  grid-column: 2;\n",
       "}\n",
       "\n",
       ".xr-array-data,\n",
       ".xr-array-in:checked ~ .xr-array-preview {\n",
       "  display: none;\n",
       "}\n",
       "\n",
       ".xr-array-in:checked ~ .xr-array-data,\n",
       ".xr-array-preview {\n",
       "  display: inline-block;\n",
       "}\n",
       "\n",
       ".xr-dim-list {\n",
       "  display: inline-block !important;\n",
       "  list-style: none;\n",
       "  padding: 0 !important;\n",
       "  margin: 0;\n",
       "}\n",
       "\n",
       ".xr-dim-list li {\n",
       "  display: inline-block;\n",
       "  padding: 0;\n",
       "  margin: 0;\n",
       "}\n",
       "\n",
       ".xr-dim-list:before {\n",
       "  content: '(';\n",
       "}\n",
       "\n",
       ".xr-dim-list:after {\n",
       "  content: ')';\n",
       "}\n",
       "\n",
       ".xr-dim-list li:not(:last-child):after {\n",
       "  content: ',';\n",
       "  padding-right: 5px;\n",
       "}\n",
       "\n",
       ".xr-has-index {\n",
       "  font-weight: bold;\n",
       "}\n",
       "\n",
       ".xr-var-list,\n",
       ".xr-var-item {\n",
       "  display: contents;\n",
       "}\n",
       "\n",
       ".xr-var-item > div,\n",
       ".xr-var-item label,\n",
       ".xr-var-item > .xr-var-name span {\n",
       "  background-color: var(--xr-background-color-row-even);\n",
       "  margin-bottom: 0;\n",
       "}\n",
       "\n",
       ".xr-var-item > .xr-var-name:hover span {\n",
       "  padding-right: 5px;\n",
       "}\n",
       "\n",
       ".xr-var-list > li:nth-child(odd) > div,\n",
       ".xr-var-list > li:nth-child(odd) > label,\n",
       ".xr-var-list > li:nth-child(odd) > .xr-var-name span {\n",
       "  background-color: var(--xr-background-color-row-odd);\n",
       "}\n",
       "\n",
       ".xr-var-name {\n",
       "  grid-column: 1;\n",
       "}\n",
       "\n",
       ".xr-var-dims {\n",
       "  grid-column: 2;\n",
       "}\n",
       "\n",
       ".xr-var-dtype {\n",
       "  grid-column: 3;\n",
       "  text-align: right;\n",
       "  color: var(--xr-font-color2);\n",
       "}\n",
       "\n",
       ".xr-var-preview {\n",
       "  grid-column: 4;\n",
       "}\n",
       "\n",
       ".xr-var-name,\n",
       ".xr-var-dims,\n",
       ".xr-var-dtype,\n",
       ".xr-preview,\n",
       ".xr-attrs dt {\n",
       "  white-space: nowrap;\n",
       "  overflow: hidden;\n",
       "  text-overflow: ellipsis;\n",
       "  padding-right: 10px;\n",
       "}\n",
       "\n",
       ".xr-var-name:hover,\n",
       ".xr-var-dims:hover,\n",
       ".xr-var-dtype:hover,\n",
       ".xr-attrs dt:hover {\n",
       "  overflow: visible;\n",
       "  width: auto;\n",
       "  z-index: 1;\n",
       "}\n",
       "\n",
       ".xr-var-attrs,\n",
       ".xr-var-data {\n",
       "  display: none;\n",
       "  background-color: var(--xr-background-color) !important;\n",
       "  padding-bottom: 5px !important;\n",
       "}\n",
       "\n",
       ".xr-var-attrs-in:checked ~ .xr-var-attrs,\n",
       ".xr-var-data-in:checked ~ .xr-var-data {\n",
       "  display: block;\n",
       "}\n",
       "\n",
       ".xr-var-data > table {\n",
       "  float: right;\n",
       "}\n",
       "\n",
       ".xr-var-name span,\n",
       ".xr-var-data,\n",
       ".xr-attrs {\n",
       "  padding-left: 25px !important;\n",
       "}\n",
       "\n",
       ".xr-attrs,\n",
       ".xr-var-attrs,\n",
       ".xr-var-data {\n",
       "  grid-column: 1 / -1;\n",
       "}\n",
       "\n",
       "dl.xr-attrs {\n",
       "  padding: 0;\n",
       "  margin: 0;\n",
       "  display: grid;\n",
       "  grid-template-columns: 125px auto;\n",
       "}\n",
       "\n",
       ".xr-attrs dt, dd {\n",
       "  padding: 0;\n",
       "  margin: 0;\n",
       "  float: left;\n",
       "  padding-right: 10px;\n",
       "  width: auto;\n",
       "}\n",
       "\n",
       ".xr-attrs dt {\n",
       "  font-weight: normal;\n",
       "  grid-column: 1;\n",
       "}\n",
       "\n",
       ".xr-attrs dt:hover span {\n",
       "  display: inline-block;\n",
       "  background: var(--xr-background-color);\n",
       "  padding-right: 10px;\n",
       "}\n",
       "\n",
       ".xr-attrs dd {\n",
       "  grid-column: 2;\n",
       "  white-space: pre-wrap;\n",
       "  word-break: break-all;\n",
       "}\n",
       "\n",
       ".xr-icon-database,\n",
       ".xr-icon-file-text2 {\n",
       "  display: inline-block;\n",
       "  vertical-align: middle;\n",
       "  width: 1em;\n",
       "  height: 1.5em !important;\n",
       "  stroke-width: 0;\n",
       "  stroke: currentColor;\n",
       "  fill: currentColor;\n",
       "}\n",
       "</style><pre class='xr-text-repr-fallback'>&lt;xarray.DataArray &#x27;DIC&#x27; (time_counter: 294, deptht: 31, y: 149, x: 182)&gt;\n",
       "dask.array&lt;getitem, shape=(294, 31, 149, 182), dtype=float32, chunksize=(6, 31, 149, 182), chunktype=numpy.ndarray&gt;\n",
       "Coordinates:\n",
       "    nav_lat        (y, x) float32 dask.array&lt;chunksize=(149, 182), meta=np.ndarray&gt;\n",
       "    nav_lon        (y, x) float32 dask.array&lt;chunksize=(149, 182), meta=np.ndarray&gt;\n",
       "  * deptht         (deptht) float32 4.999938 15.000288 ... 4749.913 5250.2266\n",
       "    time_centered  (time_counter) object dask.array&lt;chunksize=(6,), meta=np.ndarray&gt;\n",
       "  * time_counter   (time_counter) object 1972-01-16 12:00:00 ... 2020-12-16 1...\n",
       "Dimensions without coordinates: y, x\n",
       "Attributes:\n",
       "    long_name:           Dissolved inorganic Concentration\n",
       "    units:               mol/L\n",
       "    online_operation:    average\n",
       "    interval_operation:  5760 s\n",
       "    interval_write:      1 month\n",
       "    cell_methods:        time: mean (interval: 5760 s)</pre><div class='xr-wrap' hidden><div class='xr-header'><div class='xr-obj-type'>xarray.DataArray</div><div class='xr-array-name'>'DIC'</div><ul class='xr-dim-list'><li><span class='xr-has-index'>time_counter</span>: 294</li><li><span class='xr-has-index'>deptht</span>: 31</li><li><span>y</span>: 149</li><li><span>x</span>: 182</li></ul></div><ul class='xr-sections'><li class='xr-section-item'><div class='xr-array-wrap'><input id='section-491503ee-d85b-4e4c-87e1-94adaf211712' class='xr-array-in' type='checkbox' checked><label for='section-491503ee-d85b-4e4c-87e1-94adaf211712' title='Show/hide data repr'><svg class='icon xr-icon-database'><use xlink:href='#icon-database'></use></svg></label><div class='xr-array-preview xr-preview'><span>dask.array&lt;chunksize=(6, 31, 149, 182), meta=np.ndarray&gt;</span></div><div class='xr-array-data'><table>\n",
       "    <tr>\n",
       "        <td>\n",
       "            <table>\n",
       "                <thead>\n",
       "                    <tr>\n",
       "                        <td> </td>\n",
       "                        <th> Array </th>\n",
       "                        <th> Chunk </th>\n",
       "                    </tr>\n",
       "                </thead>\n",
       "                <tbody>\n",
       "                    \n",
       "                    <tr>\n",
       "                        <th> Bytes </th>\n",
       "                        <td> 0.92 GiB </td>\n",
       "                        <td> 19.24 MiB </td>\n",
       "                    </tr>\n",
       "                    \n",
       "                    <tr>\n",
       "                        <th> Shape </th>\n",
       "                        <td> (294, 31, 149, 182) </td>\n",
       "                        <td> (6, 31, 149, 182) </td>\n",
       "                    </tr>\n",
       "                    <tr>\n",
       "                        <th> Count </th>\n",
       "                        <td> 196 Tasks </td>\n",
       "                        <td> 49 Chunks </td>\n",
       "                    </tr>\n",
       "                    <tr>\n",
       "                    <th> Type </th>\n",
       "                    <td> float32 </td>\n",
       "                    <td> numpy.ndarray </td>\n",
       "                    </tr>\n",
       "                </tbody>\n",
       "            </table>\n",
       "        </td>\n",
       "        <td>\n",
       "        <svg width=\"527\" height=\"133\" style=\"stroke:rgb(0,0,0);stroke-width:1\" >\n",
       "\n",
       "  <!-- Horizontal lines -->\n",
       "  <line x1=\"0\" y1=\"0\" x2=\"120\" y2=\"0\" style=\"stroke-width:2\" />\n",
       "  <line x1=\"0\" y1=\"25\" x2=\"120\" y2=\"25\" style=\"stroke-width:2\" />\n",
       "\n",
       "  <!-- Vertical lines -->\n",
       "  <line x1=\"0\" y1=\"0\" x2=\"0\" y2=\"25\" style=\"stroke-width:2\" />\n",
       "  <line x1=\"2\" y1=\"0\" x2=\"2\" y2=\"25\" />\n",
       "  <line x1=\"7\" y1=\"0\" x2=\"7\" y2=\"25\" />\n",
       "  <line x1=\"9\" y1=\"0\" x2=\"9\" y2=\"25\" />\n",
       "  <line x1=\"14\" y1=\"0\" x2=\"14\" y2=\"25\" />\n",
       "  <line x1=\"17\" y1=\"0\" x2=\"17\" y2=\"25\" />\n",
       "  <line x1=\"22\" y1=\"0\" x2=\"22\" y2=\"25\" />\n",
       "  <line x1=\"24\" y1=\"0\" x2=\"24\" y2=\"25\" />\n",
       "  <line x1=\"29\" y1=\"0\" x2=\"29\" y2=\"25\" />\n",
       "  <line x1=\"31\" y1=\"0\" x2=\"31\" y2=\"25\" />\n",
       "  <line x1=\"36\" y1=\"0\" x2=\"36\" y2=\"25\" />\n",
       "  <line x1=\"39\" y1=\"0\" x2=\"39\" y2=\"25\" />\n",
       "  <line x1=\"44\" y1=\"0\" x2=\"44\" y2=\"25\" />\n",
       "  <line x1=\"46\" y1=\"0\" x2=\"46\" y2=\"25\" />\n",
       "  <line x1=\"51\" y1=\"0\" x2=\"51\" y2=\"25\" />\n",
       "  <line x1=\"53\" y1=\"0\" x2=\"53\" y2=\"25\" />\n",
       "  <line x1=\"58\" y1=\"0\" x2=\"58\" y2=\"25\" />\n",
       "  <line x1=\"63\" y1=\"0\" x2=\"63\" y2=\"25\" />\n",
       "  <line x1=\"66\" y1=\"0\" x2=\"66\" y2=\"25\" />\n",
       "  <line x1=\"71\" y1=\"0\" x2=\"71\" y2=\"25\" />\n",
       "  <line x1=\"73\" y1=\"0\" x2=\"73\" y2=\"25\" />\n",
       "  <line x1=\"78\" y1=\"0\" x2=\"78\" y2=\"25\" />\n",
       "  <line x1=\"80\" y1=\"0\" x2=\"80\" y2=\"25\" />\n",
       "  <line x1=\"85\" y1=\"0\" x2=\"85\" y2=\"25\" />\n",
       "  <line x1=\"88\" y1=\"0\" x2=\"88\" y2=\"25\" />\n",
       "  <line x1=\"93\" y1=\"0\" x2=\"93\" y2=\"25\" />\n",
       "  <line x1=\"95\" y1=\"0\" x2=\"95\" y2=\"25\" />\n",
       "  <line x1=\"100\" y1=\"0\" x2=\"100\" y2=\"25\" />\n",
       "  <line x1=\"102\" y1=\"0\" x2=\"102\" y2=\"25\" />\n",
       "  <line x1=\"107\" y1=\"0\" x2=\"107\" y2=\"25\" />\n",
       "  <line x1=\"110\" y1=\"0\" x2=\"110\" y2=\"25\" />\n",
       "  <line x1=\"115\" y1=\"0\" x2=\"115\" y2=\"25\" />\n",
       "  <line x1=\"120\" y1=\"0\" x2=\"120\" y2=\"25\" style=\"stroke-width:2\" />\n",
       "\n",
       "  <!-- Colored Rectangle -->\n",
       "  <polygon points=\"0.0,0.0 120.0,0.0 120.0,25.412616514582485 0.0,25.412616514582485\" style=\"fill:#8B4903A0;stroke-width:0\"/>\n",
       "\n",
       "  <!-- Text -->\n",
       "  <text x=\"60.000000\" y=\"45.412617\" font-size=\"1.0rem\" font-weight=\"100\" text-anchor=\"middle\" >294</text>\n",
       "  <text x=\"140.000000\" y=\"12.706308\" font-size=\"1.0rem\" font-weight=\"100\" text-anchor=\"middle\" transform=\"rotate(0,140.000000,12.706308)\">1</text>\n",
       "\n",
       "\n",
       "  <!-- Horizontal lines -->\n",
       "  <line x1=\"190\" y1=\"0\" x2=\"212\" y2=\"22\" style=\"stroke-width:2\" />\n",
       "  <line x1=\"190\" y1=\"60\" x2=\"212\" y2=\"83\" style=\"stroke-width:2\" />\n",
       "\n",
       "  <!-- Vertical lines -->\n",
       "  <line x1=\"190\" y1=\"0\" x2=\"190\" y2=\"60\" style=\"stroke-width:2\" />\n",
       "  <line x1=\"212\" y1=\"22\" x2=\"212\" y2=\"83\" style=\"stroke-width:2\" />\n",
       "\n",
       "  <!-- Colored Rectangle -->\n",
       "  <polygon points=\"190.0,0.0 212.87555311977786,22.875553119777855 212.87555311977786,83.69187965039009 190.0,60.816326530612244\" style=\"fill:#ECB172A0;stroke-width:0\"/>\n",
       "\n",
       "  <!-- Horizontal lines -->\n",
       "  <line x1=\"190\" y1=\"0\" x2=\"264\" y2=\"0\" style=\"stroke-width:2\" />\n",
       "  <line x1=\"212\" y1=\"22\" x2=\"287\" y2=\"22\" style=\"stroke-width:2\" />\n",
       "\n",
       "  <!-- Vertical lines -->\n",
       "  <line x1=\"190\" y1=\"0\" x2=\"212\" y2=\"22\" style=\"stroke-width:2\" />\n",
       "  <line x1=\"264\" y1=\"0\" x2=\"287\" y2=\"22\" style=\"stroke-width:2\" />\n",
       "\n",
       "  <!-- Colored Rectangle -->\n",
       "  <polygon points=\"190.0,0.0 264.2857142857143,0.0 287.16126740549214,22.875553119777855 212.87555311977786,22.875553119777855\" style=\"fill:#ECB172A0;stroke-width:0\"/>\n",
       "\n",
       "  <!-- Horizontal lines -->\n",
       "  <line x1=\"212\" y1=\"22\" x2=\"287\" y2=\"22\" style=\"stroke-width:2\" />\n",
       "  <line x1=\"212\" y1=\"83\" x2=\"287\" y2=\"83\" style=\"stroke-width:2\" />\n",
       "\n",
       "  <!-- Vertical lines -->\n",
       "  <line x1=\"212\" y1=\"22\" x2=\"212\" y2=\"83\" style=\"stroke-width:2\" />\n",
       "  <line x1=\"287\" y1=\"22\" x2=\"287\" y2=\"83\" style=\"stroke-width:2\" />\n",
       "\n",
       "  <!-- Colored Rectangle -->\n",
       "  <polygon points=\"212.87555311977786,22.875553119777855 287.16126740549214,22.875553119777855 287.16126740549214,83.69187965039009 212.87555311977786,83.69187965039009\" style=\"fill:#ECB172A0;stroke-width:0\"/>\n",
       "\n",
       "  <!-- Text -->\n",
       "  <text x=\"250.018410\" y=\"103.691880\" font-size=\"1.0rem\" font-weight=\"100\" text-anchor=\"middle\" >182</text>\n",
       "  <text x=\"307.161267\" y=\"53.283716\" font-size=\"1.0rem\" font-weight=\"100\" text-anchor=\"middle\" transform=\"rotate(-90,307.161267,53.283716)\">149</text>\n",
       "  <text x=\"191.437777\" y=\"92.254103\" font-size=\"1.0rem\" font-weight=\"100\" text-anchor=\"middle\" transform=\"rotate(45,191.437777,92.254103)\">31</text>\n",
       "</svg>\n",
       "        </td>\n",
       "    </tr>\n",
       "</table></div></div></li><li class='xr-section-item'><input id='section-48c56a14-ba2f-4e2d-9a07-858ba71e3826' class='xr-section-summary-in' type='checkbox'  checked><label for='section-48c56a14-ba2f-4e2d-9a07-858ba71e3826' class='xr-section-summary' >Coordinates: <span>(5)</span></label><div class='xr-section-inline-details'></div><div class='xr-section-details'><ul class='xr-var-list'><li class='xr-var-item'><div class='xr-var-name'><span>nav_lat</span></div><div class='xr-var-dims'>(y, x)</div><div class='xr-var-dtype'>float32</div><div class='xr-var-preview xr-preview'>dask.array&lt;chunksize=(149, 182), meta=np.ndarray&gt;</div><input id='attrs-0b22dfe3-2762-47d8-b771-1b3a44c319bf' class='xr-var-attrs-in' type='checkbox' ><label for='attrs-0b22dfe3-2762-47d8-b771-1b3a44c319bf' title='Show/Hide attributes'><svg class='icon xr-icon-file-text2'><use xlink:href='#icon-file-text2'></use></svg></label><input id='data-ab09570f-ec5a-40d1-98a3-72f28223e5ed' class='xr-var-data-in' type='checkbox'><label for='data-ab09570f-ec5a-40d1-98a3-72f28223e5ed' title='Show/Hide data repr'><svg class='icon xr-icon-database'><use xlink:href='#icon-database'></use></svg></label><div class='xr-var-attrs'><dl class='xr-attrs'><dt><span>standard_name :</span></dt><dd>latitude</dd><dt><span>long_name :</span></dt><dd>Latitude</dd><dt><span>units :</span></dt><dd>degrees_north</dd><dt><span>nav_model :</span></dt><dd>grid_T</dd></dl></div><div class='xr-var-data'><table>\n",
       "    <tr>\n",
       "        <td>\n",
       "            <table>\n",
       "                <thead>\n",
       "                    <tr>\n",
       "                        <td> </td>\n",
       "                        <th> Array </th>\n",
       "                        <th> Chunk </th>\n",
       "                    </tr>\n",
       "                </thead>\n",
       "                <tbody>\n",
       "                    \n",
       "                    <tr>\n",
       "                        <th> Bytes </th>\n",
       "                        <td> 105.93 kiB </td>\n",
       "                        <td> 105.93 kiB </td>\n",
       "                    </tr>\n",
       "                    \n",
       "                    <tr>\n",
       "                        <th> Shape </th>\n",
       "                        <td> (149, 182) </td>\n",
       "                        <td> (149, 182) </td>\n",
       "                    </tr>\n",
       "                    <tr>\n",
       "                        <th> Count </th>\n",
       "                        <td> 240 Tasks </td>\n",
       "                        <td> 1 Chunks </td>\n",
       "                    </tr>\n",
       "                    <tr>\n",
       "                    <th> Type </th>\n",
       "                    <td> float32 </td>\n",
       "                    <td> numpy.ndarray </td>\n",
       "                    </tr>\n",
       "                </tbody>\n",
       "            </table>\n",
       "        </td>\n",
       "        <td>\n",
       "        <svg width=\"170\" height=\"148\" style=\"stroke:rgb(0,0,0);stroke-width:1\" >\n",
       "\n",
       "  <!-- Horizontal lines -->\n",
       "  <line x1=\"0\" y1=\"0\" x2=\"120\" y2=\"0\" style=\"stroke-width:2\" />\n",
       "  <line x1=\"0\" y1=\"98\" x2=\"120\" y2=\"98\" style=\"stroke-width:2\" />\n",
       "\n",
       "  <!-- Vertical lines -->\n",
       "  <line x1=\"0\" y1=\"0\" x2=\"0\" y2=\"98\" style=\"stroke-width:2\" />\n",
       "  <line x1=\"120\" y1=\"0\" x2=\"120\" y2=\"98\" style=\"stroke-width:2\" />\n",
       "\n",
       "  <!-- Colored Rectangle -->\n",
       "  <polygon points=\"0.0,0.0 120.0,0.0 120.0,98.24175824175823 0.0,98.24175824175823\" style=\"fill:#ECB172A0;stroke-width:0\"/>\n",
       "\n",
       "  <!-- Text -->\n",
       "  <text x=\"60.000000\" y=\"118.241758\" font-size=\"1.0rem\" font-weight=\"100\" text-anchor=\"middle\" >182</text>\n",
       "  <text x=\"140.000000\" y=\"49.120879\" font-size=\"1.0rem\" font-weight=\"100\" text-anchor=\"middle\" transform=\"rotate(-90,140.000000,49.120879)\">149</text>\n",
       "</svg>\n",
       "        </td>\n",
       "    </tr>\n",
       "</table></div></li><li class='xr-var-item'><div class='xr-var-name'><span>nav_lon</span></div><div class='xr-var-dims'>(y, x)</div><div class='xr-var-dtype'>float32</div><div class='xr-var-preview xr-preview'>dask.array&lt;chunksize=(149, 182), meta=np.ndarray&gt;</div><input id='attrs-fc6e7df0-c701-42b5-a97d-78f4f8e9a17d' class='xr-var-attrs-in' type='checkbox' ><label for='attrs-fc6e7df0-c701-42b5-a97d-78f4f8e9a17d' title='Show/Hide attributes'><svg class='icon xr-icon-file-text2'><use xlink:href='#icon-file-text2'></use></svg></label><input id='data-592fd4ea-9cee-46de-9d87-0aa31c525817' class='xr-var-data-in' type='checkbox'><label for='data-592fd4ea-9cee-46de-9d87-0aa31c525817' title='Show/Hide data repr'><svg class='icon xr-icon-database'><use xlink:href='#icon-database'></use></svg></label><div class='xr-var-attrs'><dl class='xr-attrs'><dt><span>standard_name :</span></dt><dd>longitude</dd><dt><span>long_name :</span></dt><dd>Longitude</dd><dt><span>units :</span></dt><dd>degrees_east</dd><dt><span>nav_model :</span></dt><dd>grid_T</dd></dl></div><div class='xr-var-data'><table>\n",
       "    <tr>\n",
       "        <td>\n",
       "            <table>\n",
       "                <thead>\n",
       "                    <tr>\n",
       "                        <td> </td>\n",
       "                        <th> Array </th>\n",
       "                        <th> Chunk </th>\n",
       "                    </tr>\n",
       "                </thead>\n",
       "                <tbody>\n",
       "                    \n",
       "                    <tr>\n",
       "                        <th> Bytes </th>\n",
       "                        <td> 105.93 kiB </td>\n",
       "                        <td> 105.93 kiB </td>\n",
       "                    </tr>\n",
       "                    \n",
       "                    <tr>\n",
       "                        <th> Shape </th>\n",
       "                        <td> (149, 182) </td>\n",
       "                        <td> (149, 182) </td>\n",
       "                    </tr>\n",
       "                    <tr>\n",
       "                        <th> Count </th>\n",
       "                        <td> 240 Tasks </td>\n",
       "                        <td> 1 Chunks </td>\n",
       "                    </tr>\n",
       "                    <tr>\n",
       "                    <th> Type </th>\n",
       "                    <td> float32 </td>\n",
       "                    <td> numpy.ndarray </td>\n",
       "                    </tr>\n",
       "                </tbody>\n",
       "            </table>\n",
       "        </td>\n",
       "        <td>\n",
       "        <svg width=\"170\" height=\"148\" style=\"stroke:rgb(0,0,0);stroke-width:1\" >\n",
       "\n",
       "  <!-- Horizontal lines -->\n",
       "  <line x1=\"0\" y1=\"0\" x2=\"120\" y2=\"0\" style=\"stroke-width:2\" />\n",
       "  <line x1=\"0\" y1=\"98\" x2=\"120\" y2=\"98\" style=\"stroke-width:2\" />\n",
       "\n",
       "  <!-- Vertical lines -->\n",
       "  <line x1=\"0\" y1=\"0\" x2=\"0\" y2=\"98\" style=\"stroke-width:2\" />\n",
       "  <line x1=\"120\" y1=\"0\" x2=\"120\" y2=\"98\" style=\"stroke-width:2\" />\n",
       "\n",
       "  <!-- Colored Rectangle -->\n",
       "  <polygon points=\"0.0,0.0 120.0,0.0 120.0,98.24175824175823 0.0,98.24175824175823\" style=\"fill:#ECB172A0;stroke-width:0\"/>\n",
       "\n",
       "  <!-- Text -->\n",
       "  <text x=\"60.000000\" y=\"118.241758\" font-size=\"1.0rem\" font-weight=\"100\" text-anchor=\"middle\" >182</text>\n",
       "  <text x=\"140.000000\" y=\"49.120879\" font-size=\"1.0rem\" font-weight=\"100\" text-anchor=\"middle\" transform=\"rotate(-90,140.000000,49.120879)\">149</text>\n",
       "</svg>\n",
       "        </td>\n",
       "    </tr>\n",
       "</table></div></li><li class='xr-var-item'><div class='xr-var-name'><span class='xr-has-index'>deptht</span></div><div class='xr-var-dims'>(deptht)</div><div class='xr-var-dtype'>float32</div><div class='xr-var-preview xr-preview'>4.999938 15.000288 ... 5250.2266</div><input id='attrs-8159c140-cd0d-415f-b676-3aa75881e051' class='xr-var-attrs-in' type='checkbox' ><label for='attrs-8159c140-cd0d-415f-b676-3aa75881e051' title='Show/Hide attributes'><svg class='icon xr-icon-file-text2'><use xlink:href='#icon-file-text2'></use></svg></label><input id='data-add77012-dbff-41e2-93d3-186eafb7a68b' class='xr-var-data-in' type='checkbox'><label for='data-add77012-dbff-41e2-93d3-186eafb7a68b' title='Show/Hide data repr'><svg class='icon xr-icon-database'><use xlink:href='#icon-database'></use></svg></label><div class='xr-var-attrs'><dl class='xr-attrs'><dt><span>long_name :</span></dt><dd>Vertical T levels</dd><dt><span>units :</span></dt><dd>m</dd><dt><span>axis :</span></dt><dd>Z</dd><dt><span>positive :</span></dt><dd>down</dd><dt><span>bounds :</span></dt><dd>deptht_bounds</dd></dl></div><div class='xr-var-data'><pre>array([4.999938e+00, 1.500029e+01, 2.500176e+01, 3.500541e+01, 4.501332e+01,\n",
       "       5.502950e+01, 6.506181e+01, 7.512551e+01, 8.525037e+01, 9.549429e+01,\n",
       "       1.059699e+02, 1.168962e+02, 1.286979e+02, 1.421953e+02, 1.589606e+02,\n",
       "       1.819628e+02, 2.166479e+02, 2.724767e+02, 3.643030e+02, 5.115348e+02,\n",
       "       7.322009e+02, 1.033217e+03, 1.405698e+03, 1.830885e+03, 2.289768e+03,\n",
       "       2.768242e+03, 3.257479e+03, 3.752442e+03, 4.250401e+03, 4.749913e+03,\n",
       "       5.250227e+03], dtype=float32)</pre></div></li><li class='xr-var-item'><div class='xr-var-name'><span>time_centered</span></div><div class='xr-var-dims'>(time_counter)</div><div class='xr-var-dtype'>object</div><div class='xr-var-preview xr-preview'>dask.array&lt;chunksize=(6,), meta=np.ndarray&gt;</div><input id='attrs-0d5d3df9-8c40-42dc-a11a-9e52b6c8cf2d' class='xr-var-attrs-in' type='checkbox' ><label for='attrs-0d5d3df9-8c40-42dc-a11a-9e52b6c8cf2d' title='Show/Hide attributes'><svg class='icon xr-icon-file-text2'><use xlink:href='#icon-file-text2'></use></svg></label><input id='data-531d271d-1f31-4229-879c-f1474a52163a' class='xr-var-data-in' type='checkbox'><label for='data-531d271d-1f31-4229-879c-f1474a52163a' title='Show/Hide data repr'><svg class='icon xr-icon-database'><use xlink:href='#icon-database'></use></svg></label><div class='xr-var-attrs'><dl class='xr-attrs'><dt><span>standard_name :</span></dt><dd>time</dd><dt><span>long_name :</span></dt><dd>Time axis</dd><dt><span>time_origin :</span></dt><dd>1950-01-01 00:00:00</dd><dt><span>bounds :</span></dt><dd>time_centered_bounds</dd></dl></div><div class='xr-var-data'><table>\n",
       "    <tr>\n",
       "        <td>\n",
       "            <table>\n",
       "                <thead>\n",
       "                    <tr>\n",
       "                        <td> </td>\n",
       "                        <th> Array </th>\n",
       "                        <th> Chunk </th>\n",
       "                    </tr>\n",
       "                </thead>\n",
       "                <tbody>\n",
       "                    \n",
       "                    <tr>\n",
       "                        <th> Bytes </th>\n",
       "                        <td> 2.30 kiB </td>\n",
       "                        <td> 48 B </td>\n",
       "                    </tr>\n",
       "                    \n",
       "                    <tr>\n",
       "                        <th> Shape </th>\n",
       "                        <td> (294,) </td>\n",
       "                        <td> (6,) </td>\n",
       "                    </tr>\n",
       "                    <tr>\n",
       "                        <th> Count </th>\n",
       "                        <td> 196 Tasks </td>\n",
       "                        <td> 49 Chunks </td>\n",
       "                    </tr>\n",
       "                    <tr>\n",
       "                    <th> Type </th>\n",
       "                    <td> object </td>\n",
       "                    <td> numpy.ndarray </td>\n",
       "                    </tr>\n",
       "                </tbody>\n",
       "            </table>\n",
       "        </td>\n",
       "        <td>\n",
       "        <svg width=\"170\" height=\"75\" style=\"stroke:rgb(0,0,0);stroke-width:1\" >\n",
       "\n",
       "  <!-- Horizontal lines -->\n",
       "  <line x1=\"0\" y1=\"0\" x2=\"120\" y2=\"0\" style=\"stroke-width:2\" />\n",
       "  <line x1=\"0\" y1=\"25\" x2=\"120\" y2=\"25\" style=\"stroke-width:2\" />\n",
       "\n",
       "  <!-- Vertical lines -->\n",
       "  <line x1=\"0\" y1=\"0\" x2=\"0\" y2=\"25\" style=\"stroke-width:2\" />\n",
       "  <line x1=\"4\" y1=\"0\" x2=\"4\" y2=\"25\" />\n",
       "  <line x1=\"12\" y1=\"0\" x2=\"12\" y2=\"25\" />\n",
       "  <line x1=\"17\" y1=\"0\" x2=\"17\" y2=\"25\" />\n",
       "  <line x1=\"24\" y1=\"0\" x2=\"24\" y2=\"25\" />\n",
       "  <line x1=\"29\" y1=\"0\" x2=\"29\" y2=\"25\" />\n",
       "  <line x1=\"36\" y1=\"0\" x2=\"36\" y2=\"25\" />\n",
       "  <line x1=\"44\" y1=\"0\" x2=\"44\" y2=\"25\" />\n",
       "  <line x1=\"48\" y1=\"0\" x2=\"48\" y2=\"25\" />\n",
       "  <line x1=\"56\" y1=\"0\" x2=\"56\" y2=\"25\" />\n",
       "  <line x1=\"61\" y1=\"0\" x2=\"61\" y2=\"25\" />\n",
       "  <line x1=\"68\" y1=\"0\" x2=\"68\" y2=\"25\" />\n",
       "  <line x1=\"73\" y1=\"0\" x2=\"73\" y2=\"25\" />\n",
       "  <line x1=\"80\" y1=\"0\" x2=\"80\" y2=\"25\" />\n",
       "  <line x1=\"88\" y1=\"0\" x2=\"88\" y2=\"25\" />\n",
       "  <line x1=\"93\" y1=\"0\" x2=\"93\" y2=\"25\" />\n",
       "  <line x1=\"100\" y1=\"0\" x2=\"100\" y2=\"25\" />\n",
       "  <line x1=\"105\" y1=\"0\" x2=\"105\" y2=\"25\" />\n",
       "  <line x1=\"112\" y1=\"0\" x2=\"112\" y2=\"25\" />\n",
       "  <line x1=\"120\" y1=\"0\" x2=\"120\" y2=\"25\" style=\"stroke-width:2\" />\n",
       "\n",
       "  <!-- Colored Rectangle -->\n",
       "  <polygon points=\"0.0,0.0 120.0,0.0 120.0,25.412616514582485 0.0,25.412616514582485\" style=\"fill:#8B4903A0;stroke-width:0\"/>\n",
       "\n",
       "  <!-- Text -->\n",
       "  <text x=\"60.000000\" y=\"45.412617\" font-size=\"1.0rem\" font-weight=\"100\" text-anchor=\"middle\" >294</text>\n",
       "  <text x=\"140.000000\" y=\"12.706308\" font-size=\"1.0rem\" font-weight=\"100\" text-anchor=\"middle\" transform=\"rotate(0,140.000000,12.706308)\">1</text>\n",
       "</svg>\n",
       "        </td>\n",
       "    </tr>\n",
       "</table></div></li><li class='xr-var-item'><div class='xr-var-name'><span class='xr-has-index'>time_counter</span></div><div class='xr-var-dims'>(time_counter)</div><div class='xr-var-dtype'>object</div><div class='xr-var-preview xr-preview'>1972-01-16 12:00:00 ... 2020-12-...</div><input id='attrs-da7a5961-9347-444e-8b4e-38faa4d1aaa5' class='xr-var-attrs-in' type='checkbox' ><label for='attrs-da7a5961-9347-444e-8b4e-38faa4d1aaa5' title='Show/Hide attributes'><svg class='icon xr-icon-file-text2'><use xlink:href='#icon-file-text2'></use></svg></label><input id='data-265b007f-61b1-439b-a1bd-0d1a964bbd2a' class='xr-var-data-in' type='checkbox'><label for='data-265b007f-61b1-439b-a1bd-0d1a964bbd2a' title='Show/Hide data repr'><svg class='icon xr-icon-database'><use xlink:href='#icon-database'></use></svg></label><div class='xr-var-attrs'><dl class='xr-attrs'><dt><span>axis :</span></dt><dd>T</dd><dt><span>standard_name :</span></dt><dd>time</dd><dt><span>long_name :</span></dt><dd>Time axis</dd><dt><span>time_origin :</span></dt><dd>1950-01-01 00:00:00</dd><dt><span>bounds :</span></dt><dd>time_counter_bounds</dd></dl></div><div class='xr-var-data'><pre>array([cftime.DatetimeNoLeap(1972, 1, 16, 12, 0, 0, 0, has_year_zero=True),\n",
       "       cftime.DatetimeNoLeap(1972, 2, 15, 0, 0, 0, 0, has_year_zero=True),\n",
       "       cftime.DatetimeNoLeap(1972, 3, 16, 12, 0, 0, 0, has_year_zero=True),\n",
       "       ...,\n",
       "       cftime.DatetimeNoLeap(2020, 10, 16, 12, 0, 0, 0, has_year_zero=True),\n",
       "       cftime.DatetimeNoLeap(2020, 11, 16, 0, 0, 0, 0, has_year_zero=True),\n",
       "       cftime.DatetimeNoLeap(2020, 12, 16, 12, 0, 0, 0, has_year_zero=True)],\n",
       "      dtype=object)</pre></div></li></ul></div></li><li class='xr-section-item'><input id='section-11ee45d9-fe98-4b4c-ad24-2f6a309a6cb3' class='xr-section-summary-in' type='checkbox'  checked><label for='section-11ee45d9-fe98-4b4c-ad24-2f6a309a6cb3' class='xr-section-summary' >Attributes: <span>(6)</span></label><div class='xr-section-inline-details'></div><div class='xr-section-details'><dl class='xr-attrs'><dt><span>long_name :</span></dt><dd>Dissolved inorganic Concentration</dd><dt><span>units :</span></dt><dd>mol/L</dd><dt><span>online_operation :</span></dt><dd>average</dd><dt><span>interval_operation :</span></dt><dd>5760 s</dd><dt><span>interval_write :</span></dt><dd>1 month</dd><dt><span>cell_methods :</span></dt><dd>time: mean (interval: 5760 s)</dd></dl></div></li></ul></div></div>"
      ],
      "text/plain": [
       "<xarray.DataArray 'DIC' (time_counter: 294, deptht: 31, y: 149, x: 182)>\n",
       "dask.array<getitem, shape=(294, 31, 149, 182), dtype=float32, chunksize=(6, 31, 149, 182), chunktype=numpy.ndarray>\n",
       "Coordinates:\n",
       "    nav_lat        (y, x) float32 dask.array<chunksize=(149, 182), meta=np.ndarray>\n",
       "    nav_lon        (y, x) float32 dask.array<chunksize=(149, 182), meta=np.ndarray>\n",
       "  * deptht         (deptht) float32 4.999938 15.000288 ... 4749.913 5250.2266\n",
       "    time_centered  (time_counter) object dask.array<chunksize=(6,), meta=np.ndarray>\n",
       "  * time_counter   (time_counter) object 1972-01-16 12:00:00 ... 2020-12-16 1...\n",
       "Dimensions without coordinates: y, x\n",
       "Attributes:\n",
       "    long_name:           Dissolved inorganic Concentration\n",
       "    units:               mol/L\n",
       "    online_operation:    average\n",
       "    interval_operation:  5760 s\n",
       "    interval_write:      1 month\n",
       "    cell_methods:        time: mean (interval: 5760 s)"
      ]
     },
     "execution_count": 13,
     "metadata": {},
     "output_type": "execute_result"
    }
   ],
   "source": [
    "DIC_1AS1.sel(time_counter=DIC_1AS1.time_counter.dt.month.isin([1, 2, 3, 10, 11, 12]))"
   ]
  },
  {
   "cell_type": "markdown",
   "id": "bdbcf51d",
   "metadata": {},
   "source": [
    "## make an xarray dataset"
   ]
  },
  {
   "cell_type": "code",
   "execution_count": 14,
   "id": "117d5398",
   "metadata": {},
   "outputs": [],
   "source": [
    "dic_obs = np.zeros([3,4,31])\n",
    "alk_obs = np.zeros([3,4,31])\n",
    "# define data with variable attributes\n",
    "data_vars = {'dic':(['lat_band', 'season', 'z_index'], dic_obs,\n",
    "                         {'units': 'µmol/L',\n",
    "                          'long_name':'free-fall velocity'}),\n",
    "             'ta':(['lat_band', 'season', 'z_index'], alk_obs,\n",
    "                         {'units': 'µmol/L',\n",
    "                          'long_name':'free-fall velocity'})            \n",
    "            }\n",
    "\n",
    "# define coordinates\n",
    "coords = {'season': (['season'], np.arange(1,5,1)),\\\n",
    "         'lat_band': (['lat_band'], np.arange(0,3,1)),\\\n",
    "         'z_index': (['z_index'], np.arange(0,31,1))}\n",
    "\n",
    "# define global attributes\n",
    "attrs = {'made in':'evalOutput/TA-DIC_GLODAPOBS.ipynb',\n",
    "         'latitude bands':'band 0, -78.2 to -69.5, index 0 to 16, band 1, -69.5 to -59.3, index 16 to 28 band 2, -59.3 to -48.8, index 28 to 37',\n",
    "        'seasons': '1 is austral summer, 4 is spring'\n",
    "        }\n",
    "            \n",
    "# create dataset\n",
    "ds = xr.Dataset(data_vars=data_vars,\n",
    "                coords=coords,\n",
    "                attrs=attrs)\n",
    "\n",
    "fn = f'./examplenetcdf.nc'\n",
    "ds.to_netcdf(fn)"
   ]
  },
  {
   "cell_type": "markdown",
   "id": "31e74f65",
   "metadata": {},
   "source": [
    "## pandas"
   ]
  },
  {
   "cell_type": "code",
   "execution_count": 15,
   "id": "5117a96f",
   "metadata": {},
   "outputs": [],
   "source": [
    "import pandas as pd"
   ]
  },
  {
   "cell_type": "code",
   "execution_count": 16,
   "id": "7e47fc68",
   "metadata": {},
   "outputs": [
    {
     "data": {
      "text/plain": [
       "0        2191.0\n",
       "1        2191.0\n",
       "2        2191.0\n",
       "3        2191.0\n",
       "4        2191.0\n",
       "          ...  \n",
       "54064    1282.0\n",
       "54065    1282.0\n",
       "54066    1282.0\n",
       "54067    1282.0\n",
       "54068    1690.0\n",
       "Name: DP, Length: 54069, dtype: float64"
      ]
     },
     "execution_count": 16,
     "metadata": {},
     "output_type": "execute_result"
    }
   ],
   "source": [
    "tdat = pd.read_csv('/gpfs/home/mep22dku/scratch/SOZONE/evalOutput/datasets/GLODAPv2.2021_SO_valid_DICTA_umolL_togrid.csv')\n",
    "tdat.head()\n",
    "tdat['DP']"
   ]
  },
  {
   "cell_type": "markdown",
   "id": "868ac9af",
   "metadata": {},
   "source": [
    "### colours from colourmap"
   ]
  },
  {
   "cell_type": "code",
   "execution_count": 17,
   "id": "a159b220",
   "metadata": {},
   "outputs": [
    {
     "data": {
      "image/png": "[encoded data removed]",
      "text/plain": [
       "<Figure size 432x288 with 1 Axes>"
      ]
     },
     "metadata": {
      "needs_background": "light"
     },
     "output_type": "display_data"
    }
   ],
   "source": [
    "tcm = cm.phase\n",
    "fig = plt.figure()\n",
    "\n",
    "for i in range(0,8):\n",
    "    plt.plot(1,i, marker = 'o', color = tcm(1.*(i)/8))"
   ]
  },
  {
   "cell_type": "markdown",
   "id": "cbb9ae34",
   "metadata": {},
   "source": [
    "## get closest model point to a given lat and lon"
   ]
  },
  {
   "cell_type": "code",
   "execution_count": 18,
   "id": "df96e0c2",
   "metadata": {},
   "outputs": [
    {
     "name": "stdout",
     "output_type": "stream",
     "text": [
      "test lon: -20, test lat 20\n",
      "returns x: 131, y 91\n"
     ]
    }
   ],
   "source": [
    "def haversine(lon1, lat1, lon2, lat2):\n",
    "    \"\"\"Calculate the great-circle distance in kilometers between two points\n",
    "    on a sphere from their longitudes and latitudes.\n",
    "    Reference: http://www.movable-type.co.uk/scripts/latlong.html\n",
    "    :arg lon1: Longitude of point 1.\n",
    "    :type lon1: float or :py:class:`numpy.ndarray`\n",
    "    :arg lat1: Latitude of point 1.\n",
    "    :type lat1: float or :py:class:`numpy.ndarray`\n",
    "    :arg lon2: Longitude of point 2.\n",
    "    :type lon2: float or :py:class:`numpy.ndarray`\n",
    "    :arg lat2: Latitude of point 2.\n",
    "    :type lat2: float or :py:class:`numpy.ndarray`\n",
    "    :returns: Great-circle distance between two points in km\n",
    "    :rtype: float or :py:class:`numpy.ndarray`\n",
    "    \"\"\"\n",
    "    lon1, lat1, lon2, lat2 = map(np.radians, [lon1, lat1, lon2, lat2])\n",
    "    dlon = lon2 - lon1\n",
    "    dlat = lat2 - lat1\n",
    "    a = np.sin(dlat/2)**2 + np.cos(lat1) * np.cos(lat2) * np.sin(dlon/2)**2\n",
    "    c = 2 * np.arcsin(np.sqrt(a))\n",
    "    km = 6367 * c\n",
    "    return km\n",
    "\n",
    "def find_closest(lon1, lat1):\n",
    "    w = nc.Dataset('/gpfs/data/greenocean/software/runs/TOM12_TJ_1ASA/ORCA2_1m_20500101_20501231_ptrc_T.nc')\n",
    "    lats = (w['nav_lat'][:])\n",
    "    lons = w['nav_lon'][:]\n",
    "    km = haversine(lon1, lat1, lons, lats)\n",
    "    q = (np.where(km == np.min(km)))\n",
    "    tY = q[0][0]\n",
    "    tX = q[1][0]\n",
    "\n",
    "    return tY, tX\n",
    "\n",
    "lon1 = -20\n",
    "lat1 = 20\n",
    "print(f'test lon: {lon1}, test lat {lat1}')\n",
    "tY, tX = find_closest(lon1, lat1)\n",
    "print(f'returns x: {tX}, y {tY}')"
   ]
  },
  {
   "cell_type": "markdown",
   "id": "d17f3ccd",
   "metadata": {},
   "source": [
    "find closest value in an array"
   ]
  },
  {
   "cell_type": "code",
   "execution_count": 19,
   "id": "37c2ca98",
   "metadata": {},
   "outputs": [
    {
     "name": "stdout",
     "output_type": "stream",
     "text": [
      "[1 2 3 4 5 6 7 8]\n",
      "3.4\n",
      "2\n",
      "3\n"
     ]
    }
   ],
   "source": [
    "import numpy as np\n",
    "def find_nearest(array, value):\n",
    "    array = np.asarray(array)\n",
    "    idx = (np.abs(array - value)).argmin()\n",
    "    arval = array[idx]\n",
    "    return(idx, arval)\n",
    "\n",
    "array = np.arange(1,9,1)\n",
    "value = 3.4\n",
    "idx, arval = find_nearest(array, value)\n",
    "print(array)\n",
    "print(value)\n",
    "print(idx)\n",
    "print(arval)"
   ]
  },
  {
   "cell_type": "markdown",
   "id": "5a065ea5",
   "metadata": {},
   "source": [
    "# pickle"
   ]
  },
  {
   "cell_type": "code",
   "execution_count": 20,
   "id": "a2188982",
   "metadata": {},
   "outputs": [
    {
     "name": "stdout",
     "output_type": "stream",
     "text": [
      "[1 2 3 4 5 6 7 8]\n"
     ]
    }
   ],
   "source": [
    "array = np.arange(1,9,1)\n",
    "pickle.dump(array, open(\"examplepickle.pkl\", 'wb'))\n",
    "tpickle = pickle.load(open('./examplepickle.pkl', 'rb'))\n",
    "print(tpickle)"
   ]
  },
  {
   "cell_type": "markdown",
   "id": "bd0fbd6d",
   "metadata": {},
   "source": [
    "## southern ocean plots"
   ]
  },
  {
   "cell_type": "code",
   "execution_count": 21,
   "id": "694afef7",
   "metadata": {},
   "outputs": [
    {
     "data": {
      "text/plain": [
       "<matplotlib.colorbar.Colorbar at 0x2aafbe429190>"
      ]
     },
     "execution_count": 21,
     "metadata": {},
     "output_type": "execute_result"
    },
    {
     "name": "stderr",
     "output_type": "stream",
     "text": [
      "findfont: Font family ['normal'] not found. Falling back to DejaVu Sans.\n",
      "findfont: Font family ['normal'] not found. Falling back to DejaVu Sans.\n"
     ]
    },
    {
     "data": {
      "image/png": "[encoded data removed]",
      "text/plain": [
       "<Figure size 522x522 with 2 Axes>"
      ]
     },
     "metadata": {
      "needs_background": "light"
     },
     "output_type": "display_data"
    }
   ],
   "source": [
    "# from http://127.0.0.1:8888/lab/tree/prelimEvalForcing/CELOS-windclim.ipynb\n",
    "def scatter_southern(fig, ax1, lons, lats, tdat, tvmin, dotsize,\n",
    "                  tvmax, tticks, northex = -50, fs = 12, \n",
    "                  tit = '', cbarlab = '', tcmap = 'viridis', lm = True, cbr = True):\n",
    "   \n",
    "    ax1.set_extent([-180, 180, -80, -30], ccrs.PlateCarree())\n",
    "    #make that circle\n",
    "    theta = np.linspace(0, 2*np.pi, 100)\n",
    "    center, radius = [0.5, 0.5], 0.5\n",
    "    verts = np.vstack([np.sin(theta), np.cos(theta)]).T\n",
    "    circle = mpath.Path(verts * radius + center)\n",
    "    ax1.set_boundary(circle, transform=ax1.transAxes)\n",
    "    #lons = nav_lon[0:37,:]; lats = nav_lat[0:37,:]; \n",
    "    mesh = ax1.scatter(lons, lats, s = dotsize, c = tdat, cmap = tcmap, vmin = tvmin, vmax = tvmax, \n",
    "                     transform=ccrs.PlateCarree())\n",
    "    ax1.add_feature(cfeature.NaturalEarthFeature('physical', 'land', '110m', \n",
    "                                                 edgecolor='face', facecolor='k'))\n",
    "    ax1.set_title(tit, fontsize = fs)\n",
    "    cb = 0\n",
    "    if cbr:\n",
    "        cb = fig.colorbar(mesh, ax = ax1, orientation = 'horizontal',\n",
    "                     pad = 0.06, fraction = 0.045, shrink = 0.9)\n",
    "        cb.set_label(label=cbarlab,fontsize = fs)\n",
    "        cb.set_ticks(tticks, fontsize = 105)\n",
    "        cb.ax.tick_params(labelsize=16)\n",
    "    return cb\n",
    "\n",
    "fact = 0.5\n",
    "tfig = plt.figure(figsize=[14.5*fact, 14.5*fact])\n",
    "ax1 = tfig.add_subplot(1, 1, 1, projection=ccrs.Orthographic(0, -90))\n",
    "lons = np.array([-123, -88])\n",
    "lats = np.array([-55, -70])\n",
    "tdat = np.array([2, 2.5])\n",
    "tvmin = 2\n",
    "tvmax = 3\n",
    "tticks = tdat\n",
    "dotsize = 400\n",
    "scatter_southern(fig, ax1, lons, lats, tdat, tvmin, dotsize,\n",
    "                  tvmax, tticks, northex = -50, fs = 20, \n",
    "                  tit = 'walrus', cbarlab = '', tcmap = cm.phase, lm = True, cbr = True)"
   ]
  },
  {
   "cell_type": "markdown",
   "id": "b037719e",
   "metadata": {},
   "source": [
    "## corinne masks"
   ]
  },
  {
   "cell_type": "code",
   "execution_count": 22,
   "id": "8d372a5b",
   "metadata": {},
   "outputs": [
    {
     "data": {
      "text/plain": [
       "Text(0.5, 0.98, 'ocean regions, subdivided')"
      ]
     },
     "execution_count": 22,
     "metadata": {},
     "output_type": "execute_result"
    },
    {
     "name": "stderr",
     "output_type": "stream",
     "text": [
      "findfont: Font family ['normal'] not found. Falling back to DejaVu Sans.\n",
      "findfont: Font family ['normal'] not found. Falling back to DejaVu Sans.\n"
     ]
    },
    {
     "data": {
      "image/png": "[encoded data removed]",
      "text/plain": [
       "<Figure size 432x288 with 2 Axes>"
      ]
     },
     "metadata": {
      "needs_background": "light"
     },
     "output_type": "display_data"
    }
   ],
   "source": [
    "regs = ['ARCTIC', 'P1', 'P2', 'P3', 'P4', 'P5', 'A1', 'A2', 'A3', 'A4', 'A5', 'I3', 'I4', 'I5']\n",
    "\n",
    "regdict = {'ARCTIC' : {'number' : 0.5},\n",
    "           'P1' : {'number': 1.0},\n",
    "          'P2' : {'number': 1.2},\n",
    "           'P3' : {'number': 1.4},\n",
    "           'P4' : {'number': 1.6},\n",
    "           'P5' : {'number': 1.8},\n",
    "            'A1' : {'number': 2.4},\n",
    "          'A2' : {'number': 2.6},\n",
    "           'A3' : {'number': 2.8},\n",
    "           'A4' : {'number': 3},\n",
    "           'A5' : {'number': 3.2},\n",
    "           'I3' : {'number': 3.6},\n",
    "           'I4' : {'number': 3.8},\n",
    "           'I5' : {'number': 4},\n",
    "           \n",
    "          }\n",
    "    \n",
    "tics = []\n",
    "tcm = 'Spectral'\n",
    "tmask = nc.Dataset('/gpfs/data/greenocean/software/resources/breakdown/clq_basin_masks_ORCA.nc')\n",
    "\n",
    "maskno = np.zeros([149,182])\n",
    "for i in range(0, len(regs)):\n",
    "    maskno[tmask[regs[i]][:] == 1] = regdict[regs[i]]['number']\n",
    "    tics.append(regdict[regs[i]]['number'])\n",
    "maskno[maskno == 0] = np.nan\n",
    "\n",
    "w = plt.pcolor(maskno, cmap = tcm, vmin = 0.5, vmax = 4)\n",
    "cbar = plt.colorbar(w, ticks=tics)\n",
    "t = cbar.ax.set_yticklabels(['ARCTIC', 'P1', 'P2', 'P3', 'P4', 'P5', 'A1', 'A2', 'A3', 'A4', 'A5', 'I3', 'I4', 'I5'], fontsize = 9)\n",
    "plt.suptitle('ocean regions, subdivided')\n"
   ]
  },
  {
   "cell_type": "code",
   "execution_count": null,
   "id": "53fe4cab",
   "metadata": {},
   "outputs": [],
   "source": []
  }
 ],
 "metadata": {
  "kernelspec": {
   "display_name": "Python 3 (ipykernel)",
   "language": "python",
   "name": "python3"
  },
  "language_info": {
   "codemirror_mode": {
    "name": "ipython",
    "version": 3
   },
   "file_extension": ".py",
   "mimetype": "text/x-python",
   "name": "python",
   "nbconvert_exporter": "python",
   "pygments_lexer": "ipython3",
   "version": "3.7.11"
  }
 },
 "nbformat": 4,
 "nbformat_minor": 5
}

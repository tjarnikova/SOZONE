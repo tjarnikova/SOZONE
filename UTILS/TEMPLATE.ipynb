{
 "cells": [
  {
   "cell_type": "markdown",
   "id": "7f769fd1-9d8f-4f6c-8580-ae0f3781cc9d",
   "metadata": {},
   "source": [
    "# standard notebook for copying"
   ]
  },
  {
   "cell_type": "code",
   "execution_count": 2,
   "id": "6a6c5a5b-d2b9-47c8-ac4e-58c4d44fce56",
   "metadata": {},
   "outputs": [
    {
     "data": {
      "text/html": [
       "<script>\n",
       "code_show=true; \n",
       "function code_toggle() {\n",
       " if (code_show){\n",
       " $('div.input').hide();\n",
       " } else {\n",
       " $('div.input').show();\n",
       " }\n",
       " code_show = !code_show\n",
       "} \n",
       "$( document ).ready(code_toggle);\n",
       "</script>\n",
       "<form action=\"javascript:code_toggle()\"><input type=\"submit\" value=\"Click here to toggle on/off the raw code.\"></form>"
      ],
      "text/plain": [
       "<IPython.core.display.HTML object>"
      ]
     },
     "execution_count": 2,
     "metadata": {},
     "output_type": "execute_result"
    }
   ],
   "source": [
    "from IPython.display import HTML\n",
    "\n",
    "HTML('''<script>\n",
    "code_show=true; \n",
    "function code_toggle() {\n",
    " if (code_show){\n",
    " $('div.input').hide();\n",
    " } else {\n",
    " $('div.input').show();\n",
    " }\n",
    " code_show = !code_show\n",
    "} \n",
    "$( document ).ready(code_toggle);\n",
    "</script>\n",
    "<form action=\"javascript:code_toggle()\"><input type=\"submit\" value=\"Click here to toggle on/off the raw code.\"></form>''')\n"
   ]
  },
  {
   "cell_type": "code",
   "execution_count": 3,
   "id": "37c593b2-2fc9-4129-aef9-983eda4c6c0b",
   "metadata": {},
   "outputs": [],
   "source": [
    "import numpy as np\n",
    "from cmocean import cm\n",
    "import cartopy as cp\n",
    "import cartopy.crs as ccrs\n",
    "import netCDF4 as nc\n",
    "import matplotlib.pyplot as plt\n",
    "import xarray as xr\n",
    "import sys\n",
    "sys.path.append('/gpfs/home/mep22dku/scratch/SOZONE')\n",
    "\n",
    "%matplotlib inline\n",
    "import warnings\n",
    "from datetime import datetime\n",
    "warnings.filterwarnings('ignore')\n",
    "import cartopy.feature as cfeature\n",
    "from importlib import reload\n",
    "import matplotlib.path as mpath\n",
    "import glob\n",
    "import pickle\n",
    "\n",
    "#import mapfxn as mf\n",
    "#reload(mf)\n",
    "\n",
    "plt.rcParams.update({'font.size': 12})\n",
    "font = {'family' : 'normal',\n",
    "'weight' : 'normal',\n",
    "'size'   : 12}\n",
    "\n",
    "plt.rc('font', **font)"
   ]
  },
  {
   "cell_type": "markdown",
   "id": "485bda62-ce7c-46ac-b6f2-71ffee6d11ae",
   "metadata": {},
   "source": [
    "## get out lat and lon, tmask"
   ]
  },
  {
   "cell_type": "code",
   "execution_count": 4,
   "id": "d23350f0-0ab3-492d-93b4-c4b109378537",
   "metadata": {},
   "outputs": [
    {
     "name": "stdout",
     "output_type": "stream",
     "text": [
      "(149, 182)\n",
      "SO south of -50 is 0:37, SO south of -30 is 0:50\n"
     ]
    }
   ],
   "source": [
    "tmesh = nc.Dataset('/gpfs/data/greenocean/software/resources/regrid/mesh_mask3_6.nc')\n",
    "tmask = tmesh['tmaskutil'][0,:,:] \n",
    "print(np.shape(tmask))\n",
    "print('SO south of -50 is 0:37, SO south of -30 is 0:50')\n",
    "lats = tmesh['nav_lat'][:,0]\n",
    "lons = tmesh['nav_lon'][0,:]"
   ]
  },
  {
   "cell_type": "markdown",
   "id": "da8c0e98-3de0-4687-937a-6f9f13b12348",
   "metadata": {},
   "source": [
    "### do a pcolormesh - this one looks wonky but syntax is fine"
   ]
  },
  {
   "cell_type": "code",
   "execution_count": 5,
   "id": "fc052cb6-eb49-4a72-93f4-566cfa79f965",
   "metadata": {},
   "outputs": [
    {
     "data": {
      "text/plain": [
       "<matplotlib.collections.QuadMesh at 0x2aae8adffad0>"
      ]
     },
     "execution_count": 5,
     "metadata": {},
     "output_type": "execute_result"
    },
    {
     "name": "stderr",
     "output_type": "stream",
     "text": [
      "findfont: Font family ['normal'] not found. Falling back to DejaVu Sans.\n"
     ]
    },
    {
     "data": {
      "image/png": "[encoded data removed]",
      "text/plain": [
       "<Figure size 432x288 with 1 Axes>"
      ]
     },
     "metadata": {
      "needs_background": "light"
     },
     "output_type": "display_data"
    },
    {
     "data": {
      "image/png": "[encoded data removed]",
      "text/plain": [
       "<Figure size 432x288 with 1 Axes>"
      ]
     },
     "metadata": {
      "needs_background": "light"
     },
     "output_type": "display_data"
    }
   ],
   "source": [
    "plt.figure()\n",
    "plt.pcolormesh(lons, lats, tmask, vmin = 0, vmax = 1, cmap = cm.speed)\n",
    "\n",
    "plt.figure()\n",
    "plt.pcolormesh(tmask, vmin = 0, vmax = 1, cmap = cm.speed)"
   ]
  },
  {
   "cell_type": "markdown",
   "id": "bc181fcc-e4b2-4367-a899-7252d03420bb",
   "metadata": {},
   "source": [
    "### get various tmesh things"
   ]
  },
  {
   "cell_type": "code",
   "execution_count": 6,
   "id": "b79d866a-7419-403f-ad06-f623b9a62eb9",
   "metadata": {},
   "outputs": [],
   "source": [
    "tmesh = xr.open_dataset('/gpfs/data/greenocean/software/resources/regrid/mesh_mask3_6.nc')\n",
    "tmesh['csize'] = tmesh.tmask[0,0,:,:] * tmesh.e1t[0,:,:] * tmesh.e2t[0,:,:]\n",
    "#size of cells in m2\n",
    "\n",
    "\n",
    "### 4D mask\n",
    "tmesh = xr.open_dataset('/gpfs/data/greenocean/software/resources/regrid/mesh_mask3_6.nc')\n",
    "deptat = (tmesh['gdept_1d'][0,:])\n",
    "tmask = (tmesh['tmask'])\n",
    "depth4d = np.zeros([12,31,149,182])\n",
    "tmask4d = np.zeros([12,31,149,182])\n",
    "#broadcast m depth across the whole array to get an array of \"depth of cell here in the grid\" that is the same shape as a given variable\n",
    "for i in range(0,31):\n",
    "    depth4d[:,i,:,:] = deptat[i].values\n",
    "\n",
    "for i in range(0,12):\n",
    "    tmask4d[i,:,:,:] = tmask\n",
    "depth4dm = depth4d *tmask4d "
   ]
  },
  {
   "cell_type": "markdown",
   "id": "34be0c17-d3a5-483e-9181-aa6c9587bafc",
   "metadata": {},
   "source": [
    "## get means and percentiles with masks and nans"
   ]
  },
  {
   "cell_type": "code",
   "execution_count": 7,
   "id": "6461a665-4abc-40b1-bc41-4b8c9445e161",
   "metadata": {},
   "outputs": [
    {
     "name": "stdout",
     "output_type": "stream",
     "text": [
      "1.4918596958752192e-08\n",
      "4.299022858926132e-09\n"
     ]
    }
   ],
   "source": [
    "#get 2d array\n",
    "def weighted_percentile(data, weights, perc):\n",
    "    \"\"\"\n",
    "    perc : percentile in [0-1]!\n",
    "    \"\"\"\n",
    "    data = np.ravel(data)\n",
    "    weights = np.ravel(weights)\n",
    "    ix = np.argsort(data)\n",
    "    data = data[ix] # sort data\n",
    "    weights = weights[ix] # sort weights\n",
    "    cdf = (np.cumsum(weights) - 0.5 * weights) / np.sum(weights) # 'like' a CDF function\n",
    "    return np.interp(perc, cdf, data)\n",
    "\n",
    "run = 'LIGD'\n",
    "z = xr.open_dataset(f'/gpfs/home/e415/scratch/TOM10_CL_{run}/{run}_dia3d_1998_2010_ave.nc')\n",
    "ppt_sam = (z['PPT'][0,0,:,:].values)\n",
    "\n",
    "#get weights\n",
    "tmesh = xr.open_dataset('/gpfs/data/greenocean/software/resources/regrid/mesh_mask3_6.nc')\n",
    "tmesh['csize'] = tmesh.tmask[0,0,:,:] * tmesh.e1t[0,:,:] * tmesh.e2t[0,:,:]\n",
    "\n",
    "#get weighted percentile\n",
    "p95 = weighted_percentile(ppt_sam, tmesh['csize'], 0.95)\n",
    "print(p95)\n",
    "\n",
    "#get mean\n",
    "ma = np.ma.MaskedArray(ppt_sam, mask=np.isnan(ppt_sam))\n",
    "q = np.ma.average(ma, weights=tmesh['csize'])\n",
    "print(q)"
   ]
  },
  {
   "cell_type": "markdown",
   "id": "5ac571fe-dd60-4be8-a561-74fc04dd6b89",
   "metadata": {},
   "source": [
    "## subplots"
   ]
  },
  {
   "cell_type": "code",
   "execution_count": 8,
   "id": "b5427351-471a-499d-a83a-f1e442b7b67c",
   "metadata": {},
   "outputs": [
    {
     "data": {
      "image/png": "[encoded data removed]",
      "text/plain": [
       "<Figure size 950.4x633.6 with 10 Axes>"
      ]
     },
     "metadata": {},
     "output_type": "display_data"
    }
   ],
   "source": [
    "\n",
    "fact = 1.1\n",
    "fig, axs = plt.subplots(2,5, figsize=(12*fact, 8*fact), facecolor='w', edgecolor='k')\n",
    "axs = axs.ravel()\n",
    "\n",
    "\n"
   ]
  },
  {
   "cell_type": "markdown",
   "id": "84513f98-b899-4f46-9c57-2c5349299d5c",
   "metadata": {},
   "source": [
    "## latitude bands\n"
   ]
  },
  {
   "cell_type": "code",
   "execution_count": 9,
   "id": "553dec05-2125-42b4-8fbe-349dbfa49ed2",
   "metadata": {},
   "outputs": [
    {
     "name": "stdout",
     "output_type": "stream",
     "text": [
      "making histograms of summer and winter wind speed for the following latitude bands:\n",
      "band 0, -78.2 to -69.5, index 0 to 16\n",
      "band 1, -69.5 to -59.3, index 16 to 28\n",
      "band 2, -59.3 to -48.8, index 28 to 37\n",
      "band 3, -48.8 to -38.7, index 37 to 44\n",
      "band 4, -38.7 to -28.7, index 44 to 50\n",
      "[-78.2 -69.5 -59.3 -48.8 -38.7]\n",
      "[-69.5 -59.3 -48.8 -38.7 -28.7]\n"
     ]
    }
   ],
   "source": [
    "bounds = np.array([0,7,16,22,28,32,37,40,44,47,50])\n",
    "bounds = np.array([0,16,28,37,44,50])\n",
    "starts = np.zeros([5]); ends = np.zeros([5])\n",
    "print('making histograms of summer and winter wind speed for the following latitude bands:')\n",
    "for i in range(0,len(bounds)-1):\n",
    "    s= np.format_float_positional(tmesh['nav_lat'][bounds[i],0].values, precision=1)\n",
    "    e= np.format_float_positional(tmesh['nav_lat'][bounds[i+1],0].values, precision=1)\n",
    "    bs = bounds[i]\n",
    "    be = bounds[i+1]\n",
    "    print(f'band {i}, {(s)} to {e}, index {bs} to {be}')\n",
    "    starts[i] = s\n",
    "    ends[i] = e\n",
    "     \n",
    "print(starts)\n",
    "print(ends)"
   ]
  },
  {
   "cell_type": "markdown",
   "id": "197287d9-08e5-4fc0-951f-6c525ad8c6e4",
   "metadata": {},
   "source": [
    "## "
   ]
  },
  {
   "cell_type": "code",
   "execution_count": 13,
   "id": "4d650d35-28c5-49ff-966e-0e9cb04b1d88",
   "metadata": {},
   "outputs": [
    {
     "data": {
      "text/plain": [
       "[<matplotlib.lines.Line2D at 0x2aae99ac48d0>]"
      ]
     },
     "execution_count": 13,
     "metadata": {},
     "output_type": "execute_result"
    },
    {
     "data": {
      "image/png": "[encoded data removed]",
      "text/plain": [
       "<Figure size 432x288 with 1 Axes>"
      ]
     },
     "metadata": {
      "needs_background": "light"
     },
     "output_type": "display_data"
    }
   ],
   "source": [
    "tdat = np.random.rand(100)\n",
    "nbins = 10\n",
    "start = 0\n",
    "end = 1\n",
    "\n",
    "\n",
    "def custhist(tdat, nbins, start, end, tweights = None):\n",
    "    #bins = 25\n",
    "    hist_met_vflx, bins = np.histogram(np.ravel(tdat), bins=nbins,\\\n",
    "                                 range = [start, end], weights=tweights)\n",
    "\n",
    "    bin_cent = bins + (bins[1]-bins[0])/2\n",
    "    tot_count = np.sum(hist_met_vflx)\n",
    "\n",
    "    \n",
    "    binsback = bins\n",
    "    bin_cent = bin_cent[0:nbins]\n",
    "    histback = hist_met_vflx/tot_count\n",
    "    \n",
    "    return binsback, bin_cent, histback\n",
    "\n",
    "nsback, bin_cent, histback = custhist(tdat, nbins, start, end)\n",
    "plt.plot(bin_cent,histback)"
   ]
  },
  {
   "cell_type": "code",
   "execution_count": null,
   "id": "96b4890f-eead-4d0c-84e5-00a91afc202f",
   "metadata": {},
   "outputs": [],
   "source": []
  }
 ],
 "metadata": {
  "kernelspec": {
   "display_name": "Python 3 (ipykernel)",
   "language": "python",
   "name": "python3"
  },
  "language_info": {
   "codemirror_mode": {
    "name": "ipython",
    "version": 3
   },
   "file_extension": ".py",
   "mimetype": "text/x-python",
   "name": "python",
   "nbconvert_exporter": "python",
   "pygments_lexer": "ipython3",
   "version": "3.7.11"
  }
 },
 "nbformat": 4,
 "nbformat_minor": 5
}

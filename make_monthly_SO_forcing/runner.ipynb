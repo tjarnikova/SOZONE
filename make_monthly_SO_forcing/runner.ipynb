{
 "cells": [
  {
   "cell_type": "markdown",
   "id": "f870ec35-9ebc-47ba-8545-69fdc4c8ad9b",
   "metadata": {},
   "source": [
    "# notebook for running scripts. hacky. "
   ]
  },
  {
   "cell_type": "code",
   "execution_count": 4,
   "id": "7047cc17-8cbc-4583-ad91-2173a12e1c35",
   "metadata": {},
   "outputs": [],
   "source": [
    "# %run MO_wind_monthly.py"
   ]
  },
  {
   "cell_type": "code",
   "execution_count": null,
   "id": "830d8115-2c9b-488f-ab32-8db77934c2b3",
   "metadata": {},
   "outputs": [],
   "source": []
  }
 ],
 "metadata": {
  "kernelspec": {
   "display_name": "Python 3 (ipykernel)",
   "language": "python",
   "name": "python3"
  },
  "language_info": {
   "codemirror_mode": {
    "name": "ipython",
    "version": 3
   },
   "file_extension": ".py",
   "mimetype": "text/x-python",
   "name": "python",
   "nbconvert_exporter": "python",
   "pygments_lexer": "ipython3",
   "version": "3.7.11"
  }
 },
 "nbformat": 4,
 "nbformat_minor": 5
}

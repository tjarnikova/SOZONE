{
 "cells": [
  {
   "cell_type": "markdown",
   "id": "207beeee",
   "metadata": {},
   "source": [
    "### aim: \n",
    "\n",
    "### date: "
   ]
  },
  {
   "cell_type": "code",
   "execution_count": 4,
   "id": "1efc8100",
   "metadata": {},
   "outputs": [
    {
     "data": {
      "text/html": [
       "<script>\n",
       "code_show=true; \n",
       "function code_toggle() {\n",
       " if (code_show){\n",
       " $('div.input').hide();\n",
       " } else {\n",
       " $('div.input').show();\n",
       " }\n",
       " code_show = !code_show\n",
       "} \n",
       "$( document ).ready(code_toggle);\n",
       "</script>\n",
       "<form action=\"javascript:code_toggle()\"><input type=\"submit\" value=\"Click here to toggle on/off the raw code.\"></form>"
      ],
      "text/plain": [
       "<IPython.core.display.HTML object>"
      ]
     },
     "execution_count": 4,
     "metadata": {},
     "output_type": "execute_result"
    }
   ],
   "source": [
    "from IPython.display import HTML\n",
    "\n",
    "HTML('''<script>\n",
    "code_show=true; \n",
    "function code_toggle() {\n",
    " if (code_show){\n",
    " $('div.input').hide();\n",
    " } else {\n",
    " $('div.input').show();\n",
    " }\n",
    " code_show = !code_show\n",
    "} \n",
    "$( document ).ready(code_toggle);\n",
    "</script>\n",
    "<form action=\"javascript:code_toggle()\"><input type=\"submit\" value=\"Click here to toggle on/off the raw code.\"></form>''')\n"
   ]
  },
  {
   "cell_type": "code",
   "execution_count": 6,
   "id": "7500d596",
   "metadata": {},
   "outputs": [
    {
     "name": "stdin",
     "output_type": "stream",
     "text": [
      "Once deleted, variables cannot be recovered. Proceed (y/[n])?  y\n"
     ]
    }
   ],
   "source": [
    "%reset"
   ]
  },
  {
   "cell_type": "code",
   "execution_count": 7,
   "id": "33d87593",
   "metadata": {},
   "outputs": [],
   "source": [
    "import numpy as np\n",
    "from cmocean import cm\n",
    "import cartopy as cp\n",
    "import cartopy.crs as ccrs\n",
    "import netCDF4 as nc\n",
    "import matplotlib.pyplot as plt\n",
    "import xarray as xr\n",
    "import sys\n",
    "sys.path.append('/gpfs/home/mep22dku/scratch/SOZONE')\n",
    "#list of models\n",
    "sys.path.append('/gpfs/home/mep22dku/scratch/SOZONE/UTILS')\n",
    "import lom\n",
    "import utils as ut\n",
    "\n",
    "%matplotlib inline\n",
    "import warnings\n",
    "from datetime import datetime\n",
    "warnings.filterwarnings('ignore')\n",
    "import cartopy.feature as cfeature\n",
    "from importlib import reload\n",
    "import matplotlib.path as mpath\n",
    "import glob\n",
    "import pickle\n",
    "import pandas as pd\n",
    "import seawater\n",
    "import time\n",
    "plt.rcParams.update({'font.size': 12})\n",
    "font = {'family' : 'normal',\n",
    "'weight' : 'normal',\n",
    "'size'   : 12}\n",
    "\n",
    "plt.rc('font', **font)"
   ]
  },
  {
   "cell_type": "code",
   "execution_count": null,
   "id": "d9ad6434",
   "metadata": {},
   "outputs": [],
   "source": []
  },
  {
   "cell_type": "code",
   "execution_count": 8,
   "id": "748a993b",
   "metadata": {},
   "outputs": [],
   "source": [
    "\n",
    "def find_nearest(array, value):\n",
    "    array = np.asarray(array)\n",
    "    idx = (np.abs(array - value)).argmin()\n",
    "    arval = array[idx]\n",
    "    return(idx, arval)\n",
    "\n",
    "tmesh = xr.open_dataset('/gpfs/data/greenocean/software/resources/regrid/mesh_mask3_6.nc')\n",
    "depths = (tmesh['gdept_1d'][0])"
   ]
  },
  {
   "cell_type": "code",
   "execution_count": 9,
   "id": "6a973bef-44a9-49ae-9242-a1be369fcca3",
   "metadata": {},
   "outputs": [
    {
     "data": {
      "text/plain": [
       "Text(0.5, 0.98, 'check that norm of colours works')"
      ]
     },
     "execution_count": 9,
     "metadata": {},
     "output_type": "execute_result"
    },
    {
     "name": "stderr",
     "output_type": "stream",
     "text": [
      "findfont: Font family ['normal'] not found. Falling back to DejaVu Sans.\n",
      "findfont: Font family ['normal'] not found. Falling back to DejaVu Sans.\n",
      "findfont: Font family ['normal'] not found. Falling back to DejaVu Sans.\n"
     ]
    },
    {
     "data": {
      "image/png": "[encoded data removed]",
      "text/plain": [
       "<Figure size 432x288 with 2 Axes>"
      ]
     },
     "metadata": {
      "needs_background": "light"
     },
     "output_type": "display_data"
    },
    {
     "name": "stderr",
     "output_type": "stream",
     "text": [
      "findfont: Font family ['normal'] not found. Falling back to DejaVu Sans.\n"
     ]
    },
    {
     "data": {
      "image/png": "[encoded data removed]",
      "text/plain": [
       "<Figure size 432x216 with 1 Axes>"
      ]
     },
     "metadata": {
      "needs_background": "light"
     },
     "output_type": "display_data"
    }
   ],
   "source": [
    "regs = ['ARCTIC', 'P1', 'P2', 'P3', 'P4', 'P5', 'A1', 'A2', 'A3', 'A4', 'A5', 'I3', 'I4', 'I5']\n",
    "\n",
    "regdict = {'ARCTIC' : {'number' : 0.5},\n",
    "           'P1' : {'number': 1.0},\n",
    "          'P2' : {'number': 1.2},\n",
    "           'P3' : {'number': 1.4},\n",
    "           'P4' : {'number': 1.6},\n",
    "           'P5' : {'number': 1.8},\n",
    "            'A1' : {'number': 2.4},\n",
    "          'A2' : {'number': 2.6},\n",
    "           'A3' : {'number': 2.8},\n",
    "           'A4' : {'number': 3},\n",
    "           'A5' : {'number': 3.2},\n",
    "           'I3' : {'number': 3.6},\n",
    "           'I4' : {'number': 3.8},\n",
    "           'I5' : {'number': 4},\n",
    "           \n",
    "          }\n",
    "    \n",
    "tics = []\n",
    "tcm = 'Spectral'\n",
    "tmask = nc.Dataset('/gpfs/data/greenocean/software/resources/breakdown/clq_basin_masks_ORCA.nc')\n",
    "\n",
    "maskno = np.zeros([149,182])\n",
    "for i in range(0, len(regs)):\n",
    "    maskno[tmask[regs[i]][:] == 1] = regdict[regs[i]]['number']\n",
    "    tics.append(regdict[regs[i]]['number'])\n",
    "maskno[maskno == 0] = np.nan\n",
    "\n",
    "w = plt.pcolor(maskno, cmap = tcm, vmin = 0.5, vmax = 4)\n",
    "cbar = plt.colorbar(w, ticks=tics)\n",
    "t = cbar.ax.set_yticklabels(['ARCTIC', 'P1', 'P2', 'P3', 'P4', 'P5', 'A1', 'A2', 'A3', 'A4', 'A5', 'I3', 'I4', 'I5'], fontsize = 9)\n",
    "plt.suptitle('original ocean regions, subdivided')\n",
    "\n",
    "fact = 0.2\n",
    "#fig = plt.figure(figsize=(30*fact,15*fact))\n",
    "import matplotlib\n",
    "cmap = matplotlib.cm.get_cmap('Spectral')\n",
    "norm = matplotlib.colors.Normalize(vmin=0.5, vmax=4)\n",
    "for i in range(0,len(regs)):\n",
    "    rgba = cmap(norm(regdict[regs[i]]['number']))\n",
    "    #plt.plot(regdict[regs[i]]['number'], 1, marker = 'o', color = rgba, label = regs[i])\n",
    "    regdict[regs[i]]['colour'] = rgba\n",
    "# plt.legend(ncol = 5, fontsize = 10)\n",
    "# plt.suptitle('check that norm of colours works')\n",
    "\n",
    "plt.figure()\n",
    "mask_latbands = np.copy(maskno)\n",
    "\n",
    "mask_latbands[maskno == 0.5] = 1\n",
    "mask_latbands[(maskno == 1) | (maskno == 2.4)] = 2\n",
    "mask_latbands[(maskno == 1.2) | (maskno == 2.6)] = 3\n",
    "mask_latbands[(maskno == 1.4) | (maskno == 2.8) | (maskno == 3.6)] = 4\n",
    "mask_latbands[(maskno == 1.6) | (maskno == 3.0) | (maskno == 3.8)] = 5\n",
    "mask_latbands[(maskno == 1.8) | (maskno == 3.2) | (maskno == 4.0)] = 6\n",
    "\n",
    "w = plt.contourf(mask_latbands, vmin = 1, vmax = 6)\n",
    "plt.title('latitudinal bands based on above regions, \\n Arctic = 1, Subarctic = 2 & so on, SO = 6')\n",
    "plt.colorbar(w)"
   ]
  },
  {
   "cell_type": "code",
   "execution_count": 10,
   "id": "2f186cda-bb4d-45c6-adbd-06ee3e1f4478",
   "metadata": {},
   "outputs": [],
   "source": [
    "horse = True"
   ]
  },
  {
   "cell_type": "code",
   "execution_count": 11,
   "id": "6714c595-caaa-454b-83e8-af63a02c8b78",
   "metadata": {},
   "outputs": [
    {
     "name": "stdout",
     "output_type": "stream",
     "text": [
      "19577\n",
      "19577\n",
      "11102\n",
      "11102\n",
      "390670\n"
     ]
    }
   ],
   "source": [
    "\n",
    "if horse:\n",
    "    df = pd.read_csv('/gpfs/home/mep22dku/scratch/SOZONE/evalOutput/datasets/GLODAPv2.2022_GLOBE_valid_DICTA_umolL.csv')\n",
    "    df = df.sort_values(by = 'YR')\n",
    "    tDIC = np.array(df['DIC'][:])\n",
    "    tALK = np.array(df['ALK'][:])\n",
    "    tCAST = np.array(df['CAST'][:])\n",
    "\n",
    "    tSAL = np.array(df['SAL'][:])\n",
    "    tTEMP = np.array(df['TEMP'][:])\n",
    "    tPRES = np.array(df['PRES'][:])\n",
    "    tLAT = np.array(df['LAT'][:])\n",
    "    tLON = np.array(df['LON'][:])\n",
    "    tYEAR = np.array(df['YR'])\n",
    "    tMONTH = np.array(df['MONTH'])\n",
    "    tSECT = np.array(df['SECT'])\n",
    "    tDP = np.zeros_like(tSECT)\n",
    "    tSTATION = np.array(df['STATION'])\n",
    "    tCRUISE = np.array(df['CRUISE'])\n",
    "\n",
    "\n",
    "    ### seasons\n",
    "    tSEAS = np.zeros_like(tMONTH)\n",
    "    tSEAS[(tMONTH == 12) | (tMONTH <3)] = 1 #summer\n",
    "    tSEAS[(tMONTH >= 3) & (tMONTH <6)] = 2 #autumn\n",
    "    tSEAS[(tMONTH >= 6) & (tMONTH <9)] = 3 #winter\n",
    "    tSEAS[(tMONTH >= 9) & (tMONTH <12)] = 4\n",
    "    \n",
    "    print(np.size(tDIC[tPRES <10]))\n",
    "    print(np.size(tALK[tPRES <10]))\n",
    "    print(np.size(tDIC[tPRES <5]))\n",
    "    print(np.size(tALK[tPRES <5]))\n",
    "\n",
    "    # print(np.nanmin(tDIC))\n",
    "    print(np.size(tDIC))\n",
    "    \n",
    "    \n",
    "    #convert from umol/kg to mmol/m3\n",
    "    import seawater\n",
    "    dens = seawater.dens(tSAL,tTEMP,tPRES)\n",
    "    tDIC_umolL=tDIC*dens/1000\n",
    "    tALK_umolL=tALK*dens/1000\n",
    "    ### unique"
   ]
  },
  {
   "cell_type": "code",
   "execution_count": null,
   "id": "8b9c52fa-e06e-40f0-bb6a-b4a4147b768a",
   "metadata": {},
   "outputs": [],
   "source": []
  }
 ],
 "metadata": {
  "kernelspec": {
   "display_name": "Python 3 (ipykernel)",
   "language": "python",
   "name": "python3"
  },
  "language_info": {
   "codemirror_mode": {
    "name": "ipython",
    "version": 3
   },
   "file_extension": ".py",
   "mimetype": "text/x-python",
   "name": "python",
   "nbconvert_exporter": "python",
   "pygments_lexer": "ipython3",
   "version": "3.7.11"
  }
 },
 "nbformat": 4,
 "nbformat_minor": 5
}

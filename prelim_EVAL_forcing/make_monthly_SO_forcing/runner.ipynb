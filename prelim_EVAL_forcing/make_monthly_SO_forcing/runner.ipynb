{
 "cells": [
  {
   "cell_type": "markdown",
   "id": "f870ec35-9ebc-47ba-8545-69fdc4c8ad9b",
   "metadata": {},
   "source": [
    "# notebook for running scripts. hacky. "
   ]
  },
  {
   "cell_type": "code",
   "execution_count": 3,
   "id": "7047cc17-8cbc-4583-ad91-2173a12e1c35",
   "metadata": {},
   "outputs": [
    {
     "name": "stderr",
     "output_type": "stream",
     "text": [
      "/gpfs/scratch/mep22dku/SOZONE/EVAL_forcing/make_monthly_SO_forcing/era5_bulk_11.py:8: DeprecationWarning: `np.bool` is a deprecated alias for the builtin `bool`. To silence this warning, use `bool` by itself. Doing this will not modify any behavior and is safe. If you specifically wanted the numpy scalar type, use `np.bool_` here.\n",
      "Deprecated in NumPy 1.20; for more details and guidance: https://numpy.org/devdocs/release/1.20.0-notes.html#deprecations\n",
      "  tmask = mask['mask'][:]\n",
      "/gpfs/scratch/mep22dku/SOZONE/EVAL_forcing/make_monthly_SO_forcing/era5_bulk_11.py:32: DeprecationWarning: `np.bool` is a deprecated alias for the builtin `bool`. To silence this warning, use `bool` by itself. Doing this will not modify any behavior and is safe. If you specifically wanted the numpy scalar type, use `np.bool_` here.\n",
      "Deprecated in NumPy 1.20; for more details and guidance: https://numpy.org/devdocs/release/1.20.0-notes.html#deprecations\n",
      "  vwind10m = MO['vflx'][:,0:37,:]\n",
      "/gpfs/scratch/mep22dku/SOZONE/EVAL_forcing/make_monthly_SO_forcing/era5_bulk_11.py:36: DeprecationWarning: `np.bool` is a deprecated alias for the builtin `bool`. To silence this warning, use `bool` by itself. Doing this will not modify any behavior and is safe. If you specifically wanted the numpy scalar type, use `np.bool_` here.\n",
      "Deprecated in NumPy 1.20; for more details and guidance: https://numpy.org/devdocs/release/1.20.0-notes.html#deprecations\n",
      "  uwind10m = MO['uflx'][:,0:37,:]\n",
      "/gpfs/scratch/mep22dku/SOZONE/EVAL_forcing/make_monthly_SO_forcing/era5_bulk_11.py:51: RuntimeWarning: Mean of empty slice\n",
      "  uwind10m_MON[m,:,:] = np.nanmean(uwind10m[mo_st[m]:mo_en[m],:,:],axis = 0)\n",
      "/gpfs/scratch/mep22dku/SOZONE/EVAL_forcing/make_monthly_SO_forcing/era5_bulk_11.py:52: RuntimeWarning: Mean of empty slice\n",
      "  vwind10m_MON[m,:,:] = np.nanmean(vwind10m[mo_st[m]:mo_en[m],:,:],axis = 0)\n",
      "/gpfs/scratch/mep22dku/SOZONE/EVAL_forcing/make_monthly_SO_forcing/era5_bulk_11.py:53: RuntimeWarning: Mean of empty slice\n",
      "  wspd10m_MON[m,:,:] = np.nanmean(wspd10m[mo_st[m]:mo_en[m],:,:],axis = 0)\n"
     ]
    },
    {
     "name": "stdout",
     "output_type": "stream",
     "text": [
      "1950\n",
      "1951\n",
      "1952\n",
      "1953\n",
      "1954\n",
      "1955\n",
      "1956\n",
      "1957\n",
      "1958\n",
      "1959\n",
      "1960\n",
      "1961\n",
      "1962\n",
      "1963\n",
      "1964\n",
      "1965\n",
      "1966\n",
      "1967\n",
      "1968\n",
      "1969\n",
      "1970\n",
      "1971\n",
      "1972\n",
      "1973\n",
      "1974\n",
      "1975\n",
      "1976\n",
      "1977\n",
      "1978\n",
      "1979\n",
      "1980\n",
      "1981\n",
      "1982\n",
      "1983\n",
      "1984\n",
      "1985\n",
      "1986\n",
      "1987\n",
      "1988\n",
      "1989\n",
      "1990\n",
      "1991\n",
      "1992\n",
      "1993\n",
      "1994\n",
      "1995\n",
      "1996\n",
      "1997\n",
      "1998\n",
      "1999\n",
      "2000\n",
      "2001\n",
      "2002\n",
      "2003\n",
      "2004\n",
      "2005\n",
      "2006\n",
      "2007\n",
      "2008\n",
      "2009\n",
      "2010\n",
      "2011\n",
      "2012\n",
      "2013\n",
      "2014\n",
      "2015\n",
      "2016\n",
      "2017\n",
      "2018\n",
      "2019\n",
      "2020\n"
     ]
    }
   ],
   "source": [
    "run era5_bulk_11.py"
   ]
  },
  {
   "cell_type": "code",
   "execution_count": null,
   "id": "830d8115-2c9b-488f-ab32-8db77934c2b3",
   "metadata": {},
   "outputs": [],
   "source": []
  }
 ],
 "metadata": {
  "kernelspec": {
   "display_name": "Python 3 (ipykernel)",
   "language": "python",
   "name": "python3"
  },
  "language_info": {
   "codemirror_mode": {
    "name": "ipython",
    "version": 3
   },
   "file_extension": ".py",
   "mimetype": "text/x-python",
   "name": "python",
   "nbconvert_exporter": "python",
   "pygments_lexer": "ipython3",
   "version": "3.7.11"
  }
 },
 "nbformat": 4,
 "nbformat_minor": 5
}

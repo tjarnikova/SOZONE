{
 "cells": [
  {
   "cell_type": "code",
   "execution_count": null,
   "metadata": {},
   "outputs": [],
   "source": [
    "from IPython.display import HTML"
   ]
  },
  {
   "cell_type": "code",
   "execution_count": null,
   "metadata": {},
   "outputs": [],
   "source": [
    "%reset"
   ]
  },
  {
   "cell_type": "code",
   "execution_count": null,
   "metadata": {},
   "outputs": [],
   "source": [
    "# pip install xarray"
   ]
  },
  {
   "cell_type": "code",
   "execution_count": null,
   "metadata": {},
   "outputs": [],
   "source": [
    "import matplotlib.pyplot as plt\n",
    "import numpy as np"
   ]
  },
  {
   "cell_type": "code",
   "execution_count": null,
   "metadata": {},
   "outputs": [],
   "source": [
    "import xarray as xr"
   ]
  },
  {
   "cell_type": "code",
   "execution_count": null,
   "metadata": {
    "tags": []
   },
   "outputs": [],
   "source": [
    "tdat = '/gpfs/home/gdg21vsa/scratch/test_data/TOM12_TJ_GEA0/ORCA2_1m_19900101_19901231_ptrc_T.nc'\n",
    "\n",
    "tw = xr.open_dataset(tdat)\n",
    "\n",
    "tw"
   ]
  },
  {
   "cell_type": "code",
   "execution_count": null,
   "metadata": {},
   "outputs": [],
   "source": [
    "fact = 1e6\n",
    "scal = 1.1\n",
    "fig, axs = plt.subplots(1,3, figsize=(16*scal, 5*scal), facecolor='w', edgecolor='k')\n",
    "axs = axs.ravel()\n",
    "tlab = 'mmol m$^{-3}$'\n",
    "tvar = 'DIC'\n",
    "tdic = tw[tvar].values* fact\n",
    "tdic[tdic == 0] = np.nan\n",
    "w = axs[0].pcolormesh(tdic[0,0,:,:], cmap = 'Spectral', vmin = 1800, vmax = 2500)\n",
    "plt.colorbar(w, label = tlab, ax = axs[0])\n",
    "axs[0].set_title(tvar)\n",
    "\n",
    "tlab = 'mmol m$^{-3}$'\n",
    "tvar = 'Alkalini'\n",
    "tdic = tw[tvar].values* fact\n",
    "tdic[tdic == 0] = np.nan\n",
    "w = axs[1].pcolormesh(tdic[0,0,:,:], cmap = 'Spectral', vmin = 1800, vmax = 2500)\n",
    "plt.colorbar(w, label = tlab, ax = axs[1])\n",
    "axs[1].set_title(tvar)\n",
    "\n",
    "\n",
    "tlab = 'mmol m$^{-3}$'\n",
    "tvar = 'DIC'\n",
    "tdic = tw[tvar].values* fact\n",
    "tvar2 = 'Alkalini'\n",
    "tdic2 = tw[tvar2].values* fact\n",
    "tdic3 = tdic2 - tdic #Alkalinity- DIC\n",
    "\n",
    "tdic3[tdic3 == 0] = np.nan\n",
    "w = axs[2].pcolormesh(tdic3[0,0,:,:], cmap = 'Spectral', vmin = -0, vmax = 500)\n",
    "plt.colorbar(w, label = tlab, ax = axs[2])\n",
    "axs[2].set_title('Alkalini - DIC')"
   ]
  },
  {
   "attachments": {},
   "cell_type": "markdown",
   "metadata": {},
   "source": [
    "# Module: TOM12_TJ_GEA0"
   ]
  },
  {
   "cell_type": "code",
   "execution_count": null,
   "metadata": {},
   "outputs": [],
   "source": [
    "import glob\n",
    "\n",
    "def make_yearlist(yrst, yrend, dtype, tr, baseDir):\n",
    "    yrs = np.arange(yrst,yrend+1,1)\n",
    "    ylist = []\n",
    "    for i in range(0,len(yrs)):\n",
    "        ty = f'{baseDir}/{tr}/ORCA2_1m_{yrs[i]}*{dtype}*.nc'\n",
    "        t2 = glob.glob(ty)\n",
    "        #print(t2)\n",
    "        ylist.append(t2[0])\n",
    "    return ylist\n",
    "\n",
    "baseDir = '/gpfs/data/greenocean/software/runs/'\n",
    "tr = 'TOM12_TJ_GEA0'\n",
    "yrst = 1990\n",
    "yrend = 2000\n",
    "dtype = 'ptrc'\n",
    "\n",
    "tylist = make_yearlist(yrst, yrend, dtype, tr, baseDir)\n",
    "\n",
    "tdat = xr.open_mfdataset(tylist)\n",
    "tdat"
   ]
  },
  {
   "cell_type": "code",
   "execution_count": null,
   "metadata": {},
   "outputs": [],
   "source": [
    "fact = 1e6\n",
    "scal = 1.1\n",
    "fig, axs = plt.subplots(1,3, figsize=(16*scal, 5*scal), facecolor='w', edgecolor='k')\n",
    "axs = axs.ravel()\n",
    "tlab = 'mmol m$^{-3}$'\n",
    "tvar = 'DIC'\n",
    "tdic = tw[tvar].values* fact\n",
    "tdic[tdic == 0] = np.nan\n",
    "w = axs[0].pcolormesh(tdic[0,0,:,:], cmap = 'Spectral', vmin = 1800, vmax = 2500)\n",
    "plt.colorbar(w, label = tlab, ax = axs[0])\n",
    "axs[0].set_title(tvar)\n",
    "\n",
    "tlab = 'mmol m$^{-3}$'\n",
    "tvar = 'Alkalini'\n",
    "tdic = tw[tvar].values* fact\n",
    "tdic[tdic == 0] = np.nan\n",
    "w = axs[1].pcolormesh(tdic[0,0,:,:], cmap = 'Spectral', vmin = 1800, vmax = 2500)\n",
    "plt.colorbar(w, label = tlab, ax = axs[1])\n",
    "axs[1].set_title(tvar)\n",
    "\n",
    "\n",
    "tlab = 'mmol m$^{-3}$'\n",
    "tvar = 'DIC'\n",
    "tdic = tw[tvar].values* fact\n",
    "tvar2 = 'Alkalini'\n",
    "tdic2 = tw[tvar2].values* fact\n",
    "tdic3 = tdic2 - tdic #Alkalinity- DIC\n",
    "\n",
    "tdic3[tdic3 == 0] = np.nan\n",
    "w = axs[2].pcolormesh(tdic3[0,0,:,:], cmap = 'Spectral', vmin = -0, vmax = 500)\n",
    "plt.colorbar(w, label = tlab, ax = axs[2])\n",
    "axs[2].set_title('Alkalini - DIC')"
   ]
  }
 ],
 "metadata": {
  "kernelspec": {
   "display_name": "Python 3 (ipykernel)",
   "language": "python",
   "name": "python3"
  },
  "language_info": {
   "codemirror_mode": {
    "name": "ipython",
    "version": 3
   },
   "file_extension": ".py",
   "mimetype": "text/x-python",
   "name": "python",
   "nbconvert_exporter": "python",
   "pygments_lexer": "ipython3",
   "version": "3.11.3"
  }
 },
 "nbformat": 4,
 "nbformat_minor": 4
}
